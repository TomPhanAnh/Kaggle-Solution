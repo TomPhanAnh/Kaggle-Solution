{
  "cells": [
    {
      "cell_type": "markdown",
      "metadata": {
        "id": "view-in-github",
        "colab_type": "text"
      },
      "source": [
        "<a href=\"https://colab.research.google.com/github/TomPhanAnh/Kaggle-Solution/blob/main/DaZone_Round2.ipynb\" target=\"_parent\"><img src=\"https://colab.research.google.com/assets/colab-badge.svg\" alt=\"Open In Colab\"/></a>"
      ]
    },
    {
      "cell_type": "code",
      "execution_count": 1,
      "metadata": {
        "id": "mpYI7_51yenR"
      },
      "outputs": [],
      "source": [
        "import pandas as pd\n",
        "import numpy as np\n",
        "import matplotlib.pyplot as plt\n",
        "import seaborn as sns"
      ]
    },
    {
      "cell_type": "markdown",
      "metadata": {
        "id": "Lw4Mmwgzz27t"
      },
      "source": [
        "# **ZALOPAY INTRODUCTION**"
      ]
    },
    {
      "cell_type": "markdown",
      "metadata": {
        "id": "IgBVxjGEzyqF"
      },
      "source": [
        "ZaloPay is an **E-wallet** established at the end of 2016 and is\n",
        "part of Vietnamese unicorn VNG’s digital ecosystem, which\n",
        "also includes gaming, media and cloud computing.\n",
        "\n",
        "In January 2020, ZaloPay launched on Zalo platform, with the\n",
        "aim to become the **“Vietnamese citizens’ E-wallet”.** ZaloPay\n",
        "provides daily usage in-app services such as money transfer,\n",
        "phone top-up, and paying bills. With a ready presence on local\n",
        "users’ smartphones and robust product offerings, ZaloPay has\n",
        "competitive advantages to become the champion e-wallet.\n",
        "\n",
        "In May 2022, ZaloPay reached 10M active users, which was a\n",
        "significant milestone. After a few years of traversing the\n",
        "digital payment market, we have helped to foster a cashless\n",
        "society by creating convenient payment methods for our\n",
        "consumers' daily lives."
      ]
    },
    {
      "cell_type": "markdown",
      "metadata": {
        "id": "u89vzg5Mz71y"
      },
      "source": [
        "According to Circular 23/2019/TT-NHNN, each individual must accurately fill\n",
        "out their personal information to validate their account and minimize risks\n",
        "while making a payment. Before making payments for services, e-wallets must\n",
        "be linked to the owner's bank account or debit card. As a result, ZaloPay has\n",
        "always **prioritized the growth of associated banks and studying and optimizing\n",
        "the flow of connecting banks to provide all clients with the most convenient\n",
        "wallet.**"
      ]
    },
    {
      "cell_type": "markdown",
      "metadata": {
        "id": "0e-AWuFZ0HL-"
      },
      "source": [
        "## **Context**"
      ]
    },
    {
      "cell_type": "markdown",
      "metadata": {
        "id": "5Vgcb3oz0GZk"
      },
      "source": [
        "There are two systems of interest here: **front-end** and **back-end** systems. The **front-end system tracks **users’ interaction with the app (users stayed on\n",
        "which screen, clicked on which button, at which time, etc.).The back-end\n",
        "system** tracks the request in the back end that is created as a result of certain actions on the front-end. For example, when users clicked on the button “Mua ngay (buying immediately)” on an item, there’s a request on the backend at the same time and its status reflects whether users purchased successfully or not.\n",
        "\n",
        "**For the front-end dataset:** Each screen in the product flow that you will\n",
        "investigate in this assignment has its ID. The at-issues screens are numbered\n",
        "from 11 to 18, where Screen 11 is the beginning of the flow where users will fill out their bank account info and click “Lien ket ngay (link immediately)” (see the illustrative at the end of the assignment). Screens 12 to 18 reflect different meanings (e.g. the outcomes of the “Lien ket ngay” action, and our\n",
        "corresponding features for various outcomes).\n",
        "\n",
        "**For the back-end dataset:** when users click “Liên kết ngay” on screenID 11,\n",
        "a request will be recorded in the backend.csv. There are a lot of statuses here, but the one of interest is “-FACJ” status and “B”. When users encounter the “-FACJ” error, they will interact with another flow.\n",
        "\n",
        "We are testing two UIs for users who encounter “-FACJ” error. Let’s call these\n",
        "“new UI” and “old UI”. Only a subset of users can see the new UI, which includes\n",
        "screenID 12, 13, 14, 15, 16, 17, 18. The old UI does not have an associated screenID, so it temporarily assumes users that have “-FACJ” error but don’t see screenID 12 through 18 will see the old UI.\n",
        "\n",
        "The old UI and new UI are expected to help users retry and, hopefully, succeed.\n",
        "Users that finish interacting with the flow after “-FACJ” will come back to\n",
        "screenID 11 and submit another request to backend.csv. A successful request has\n",
        "a “B” status."
      ]
    },
    {
      "cell_type": "markdown",
      "metadata": {
        "id": "fT2xnNaUeRV6"
      },
      "source": [
        "###**Preprocessing dataset**"
      ]
    },
    {
      "cell_type": "code",
      "execution_count": 2,
      "metadata": {
        "id": "_3LDgBJ1yi40"
      },
      "outputs": [],
      "source": [
        "front_end = pd.read_csv(\"Front-end dataset.csv\",delimiter = \" \")\n",
        "front_end = front_end['eventid\\tid\\tscreenid\\ttimestamp\\t\\t\\t,'].str.split(\"\\t\",expand = True)\n",
        "front_end.drop([4,5,6], axis = 1, inplace = True)\n",
        "front_end.columns = [\"eventid\",\"id\",\"screenid\",\"timestamp\"]"
      ]
    },
    {
      "cell_type": "code",
      "execution_count": 3,
      "metadata": {
        "id": "b9q4nV78ytyn"
      },
      "outputs": [],
      "source": [
        "def remove_comma(x):\n",
        "  if \"'\" in x:\n",
        "    return x.replace(\"'\",\" \").strip()\n",
        "  else:\n",
        "    return x\n",
        "front_end[\"id\"] = front_end[\"id\"].apply(lambda x: remove_comma(x))\n",
        "front_end[\"screenid\"] = front_end[\"screenid\"].apply(lambda x: remove_comma(x))\n",
        "front_end[\"timestamp\"] = front_end[\"timestamp\"].apply(lambda x: remove_comma(x))"
      ]
    },
    {
      "cell_type": "code",
      "execution_count": 4,
      "metadata": {
        "id": "B_YU1voLyt1L"
      },
      "outputs": [],
      "source": [
        "front_end[\"timestamp\"] = pd.to_datetime(front_end[\"timestamp\"],unit = \"ms\")"
      ]
    },
    {
      "cell_type": "code",
      "execution_count": 5,
      "metadata": {
        "id": "fx1mh_Hcyt4B"
      },
      "outputs": [],
      "source": [
        "front_end.drop_duplicates(inplace = True)"
      ]
    },
    {
      "cell_type": "markdown",
      "metadata": {
        "id": "gWNgCvbmyy2S"
      },
      "source": [
        "## **Backend Dataset**"
      ]
    },
    {
      "cell_type": "code",
      "execution_count": 451,
      "metadata": {
        "id": "oQR229vDy1xE"
      },
      "outputs": [],
      "source": [
        "back_end = pd.read_csv(\"Back-end dataset.csv\")\n",
        "back_end = back_end['timestamp\\tstepresult\\tid'].str.split(\"\\t\",expand = True)\n",
        "back_end.rename(columns = {0:\"timestamp\",1:\"stepresult\",2:\"id\"}, inplace =True)\n",
        "back_end[\"timestamp\"] = pd.to_datetime(back_end['timestamp'], unit = 'ms')"
      ]
    },
    {
      "cell_type": "markdown",
      "metadata": {
        "id": "BGU9Qkbny98o"
      },
      "source": [
        "## **Merging Dataset**"
      ]
    },
    {
      "cell_type": "code",
      "execution_count": 7,
      "metadata": {
        "id": "EcCz0IpDeOLI"
      },
      "outputs": [],
      "source": [
        "# Create the dataset in order to count which UI has 2 or more than 2 and only 1\n",
        "count_front = front_end.groupby([\"id\",\"screenid\",\"eventid\"]).agg({\"eventid\":\"count\"}).reset_index(level = [0,1])\n",
        "max_front = count_front.groupby([\"id\",\"screenid\"]).agg({\"eventid\":\"max\"}).reset_index().sort_values([\"id\",\"screenid\"])"
      ]
    },
    {
      "cell_type": "code",
      "execution_count": 8,
      "metadata": {
        "id": "-hzfnClUjFxO"
      },
      "outputs": [],
      "source": [
        "count_front.rename(columns = {\"eventid\":\"count\"},inplace = True)\n",
        "count_front = count_front.reset_index()"
      ]
    },
    {
      "cell_type": "code",
      "execution_count": 9,
      "metadata": {
        "id": "hwPloHSQl307"
      },
      "outputs": [],
      "source": [
        "merge_data = count_front.merge(front_end,on = [\"eventid\",\"id\"], how = \"right\")\n",
        "merge_data[\"screenid_x\"] = merge_data[\"screenid_x\"].astype(\"int64\")"
      ]
    },
    {
      "cell_type": "code",
      "source": [
        "max_front.head()"
      ],
      "metadata": {
        "colab": {
          "base_uri": "https://localhost:8080/",
          "height": 206
        },
        "id": "twRU3iz6lrkU",
        "outputId": "eba1038a-e6bc-4a98-8499-84f1caea8db6"
      },
      "execution_count": 307,
      "outputs": [
        {
          "output_type": "execute_result",
          "data": {
            "text/plain": [
              "                    id screenid  eventid\n",
              "0  BAAAFACIBHCHHCCCAFH       11        1\n",
              "1    BAAAFFHHEDJFEAAFG       11        3\n",
              "2  BAABEBCJFBFDAGCHFAA       11        1\n",
              "3  BAACEAADIJBJJCDDIII       11        1\n",
              "4  BAACFAHHCDFIHAAACCG       11        1"
            ],
            "text/html": [
              "\n",
              "  <div id=\"df-14331231-3727-4571-b348-6b3e7d16b5e7\">\n",
              "    <div class=\"colab-df-container\">\n",
              "      <div>\n",
              "<style scoped>\n",
              "    .dataframe tbody tr th:only-of-type {\n",
              "        vertical-align: middle;\n",
              "    }\n",
              "\n",
              "    .dataframe tbody tr th {\n",
              "        vertical-align: top;\n",
              "    }\n",
              "\n",
              "    .dataframe thead th {\n",
              "        text-align: right;\n",
              "    }\n",
              "</style>\n",
              "<table border=\"1\" class=\"dataframe\">\n",
              "  <thead>\n",
              "    <tr style=\"text-align: right;\">\n",
              "      <th></th>\n",
              "      <th>id</th>\n",
              "      <th>screenid</th>\n",
              "      <th>eventid</th>\n",
              "    </tr>\n",
              "  </thead>\n",
              "  <tbody>\n",
              "    <tr>\n",
              "      <th>0</th>\n",
              "      <td>BAAAFACIBHCHHCCCAFH</td>\n",
              "      <td>11</td>\n",
              "      <td>1</td>\n",
              "    </tr>\n",
              "    <tr>\n",
              "      <th>1</th>\n",
              "      <td>BAAAFFHHEDJFEAAFG</td>\n",
              "      <td>11</td>\n",
              "      <td>3</td>\n",
              "    </tr>\n",
              "    <tr>\n",
              "      <th>2</th>\n",
              "      <td>BAABEBCJFBFDAGCHFAA</td>\n",
              "      <td>11</td>\n",
              "      <td>1</td>\n",
              "    </tr>\n",
              "    <tr>\n",
              "      <th>3</th>\n",
              "      <td>BAACEAADIJBJJCDDIII</td>\n",
              "      <td>11</td>\n",
              "      <td>1</td>\n",
              "    </tr>\n",
              "    <tr>\n",
              "      <th>4</th>\n",
              "      <td>BAACFAHHCDFIHAAACCG</td>\n",
              "      <td>11</td>\n",
              "      <td>1</td>\n",
              "    </tr>\n",
              "  </tbody>\n",
              "</table>\n",
              "</div>\n",
              "      <button class=\"colab-df-convert\" onclick=\"convertToInteractive('df-14331231-3727-4571-b348-6b3e7d16b5e7')\"\n",
              "              title=\"Convert this dataframe to an interactive table.\"\n",
              "              style=\"display:none;\">\n",
              "        \n",
              "  <svg xmlns=\"http://www.w3.org/2000/svg\" height=\"24px\"viewBox=\"0 0 24 24\"\n",
              "       width=\"24px\">\n",
              "    <path d=\"M0 0h24v24H0V0z\" fill=\"none\"/>\n",
              "    <path d=\"M18.56 5.44l.94 2.06.94-2.06 2.06-.94-2.06-.94-.94-2.06-.94 2.06-2.06.94zm-11 1L8.5 8.5l.94-2.06 2.06-.94-2.06-.94L8.5 2.5l-.94 2.06-2.06.94zm10 10l.94 2.06.94-2.06 2.06-.94-2.06-.94-.94-2.06-.94 2.06-2.06.94z\"/><path d=\"M17.41 7.96l-1.37-1.37c-.4-.4-.92-.59-1.43-.59-.52 0-1.04.2-1.43.59L10.3 9.45l-7.72 7.72c-.78.78-.78 2.05 0 2.83L4 21.41c.39.39.9.59 1.41.59.51 0 1.02-.2 1.41-.59l7.78-7.78 2.81-2.81c.8-.78.8-2.07 0-2.86zM5.41 20L4 18.59l7.72-7.72 1.47 1.35L5.41 20z\"/>\n",
              "  </svg>\n",
              "      </button>\n",
              "      \n",
              "  <style>\n",
              "    .colab-df-container {\n",
              "      display:flex;\n",
              "      flex-wrap:wrap;\n",
              "      gap: 12px;\n",
              "    }\n",
              "\n",
              "    .colab-df-convert {\n",
              "      background-color: #E8F0FE;\n",
              "      border: none;\n",
              "      border-radius: 50%;\n",
              "      cursor: pointer;\n",
              "      display: none;\n",
              "      fill: #1967D2;\n",
              "      height: 32px;\n",
              "      padding: 0 0 0 0;\n",
              "      width: 32px;\n",
              "    }\n",
              "\n",
              "    .colab-df-convert:hover {\n",
              "      background-color: #E2EBFA;\n",
              "      box-shadow: 0px 1px 2px rgba(60, 64, 67, 0.3), 0px 1px 3px 1px rgba(60, 64, 67, 0.15);\n",
              "      fill: #174EA6;\n",
              "    }\n",
              "\n",
              "    [theme=dark] .colab-df-convert {\n",
              "      background-color: #3B4455;\n",
              "      fill: #D2E3FC;\n",
              "    }\n",
              "\n",
              "    [theme=dark] .colab-df-convert:hover {\n",
              "      background-color: #434B5C;\n",
              "      box-shadow: 0px 1px 3px 1px rgba(0, 0, 0, 0.15);\n",
              "      filter: drop-shadow(0px 1px 2px rgba(0, 0, 0, 0.3));\n",
              "      fill: #FFFFFF;\n",
              "    }\n",
              "  </style>\n",
              "\n",
              "      <script>\n",
              "        const buttonEl =\n",
              "          document.querySelector('#df-14331231-3727-4571-b348-6b3e7d16b5e7 button.colab-df-convert');\n",
              "        buttonEl.style.display =\n",
              "          google.colab.kernel.accessAllowed ? 'block' : 'none';\n",
              "\n",
              "        async function convertToInteractive(key) {\n",
              "          const element = document.querySelector('#df-14331231-3727-4571-b348-6b3e7d16b5e7');\n",
              "          const dataTable =\n",
              "            await google.colab.kernel.invokeFunction('convertToInteractive',\n",
              "                                                     [key], {});\n",
              "          if (!dataTable) return;\n",
              "\n",
              "          const docLinkHtml = 'Like what you see? Visit the ' +\n",
              "            '<a target=\"_blank\" href=https://colab.research.google.com/notebooks/data_table.ipynb>data table notebook</a>'\n",
              "            + ' to learn more about interactive tables.';\n",
              "          element.innerHTML = '';\n",
              "          dataTable['output_type'] = 'display_data';\n",
              "          await google.colab.output.renderOutput(dataTable, element);\n",
              "          const docLink = document.createElement('div');\n",
              "          docLink.innerHTML = docLinkHtml;\n",
              "          element.appendChild(docLink);\n",
              "        }\n",
              "      </script>\n",
              "    </div>\n",
              "  </div>\n",
              "  "
            ]
          },
          "metadata": {},
          "execution_count": 307
        }
      ]
    },
    {
      "cell_type": "code",
      "execution_count": 11,
      "metadata": {
        "id": "veZAsCjXmFc7"
      },
      "outputs": [],
      "source": [
        "# Create the dataset for screenid == 11\n",
        "merge_data11 = merge_data.loc[merge_data[\"screenid_x\"] == 11]\n",
        "new_data = pd.DataFrame(columns = merge_data.columns)\n",
        "for i in merge_data11[\"id\"].value_counts().index:\n",
        "  \n",
        "  # Test the condition to take the most interactive eventid of old UI\n",
        "  count = max(merge_data11.loc[(merge_data11[\"id\"] == i)][\"count\"])\n",
        "  eventid = merge_data11.loc[(merge_data11[\"id\"] == i ) & \n",
        "                           (merge_data11[\"count\"] == count)].sort_values([\"timestamp\",\"eventid\"])[\"eventid\"].value_counts().index[0]\n",
        "\n",
        "  # Concatenate the Data with condition\n",
        "  df = merge_data11.loc[(merge_data11[\"id\"] == i) & \n",
        "                 (merge_data11[\"eventid\"] == eventid)]  \n",
        "            \n",
        "  new_data = pd.concat([df,new_data])"
      ]
    },
    {
      "cell_type": "code",
      "execution_count": 12,
      "metadata": {
        "id": "_bempher7SIg"
      },
      "outputs": [],
      "source": [
        "# Create the dataset for screenid != 11\n",
        "merge_data1218 = merge_data.loc[merge_data[\"screenid_x\"] != 11]\n",
        "new_data1218 = pd.DataFrame(columns = merge_data.columns)\n",
        "for i in merge_data1218[\"id\"].value_counts().index:\n",
        "\n",
        "  # Test the condition to take the most interactive eventid of new UI\n",
        "  count = max(merge_data1218.loc[(merge_data1218[\"id\"] == i)][\"count\"])\n",
        "  eventid = merge_data1218.loc[(merge_data1218[\"id\"] == i ) & \n",
        "                           (merge_data1218[\"count\"] == count)].sort_values([\"timestamp\",\"eventid\"])[\"eventid\"].value_counts().index[0]\n",
        "\n",
        "  # Concatenate the Data with condition\n",
        "  df = merge_data1218.loc[(merge_data1218[\"id\"] == i) & \n",
        "                 (merge_data1218[\"eventid\"] == eventid)]  \n",
        "            \n",
        "  new_data1218 = pd.concat([df,new_data1218])"
      ]
    },
    {
      "cell_type": "code",
      "execution_count": 13,
      "metadata": {
        "id": "qQ07B04XwSjg"
      },
      "outputs": [],
      "source": [
        "# Concate to get timestamp for each loop\n",
        "data_Q1 = pd.concat([new_data,new_data1218])"
      ]
    },
    {
      "cell_type": "markdown",
      "metadata": {
        "id": "ksRBXoQY0os5"
      },
      "source": [
        "# **Task 1:Prepare a report that answers the following questions**"
      ]
    },
    {
      "cell_type": "markdown",
      "metadata": {
        "id": "sIUzxHD-0o0Q"
      },
      "source": [
        "### **Q1. What is the retry rate for each UI? Does the new UI improve the retry rate?**\n",
        "\n",
        "**Retry rate** = max(0,n_screen11 - n_screen1218 - 1)/\n",
        "\n",
        "( max(0,n_screen11 - n_screen1218 - 1)+ n_screen1218)\n",
        "\n",
        "\n",
        "**n_screen11:** the number of times UI log in\n",
        "\n",
        "**n_screen1218:** the maximum number of times UI in each screen12 - 18 \n",
        "\n",
        "*(**Assume:** user is interactive with several screen, the screen with the most use is chosen and 1 unit of other screen is equal as 1 unit of screen 11)*"
      ]
    },
    {
      "cell_type": "markdown",
      "source": [
        "#### **Prepare dataset**"
      ],
      "metadata": {
        "id": "DXy5-p8JEwfv"
      }
    },
    {
      "cell_type": "code",
      "execution_count": 14,
      "metadata": {
        "id": "atcPlC9C0kKU"
      },
      "outputs": [],
      "source": [
        "# What is the retry rate for each UI? \n",
        "# 1 is new\n",
        "# 0 is old\n",
        "Q1 = data_Q1.drop_duplicates([\"id\",\"screenid_x\"])\n",
        "\n",
        "# create the dataframe to check UI old or new\n",
        "question1 = pd.DataFrame(data_Q1[\"id\"].value_counts().index, columns = [\"id\"])\n",
        "question1[\"screen11\"] = 0\n",
        "question1[\"screen1218\"] = 0\n"
      ]
    },
    {
      "cell_type": "code",
      "source": [
        "# Fill the dataset specified with each id (user)\n",
        "for i in question1[\"id\"].values:\n",
        "  question1.loc[question1[\"id\"] == i, \"screen11\"] = max_front.loc[(max_front[\"screenid\"] == \"11\") & (max_front[\"id\"] == i)][\"eventid\"].values\n",
        "  try:\n",
        "    question1.loc[question1[\"id\"] == i, \"screen1218\"] = max(max_front.loc[(max_front[\"screenid\"] != \"11\") & (max_front[\"id\"] == i)][\"eventid\"].values)\n",
        "  except:\n",
        "    pass"
      ],
      "metadata": {
        "id": "LqWi2LbemEFu"
      },
      "execution_count": 15,
      "outputs": []
    },
    {
      "cell_type": "code",
      "execution_count": 16,
      "metadata": {
        "id": "JflHwt_QC05Q"
      },
      "outputs": [],
      "source": [
        "# Define UI (New or Old)\n",
        "question1[\"UI\"] = question1.apply(lambda x: 1 if x[\"screen1218\"] > 0 else 0, axis = 1)\n",
        "question1[\"screen11\"] = question1[\"screen11\"].astype(\"int64\")\n",
        "question1[\"screen1218\"] = question1[\"screen1218\"].astype(\"int64\")\n",
        "\n",
        "# Calculate retry rate for each UI\n",
        "# In case New UI enter in screen12 to screen 18 more than log-in (screen11) => no retry rate = 0\n",
        "# Else New UI enter in screen12 to screen 18 less than log-in (screen11)    => retry rate is available\n",
        "# The last time is not a retry (-1)\n",
        "question1[\"retry_times\"] = question1.apply(lambda x: max(0,x[\"screen11\"] - x[\"screen1218\"] - 1), axis = 1)\n",
        "\n",
        "# retry rate of new_UI\n",
        "new_iu_retry = sum(question1.loc[question1[\"UI\"] == 1]['retry_times'])/(\n",
        "                sum(question1.loc[question1[\"UI\"] == 1]['retry_times']) \n",
        "              + sum(question1.loc[question1[\"UI\"] == 1][\"screen1218\"]))\n",
        "\n",
        "# Suppose the last time of old Ui does mean they stop => the last eventid doesn't mean a retry but a stop => don't include in the number of retry\n",
        "\n",
        "# retry rate of old_UI\n",
        "old_iu_retry = (sum(question1.loc[question1[\"UI\"] == 0]['screen11']) -\n",
        "                len(question1.loc[question1[\"UI\"] == 0]['screen11']))/sum(question1.loc[question1[\"UI\"] == 0]['screen11'])"
      ]
    },
    {
      "cell_type": "markdown",
      "source": [
        "#### **Answer T1.1: Result**"
      ],
      "metadata": {
        "id": "NFIiuQBSE2RW"
      }
    },
    {
      "cell_type": "code",
      "execution_count": 17,
      "metadata": {
        "colab": {
          "base_uri": "https://localhost:8080/"
        },
        "id": "lmcYLVDg3fbY",
        "outputId": "dc5301ba-59e0-47df-8af6-293635326fd3"
      },
      "outputs": [
        {
          "output_type": "stream",
          "name": "stdout",
          "text": [
            "The retry rate of New UI: 0.1\n",
            "The retry rate of Old UI: 0.43\n"
          ]
        }
      ],
      "source": [
        "print(\"The retry rate of New UI: {}\".format(round(new_iu_retry,2)))\n",
        "print(\"The retry rate of Old UI: {}\".format(round(old_iu_retry,2)))"
      ]
    },
    {
      "cell_type": "markdown",
      "metadata": {
        "id": "JYHgkz3FIQSA"
      },
      "source": [
        "### **Q1.2: Does the new UI improve the retry rate?**"
      ]
    },
    {
      "cell_type": "markdown",
      "source": [
        "#### **Prepare dataset**"
      ],
      "metadata": {
        "id": "ABusCXHLFK8W"
      }
    },
    {
      "cell_type": "code",
      "execution_count": 18,
      "metadata": {
        "colab": {
          "base_uri": "https://localhost:8080/"
        },
        "id": "Z98tH_aJRB0-",
        "outputId": "2e7d6290-f267-490b-9efd-1a2ed6135be2"
      },
      "outputs": [
        {
          "output_type": "stream",
          "name": "stderr",
          "text": [
            "/usr/local/lib/python3.7/dist-packages/ipykernel_launcher.py:6: FutureWarning: The pandas.datetime class is deprecated and will be removed from pandas in a future version. Import from datetime module instead.\n",
            "  \n"
          ]
        }
      ],
      "source": [
        "# Create the hour interval for frontend dataset\n",
        "front_end[\"Year\"]  = front_end[\"timestamp\"].apply(lambda x: x.year)\n",
        "front_end[\"Month\"] = front_end[\"timestamp\"].apply(lambda x: x.month)\n",
        "front_end[\"Day\"]   = front_end[\"timestamp\"].apply(lambda x: x.day)\n",
        "front_end[\"Hour\"]  = front_end[\"timestamp\"].apply(lambda x: x.hour)\n",
        "front_end[\"timestamp2\"] = front_end.apply(lambda x: pd.datetime(x[\"Year\"],x[\"Month\"],x[\"Day\"],x[\"Hour\"]), axis = 1)"
      ]
    },
    {
      "cell_type": "code",
      "execution_count": 19,
      "metadata": {
        "id": "u9xoo2IBQ5K6"
      },
      "outputs": [],
      "source": [
        "Q12 = front_end.merge(question1[[\"id\",\"UI\"]], on = \"id\", how = \"right\")"
      ]
    },
    {
      "cell_type": "code",
      "source": [
        "Q12.head()"
      ],
      "metadata": {
        "colab": {
          "base_uri": "https://localhost:8080/",
          "height": 206
        },
        "id": "EO6-LskQqvSy",
        "outputId": "22a2a478-b339-4b96-a1ed-9a1e48401dbd"
      },
      "execution_count": 20,
      "outputs": [
        {
          "output_type": "execute_result",
          "data": {
            "text/plain": [
              "    eventid                   id screenid               timestamp  Year  \\\n",
              "0  x,11.xy1  FFDBDJFJGCIJHBBACIA       11 2021-03-15 08:17:27.824  2021   \n",
              "1   x,14.06  FFDBDJFJGCIJHBBACIA       14 2021-03-15 08:39:23.532  2021   \n",
              "2  x,11.xy0  FFDBDJFJGCIJHBBACIA       11 2021-03-15 08:17:28.822  2021   \n",
              "3  x,11.xy1  FFDBDJFJGCIJHBBACIA       11 2021-03-15 08:42:56.675  2021   \n",
              "4   x,14.06  FFDBDJFJGCIJHBBACIA       14 2021-03-15 08:43:10.081  2021   \n",
              "\n",
              "   Month  Day  Hour          timestamp2  UI  \n",
              "0      3   15     8 2021-03-15 08:00:00   1  \n",
              "1      3   15     8 2021-03-15 08:00:00   1  \n",
              "2      3   15     8 2021-03-15 08:00:00   1  \n",
              "3      3   15     8 2021-03-15 08:00:00   1  \n",
              "4      3   15     8 2021-03-15 08:00:00   1  "
            ],
            "text/html": [
              "\n",
              "  <div id=\"df-9e6a97a4-d7bf-44e9-9a51-7c6a7c6f09f7\">\n",
              "    <div class=\"colab-df-container\">\n",
              "      <div>\n",
              "<style scoped>\n",
              "    .dataframe tbody tr th:only-of-type {\n",
              "        vertical-align: middle;\n",
              "    }\n",
              "\n",
              "    .dataframe tbody tr th {\n",
              "        vertical-align: top;\n",
              "    }\n",
              "\n",
              "    .dataframe thead th {\n",
              "        text-align: right;\n",
              "    }\n",
              "</style>\n",
              "<table border=\"1\" class=\"dataframe\">\n",
              "  <thead>\n",
              "    <tr style=\"text-align: right;\">\n",
              "      <th></th>\n",
              "      <th>eventid</th>\n",
              "      <th>id</th>\n",
              "      <th>screenid</th>\n",
              "      <th>timestamp</th>\n",
              "      <th>Year</th>\n",
              "      <th>Month</th>\n",
              "      <th>Day</th>\n",
              "      <th>Hour</th>\n",
              "      <th>timestamp2</th>\n",
              "      <th>UI</th>\n",
              "    </tr>\n",
              "  </thead>\n",
              "  <tbody>\n",
              "    <tr>\n",
              "      <th>0</th>\n",
              "      <td>x,11.xy1</td>\n",
              "      <td>FFDBDJFJGCIJHBBACIA</td>\n",
              "      <td>11</td>\n",
              "      <td>2021-03-15 08:17:27.824</td>\n",
              "      <td>2021</td>\n",
              "      <td>3</td>\n",
              "      <td>15</td>\n",
              "      <td>8</td>\n",
              "      <td>2021-03-15 08:00:00</td>\n",
              "      <td>1</td>\n",
              "    </tr>\n",
              "    <tr>\n",
              "      <th>1</th>\n",
              "      <td>x,14.06</td>\n",
              "      <td>FFDBDJFJGCIJHBBACIA</td>\n",
              "      <td>14</td>\n",
              "      <td>2021-03-15 08:39:23.532</td>\n",
              "      <td>2021</td>\n",
              "      <td>3</td>\n",
              "      <td>15</td>\n",
              "      <td>8</td>\n",
              "      <td>2021-03-15 08:00:00</td>\n",
              "      <td>1</td>\n",
              "    </tr>\n",
              "    <tr>\n",
              "      <th>2</th>\n",
              "      <td>x,11.xy0</td>\n",
              "      <td>FFDBDJFJGCIJHBBACIA</td>\n",
              "      <td>11</td>\n",
              "      <td>2021-03-15 08:17:28.822</td>\n",
              "      <td>2021</td>\n",
              "      <td>3</td>\n",
              "      <td>15</td>\n",
              "      <td>8</td>\n",
              "      <td>2021-03-15 08:00:00</td>\n",
              "      <td>1</td>\n",
              "    </tr>\n",
              "    <tr>\n",
              "      <th>3</th>\n",
              "      <td>x,11.xy1</td>\n",
              "      <td>FFDBDJFJGCIJHBBACIA</td>\n",
              "      <td>11</td>\n",
              "      <td>2021-03-15 08:42:56.675</td>\n",
              "      <td>2021</td>\n",
              "      <td>3</td>\n",
              "      <td>15</td>\n",
              "      <td>8</td>\n",
              "      <td>2021-03-15 08:00:00</td>\n",
              "      <td>1</td>\n",
              "    </tr>\n",
              "    <tr>\n",
              "      <th>4</th>\n",
              "      <td>x,14.06</td>\n",
              "      <td>FFDBDJFJGCIJHBBACIA</td>\n",
              "      <td>14</td>\n",
              "      <td>2021-03-15 08:43:10.081</td>\n",
              "      <td>2021</td>\n",
              "      <td>3</td>\n",
              "      <td>15</td>\n",
              "      <td>8</td>\n",
              "      <td>2021-03-15 08:00:00</td>\n",
              "      <td>1</td>\n",
              "    </tr>\n",
              "  </tbody>\n",
              "</table>\n",
              "</div>\n",
              "      <button class=\"colab-df-convert\" onclick=\"convertToInteractive('df-9e6a97a4-d7bf-44e9-9a51-7c6a7c6f09f7')\"\n",
              "              title=\"Convert this dataframe to an interactive table.\"\n",
              "              style=\"display:none;\">\n",
              "        \n",
              "  <svg xmlns=\"http://www.w3.org/2000/svg\" height=\"24px\"viewBox=\"0 0 24 24\"\n",
              "       width=\"24px\">\n",
              "    <path d=\"M0 0h24v24H0V0z\" fill=\"none\"/>\n",
              "    <path d=\"M18.56 5.44l.94 2.06.94-2.06 2.06-.94-2.06-.94-.94-2.06-.94 2.06-2.06.94zm-11 1L8.5 8.5l.94-2.06 2.06-.94-2.06-.94L8.5 2.5l-.94 2.06-2.06.94zm10 10l.94 2.06.94-2.06 2.06-.94-2.06-.94-.94-2.06-.94 2.06-2.06.94z\"/><path d=\"M17.41 7.96l-1.37-1.37c-.4-.4-.92-.59-1.43-.59-.52 0-1.04.2-1.43.59L10.3 9.45l-7.72 7.72c-.78.78-.78 2.05 0 2.83L4 21.41c.39.39.9.59 1.41.59.51 0 1.02-.2 1.41-.59l7.78-7.78 2.81-2.81c.8-.78.8-2.07 0-2.86zM5.41 20L4 18.59l7.72-7.72 1.47 1.35L5.41 20z\"/>\n",
              "  </svg>\n",
              "      </button>\n",
              "      \n",
              "  <style>\n",
              "    .colab-df-container {\n",
              "      display:flex;\n",
              "      flex-wrap:wrap;\n",
              "      gap: 12px;\n",
              "    }\n",
              "\n",
              "    .colab-df-convert {\n",
              "      background-color: #E8F0FE;\n",
              "      border: none;\n",
              "      border-radius: 50%;\n",
              "      cursor: pointer;\n",
              "      display: none;\n",
              "      fill: #1967D2;\n",
              "      height: 32px;\n",
              "      padding: 0 0 0 0;\n",
              "      width: 32px;\n",
              "    }\n",
              "\n",
              "    .colab-df-convert:hover {\n",
              "      background-color: #E2EBFA;\n",
              "      box-shadow: 0px 1px 2px rgba(60, 64, 67, 0.3), 0px 1px 3px 1px rgba(60, 64, 67, 0.15);\n",
              "      fill: #174EA6;\n",
              "    }\n",
              "\n",
              "    [theme=dark] .colab-df-convert {\n",
              "      background-color: #3B4455;\n",
              "      fill: #D2E3FC;\n",
              "    }\n",
              "\n",
              "    [theme=dark] .colab-df-convert:hover {\n",
              "      background-color: #434B5C;\n",
              "      box-shadow: 0px 1px 3px 1px rgba(0, 0, 0, 0.15);\n",
              "      filter: drop-shadow(0px 1px 2px rgba(0, 0, 0, 0.3));\n",
              "      fill: #FFFFFF;\n",
              "    }\n",
              "  </style>\n",
              "\n",
              "      <script>\n",
              "        const buttonEl =\n",
              "          document.querySelector('#df-9e6a97a4-d7bf-44e9-9a51-7c6a7c6f09f7 button.colab-df-convert');\n",
              "        buttonEl.style.display =\n",
              "          google.colab.kernel.accessAllowed ? 'block' : 'none';\n",
              "\n",
              "        async function convertToInteractive(key) {\n",
              "          const element = document.querySelector('#df-9e6a97a4-d7bf-44e9-9a51-7c6a7c6f09f7');\n",
              "          const dataTable =\n",
              "            await google.colab.kernel.invokeFunction('convertToInteractive',\n",
              "                                                     [key], {});\n",
              "          if (!dataTable) return;\n",
              "\n",
              "          const docLinkHtml = 'Like what you see? Visit the ' +\n",
              "            '<a target=\"_blank\" href=https://colab.research.google.com/notebooks/data_table.ipynb>data table notebook</a>'\n",
              "            + ' to learn more about interactive tables.';\n",
              "          element.innerHTML = '';\n",
              "          dataTable['output_type'] = 'display_data';\n",
              "          await google.colab.output.renderOutput(dataTable, element);\n",
              "          const docLink = document.createElement('div');\n",
              "          docLink.innerHTML = docLinkHtml;\n",
              "          element.appendChild(docLink);\n",
              "        }\n",
              "      </script>\n",
              "    </div>\n",
              "  </div>\n",
              "  "
            ]
          },
          "metadata": {},
          "execution_count": 20
        }
      ]
    },
    {
      "cell_type": "code",
      "execution_count": 21,
      "metadata": {
        "id": "D866Zdrjb49R"
      },
      "outputs": [],
      "source": [
        "Q12_sc11 = Q12.loc[(Q12[\"screenid\"] == \"11\") \n",
        "                   & (Q12[\"UI\"] == 1)].groupby(\n",
        "                  by = [\"timestamp2\"]).count().reset_index()[[\"timestamp2\",\"eventid\"]].rename(columns = {\"eventid\":\"screen11\"})"
      ]
    },
    {
      "cell_type": "code",
      "execution_count": 22,
      "metadata": {
        "id": "qPX5X56bcSOT"
      },
      "outputs": [],
      "source": [
        "Q12_sc1218 = pd.DataFrame(columns = [\"timestamp2\",\"eventid\"])\n",
        "table = Q12.loc[(Q12[\"screenid\"] != \"11\") \n",
        "              & (Q12[\"UI\"] == 1)].groupby(by = [\"timestamp2\",\"screenid\"]).count().reset_index()\n",
        "\n",
        "for i in table['timestamp2'].unique():        \n",
        "  a = max(table.loc[table['timestamp2'] == i][\"eventid\"])\n",
        "  table_x = table.loc[(table['timestamp2'] == i) \n",
        "                    & (table[\"eventid\"] == a)][[\"timestamp2\",\"eventid\"]]\n",
        "  Q12_sc1218 = pd.concat([Q12_sc1218,table_x]) "
      ]
    },
    {
      "cell_type": "code",
      "execution_count": 23,
      "metadata": {
        "id": "rqwFhlNhe2DE"
      },
      "outputs": [],
      "source": [
        "Q12_sc1218.rename(columns = {\"eventid\":\"screen1218\"},inplace = True)"
      ]
    },
    {
      "cell_type": "code",
      "source": [
        "Q12_answer = Q12_sc11.merge(Q12_sc1218, on = \"timestamp2\", how = \"left\").fillna(0)\n",
        "Q12_answer[\"retry_times\"] = Q12_answer.apply(lambda x: max(0, x[\"screen11\"] - x[\"screen1218\"]), axis = 1)\n",
        "Q12_answer[\"retry_rate\"]  = Q12_answer.apply(lambda x: (x[\"retry_times\"] - 1)/(x[\"retry_times\"] + x[\"screen1218\"]),axis = 1)\n",
        "Q12_answer.drop([\"screen11\",\"screen1218\"], axis = 1, inplace = True)"
      ],
      "metadata": {
        "id": "Vh2J0sY9tuwy"
      },
      "execution_count": 24,
      "outputs": []
    },
    {
      "cell_type": "markdown",
      "source": [
        "#### **Answer T1. Q1.2: Result**"
      ],
      "metadata": {
        "id": "z1zQbHRLFFYW"
      }
    },
    {
      "cell_type": "code",
      "source": [
        "# Visualization of New UI by 1 hour interval from dataset with regression line\n",
        "sns.regplot(x = Q12_answer.index, y = \"retry_rate\", data = Q12_answer)"
      ],
      "metadata": {
        "colab": {
          "base_uri": "https://localhost:8080/",
          "height": 282
        },
        "id": "yKwj2RQItEf8",
        "outputId": "e406396b-cf01-468a-db9c-9576429662c8"
      },
      "execution_count": 25,
      "outputs": [
        {
          "output_type": "execute_result",
          "data": {
            "text/plain": [
              "<matplotlib.axes._subplots.AxesSubplot at 0x7fca327798d0>"
            ]
          },
          "metadata": {},
          "execution_count": 25
        },
        {
          "output_type": "display_data",
          "data": {
            "text/plain": [
              "<Figure size 432x288 with 1 Axes>"
            ],
            "image/png": "[encoded data removed]"
          },
          "metadata": {
            "needs_background": "light"
          }
        }
      ]
    },
    {
      "cell_type": "code",
      "source": [
        "# Visualization of New UI by 1 hour interval from dataset with line chart\n",
        "fig = plt.figure(figsize = (15,6))\n",
        "plt.plot(Q12_answer[\"timestamp2\"], Q12_answer[\"retry_rate\"])"
      ],
      "metadata": {
        "colab": {
          "base_uri": "https://localhost:8080/",
          "height": 391
        },
        "id": "6HWQ4jrVsd5q",
        "outputId": "ed6d12a2-7548-478f-ec36-30a2083a2064"
      },
      "execution_count": 26,
      "outputs": [
        {
          "output_type": "execute_result",
          "data": {
            "text/plain": [
              "[<matplotlib.lines.Line2D at 0x7fca32790450>]"
            ]
          },
          "metadata": {},
          "execution_count": 26
        },
        {
          "output_type": "display_data",
          "data": {
            "text/plain": [
              "<Figure size 1080x432 with 1 Axes>"
            ],
            "image/png": "[encoded data removed]"
          },
          "metadata": {
            "needs_background": "light"
          }
        }
      ]
    },
    {
      "cell_type": "markdown",
      "source": [
        "## **Q2. Among the people who retried, what is the success rate for each UI? Does the new UI improve the success rate?**\n",
        "\n",
        "**Success rate** = min(n_success, n_enter)/n_enter\n",
        "\n",
        "**n_success:** The number of time UI successfully reaches to screenID 12 - 18\n",
        "\n",
        "**n_enter  :** The total number of time UI enter in screen 11"
      ],
      "metadata": {
        "id": "CAopP4r405ng"
      }
    },
    {
      "cell_type": "code",
      "source": [
        "question1[\"success_times\"] = question1.apply(lambda x: min(x[\"screen1218\"],x[\"screen11\"]), axis = 1)\n",
        "question1[\"success_rate\"]  = question1.apply(lambda x: x[\"success_times\"]/x[\"screen11\"], axis = 1)"
      ],
      "metadata": {
        "id": "Tulri1vgsJW4"
      },
      "execution_count": 27,
      "outputs": []
    },
    {
      "cell_type": "code",
      "execution_count": 28,
      "metadata": {
        "id": "C04V1mG9SifW"
      },
      "outputs": [],
      "source": [
        "new_iu_success = sum(question1.loc[question1[\"UI\"] == 1]['success_times'])/(sum(question1.loc[question1[\"UI\"] == 1][\"screen11\"]))\n",
        "old_iu_success = sum(question1.loc[question1[\"UI\"] == 0]['success_times'])/(sum(question1.loc[question1[\"UI\"] == 0][\"screen11\"]))"
      ]
    },
    {
      "cell_type": "markdown",
      "source": [
        "#### **Answer T1. Q2.1: Result**"
      ],
      "metadata": {
        "id": "SZXGxOc0FTrf"
      }
    },
    {
      "cell_type": "code",
      "execution_count": 29,
      "metadata": {
        "colab": {
          "base_uri": "https://localhost:8080/"
        },
        "id": "_oochLUpeIUV",
        "outputId": "177af9c3-3acb-4a64-e1f7-31b77b61105f"
      },
      "outputs": [
        {
          "output_type": "stream",
          "name": "stdout",
          "text": [
            "The success rate of New UI: 0.75\n",
            "The success rate of Old UI: 0.0\n"
          ]
        }
      ],
      "source": [
        "print(\"The success rate of New UI: {}\".format(round(new_iu_success,2)))\n",
        "print(\"The success rate of Old UI: {}\".format(old_iu_success))"
      ]
    },
    {
      "cell_type": "markdown",
      "source": [
        "### **Q2.2. Does the new UI improve the success rate?**"
      ],
      "metadata": {
        "id": "fNI85u0I5YOs"
      }
    },
    {
      "cell_type": "code",
      "execution_count": 30,
      "metadata": {
        "colab": {
          "base_uri": "https://localhost:8080/",
          "height": 206
        },
        "id": "jaUW01-UdJSE",
        "outputId": "d516939a-7474-4a1e-aea2-cc119c827313"
      },
      "outputs": [
        {
          "output_type": "execute_result",
          "data": {
            "text/plain": [
              "           timestamp2  screen11  screen1218\n",
              "0 2021-03-14 17:00:00         2           0\n",
              "1 2021-03-14 18:00:00        10           0\n",
              "2 2021-03-14 21:00:00         2           0\n",
              "3 2021-03-14 23:00:00        10           0\n",
              "4 2021-03-15 00:00:00         8           0"
            ],
            "text/html": [
              "\n",
              "  <div id=\"df-616966a7-4b07-4214-8492-f47546354704\">\n",
              "    <div class=\"colab-df-container\">\n",
              "      <div>\n",
              "<style scoped>\n",
              "    .dataframe tbody tr th:only-of-type {\n",
              "        vertical-align: middle;\n",
              "    }\n",
              "\n",
              "    .dataframe tbody tr th {\n",
              "        vertical-align: top;\n",
              "    }\n",
              "\n",
              "    .dataframe thead th {\n",
              "        text-align: right;\n",
              "    }\n",
              "</style>\n",
              "<table border=\"1\" class=\"dataframe\">\n",
              "  <thead>\n",
              "    <tr style=\"text-align: right;\">\n",
              "      <th></th>\n",
              "      <th>timestamp2</th>\n",
              "      <th>screen11</th>\n",
              "      <th>screen1218</th>\n",
              "    </tr>\n",
              "  </thead>\n",
              "  <tbody>\n",
              "    <tr>\n",
              "      <th>0</th>\n",
              "      <td>2021-03-14 17:00:00</td>\n",
              "      <td>2</td>\n",
              "      <td>0</td>\n",
              "    </tr>\n",
              "    <tr>\n",
              "      <th>1</th>\n",
              "      <td>2021-03-14 18:00:00</td>\n",
              "      <td>10</td>\n",
              "      <td>0</td>\n",
              "    </tr>\n",
              "    <tr>\n",
              "      <th>2</th>\n",
              "      <td>2021-03-14 21:00:00</td>\n",
              "      <td>2</td>\n",
              "      <td>0</td>\n",
              "    </tr>\n",
              "    <tr>\n",
              "      <th>3</th>\n",
              "      <td>2021-03-14 23:00:00</td>\n",
              "      <td>10</td>\n",
              "      <td>0</td>\n",
              "    </tr>\n",
              "    <tr>\n",
              "      <th>4</th>\n",
              "      <td>2021-03-15 00:00:00</td>\n",
              "      <td>8</td>\n",
              "      <td>0</td>\n",
              "    </tr>\n",
              "  </tbody>\n",
              "</table>\n",
              "</div>\n",
              "      <button class=\"colab-df-convert\" onclick=\"convertToInteractive('df-616966a7-4b07-4214-8492-f47546354704')\"\n",
              "              title=\"Convert this dataframe to an interactive table.\"\n",
              "              style=\"display:none;\">\n",
              "        \n",
              "  <svg xmlns=\"http://www.w3.org/2000/svg\" height=\"24px\"viewBox=\"0 0 24 24\"\n",
              "       width=\"24px\">\n",
              "    <path d=\"M0 0h24v24H0V0z\" fill=\"none\"/>\n",
              "    <path d=\"M18.56 5.44l.94 2.06.94-2.06 2.06-.94-2.06-.94-.94-2.06-.94 2.06-2.06.94zm-11 1L8.5 8.5l.94-2.06 2.06-.94-2.06-.94L8.5 2.5l-.94 2.06-2.06.94zm10 10l.94 2.06.94-2.06 2.06-.94-2.06-.94-.94-2.06-.94 2.06-2.06.94z\"/><path d=\"M17.41 7.96l-1.37-1.37c-.4-.4-.92-.59-1.43-.59-.52 0-1.04.2-1.43.59L10.3 9.45l-7.72 7.72c-.78.78-.78 2.05 0 2.83L4 21.41c.39.39.9.59 1.41.59.51 0 1.02-.2 1.41-.59l7.78-7.78 2.81-2.81c.8-.78.8-2.07 0-2.86zM5.41 20L4 18.59l7.72-7.72 1.47 1.35L5.41 20z\"/>\n",
              "  </svg>\n",
              "      </button>\n",
              "      \n",
              "  <style>\n",
              "    .colab-df-container {\n",
              "      display:flex;\n",
              "      flex-wrap:wrap;\n",
              "      gap: 12px;\n",
              "    }\n",
              "\n",
              "    .colab-df-convert {\n",
              "      background-color: #E8F0FE;\n",
              "      border: none;\n",
              "      border-radius: 50%;\n",
              "      cursor: pointer;\n",
              "      display: none;\n",
              "      fill: #1967D2;\n",
              "      height: 32px;\n",
              "      padding: 0 0 0 0;\n",
              "      width: 32px;\n",
              "    }\n",
              "\n",
              "    .colab-df-convert:hover {\n",
              "      background-color: #E2EBFA;\n",
              "      box-shadow: 0px 1px 2px rgba(60, 64, 67, 0.3), 0px 1px 3px 1px rgba(60, 64, 67, 0.15);\n",
              "      fill: #174EA6;\n",
              "    }\n",
              "\n",
              "    [theme=dark] .colab-df-convert {\n",
              "      background-color: #3B4455;\n",
              "      fill: #D2E3FC;\n",
              "    }\n",
              "\n",
              "    [theme=dark] .colab-df-convert:hover {\n",
              "      background-color: #434B5C;\n",
              "      box-shadow: 0px 1px 3px 1px rgba(0, 0, 0, 0.15);\n",
              "      filter: drop-shadow(0px 1px 2px rgba(0, 0, 0, 0.3));\n",
              "      fill: #FFFFFF;\n",
              "    }\n",
              "  </style>\n",
              "\n",
              "      <script>\n",
              "        const buttonEl =\n",
              "          document.querySelector('#df-616966a7-4b07-4214-8492-f47546354704 button.colab-df-convert');\n",
              "        buttonEl.style.display =\n",
              "          google.colab.kernel.accessAllowed ? 'block' : 'none';\n",
              "\n",
              "        async function convertToInteractive(key) {\n",
              "          const element = document.querySelector('#df-616966a7-4b07-4214-8492-f47546354704');\n",
              "          const dataTable =\n",
              "            await google.colab.kernel.invokeFunction('convertToInteractive',\n",
              "                                                     [key], {});\n",
              "          if (!dataTable) return;\n",
              "\n",
              "          const docLinkHtml = 'Like what you see? Visit the ' +\n",
              "            '<a target=\"_blank\" href=https://colab.research.google.com/notebooks/data_table.ipynb>data table notebook</a>'\n",
              "            + ' to learn more about interactive tables.';\n",
              "          element.innerHTML = '';\n",
              "          dataTable['output_type'] = 'display_data';\n",
              "          await google.colab.output.renderOutput(dataTable, element);\n",
              "          const docLink = document.createElement('div');\n",
              "          docLink.innerHTML = docLinkHtml;\n",
              "          element.appendChild(docLink);\n",
              "        }\n",
              "      </script>\n",
              "    </div>\n",
              "  </div>\n",
              "  "
            ]
          },
          "metadata": {},
          "execution_count": 30
        }
      ],
      "source": [
        "Q22 = Q12_sc11.merge(Q12_sc1218, on = \"timestamp2\", how = \"left\").fillna(0)\n",
        "Q22.head()"
      ]
    },
    {
      "cell_type": "code",
      "source": [
        "Q22[\"success_times\"] = Q22.apply(lambda x: min(x[\"screen1218\"],x[\"screen11\"]), axis = 1)\n",
        "Q22[\"success_rate\"]  = Q22.apply(lambda x: x[\"success_times\"]/x[\"screen11\"], axis = 1)\n",
        "Q22.drop([\"screen11\",\"screen1218\"], axis = 1, inplace = True)"
      ],
      "metadata": {
        "id": "YkyRLHK76HP4"
      },
      "execution_count": 31,
      "outputs": []
    },
    {
      "cell_type": "markdown",
      "source": [
        "#### **Answer T1. Q2.2: Result**"
      ],
      "metadata": {
        "id": "dGsHIenXFaIV"
      }
    },
    {
      "cell_type": "code",
      "source": [
        "# Visualization of New UI by 1 hour interval from dataset\n",
        "sns.regplot(x = Q22.index, y = \"success_rate\", data = Q22)"
      ],
      "metadata": {
        "colab": {
          "base_uri": "https://localhost:8080/",
          "height": 282
        },
        "id": "sV-t-1K06R5E",
        "outputId": "a87b33a4-3a48-492b-ef18-d256d0daf099"
      },
      "execution_count": 32,
      "outputs": [
        {
          "output_type": "execute_result",
          "data": {
            "text/plain": [
              "<matplotlib.axes._subplots.AxesSubplot at 0x7fca32692210>"
            ]
          },
          "metadata": {},
          "execution_count": 32
        },
        {
          "output_type": "display_data",
          "data": {
            "text/plain": [
              "<Figure size 432x288 with 1 Axes>"
            ],
            "image/png": "[encoded data removed]"
          },
          "metadata": {
            "needs_background": "light"
          }
        }
      ]
    },
    {
      "cell_type": "code",
      "source": [
        "# Visualization of New UI by 1 hour interval from dataset with line chart\n",
        "fig = plt.figure(figsize = (15,6))\n",
        "plt.plot(Q22[\"timestamp2\"], Q22[\"success_rate\"])"
      ],
      "metadata": {
        "colab": {
          "base_uri": "https://localhost:8080/",
          "height": 391
        },
        "id": "SjXjwIq_6HTH",
        "outputId": "7f45a026-2462-4f28-ad4b-4a2838ecb5d0"
      },
      "execution_count": 33,
      "outputs": [
        {
          "output_type": "execute_result",
          "data": {
            "text/plain": [
              "[<matplotlib.lines.Line2D at 0x7fca325f7210>]"
            ]
          },
          "metadata": {},
          "execution_count": 33
        },
        {
          "output_type": "display_data",
          "data": {
            "text/plain": [
              "<Figure size 1080x432 with 1 Axes>"
            ],
            "image/png": "[encoded data removed]"
          },
          "metadata": {
            "needs_background": "light"
          }
        }
      ]
    },
    {
      "cell_type": "markdown",
      "source": [
        "##**Q3. What is the distribution of requests by the error for each UI? Does the new UI help reduce FACJ error?**"
      ],
      "metadata": {
        "id": "SROVGxiF6xvR"
      }
    },
    {
      "cell_type": "markdown",
      "source": [
        "**Q3.1 What is the distribution of requests by the error for each UI?**"
      ],
      "metadata": {
        "id": "IhAywqwf7AF2"
      }
    },
    {
      "cell_type": "code",
      "source": [
        "Q31 = question1.copy()\n",
        "# Visualize The distribution in term of retry times of New UI (UI = 1)\n",
        "fig = plt.figure(figsize = (15,6))\n",
        "Q31.loc[Q31[\"UI\"] == 1][\"retry_times\"].hist(bins = 50)"
      ],
      "metadata": {
        "colab": {
          "base_uri": "https://localhost:8080/",
          "height": 391
        },
        "id": "KtrI3jlo69t8",
        "outputId": "97f4b2e6-71fa-4c08-87f5-a0c86e88814a"
      },
      "execution_count": 34,
      "outputs": [
        {
          "output_type": "execute_result",
          "data": {
            "text/plain": [
              "<matplotlib.axes._subplots.AxesSubplot at 0x7fca32559690>"
            ]
          },
          "metadata": {},
          "execution_count": 34
        },
        {
          "output_type": "display_data",
          "data": {
            "text/plain": [
              "<Figure size 1080x432 with 1 Axes>"
            ],
            "image/png": "[encoded data removed]"
          },
          "metadata": {
            "needs_background": "light"
          }
        }
      ]
    },
    {
      "cell_type": "code",
      "source": [
        "Q31.loc[Q31[\"UI\"] == 1][\"retry_times\"].value_counts()"
      ],
      "metadata": {
        "colab": {
          "base_uri": "https://localhost:8080/"
        },
        "id": "VCYOEpG9cR0g",
        "outputId": "db6afdf6-d19d-4761-ff36-4bfb9486530b"
      },
      "execution_count": 289,
      "outputs": [
        {
          "output_type": "execute_result",
          "data": {
            "text/plain": [
              "0     1027\n",
              "1      100\n",
              "2       58\n",
              "3       29\n",
              "4       22\n",
              "5       15\n",
              "7       11\n",
              "6        9\n",
              "8        2\n",
              "35       1\n",
              "14       1\n",
              "13       1\n",
              "11       1\n",
              "10       1\n",
              "9        1\n",
              "Name: retry_times, dtype: int64"
            ]
          },
          "metadata": {},
          "execution_count": 289
        }
      ]
    },
    {
      "cell_type": "code",
      "source": [
        "Q31 = question1.copy()\n",
        "# Visualize The distribution in term of retry times of Old UI (UI = 0)\n",
        "fig = plt.figure(figsize = (15,6))\n",
        "Q31.loc[Q31[\"UI\"] == 0][\"retry_times\"].hist(bins = 50)"
      ],
      "metadata": {
        "colab": {
          "base_uri": "https://localhost:8080/",
          "height": 391
        },
        "id": "o2_BbpaK7i-l",
        "outputId": "71c3398d-7bde-4390-877f-239564bcf784"
      },
      "execution_count": 35,
      "outputs": [
        {
          "output_type": "execute_result",
          "data": {
            "text/plain": [
              "<matplotlib.axes._subplots.AxesSubplot at 0x7fca32385150>"
            ]
          },
          "metadata": {},
          "execution_count": 35
        },
        {
          "output_type": "display_data",
          "data": {
            "text/plain": [
              "<Figure size 1080x432 with 1 Axes>"
            ],
            "image/png": "[encoded data removed]"
          },
          "metadata": {
            "needs_background": "light"
          }
        }
      ]
    },
    {
      "cell_type": "code",
      "source": [
        "Q31.loc[Q31[\"UI\"] == 0][\"retry_times\"].value_counts()"
      ],
      "metadata": {
        "colab": {
          "base_uri": "https://localhost:8080/"
        },
        "id": "Yk1johjqcLwI",
        "outputId": "1d5ac759-125b-4424-9803-4793405fd093"
      },
      "execution_count": 287,
      "outputs": [
        {
          "output_type": "execute_result",
          "data": {
            "text/plain": [
              "0     7761\n",
              "1     2256\n",
              "2     1026\n",
              "3      480\n",
              "4      228\n",
              "5      118\n",
              "6       64\n",
              "7       49\n",
              "8       33\n",
              "10      18\n",
              "9       15\n",
              "11      11\n",
              "12       7\n",
              "14       6\n",
              "13       4\n",
              "17       3\n",
              "19       3\n",
              "31       1\n",
              "15       1\n",
              "16       1\n",
              "20       1\n",
              "24       1\n",
              "28       1\n",
              "30       1\n",
              "46       1\n",
              "Name: retry_times, dtype: int64"
            ]
          },
          "metadata": {},
          "execution_count": 287
        }
      ]
    },
    {
      "cell_type": "markdown",
      "source": [
        "**Q.3.2.Does the new UI help reduce FACJ error?**"
      ],
      "metadata": {
        "id": "uLcGclBgDWGF"
      }
    },
    {
      "cell_type": "code",
      "source": [
        "pd.concat([Q31.loc[Q31[\"UI\"] == 0][\"retry_times\"].describe().to_frame().rename(columns = {\"retry_times\":\"Old UI\"}),\n",
        "           \n",
        "           Q31.loc[Q31[\"UI\"] == 1][\"retry_times\"].describe().to_frame().rename(columns = {\"retry_times\":\"New UI\"})], axis = 1)"
      ],
      "metadata": {
        "colab": {
          "base_uri": "https://localhost:8080/",
          "height": 301
        },
        "id": "oL4uvkVS6HWJ",
        "outputId": "3ac8ba2f-51f5-48ab-a646-1ccebcc3011a"
      },
      "execution_count": 36,
      "outputs": [
        {
          "output_type": "execute_result",
          "data": {
            "text/plain": [
              "             Old UI       New UI\n",
              "count  12090.000000  1279.000000\n",
              "mean       0.762200     0.551212\n",
              "std        1.638253     1.727617\n",
              "min        0.000000     0.000000\n",
              "25%        0.000000     0.000000\n",
              "50%        0.000000     0.000000\n",
              "75%        1.000000     0.000000\n",
              "max       46.000000    35.000000"
            ],
            "text/html": [
              "\n",
              "  <div id=\"df-c9548bda-a936-4128-9686-a76534f62197\">\n",
              "    <div class=\"colab-df-container\">\n",
              "      <div>\n",
              "<style scoped>\n",
              "    .dataframe tbody tr th:only-of-type {\n",
              "        vertical-align: middle;\n",
              "    }\n",
              "\n",
              "    .dataframe tbody tr th {\n",
              "        vertical-align: top;\n",
              "    }\n",
              "\n",
              "    .dataframe thead th {\n",
              "        text-align: right;\n",
              "    }\n",
              "</style>\n",
              "<table border=\"1\" class=\"dataframe\">\n",
              "  <thead>\n",
              "    <tr style=\"text-align: right;\">\n",
              "      <th></th>\n",
              "      <th>Old UI</th>\n",
              "      <th>New UI</th>\n",
              "    </tr>\n",
              "  </thead>\n",
              "  <tbody>\n",
              "    <tr>\n",
              "      <th>count</th>\n",
              "      <td>12090.000000</td>\n",
              "      <td>1279.000000</td>\n",
              "    </tr>\n",
              "    <tr>\n",
              "      <th>mean</th>\n",
              "      <td>0.762200</td>\n",
              "      <td>0.551212</td>\n",
              "    </tr>\n",
              "    <tr>\n",
              "      <th>std</th>\n",
              "      <td>1.638253</td>\n",
              "      <td>1.727617</td>\n",
              "    </tr>\n",
              "    <tr>\n",
              "      <th>min</th>\n",
              "      <td>0.000000</td>\n",
              "      <td>0.000000</td>\n",
              "    </tr>\n",
              "    <tr>\n",
              "      <th>25%</th>\n",
              "      <td>0.000000</td>\n",
              "      <td>0.000000</td>\n",
              "    </tr>\n",
              "    <tr>\n",
              "      <th>50%</th>\n",
              "      <td>0.000000</td>\n",
              "      <td>0.000000</td>\n",
              "    </tr>\n",
              "    <tr>\n",
              "      <th>75%</th>\n",
              "      <td>1.000000</td>\n",
              "      <td>0.000000</td>\n",
              "    </tr>\n",
              "    <tr>\n",
              "      <th>max</th>\n",
              "      <td>46.000000</td>\n",
              "      <td>35.000000</td>\n",
              "    </tr>\n",
              "  </tbody>\n",
              "</table>\n",
              "</div>\n",
              "      <button class=\"colab-df-convert\" onclick=\"convertToInteractive('df-c9548bda-a936-4128-9686-a76534f62197')\"\n",
              "              title=\"Convert this dataframe to an interactive table.\"\n",
              "              style=\"display:none;\">\n",
              "        \n",
              "  <svg xmlns=\"http://www.w3.org/2000/svg\" height=\"24px\"viewBox=\"0 0 24 24\"\n",
              "       width=\"24px\">\n",
              "    <path d=\"M0 0h24v24H0V0z\" fill=\"none\"/>\n",
              "    <path d=\"M18.56 5.44l.94 2.06.94-2.06 2.06-.94-2.06-.94-.94-2.06-.94 2.06-2.06.94zm-11 1L8.5 8.5l.94-2.06 2.06-.94-2.06-.94L8.5 2.5l-.94 2.06-2.06.94zm10 10l.94 2.06.94-2.06 2.06-.94-2.06-.94-.94-2.06-.94 2.06-2.06.94z\"/><path d=\"M17.41 7.96l-1.37-1.37c-.4-.4-.92-.59-1.43-.59-.52 0-1.04.2-1.43.59L10.3 9.45l-7.72 7.72c-.78.78-.78 2.05 0 2.83L4 21.41c.39.39.9.59 1.41.59.51 0 1.02-.2 1.41-.59l7.78-7.78 2.81-2.81c.8-.78.8-2.07 0-2.86zM5.41 20L4 18.59l7.72-7.72 1.47 1.35L5.41 20z\"/>\n",
              "  </svg>\n",
              "      </button>\n",
              "      \n",
              "  <style>\n",
              "    .colab-df-container {\n",
              "      display:flex;\n",
              "      flex-wrap:wrap;\n",
              "      gap: 12px;\n",
              "    }\n",
              "\n",
              "    .colab-df-convert {\n",
              "      background-color: #E8F0FE;\n",
              "      border: none;\n",
              "      border-radius: 50%;\n",
              "      cursor: pointer;\n",
              "      display: none;\n",
              "      fill: #1967D2;\n",
              "      height: 32px;\n",
              "      padding: 0 0 0 0;\n",
              "      width: 32px;\n",
              "    }\n",
              "\n",
              "    .colab-df-convert:hover {\n",
              "      background-color: #E2EBFA;\n",
              "      box-shadow: 0px 1px 2px rgba(60, 64, 67, 0.3), 0px 1px 3px 1px rgba(60, 64, 67, 0.15);\n",
              "      fill: #174EA6;\n",
              "    }\n",
              "\n",
              "    [theme=dark] .colab-df-convert {\n",
              "      background-color: #3B4455;\n",
              "      fill: #D2E3FC;\n",
              "    }\n",
              "\n",
              "    [theme=dark] .colab-df-convert:hover {\n",
              "      background-color: #434B5C;\n",
              "      box-shadow: 0px 1px 3px 1px rgba(0, 0, 0, 0.15);\n",
              "      filter: drop-shadow(0px 1px 2px rgba(0, 0, 0, 0.3));\n",
              "      fill: #FFFFFF;\n",
              "    }\n",
              "  </style>\n",
              "\n",
              "      <script>\n",
              "        const buttonEl =\n",
              "          document.querySelector('#df-c9548bda-a936-4128-9686-a76534f62197 button.colab-df-convert');\n",
              "        buttonEl.style.display =\n",
              "          google.colab.kernel.accessAllowed ? 'block' : 'none';\n",
              "\n",
              "        async function convertToInteractive(key) {\n",
              "          const element = document.querySelector('#df-c9548bda-a936-4128-9686-a76534f62197');\n",
              "          const dataTable =\n",
              "            await google.colab.kernel.invokeFunction('convertToInteractive',\n",
              "                                                     [key], {});\n",
              "          if (!dataTable) return;\n",
              "\n",
              "          const docLinkHtml = 'Like what you see? Visit the ' +\n",
              "            '<a target=\"_blank\" href=https://colab.research.google.com/notebooks/data_table.ipynb>data table notebook</a>'\n",
              "            + ' to learn more about interactive tables.';\n",
              "          element.innerHTML = '';\n",
              "          dataTable['output_type'] = 'display_data';\n",
              "          await google.colab.output.renderOutput(dataTable, element);\n",
              "          const docLink = document.createElement('div');\n",
              "          docLink.innerHTML = docLinkHtml;\n",
              "          element.appendChild(docLink);\n",
              "        }\n",
              "      </script>\n",
              "    </div>\n",
              "  </div>\n",
              "  "
            ]
          },
          "metadata": {},
          "execution_count": 36
        }
      ]
    },
    {
      "cell_type": "markdown",
      "source": [
        "## **Q4. Among users that have eventid “x,13.02” , what is the ratio that has “x,14.05”**"
      ],
      "metadata": {
        "id": "vRjl4DQoDoNB"
      }
    },
    {
      "cell_type": "code",
      "source": [
        "len(front_end.loc[(front_end[\"eventid\"] == \"x,13.02\") & (front_end[\"id\"] == \"BFHEHIDBJEJDABIAFBE\")])"
      ],
      "metadata": {
        "colab": {
          "base_uri": "https://localhost:8080/"
        },
        "id": "PSNlWcd76Hbv",
        "outputId": "cfebd9d7-e282-4206-b7de-2ab25c9c8d28"
      },
      "execution_count": 37,
      "outputs": [
        {
          "output_type": "execute_result",
          "data": {
            "text/plain": [
              "5"
            ]
          },
          "metadata": {},
          "execution_count": 37
        }
      ]
    },
    {
      "cell_type": "code",
      "source": [
        "Q4 = pd.DataFrame(columns = [\"id\",\"x,13.02\",\"x,14.05\"])\n",
        "Q4['id'] = front_end[front_end[\"eventid\"] == \"x,13.02\"][\"id\"].value_counts().index\n"
      ],
      "metadata": {
        "id": "tqSyD_laHb0o"
      },
      "execution_count": 38,
      "outputs": []
    },
    {
      "cell_type": "code",
      "source": [
        "for i in Q4[\"id\"].values:\n",
        "  Q4.loc[Q4[\"id\"] == i , \"x,13.02\"] = len(front_end.loc[(front_end[\"eventid\"] == \"x,13.02\") & (front_end[\"id\"] == i)])\n",
        "  try:\n",
        "    Q4.loc[Q4[\"id\"] == i , \"x,14.05\"] = len(front_end.loc[(front_end[\"eventid\"] == \"x,14.05\") & (front_end[\"id\"] == i)])\n",
        "  except:\n",
        "    pass"
      ],
      "metadata": {
        "id": "0Mjok3nbHxR7"
      },
      "execution_count": 39,
      "outputs": []
    },
    {
      "cell_type": "code",
      "source": [
        "# Column available indicates 1 if x,14.05 in eventid: x,13.02 \n",
        "Q4[\"available\"] = Q4.apply(lambda x: 1 if min(x[\"x,13.02\"],x[\"x,14.05\"]) > 0 else 0, axis = 1)"
      ],
      "metadata": {
        "id": "Ipsp7yvSHxZV"
      },
      "execution_count": 40,
      "outputs": []
    },
    {
      "cell_type": "markdown",
      "source": [
        "#### **Answer T1. Q4: Result**"
      ],
      "metadata": {
        "id": "stWvRfftFhXk"
      }
    },
    {
      "cell_type": "code",
      "source": [
        "ratio = Q4[\"available\"].value_counts()[1]/sum(Q4[\"available\"].value_counts())\n",
        "print(\"Among users that have eventid “x,13.02” , the ratio that has “x,14.05” is: {}\".format(round(ratio,2)))"
      ],
      "metadata": {
        "colab": {
          "base_uri": "https://localhost:8080/"
        },
        "id": "ZnG4VvJfHxb6",
        "outputId": "39c81f8d-6ecc-4706-f125-cd884d2f05f4"
      },
      "execution_count": 41,
      "outputs": [
        {
          "output_type": "stream",
          "name": "stdout",
          "text": [
            "Among users that have eventid “x,13.02” , the ratio that has “x,14.05” is: 0.72\n"
          ]
        }
      ]
    },
    {
      "cell_type": "markdown",
      "source": [
        "## **Q5. Do we keep or remove this product feature (new UI)? If we keep it, what should be optimized?**"
      ],
      "metadata": {
        "id": "cU9fD8cuKKlw"
      }
    },
    {
      "cell_type": "code",
      "source": [
        "Q5 = Q12[Q12[\"UI\"]  == 1].groupby(['screenid','eventid']).count().reset_index(level = [0,1])[['screenid','eventid','id']]"
      ],
      "metadata": {
        "id": "HDz7dYxYKOyM"
      },
      "execution_count": 207,
      "outputs": []
    },
    {
      "cell_type": "code",
      "source": [
        "Q5_describe = Q5.groupby('screenid').describe().reset_index()[\"id\"].rename(columns = {\"count\":\"screenid\"})\n",
        "Q5_describe[\"screenid\"] = [11,12,13,14,15,16,17,18]"
      ],
      "metadata": {
        "id": "d2KLB8stQtOz"
      },
      "execution_count": 248,
      "outputs": []
    },
    {
      "cell_type": "code",
      "source": [
        "# Define the outlier of each screen (number of time click to show whether they are extremely under interactive or over interactive)\n",
        "Q5_describe[\"outlier_min\"] = Q5_describe['25%'] - 1.5*(Q5_describe[\"75%\"] - Q5_describe[\"25%\"])\n",
        "Q5_describe[\"outlier_max\"] = Q5_describe['75%'] + 1.5*(Q5_describe[\"75%\"] - Q5_describe[\"25%\"])"
      ],
      "metadata": {
        "id": "rsdWouz1N25c"
      },
      "execution_count": 251,
      "outputs": []
    },
    {
      "cell_type": "code",
      "source": [
        "Q5[\"screenid\"] = Q5[\"screenid\"].astype(\"int64\")\n",
        "Q5_answer = Q5.merge(Q5_describe[[\"screenid\",\"outlier_min\",\"outlier_max\"]], on = \"screenid\")\n",
        "Q5_answer[\"Q5\"] = Q5_answer.apply(lambda x:  \"reject\" if (x[\"id\"] > x[\"outlier_max\"]) or (x[\"id\"] < x[\"outlier_min\"]) else \"keep\", axis = 1)\n"
      ],
      "metadata": {
        "id": "cp92H_mnRw7g"
      },
      "execution_count": 263,
      "outputs": []
    },
    {
      "cell_type": "markdown",
      "source": [
        "#### **Answer T1. Q5: Result**"
      ],
      "metadata": {
        "id": "FvJf0nyUFlxQ"
      }
    },
    {
      "cell_type": "code",
      "source": [
        "# The eventid/feature should removed from apps ZaloPay\n",
        "Q5_answer[Q5_answer[\"Q5\"] == \"reject\"][\"eventid\"].values"
      ],
      "metadata": {
        "colab": {
          "base_uri": "https://localhost:8080/"
        },
        "id": "PnkvrAMpW0jj",
        "outputId": "ea3ed018-6fd4-4dfa-c00c-fc0f62f7ec31"
      },
      "execution_count": 269,
      "outputs": [
        {
          "output_type": "execute_result",
          "data": {
            "text/plain": [
              "array(['x,11.xy0', 'x,11.xy6', 'x,14.02', 'x,16.02'], dtype=object)"
            ]
          },
          "metadata": {},
          "execution_count": 269
        }
      ]
    },
    {
      "cell_type": "markdown",
      "source": [
        "# **Task 2: Additionally, do the following ad-hoc checks on the data (no need to include these in the report, but good to include in the summary email)**"
      ],
      "metadata": {
        "id": "-n6BVWeSKPog"
      }
    },
    {
      "cell_type": "markdown",
      "source": [
        "## **Q1. In metadata.csv, extract the bank code from metadata column.**\n",
        "For example, >>> '{\"timeStamp\":1628391863136, \"osType\":2, \"bankCode\":\"AHG\"}' AHG\n",
        "\n",
        "**How many unique banks are there?**"
      ],
      "metadata": {
        "id": "ffBJC9hqKeH5"
      }
    },
    {
      "cell_type": "code",
      "source": [
        "metadata = pd.read_csv(\"Meta dataset.csv\")\n",
        "metadata = metadata[\"metadata\"].str.split(\",\",expand = True)\n",
        "metadata.columns = [\"timestamp\",\"osType\",\"bankcode\"]\n",
        "# Extract data from row with string technique\n",
        "metadata[\"timestamp\"] = metadata[\"timestamp\"].apply(lambda x: int(x[-13:]))\n",
        "metadata[\"osType\"]    = metadata[\"osType\"].apply(lambda x: int(x[-1:]))\n",
        "metadata[\"bankcode\"]  = metadata[\"bankcode\"].apply(lambda x: x[-5:-2].upper())"
      ],
      "metadata": {
        "id": "-IZ4S06dKj62"
      },
      "execution_count": 42,
      "outputs": []
    },
    {
      "cell_type": "code",
      "source": [
        "metadata.loc[metadata[\"bankcode\"] == '\"RG', \"bankcode\"] = \"RG\""
      ],
      "metadata": {
        "id": "NtjRRNiFKqEz"
      },
      "execution_count": 43,
      "outputs": []
    },
    {
      "cell_type": "markdown",
      "source": [
        "#### **Answer T2.1: Result**"
      ],
      "metadata": {
        "id": "1Kiol3RmEl56"
      }
    },
    {
      "cell_type": "code",
      "source": [
        "print(\"The number of Unique bank are: {}\".format(len(metadata[\"bankcode\"].value_counts())))"
      ],
      "metadata": {
        "colab": {
          "base_uri": "https://localhost:8080/"
        },
        "id": "2NBzqWBIK5Yk",
        "outputId": "2e0dbb28-a4e8-40bd-a603-47ac3b6b02e9"
      },
      "execution_count": 44,
      "outputs": [
        {
          "output_type": "stream",
          "name": "stdout",
          "text": [
            "The number of Unique bank are: 39\n"
          ]
        }
      ]
    },
    {
      "cell_type": "markdown",
      "source": [
        "## **Q2. In backend.csv, determine the year, month, and date of the log.**\n",
        "\n",
        "-FACJ1 > B1 > -FACJ2 > B2\n",
        "\n",
        "**Then their weighted time will be the average of -FACJ1 to B1 and -FACJ2 to B2.**"
      ],
      "metadata": {
        "id": "SvgZPCMJMYTG"
      }
    },
    {
      "cell_type": "code",
      "source": [
        "# Seperate the dataset into 2 dataset base on stepreselt()\n",
        "# back_end_avail is stepresult == \"B\"\n",
        "# back_end_avail is stepresult != B\n",
        "back_end_avail = back_end[back_end[\"stepresult\"] == \"B\"]\n",
        "back_end_name  = back_end[back_end[\"stepresult\"] != \"B\"]"
      ],
      "metadata": {
        "id": "7XglLRo_qjww"
      },
      "execution_count": 452,
      "outputs": []
    },
    {
      "cell_type": "markdown",
      "source": [
        "#### **Function for Task 2. Q2**"
      ],
      "metadata": {
        "id": "bK6feo4pt_x3"
      }
    },
    {
      "cell_type": "code",
      "source": [
        "from numpy.ma.core import zeros\n",
        "# shift_day is the function working as shift day back 1 day of 1 UI\n",
        "def shift_day(x,y,z):\n",
        "  if x != y:\n",
        "    return None\n",
        "  else:\n",
        "    return z\n",
        "\n",
        "# Shift status is the function to work as shift status back 1 day of 1 UI\n",
        "def shift_status(x,y,z):\n",
        "  if x != y:\n",
        "    return None\n",
        "  else:\n",
        "    return z\n",
        "\n",
        "# return accept is the function to define status \"B\" or status \"FACJ\"\n",
        "def return_accept(id,timestamp,timestamp1):\n",
        "  if pd.isnull(timestamp1):\n",
        "    accept = front_end.loc[(front_end[\"id\"] == id) & (front_end[\"timestamp\"] <= timestamp)][\"screenid\"].nunique()\n",
        "  else:\n",
        "    accept = front_end.loc[(front_end[\"id\"] == id) & (front_end[\"timestamp\"] >= timestamp1) & (front_end[\"timestamp\"] <= timestamp)][\"screenid\"].nunique()\n",
        "  if accept > 1:\n",
        "    return \"B\"\n",
        "  else:\n",
        "    return \"FACJ\"\n",
        "# weighted_time is to calculate the weighted time of each UI\n",
        "from datetime import datetime\n",
        "\n",
        "def weighted_time(x,y):\n",
        "  if x == \"B\" and y == \"FACJ\":\n",
        "    return True\n",
        "  elif x == \"FACJ\" and y == \"FACJ\":\n",
        "    return False\n",
        "  elif x == \"FACJ\" and y == \"B\":\n",
        "    return None\n",
        "  else:\n",
        "    return None\n",
        "\n"
      ],
      "metadata": {
        "id": "UOwi7gQ9cp65"
      },
      "execution_count": 398,
      "outputs": []
    },
    {
      "cell_type": "markdown",
      "source": [
        "#### **Reprepare backend dataset**"
      ],
      "metadata": {
        "id": "-5PKDqa3uIm-"
      }
    },
    {
      "cell_type": "code",
      "source": [
        "back_end_name[\"id_1\"] = back_end_name[\"id\"].shift(1)\n",
        "back_end_name[\"timestamp_1\"] = back_end_name[\"timestamp\"].shift(1)\n",
        "back_end_name[\"timestamp_1\"] = back_end_name.apply(lambda x: shift_day(x[\"id\"],x[\"id_1\"],x[\"timestamp_1\"]),axis = 1)\n",
        "\n",
        "# Redefince the stepresult columns\n",
        "back_end_name[\"stepresult\"] = back_end_name.apply(lambda x: return_accept(x[\"id\"],x[\"timestamp\"],x[\"timestamp_1\"]), axis = 1)\n",
        "\n",
        "# Create the stepresult back 1 days to check weighted time\n",
        "back_end_name[\"stepresult_1\"] = back_end_name[\"stepresult\"].shift(1)\n",
        "back_end_name[\"stepresult_1\"] = back_end_name.apply(lambda x: shift_status(x[\"id\"],x[\"id_1\"],x[\"stepresult_1\"]), axis = 1)"
      ],
      "metadata": {
        "colab": {
          "base_uri": "https://localhost:8080/"
        },
        "id": "dM6fOWCZuz9_",
        "outputId": "321a1d53-4c7f-4807-8127-4931d6cc9035"
      },
      "execution_count": 453,
      "outputs": [
        {
          "output_type": "stream",
          "name": "stderr",
          "text": [
            "/usr/local/lib/python3.7/dist-packages/ipykernel_launcher.py:1: SettingWithCopyWarning: \n",
            "A value is trying to be set on a copy of a slice from a DataFrame.\n",
            "Try using .loc[row_indexer,col_indexer] = value instead\n",
            "\n",
            "See the caveats in the documentation: https://pandas.pydata.org/pandas-docs/stable/user_guide/indexing.html#returning-a-view-versus-a-copy\n",
            "  \"\"\"Entry point for launching an IPython kernel.\n",
            "/usr/local/lib/python3.7/dist-packages/ipykernel_launcher.py:2: SettingWithCopyWarning: \n",
            "A value is trying to be set on a copy of a slice from a DataFrame.\n",
            "Try using .loc[row_indexer,col_indexer] = value instead\n",
            "\n",
            "See the caveats in the documentation: https://pandas.pydata.org/pandas-docs/stable/user_guide/indexing.html#returning-a-view-versus-a-copy\n",
            "  \n",
            "/usr/local/lib/python3.7/dist-packages/ipykernel_launcher.py:3: SettingWithCopyWarning: \n",
            "A value is trying to be set on a copy of a slice from a DataFrame.\n",
            "Try using .loc[row_indexer,col_indexer] = value instead\n",
            "\n",
            "See the caveats in the documentation: https://pandas.pydata.org/pandas-docs/stable/user_guide/indexing.html#returning-a-view-versus-a-copy\n",
            "  This is separate from the ipykernel package so we can avoid doing imports until\n",
            "/usr/local/lib/python3.7/dist-packages/ipykernel_launcher.py:6: SettingWithCopyWarning: \n",
            "A value is trying to be set on a copy of a slice from a DataFrame.\n",
            "Try using .loc[row_indexer,col_indexer] = value instead\n",
            "\n",
            "See the caveats in the documentation: https://pandas.pydata.org/pandas-docs/stable/user_guide/indexing.html#returning-a-view-versus-a-copy\n",
            "  \n",
            "/usr/local/lib/python3.7/dist-packages/ipykernel_launcher.py:9: SettingWithCopyWarning: \n",
            "A value is trying to be set on a copy of a slice from a DataFrame.\n",
            "Try using .loc[row_indexer,col_indexer] = value instead\n",
            "\n",
            "See the caveats in the documentation: https://pandas.pydata.org/pandas-docs/stable/user_guide/indexing.html#returning-a-view-versus-a-copy\n",
            "  if __name__ == '__main__':\n",
            "/usr/local/lib/python3.7/dist-packages/ipykernel_launcher.py:10: SettingWithCopyWarning: \n",
            "A value is trying to be set on a copy of a slice from a DataFrame.\n",
            "Try using .loc[row_indexer,col_indexer] = value instead\n",
            "\n",
            "See the caveats in the documentation: https://pandas.pydata.org/pandas-docs/stable/user_guide/indexing.html#returning-a-view-versus-a-copy\n",
            "  # Remove the CWD from sys.path while we load stuff.\n"
          ]
        }
      ]
    },
    {
      "cell_type": "code",
      "source": [
        "back_end_avail[\"id_1\"] = back_end_avail[\"id\"].shift(1)\n",
        "back_end_avail[\"timestamp_1\"] = back_end_avail[\"timestamp\"].shift(1)\n",
        "back_end_avail[\"timestamp_1\"] = back_end_avail.apply(lambda x: shift_day(x[\"id\"],x[\"id_1\"],x[\"timestamp_1\"]),axis = 1)\n",
        "\n",
        "# Create the stepresult back 1 days to check weighted time\n",
        "back_end_avail[\"stepresult_1\"] = back_end_avail[\"stepresult\"].shift(1)\n",
        "back_end_avail[\"stepresult_1\"] = back_end_avail.apply(lambda x: shift_status(x[\"id\"],x[\"id_1\"],x[\"stepresult_1\"]), axis = 1)"
      ],
      "metadata": {
        "colab": {
          "base_uri": "https://localhost:8080/"
        },
        "id": "S1UvIRtKvV8X",
        "outputId": "9d3de029-739f-48ac-e6e2-4488c03ad7d6"
      },
      "execution_count": 454,
      "outputs": [
        {
          "output_type": "stream",
          "name": "stderr",
          "text": [
            "/usr/local/lib/python3.7/dist-packages/ipykernel_launcher.py:1: SettingWithCopyWarning: \n",
            "A value is trying to be set on a copy of a slice from a DataFrame.\n",
            "Try using .loc[row_indexer,col_indexer] = value instead\n",
            "\n",
            "See the caveats in the documentation: https://pandas.pydata.org/pandas-docs/stable/user_guide/indexing.html#returning-a-view-versus-a-copy\n",
            "  \"\"\"Entry point for launching an IPython kernel.\n",
            "/usr/local/lib/python3.7/dist-packages/ipykernel_launcher.py:2: SettingWithCopyWarning: \n",
            "A value is trying to be set on a copy of a slice from a DataFrame.\n",
            "Try using .loc[row_indexer,col_indexer] = value instead\n",
            "\n",
            "See the caveats in the documentation: https://pandas.pydata.org/pandas-docs/stable/user_guide/indexing.html#returning-a-view-versus-a-copy\n",
            "  \n",
            "/usr/local/lib/python3.7/dist-packages/ipykernel_launcher.py:3: SettingWithCopyWarning: \n",
            "A value is trying to be set on a copy of a slice from a DataFrame.\n",
            "Try using .loc[row_indexer,col_indexer] = value instead\n",
            "\n",
            "See the caveats in the documentation: https://pandas.pydata.org/pandas-docs/stable/user_guide/indexing.html#returning-a-view-versus-a-copy\n",
            "  This is separate from the ipykernel package so we can avoid doing imports until\n",
            "/usr/local/lib/python3.7/dist-packages/ipykernel_launcher.py:6: SettingWithCopyWarning: \n",
            "A value is trying to be set on a copy of a slice from a DataFrame.\n",
            "Try using .loc[row_indexer,col_indexer] = value instead\n",
            "\n",
            "See the caveats in the documentation: https://pandas.pydata.org/pandas-docs/stable/user_guide/indexing.html#returning-a-view-versus-a-copy\n",
            "  \n",
            "/usr/local/lib/python3.7/dist-packages/ipykernel_launcher.py:7: SettingWithCopyWarning: \n",
            "A value is trying to be set on a copy of a slice from a DataFrame.\n",
            "Try using .loc[row_indexer,col_indexer] = value instead\n",
            "\n",
            "See the caveats in the documentation: https://pandas.pydata.org/pandas-docs/stable/user_guide/indexing.html#returning-a-view-versus-a-copy\n",
            "  import sys\n"
          ]
        }
      ]
    },
    {
      "cell_type": "code",
      "source": [
        "# Concatenate the dataset to get the new back_end which has already fulfilled the stepresult\n",
        "back_end = pd.concat([back_end_name,back_end_avail])\n",
        "# Drop duplicates\n",
        "back_end.drop_duplicates([\"timestamp\",\"id\"],inplace = True)\n",
        "\n",
        "# Remove id has only 1 row because the average time is calculated only when 2 or more rows are availble\n",
        "# index with only 1 row are \n",
        "new = back_end[\"id\"].value_counts()[back_end[\"id\"].value_counts() == 1].index\n",
        "\n",
        "back_end = back_end.set_index(\"id\").drop(new, axis = 0).reset_index()\n",
        "back_end.drop_duplicates()\n",
        "back_end.dropna(axis = 0, inplace = True)"
      ],
      "metadata": {
        "id": "Xef9XOe5vrIl"
      },
      "execution_count": 455,
      "outputs": []
    },
    {
      "cell_type": "markdown",
      "source": [
        "### **Continue**"
      ],
      "metadata": {
        "id": "ZUbljdRy1MoI"
      }
    },
    {
      "cell_type": "code",
      "source": [
        "import time\n",
        "# Change time columns into second\n",
        "back_end[\"timestamp\"] = back_end[\"timestamp\"].apply(lambda x: time.mktime(x.timetuple()))\n",
        "back_end[\"timestamp_1\"]= back_end[\"timestamp_1\"].apply(lambda x: time.mktime(x.timetuple()))\n",
        "back_end[\"diff_time_second\"] = back_end[\"timestamp\"] - back_end[\"timestamp_1\"]\n"
      ],
      "metadata": {
        "id": "1Gd5ZoWCD7mw"
      },
      "execution_count": 456,
      "outputs": []
    },
    {
      "cell_type": "code",
      "source": [
        "# Create the null dataframe with Id has column available with status \"B\" \n",
        "back_end_T22 = pd.DataFrame(columns = [i for i in back_end.loc[back_end[\"stepresult\"] == \"B\"][\"id\"].unique()])\n",
        "back_end_T22[\"time_values\"] = 0\n",
        "back_end_T22[\"time_values\"] = np.arange(0,5)\n",
        "\n",
        "# Fill Null data\n",
        "for i in back_end_T22.columns[:-1]:\n",
        "  back_end_T22[i] = None"
      ],
      "metadata": {
        "id": "yRMBCoVAjc7x"
      },
      "execution_count": 457,
      "outputs": []
    },
    {
      "cell_type": "code",
      "source": [
        "# Fill data of each row with specific value from back_end and back_end_T22 datasets\n",
        "for x,y in zip([i for i in back_end_T22.columns[:-1]],range(len(back_end_T22.columns[:-1]))):\n",
        "  n = 0\n",
        "  table  = back_end.loc[back_end[\"id\"] == x]\n",
        "  number = len(table)\n",
        "  # Divide into 2 situation: len of table == 1 and > 1\n",
        "  if number > 1:\n",
        "    for j in range(number):\n",
        "      table_T22 = table.iloc[j]\n",
        "      # N is for situation that if UI face 2 or more status \"FACJ\" respectively then we sum them until meet status \"B\"\n",
        "      if weighted_time(table_T22[\"stepresult\"],table_T22[\"stepresult_1\"]):\n",
        "        back_end_T22.iloc[j,y] = n + table_T22[\"diff_time_second\"]\n",
        "        n = 0\n",
        "      else:\n",
        "      # In case, only 1, we check is the condition satisfied? No => None, Yes => diff_time_second\n",
        "        n += table_T22[\"diff_time_second\"]\n",
        "  else:\n",
        "    if weighted_time(table_T22[\"stepresult\"],table_T22[\"stepresult_1\"]):\n",
        "      back_end_T22.iloc[j,y] = table_T22[\"diff_time_second\"]\n",
        "    else:\n",
        "      back_end_T22.iloc[j,y] = None\n",
        "    \n",
        "      \n",
        "# Transpose dateset back_end_T22\n",
        "back_end_T22  = back_end_T22.T\n",
        "\n",
        "# Rename columns and fill data None with Null value\n",
        "back_end_T22 = back_end_T22.reset_index().rename(columns = {\"index\":\"UI\"})\n",
        "back_end_T22.fillna(np.nan, inplace = True)"
      ],
      "metadata": {
        "id": "v_tuIXJL1uNa"
      },
      "execution_count": 458,
      "outputs": []
    },
    {
      "cell_type": "code",
      "source": [
        "back_end_T22 = back_end_T22.reset_index().rename(columns = {\"index\":\"UI\"})\n",
        "back_end_T22.fillna(np.nan, inplace = True)\n"
      ],
      "metadata": {
        "id": "iLfJqbziAjmp"
      },
      "execution_count": 459,
      "outputs": []
    },
    {
      "cell_type": "code",
      "source": [
        "back_end_T22[\"Average\"] = back_end_T22[\"UI\"].apply(lambda x: np.nanmean([i for i in back_end_T22[back_end_T22[\"UI\"] == x].values[0][1:]]))"
      ],
      "metadata": {
        "colab": {
          "base_uri": "https://localhost:8080/"
        },
        "id": "K_haNxIDBkIv",
        "outputId": "69361432-b13d-4cde-b382-6a8d235596a3"
      },
      "execution_count": 486,
      "outputs": [
        {
          "output_type": "stream",
          "name": "stderr",
          "text": [
            "/usr/local/lib/python3.7/dist-packages/ipykernel_launcher.py:1: RuntimeWarning: Mean of empty slice\n",
            "  \"\"\"Entry point for launching an IPython kernel.\n"
          ]
        }
      ]
    },
    {
      "cell_type": "markdown",
      "source": [
        "### **Answer T2.2: Average**"
      ],
      "metadata": {
        "id": "NZPNlJOjDaKN"
      }
    },
    {
      "cell_type": "code",
      "source": [
        "# Answer for Q5\n",
        "back_end_T22[[\"UI\",\"Average\"]].dropna(axis = 0).iloc[:-1,:]"
      ],
      "metadata": {
        "colab": {
          "base_uri": "https://localhost:8080/",
          "height": 708
        },
        "id": "3PB2-wVw_sWb",
        "outputId": "986a4528-aef1-49eb-f924-a7c41441ee4b"
      },
      "execution_count": 497,
      "outputs": [
        {
          "output_type": "execute_result",
          "data": {
            "text/plain": [
              "                     UI  Average\n",
              "2   CHDDDBJDDFECIBAFBCF  90000.0\n",
              "3   DJAFCBCGBDIBIEIBGJC  10000.0\n",
              "4   JFCHIGJCDDHADCFAIJF  70000.0\n",
              "8   CGBBIGFHGCDHIEABGCA  10000.0\n",
              "10  JGEEACEAGBHBCGBAJCE  10000.0\n",
              "19  IJAAJHDHFABBIBJCEJD  20000.0\n",
              "27  IBICHCHJGBCDFEIFGAF  30000.0\n",
              "28  BFDDCBJCIJAFIDDHFJI  10000.0\n",
              "29  CEGCEIGEIADAICDEJJF  10000.0\n",
              "30  BICDJCEGCAIHCHBHDBH  10000.0\n",
              "31  FDIIFBGCABDCJHHDAAJ  10000.0\n",
              "32  CBDACBFIEEFFAGHIHJH  10000.0\n",
              "33  HJDCDCIFIJIBFFCBEAD  20000.0\n",
              "34  FJCGEDFFHHHJECFCBCD  40000.0\n",
              "35  JIABHGCAEAIJJGIEBCI  30000.0\n",
              "36  CBABGJGGCJFDHBEEHBD  20000.0\n",
              "38  IEJDHCBAFEHEICCFCDH  20000.0\n",
              "39  DGEFGIJCJJBDJCEEEAG  10000.0\n",
              "40  GBJAJIBJGJGAHBIDCCI  10000.0\n",
              "41  CAEBDHGIJICFFJBCDAB  10000.0\n",
              "42  GJGCIIGCCDBGBFDBBDB  10000.0"
            ],
            "text/html": [
              "\n",
              "  <div id=\"df-565c278c-e12d-432a-82b9-569e8d42b54d\">\n",
              "    <div class=\"colab-df-container\">\n",
              "      <div>\n",
              "<style scoped>\n",
              "    .dataframe tbody tr th:only-of-type {\n",
              "        vertical-align: middle;\n",
              "    }\n",
              "\n",
              "    .dataframe tbody tr th {\n",
              "        vertical-align: top;\n",
              "    }\n",
              "\n",
              "    .dataframe thead th {\n",
              "        text-align: right;\n",
              "    }\n",
              "</style>\n",
              "<table border=\"1\" class=\"dataframe\">\n",
              "  <thead>\n",
              "    <tr style=\"text-align: right;\">\n",
              "      <th></th>\n",
              "      <th>UI</th>\n",
              "      <th>Average</th>\n",
              "    </tr>\n",
              "  </thead>\n",
              "  <tbody>\n",
              "    <tr>\n",
              "      <th>2</th>\n",
              "      <td>CHDDDBJDDFECIBAFBCF</td>\n",
              "      <td>90000.0</td>\n",
              "    </tr>\n",
              "    <tr>\n",
              "      <th>3</th>\n",
              "      <td>DJAFCBCGBDIBIEIBGJC</td>\n",
              "      <td>10000.0</td>\n",
              "    </tr>\n",
              "    <tr>\n",
              "      <th>4</th>\n",
              "      <td>JFCHIGJCDDHADCFAIJF</td>\n",
              "      <td>70000.0</td>\n",
              "    </tr>\n",
              "    <tr>\n",
              "      <th>8</th>\n",
              "      <td>CGBBIGFHGCDHIEABGCA</td>\n",
              "      <td>10000.0</td>\n",
              "    </tr>\n",
              "    <tr>\n",
              "      <th>10</th>\n",
              "      <td>JGEEACEAGBHBCGBAJCE</td>\n",
              "      <td>10000.0</td>\n",
              "    </tr>\n",
              "    <tr>\n",
              "      <th>19</th>\n",
              "      <td>IJAAJHDHFABBIBJCEJD</td>\n",
              "      <td>20000.0</td>\n",
              "    </tr>\n",
              "    <tr>\n",
              "      <th>27</th>\n",
              "      <td>IBICHCHJGBCDFEIFGAF</td>\n",
              "      <td>30000.0</td>\n",
              "    </tr>\n",
              "    <tr>\n",
              "      <th>28</th>\n",
              "      <td>BFDDCBJCIJAFIDDHFJI</td>\n",
              "      <td>10000.0</td>\n",
              "    </tr>\n",
              "    <tr>\n",
              "      <th>29</th>\n",
              "      <td>CEGCEIGEIADAICDEJJF</td>\n",
              "      <td>10000.0</td>\n",
              "    </tr>\n",
              "    <tr>\n",
              "      <th>30</th>\n",
              "      <td>BICDJCEGCAIHCHBHDBH</td>\n",
              "      <td>10000.0</td>\n",
              "    </tr>\n",
              "    <tr>\n",
              "      <th>31</th>\n",
              "      <td>FDIIFBGCABDCJHHDAAJ</td>\n",
              "      <td>10000.0</td>\n",
              "    </tr>\n",
              "    <tr>\n",
              "      <th>32</th>\n",
              "      <td>CBDACBFIEEFFAGHIHJH</td>\n",
              "      <td>10000.0</td>\n",
              "    </tr>\n",
              "    <tr>\n",
              "      <th>33</th>\n",
              "      <td>HJDCDCIFIJIBFFCBEAD</td>\n",
              "      <td>20000.0</td>\n",
              "    </tr>\n",
              "    <tr>\n",
              "      <th>34</th>\n",
              "      <td>FJCGEDFFHHHJECFCBCD</td>\n",
              "      <td>40000.0</td>\n",
              "    </tr>\n",
              "    <tr>\n",
              "      <th>35</th>\n",
              "      <td>JIABHGCAEAIJJGIEBCI</td>\n",
              "      <td>30000.0</td>\n",
              "    </tr>\n",
              "    <tr>\n",
              "      <th>36</th>\n",
              "      <td>CBABGJGGCJFDHBEEHBD</td>\n",
              "      <td>20000.0</td>\n",
              "    </tr>\n",
              "    <tr>\n",
              "      <th>38</th>\n",
              "      <td>IEJDHCBAFEHEICCFCDH</td>\n",
              "      <td>20000.0</td>\n",
              "    </tr>\n",
              "    <tr>\n",
              "      <th>39</th>\n",
              "      <td>DGEFGIJCJJBDJCEEEAG</td>\n",
              "      <td>10000.0</td>\n",
              "    </tr>\n",
              "    <tr>\n",
              "      <th>40</th>\n",
              "      <td>GBJAJIBJGJGAHBIDCCI</td>\n",
              "      <td>10000.0</td>\n",
              "    </tr>\n",
              "    <tr>\n",
              "      <th>41</th>\n",
              "      <td>CAEBDHGIJICFFJBCDAB</td>\n",
              "      <td>10000.0</td>\n",
              "    </tr>\n",
              "    <tr>\n",
              "      <th>42</th>\n",
              "      <td>GJGCIIGCCDBGBFDBBDB</td>\n",
              "      <td>10000.0</td>\n",
              "    </tr>\n",
              "  </tbody>\n",
              "</table>\n",
              "</div>\n",
              "      <button class=\"colab-df-convert\" onclick=\"convertToInteractive('df-565c278c-e12d-432a-82b9-569e8d42b54d')\"\n",
              "              title=\"Convert this dataframe to an interactive table.\"\n",
              "              style=\"display:none;\">\n",
              "        \n",
              "  <svg xmlns=\"http://www.w3.org/2000/svg\" height=\"24px\"viewBox=\"0 0 24 24\"\n",
              "       width=\"24px\">\n",
              "    <path d=\"M0 0h24v24H0V0z\" fill=\"none\"/>\n",
              "    <path d=\"M18.56 5.44l.94 2.06.94-2.06 2.06-.94-2.06-.94-.94-2.06-.94 2.06-2.06.94zm-11 1L8.5 8.5l.94-2.06 2.06-.94-2.06-.94L8.5 2.5l-.94 2.06-2.06.94zm10 10l.94 2.06.94-2.06 2.06-.94-2.06-.94-.94-2.06-.94 2.06-2.06.94z\"/><path d=\"M17.41 7.96l-1.37-1.37c-.4-.4-.92-.59-1.43-.59-.52 0-1.04.2-1.43.59L10.3 9.45l-7.72 7.72c-.78.78-.78 2.05 0 2.83L4 21.41c.39.39.9.59 1.41.59.51 0 1.02-.2 1.41-.59l7.78-7.78 2.81-2.81c.8-.78.8-2.07 0-2.86zM5.41 20L4 18.59l7.72-7.72 1.47 1.35L5.41 20z\"/>\n",
              "  </svg>\n",
              "      </button>\n",
              "      \n",
              "  <style>\n",
              "    .colab-df-container {\n",
              "      display:flex;\n",
              "      flex-wrap:wrap;\n",
              "      gap: 12px;\n",
              "    }\n",
              "\n",
              "    .colab-df-convert {\n",
              "      background-color: #E8F0FE;\n",
              "      border: none;\n",
              "      border-radius: 50%;\n",
              "      cursor: pointer;\n",
              "      display: none;\n",
              "      fill: #1967D2;\n",
              "      height: 32px;\n",
              "      padding: 0 0 0 0;\n",
              "      width: 32px;\n",
              "    }\n",
              "\n",
              "    .colab-df-convert:hover {\n",
              "      background-color: #E2EBFA;\n",
              "      box-shadow: 0px 1px 2px rgba(60, 64, 67, 0.3), 0px 1px 3px 1px rgba(60, 64, 67, 0.15);\n",
              "      fill: #174EA6;\n",
              "    }\n",
              "\n",
              "    [theme=dark] .colab-df-convert {\n",
              "      background-color: #3B4455;\n",
              "      fill: #D2E3FC;\n",
              "    }\n",
              "\n",
              "    [theme=dark] .colab-df-convert:hover {\n",
              "      background-color: #434B5C;\n",
              "      box-shadow: 0px 1px 3px 1px rgba(0, 0, 0, 0.15);\n",
              "      filter: drop-shadow(0px 1px 2px rgba(0, 0, 0, 0.3));\n",
              "      fill: #FFFFFF;\n",
              "    }\n",
              "  </style>\n",
              "\n",
              "      <script>\n",
              "        const buttonEl =\n",
              "          document.querySelector('#df-565c278c-e12d-432a-82b9-569e8d42b54d button.colab-df-convert');\n",
              "        buttonEl.style.display =\n",
              "          google.colab.kernel.accessAllowed ? 'block' : 'none';\n",
              "\n",
              "        async function convertToInteractive(key) {\n",
              "          const element = document.querySelector('#df-565c278c-e12d-432a-82b9-569e8d42b54d');\n",
              "          const dataTable =\n",
              "            await google.colab.kernel.invokeFunction('convertToInteractive',\n",
              "                                                     [key], {});\n",
              "          if (!dataTable) return;\n",
              "\n",
              "          const docLinkHtml = 'Like what you see? Visit the ' +\n",
              "            '<a target=\"_blank\" href=https://colab.research.google.com/notebooks/data_table.ipynb>data table notebook</a>'\n",
              "            + ' to learn more about interactive tables.';\n",
              "          element.innerHTML = '';\n",
              "          dataTable['output_type'] = 'display_data';\n",
              "          await google.colab.output.renderOutput(dataTable, element);\n",
              "          const docLink = document.createElement('div');\n",
              "          docLink.innerHTML = docLinkHtml;\n",
              "          element.appendChild(docLink);\n",
              "        }\n",
              "      </script>\n",
              "    </div>\n",
              "  </div>\n",
              "  "
            ]
          },
          "metadata": {},
          "execution_count": 497
        }
      ]
    },
    {
      "cell_type": "markdown",
      "source": [
        "# No touch"
      ],
      "metadata": {
        "id": "Ke-dJ67lFt4T"
      }
    },
    {
      "cell_type": "code",
      "source": [
        "metadata.head()"
      ],
      "metadata": {
        "colab": {
          "base_uri": "https://localhost:8080/",
          "height": 206
        },
        "id": "uwVCO_t2FrnH",
        "outputId": "045f7b3b-1016-4424-f9f0-c59348d125c5"
      },
      "execution_count": 502,
      "outputs": [
        {
          "output_type": "execute_result",
          "data": {
            "text/plain": [
              "       timestamp  osType bankcode\n",
              "0  1628391863136       2      AHG\n",
              "1  1628391869377       2      AUG\n",
              "2  1628391874924       2      AUG\n",
              "3  1628436403665       2      NIA\n",
              "4  1628412799080       2      ANG"
            ],
            "text/html": [
              "\n",
              "  <div id=\"df-f4b1e829-fd18-4b04-ba64-5554bfdfac67\">\n",
              "    <div class=\"colab-df-container\">\n",
              "      <div>\n",
              "<style scoped>\n",
              "    .dataframe tbody tr th:only-of-type {\n",
              "        vertical-align: middle;\n",
              "    }\n",
              "\n",
              "    .dataframe tbody tr th {\n",
              "        vertical-align: top;\n",
              "    }\n",
              "\n",
              "    .dataframe thead th {\n",
              "        text-align: right;\n",
              "    }\n",
              "</style>\n",
              "<table border=\"1\" class=\"dataframe\">\n",
              "  <thead>\n",
              "    <tr style=\"text-align: right;\">\n",
              "      <th></th>\n",
              "      <th>timestamp</th>\n",
              "      <th>osType</th>\n",
              "      <th>bankcode</th>\n",
              "    </tr>\n",
              "  </thead>\n",
              "  <tbody>\n",
              "    <tr>\n",
              "      <th>0</th>\n",
              "      <td>1628391863136</td>\n",
              "      <td>2</td>\n",
              "      <td>AHG</td>\n",
              "    </tr>\n",
              "    <tr>\n",
              "      <th>1</th>\n",
              "      <td>1628391869377</td>\n",
              "      <td>2</td>\n",
              "      <td>AUG</td>\n",
              "    </tr>\n",
              "    <tr>\n",
              "      <th>2</th>\n",
              "      <td>1628391874924</td>\n",
              "      <td>2</td>\n",
              "      <td>AUG</td>\n",
              "    </tr>\n",
              "    <tr>\n",
              "      <th>3</th>\n",
              "      <td>1628436403665</td>\n",
              "      <td>2</td>\n",
              "      <td>NIA</td>\n",
              "    </tr>\n",
              "    <tr>\n",
              "      <th>4</th>\n",
              "      <td>1628412799080</td>\n",
              "      <td>2</td>\n",
              "      <td>ANG</td>\n",
              "    </tr>\n",
              "  </tbody>\n",
              "</table>\n",
              "</div>\n",
              "      <button class=\"colab-df-convert\" onclick=\"convertToInteractive('df-f4b1e829-fd18-4b04-ba64-5554bfdfac67')\"\n",
              "              title=\"Convert this dataframe to an interactive table.\"\n",
              "              style=\"display:none;\">\n",
              "        \n",
              "  <svg xmlns=\"http://www.w3.org/2000/svg\" height=\"24px\"viewBox=\"0 0 24 24\"\n",
              "       width=\"24px\">\n",
              "    <path d=\"M0 0h24v24H0V0z\" fill=\"none\"/>\n",
              "    <path d=\"M18.56 5.44l.94 2.06.94-2.06 2.06-.94-2.06-.94-.94-2.06-.94 2.06-2.06.94zm-11 1L8.5 8.5l.94-2.06 2.06-.94-2.06-.94L8.5 2.5l-.94 2.06-2.06.94zm10 10l.94 2.06.94-2.06 2.06-.94-2.06-.94-.94-2.06-.94 2.06-2.06.94z\"/><path d=\"M17.41 7.96l-1.37-1.37c-.4-.4-.92-.59-1.43-.59-.52 0-1.04.2-1.43.59L10.3 9.45l-7.72 7.72c-.78.78-.78 2.05 0 2.83L4 21.41c.39.39.9.59 1.41.59.51 0 1.02-.2 1.41-.59l7.78-7.78 2.81-2.81c.8-.78.8-2.07 0-2.86zM5.41 20L4 18.59l7.72-7.72 1.47 1.35L5.41 20z\"/>\n",
              "  </svg>\n",
              "      </button>\n",
              "      \n",
              "  <style>\n",
              "    .colab-df-container {\n",
              "      display:flex;\n",
              "      flex-wrap:wrap;\n",
              "      gap: 12px;\n",
              "    }\n",
              "\n",
              "    .colab-df-convert {\n",
              "      background-color: #E8F0FE;\n",
              "      border: none;\n",
              "      border-radius: 50%;\n",
              "      cursor: pointer;\n",
              "      display: none;\n",
              "      fill: #1967D2;\n",
              "      height: 32px;\n",
              "      padding: 0 0 0 0;\n",
              "      width: 32px;\n",
              "    }\n",
              "\n",
              "    .colab-df-convert:hover {\n",
              "      background-color: #E2EBFA;\n",
              "      box-shadow: 0px 1px 2px rgba(60, 64, 67, 0.3), 0px 1px 3px 1px rgba(60, 64, 67, 0.15);\n",
              "      fill: #174EA6;\n",
              "    }\n",
              "\n",
              "    [theme=dark] .colab-df-convert {\n",
              "      background-color: #3B4455;\n",
              "      fill: #D2E3FC;\n",
              "    }\n",
              "\n",
              "    [theme=dark] .colab-df-convert:hover {\n",
              "      background-color: #434B5C;\n",
              "      box-shadow: 0px 1px 3px 1px rgba(0, 0, 0, 0.15);\n",
              "      filter: drop-shadow(0px 1px 2px rgba(0, 0, 0, 0.3));\n",
              "      fill: #FFFFFF;\n",
              "    }\n",
              "  </style>\n",
              "\n",
              "      <script>\n",
              "        const buttonEl =\n",
              "          document.querySelector('#df-f4b1e829-fd18-4b04-ba64-5554bfdfac67 button.colab-df-convert');\n",
              "        buttonEl.style.display =\n",
              "          google.colab.kernel.accessAllowed ? 'block' : 'none';\n",
              "\n",
              "        async function convertToInteractive(key) {\n",
              "          const element = document.querySelector('#df-f4b1e829-fd18-4b04-ba64-5554bfdfac67');\n",
              "          const dataTable =\n",
              "            await google.colab.kernel.invokeFunction('convertToInteractive',\n",
              "                                                     [key], {});\n",
              "          if (!dataTable) return;\n",
              "\n",
              "          const docLinkHtml = 'Like what you see? Visit the ' +\n",
              "            '<a target=\"_blank\" href=https://colab.research.google.com/notebooks/data_table.ipynb>data table notebook</a>'\n",
              "            + ' to learn more about interactive tables.';\n",
              "          element.innerHTML = '';\n",
              "          dataTable['output_type'] = 'display_data';\n",
              "          await google.colab.output.renderOutput(dataTable, element);\n",
              "          const docLink = document.createElement('div');\n",
              "          docLink.innerHTML = docLinkHtml;\n",
              "          element.appendChild(docLink);\n",
              "        }\n",
              "      </script>\n",
              "    </div>\n",
              "  </div>\n",
              "  "
            ]
          },
          "metadata": {},
          "execution_count": 502
        }
      ]
    }
  ],
  "metadata": {
    "colab": {
      "collapsed_sections": [
        "fT2xnNaUeRV6",
        "BGU9Qkbny98o",
        "ABusCXHLFK8W",
        "z1zQbHRLFFYW",
        "CAopP4r405ng",
        "SZXGxOc0FTrf",
        "dGsHIenXFaIV",
        "vRjl4DQoDoNB",
        "cU9fD8cuKKlw",
        "SvgZPCMJMYTG",
        "bK6feo4pt_x3",
        "-5PKDqa3uIm-",
        "ZUbljdRy1MoI"
      ],
      "name": "DaZone Round2",
      "provenance": [],
      "authorship_tag": "ABX9TyPoYM4VE6BWmg9f/SvVVPv6",
      "include_colab_link": true
    },
    "kernelspec": {
      "display_name": "Python 3",
      "name": "python3"
    },
    "language_info": {
      "name": "python"
    }
  },
  "nbformat": 4,
  "nbformat_minor": 0
}
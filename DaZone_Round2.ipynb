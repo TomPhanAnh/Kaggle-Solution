{
  "cells": [
    {
      "cell_type": "markdown",
      "metadata": {
        "id": "view-in-github",
        "colab_type": "text"
      },
      "source": [
        "<a href=\"https://colab.research.google.com/github/TomPhanAnh/Kaggle-Solution/blob/main/DaZone_Round2.ipynb\" target=\"_parent\"><img src=\"https://colab.research.google.com/assets/colab-badge.svg\" alt=\"Open In Colab\"/></a>"
      ]
    },
    {
      "cell_type": "code",
      "execution_count": 6,
      "metadata": {
        "id": "mpYI7_51yenR"
      },
      "outputs": [],
      "source": [
        "import pandas as pd\n",
        "import numpy as np\n",
        "import matplotlib.pyplot as plt\n",
        "import seaborn as sns"
      ]
    },
    {
      "cell_type": "markdown",
      "metadata": {
        "id": "Lw4Mmwgzz27t"
      },
      "source": [
        "# **ZALOPAY INTRODUCTION**"
      ]
    },
    {
      "cell_type": "markdown",
      "metadata": {
        "id": "IgBVxjGEzyqF"
      },
      "source": [
        "ZaloPay is an **E-wallet** established at the end of 2016 and is\n",
        "part of Vietnamese unicorn VNG’s digital ecosystem, which\n",
        "also includes gaming, media and cloud computing.\n",
        "\n",
        "In January 2020, ZaloPay launched on Zalo platform, with the\n",
        "aim to become the **“Vietnamese citizens’ E-wallet”.** ZaloPay\n",
        "provides daily usage in-app services such as money transfer,\n",
        "phone top-up, and paying bills. With a ready presence on local\n",
        "users’ smartphones and robust product offerings, ZaloPay has\n",
        "competitive advantages to become the champion e-wallet.\n",
        "\n",
        "In May 2022, ZaloPay reached 10M active users, which was a\n",
        "significant milestone. After a few years of traversing the\n",
        "digital payment market, we have helped to foster a cashless\n",
        "society by creating convenient payment methods for our\n",
        "consumers' daily lives."
      ]
    },
    {
      "cell_type": "markdown",
      "metadata": {
        "id": "u89vzg5Mz71y"
      },
      "source": [
        "According to Circular 23/2019/TT-NHNN, each individual must accurately fill\n",
        "out their personal information to validate their account and minimize risks\n",
        "while making a payment. Before making payments for services, e-wallets must\n",
        "be linked to the owner's bank account or debit card. As a result, ZaloPay has\n",
        "always **prioritized the growth of associated banks and studying and optimizing\n",
        "the flow of connecting banks to provide all clients with the most convenient\n",
        "wallet.**"
      ]
    },
    {
      "cell_type": "markdown",
      "metadata": {
        "id": "0e-AWuFZ0HL-"
      },
      "source": [
        "## **Context**"
      ]
    },
    {
      "cell_type": "markdown",
      "metadata": {
        "id": "5Vgcb3oz0GZk"
      },
      "source": [
        "There are two systems of interest here: **front-end** and **back-end** systems. The **front-end system tracks **users’ interaction with the app (users stayed on\n",
        "which screen, clicked on which button, at which time, etc.).The back-end\n",
        "system** tracks the request in the back end that is created as a result of certain actions on the front-end. For example, when users clicked on the button “Mua ngay (buying immediately)” on an item, there’s a request on the backend at the same time and its status reflects whether users purchased successfully or not.\n",
        "\n",
        "**For the front-end dataset:** Each screen in the product flow that you will\n",
        "investigate in this assignment has its ID. The at-issues screens are numbered\n",
        "from 11 to 18, where Screen 11 is the beginning of the flow where users will fill out their bank account info and click “Lien ket ngay (link immediately)” (see the illustrative at the end of the assignment). Screens 12 to 18 reflect different meanings (e.g. the outcomes of the “Lien ket ngay” action, and our\n",
        "corresponding features for various outcomes).\n",
        "\n",
        "**For the back-end dataset:** when users click “Liên kết ngay” on screenID 11,\n",
        "a request will be recorded in the backend.csv. There are a lot of statuses here, but the one of interest is “-FACJ” status and “B”. When users encounter the “-FACJ” error, they will interact with another flow.\n",
        "\n",
        "We are testing two UIs for users who encounter “-FACJ” error. Let’s call these\n",
        "“new UI” and “old UI”. Only a subset of users can see the new UI, which includes\n",
        "screenID 12, 13, 14, 15, 16, 17, 18. The old UI does not have an associated screenID, so it temporarily assumes users that have “-FACJ” error but don’t see screenID 12 through 18 will see the old UI.\n",
        "\n",
        "The old UI and new UI are expected to help users retry and, hopefully, succeed.\n",
        "Users that finish interacting with the flow after “-FACJ” will come back to\n",
        "screenID 11 and submit another request to backend.csv. A successful request has\n",
        "a “B” status."
      ]
    },
    {
      "cell_type": "markdown",
      "metadata": {
        "id": "fT2xnNaUeRV6"
      },
      "source": [
        "**Preprocessing dataset**"
      ]
    },
    {
      "cell_type": "code",
      "execution_count": 7,
      "metadata": {
        "id": "_3LDgBJ1yi40"
      },
      "outputs": [],
      "source": [
        "front_end = pd.read_csv(\"Front-end dataset.csv\",delimiter = \" \")\n",
        "front_end = front_end['eventid\\tid\\tscreenid\\ttimestamp\\t\\t\\t,'].str.split(\"\\t\",expand = True)\n",
        "front_end.drop([4,5,6], axis = 1, inplace = True)\n",
        "front_end.columns = [\"eventid\",\"id\",\"screenid\",\"timestamp\"]"
      ]
    },
    {
      "cell_type": "code",
      "execution_count": 8,
      "metadata": {
        "id": "b9q4nV78ytyn"
      },
      "outputs": [],
      "source": [
        "def remove_comma(x):\n",
        "  if \"'\" in x:\n",
        "    return x.replace(\"'\",\" \").strip()\n",
        "  else:\n",
        "    return x\n",
        "front_end[\"id\"] = front_end[\"id\"].apply(lambda x: remove_comma(x))\n",
        "front_end[\"screenid\"] = front_end[\"screenid\"].apply(lambda x: remove_comma(x))\n",
        "front_end[\"timestamp\"] = front_end[\"timestamp\"].apply(lambda x: remove_comma(x))"
      ]
    },
    {
      "cell_type": "code",
      "execution_count": 9,
      "metadata": {
        "id": "B_YU1voLyt1L"
      },
      "outputs": [],
      "source": [
        "front_end[\"timestamp\"] = pd.to_datetime(front_end[\"timestamp\"],unit = \"ms\")"
      ]
    },
    {
      "cell_type": "code",
      "execution_count": 10,
      "metadata": {
        "id": "fx1mh_Hcyt4B"
      },
      "outputs": [],
      "source": [
        "front_end.drop_duplicates(inplace = True)"
      ]
    },
    {
      "cell_type": "markdown",
      "metadata": {
        "id": "gWNgCvbmyy2S"
      },
      "source": [
        "## **Backend Dataset**"
      ]
    },
    {
      "cell_type": "code",
      "execution_count": 11,
      "metadata": {
        "id": "oQR229vDy1xE"
      },
      "outputs": [],
      "source": [
        "back_end = pd.read_csv(\"Back-end dataset.csv\")\n",
        "back_end = back_end['timestamp\\tstepresult\\tid'].str.split(\"\\t\",expand = True)\n",
        "back_end.rename(columns = {0:\"timestamp\",1:\"stepresult\",2:\"id\"}, inplace =True)\n",
        "back_end[\"timestamp\"] = pd.to_datetime(back_end['timestamp'], unit = 'ms')"
      ]
    },
    {
      "cell_type": "markdown",
      "metadata": {
        "id": "BGU9Qkbny98o"
      },
      "source": [
        "## **Merging Dataset**"
      ]
    },
    {
      "cell_type": "code",
      "execution_count": 12,
      "metadata": {
        "id": "EcCz0IpDeOLI"
      },
      "outputs": [],
      "source": [
        "count_front = front_end.groupby([\"id\",\"screenid\",\"eventid\"]).agg({\"eventid\":\"count\"}).reset_index(level = [0,1])\n",
        "max_front = count_front.groupby([\"id\",\"screenid\"]).agg({\"eventid\":\"max\"}).reset_index().sort_values([\"id\",\"screenid\"])"
      ]
    },
    {
      "cell_type": "code",
      "execution_count": 13,
      "metadata": {
        "id": "-hzfnClUjFxO"
      },
      "outputs": [],
      "source": [
        "count_front.rename(columns = {\"eventid\":\"count\"},inplace = True)\n",
        "count_front = count_front.reset_index()"
      ]
    },
    {
      "cell_type": "code",
      "execution_count": 14,
      "metadata": {
        "id": "hwPloHSQl307"
      },
      "outputs": [],
      "source": [
        "merge_data = count_front.merge(front_end,on = [\"eventid\",\"id\"], how = \"right\")\n",
        "merge_data[\"screenid_x\"] = merge_data[\"screenid_x\"].astype(\"int64\")"
      ]
    },
    {
      "cell_type": "code",
      "source": [
        "max_front"
      ],
      "metadata": {
        "colab": {
          "base_uri": "https://localhost:8080/",
          "height": 424
        },
        "id": "twRU3iz6lrkU",
        "outputId": "69833d5e-2815-4be4-a58c-03a93aa5502d"
      },
      "execution_count": 15,
      "outputs": [
        {
          "output_type": "execute_result",
          "data": {
            "text/plain": [
              "                        id screenid  eventid\n",
              "0      BAAAFACIBHCHHCCCAFH       11        1\n",
              "1        BAAAFFHHEDJFEAAFG       11        3\n",
              "2      BAABEBCJFBFDAGCHFAA       11        1\n",
              "3      BAACEAADIJBJJCDDIII       11        1\n",
              "4      BAACFAHHCDFIHAAACCG       11        1\n",
              "...                    ...      ...      ...\n",
              "16260  JJJGCDCEEGBJJJJGCAH       17        1\n",
              "16261  JJJGFBFFJFAGDJFFHJC       11        1\n",
              "16262  JJJHEDCDGGIFGHJGCCF       11        2\n",
              "16263  JJJHHHEEFEJHEBAFFCC       11        2\n",
              "16264  JJJIDJCHIACJJJCJBHG       11        3\n",
              "\n",
              "[16265 rows x 3 columns]"
            ],
            "text/html": [
              "\n",
              "  <div id=\"df-e6f40e94-ab97-4dd6-8aa2-ad3d78cab5d1\">\n",
              "    <div class=\"colab-df-container\">\n",
              "      <div>\n",
              "<style scoped>\n",
              "    .dataframe tbody tr th:only-of-type {\n",
              "        vertical-align: middle;\n",
              "    }\n",
              "\n",
              "    .dataframe tbody tr th {\n",
              "        vertical-align: top;\n",
              "    }\n",
              "\n",
              "    .dataframe thead th {\n",
              "        text-align: right;\n",
              "    }\n",
              "</style>\n",
              "<table border=\"1\" class=\"dataframe\">\n",
              "  <thead>\n",
              "    <tr style=\"text-align: right;\">\n",
              "      <th></th>\n",
              "      <th>id</th>\n",
              "      <th>screenid</th>\n",
              "      <th>eventid</th>\n",
              "    </tr>\n",
              "  </thead>\n",
              "  <tbody>\n",
              "    <tr>\n",
              "      <th>0</th>\n",
              "      <td>BAAAFACIBHCHHCCCAFH</td>\n",
              "      <td>11</td>\n",
              "      <td>1</td>\n",
              "    </tr>\n",
              "    <tr>\n",
              "      <th>1</th>\n",
              "      <td>BAAAFFHHEDJFEAAFG</td>\n",
              "      <td>11</td>\n",
              "      <td>3</td>\n",
              "    </tr>\n",
              "    <tr>\n",
              "      <th>2</th>\n",
              "      <td>BAABEBCJFBFDAGCHFAA</td>\n",
              "      <td>11</td>\n",
              "      <td>1</td>\n",
              "    </tr>\n",
              "    <tr>\n",
              "      <th>3</th>\n",
              "      <td>BAACEAADIJBJJCDDIII</td>\n",
              "      <td>11</td>\n",
              "      <td>1</td>\n",
              "    </tr>\n",
              "    <tr>\n",
              "      <th>4</th>\n",
              "      <td>BAACFAHHCDFIHAAACCG</td>\n",
              "      <td>11</td>\n",
              "      <td>1</td>\n",
              "    </tr>\n",
              "    <tr>\n",
              "      <th>...</th>\n",
              "      <td>...</td>\n",
              "      <td>...</td>\n",
              "      <td>...</td>\n",
              "    </tr>\n",
              "    <tr>\n",
              "      <th>16260</th>\n",
              "      <td>JJJGCDCEEGBJJJJGCAH</td>\n",
              "      <td>17</td>\n",
              "      <td>1</td>\n",
              "    </tr>\n",
              "    <tr>\n",
              "      <th>16261</th>\n",
              "      <td>JJJGFBFFJFAGDJFFHJC</td>\n",
              "      <td>11</td>\n",
              "      <td>1</td>\n",
              "    </tr>\n",
              "    <tr>\n",
              "      <th>16262</th>\n",
              "      <td>JJJHEDCDGGIFGHJGCCF</td>\n",
              "      <td>11</td>\n",
              "      <td>2</td>\n",
              "    </tr>\n",
              "    <tr>\n",
              "      <th>16263</th>\n",
              "      <td>JJJHHHEEFEJHEBAFFCC</td>\n",
              "      <td>11</td>\n",
              "      <td>2</td>\n",
              "    </tr>\n",
              "    <tr>\n",
              "      <th>16264</th>\n",
              "      <td>JJJIDJCHIACJJJCJBHG</td>\n",
              "      <td>11</td>\n",
              "      <td>3</td>\n",
              "    </tr>\n",
              "  </tbody>\n",
              "</table>\n",
              "<p>16265 rows × 3 columns</p>\n",
              "</div>\n",
              "      <button class=\"colab-df-convert\" onclick=\"convertToInteractive('df-e6f40e94-ab97-4dd6-8aa2-ad3d78cab5d1')\"\n",
              "              title=\"Convert this dataframe to an interactive table.\"\n",
              "              style=\"display:none;\">\n",
              "        \n",
              "  <svg xmlns=\"http://www.w3.org/2000/svg\" height=\"24px\"viewBox=\"0 0 24 24\"\n",
              "       width=\"24px\">\n",
              "    <path d=\"M0 0h24v24H0V0z\" fill=\"none\"/>\n",
              "    <path d=\"M18.56 5.44l.94 2.06.94-2.06 2.06-.94-2.06-.94-.94-2.06-.94 2.06-2.06.94zm-11 1L8.5 8.5l.94-2.06 2.06-.94-2.06-.94L8.5 2.5l-.94 2.06-2.06.94zm10 10l.94 2.06.94-2.06 2.06-.94-2.06-.94-.94-2.06-.94 2.06-2.06.94z\"/><path d=\"M17.41 7.96l-1.37-1.37c-.4-.4-.92-.59-1.43-.59-.52 0-1.04.2-1.43.59L10.3 9.45l-7.72 7.72c-.78.78-.78 2.05 0 2.83L4 21.41c.39.39.9.59 1.41.59.51 0 1.02-.2 1.41-.59l7.78-7.78 2.81-2.81c.8-.78.8-2.07 0-2.86zM5.41 20L4 18.59l7.72-7.72 1.47 1.35L5.41 20z\"/>\n",
              "  </svg>\n",
              "      </button>\n",
              "      \n",
              "  <style>\n",
              "    .colab-df-container {\n",
              "      display:flex;\n",
              "      flex-wrap:wrap;\n",
              "      gap: 12px;\n",
              "    }\n",
              "\n",
              "    .colab-df-convert {\n",
              "      background-color: #E8F0FE;\n",
              "      border: none;\n",
              "      border-radius: 50%;\n",
              "      cursor: pointer;\n",
              "      display: none;\n",
              "      fill: #1967D2;\n",
              "      height: 32px;\n",
              "      padding: 0 0 0 0;\n",
              "      width: 32px;\n",
              "    }\n",
              "\n",
              "    .colab-df-convert:hover {\n",
              "      background-color: #E2EBFA;\n",
              "      box-shadow: 0px 1px 2px rgba(60, 64, 67, 0.3), 0px 1px 3px 1px rgba(60, 64, 67, 0.15);\n",
              "      fill: #174EA6;\n",
              "    }\n",
              "\n",
              "    [theme=dark] .colab-df-convert {\n",
              "      background-color: #3B4455;\n",
              "      fill: #D2E3FC;\n",
              "    }\n",
              "\n",
              "    [theme=dark] .colab-df-convert:hover {\n",
              "      background-color: #434B5C;\n",
              "      box-shadow: 0px 1px 3px 1px rgba(0, 0, 0, 0.15);\n",
              "      filter: drop-shadow(0px 1px 2px rgba(0, 0, 0, 0.3));\n",
              "      fill: #FFFFFF;\n",
              "    }\n",
              "  </style>\n",
              "\n",
              "      <script>\n",
              "        const buttonEl =\n",
              "          document.querySelector('#df-e6f40e94-ab97-4dd6-8aa2-ad3d78cab5d1 button.colab-df-convert');\n",
              "        buttonEl.style.display =\n",
              "          google.colab.kernel.accessAllowed ? 'block' : 'none';\n",
              "\n",
              "        async function convertToInteractive(key) {\n",
              "          const element = document.querySelector('#df-e6f40e94-ab97-4dd6-8aa2-ad3d78cab5d1');\n",
              "          const dataTable =\n",
              "            await google.colab.kernel.invokeFunction('convertToInteractive',\n",
              "                                                     [key], {});\n",
              "          if (!dataTable) return;\n",
              "\n",
              "          const docLinkHtml = 'Like what you see? Visit the ' +\n",
              "            '<a target=\"_blank\" href=https://colab.research.google.com/notebooks/data_table.ipynb>data table notebook</a>'\n",
              "            + ' to learn more about interactive tables.';\n",
              "          element.innerHTML = '';\n",
              "          dataTable['output_type'] = 'display_data';\n",
              "          await google.colab.output.renderOutput(dataTable, element);\n",
              "          const docLink = document.createElement('div');\n",
              "          docLink.innerHTML = docLinkHtml;\n",
              "          element.appendChild(docLink);\n",
              "        }\n",
              "      </script>\n",
              "    </div>\n",
              "  </div>\n",
              "  "
            ]
          },
          "metadata": {},
          "execution_count": 15
        }
      ]
    },
    {
      "cell_type": "code",
      "execution_count": 16,
      "metadata": {
        "id": "veZAsCjXmFc7"
      },
      "outputs": [],
      "source": [
        "# Create the dataset for screenid == 11\n",
        "merge_data11 = merge_data.loc[merge_data[\"screenid_x\"] == 11]\n",
        "new_data = pd.DataFrame(columns = merge_data.columns)\n",
        "for i in merge_data11[\"id\"].value_counts().index:\n",
        "  \n",
        "  # Test the condition to take the most interactive eventid of old UI\n",
        "  count = max(merge_data11.loc[(merge_data11[\"id\"] == i)][\"count\"])\n",
        "  eventid = merge_data11.loc[(merge_data11[\"id\"] == i ) & \n",
        "                           (merge_data11[\"count\"] == count)].sort_values([\"timestamp\",\"eventid\"])[\"eventid\"].value_counts().index[0]\n",
        "\n",
        "  # Concatenate the Data with condition\n",
        "  df = merge_data11.loc[(merge_data11[\"id\"] == i) & \n",
        "                 (merge_data11[\"eventid\"] == eventid)]  \n",
        "            \n",
        "  new_data = pd.concat([df,new_data])"
      ]
    },
    {
      "cell_type": "code",
      "execution_count": 17,
      "metadata": {
        "id": "_bempher7SIg"
      },
      "outputs": [],
      "source": [
        "# Create the dataset for screenid != 11\n",
        "merge_data1218 = merge_data.loc[merge_data[\"screenid_x\"] != 11]\n",
        "new_data1218 = pd.DataFrame(columns = merge_data.columns)\n",
        "for i in merge_data1218[\"id\"].value_counts().index:\n",
        "\n",
        "  # Test the condition to take the most interactive eventid of new UI\n",
        "  count = max(merge_data1218.loc[(merge_data1218[\"id\"] == i)][\"count\"])\n",
        "  eventid = merge_data1218.loc[(merge_data1218[\"id\"] == i ) & \n",
        "                           (merge_data1218[\"count\"] == count)].sort_values([\"timestamp\",\"eventid\"])[\"eventid\"].value_counts().index[0]\n",
        "\n",
        "  # Concatenate the Data with condition\n",
        "  df = merge_data1218.loc[(merge_data1218[\"id\"] == i) & \n",
        "                 (merge_data1218[\"eventid\"] == eventid)]  \n",
        "            \n",
        "  new_data1218 = pd.concat([df,new_data1218])"
      ]
    },
    {
      "cell_type": "code",
      "execution_count": 18,
      "metadata": {
        "id": "qQ07B04XwSjg"
      },
      "outputs": [],
      "source": [
        "# Concate to get timestamp for each loop\n",
        "data_Q1 = pd.concat([new_data,new_data1218])"
      ]
    },
    {
      "cell_type": "markdown",
      "metadata": {
        "id": "ksRBXoQY0os5"
      },
      "source": [
        "# **Task 1:Prepare a report that answers the following questions**"
      ]
    },
    {
      "cell_type": "markdown",
      "metadata": {
        "id": "sIUzxHD-0o0Q"
      },
      "source": [
        "### **Q1. What is the retry rate for each UI? Does the new UI improve the retry rate?**\n",
        "\n",
        "**Retry rate** = max(0,n_screen11 - n_screen1218 - 1)/\n",
        "\n",
        "( max(0,n_screen11 - n_screen1218 - 1)+ n_screen1218)\n",
        "\n",
        "\n",
        "**n_screen11:** the number of times UI log in\n",
        "\n",
        "**n_screen1218:** the maximum number of times UI in each screen12 - 18 \n",
        "\n",
        "*(**Assume:** user is interactive with several screen, the screen with the most use is chosen and 1 unit of other screen is equal as 1 unit of screen 11)*"
      ]
    },
    {
      "cell_type": "code",
      "execution_count": 19,
      "metadata": {
        "id": "atcPlC9C0kKU"
      },
      "outputs": [],
      "source": [
        "# What is the retry rate for each UI? \n",
        "# 1 is new\n",
        "# 0 is old\n",
        "Q1 = data_Q1.drop_duplicates([\"id\",\"screenid_x\"])\n",
        "\n",
        "# create the dataframe to check UI old or new\n",
        "question1 = pd.DataFrame(data_Q1[\"id\"].value_counts().index, columns = [\"id\"])\n",
        "question1[\"screen11\"] = 0\n",
        "question1[\"screen1218\"] = 0\n"
      ]
    },
    {
      "cell_type": "code",
      "source": [
        "# Fill the dataset specified with each id (user)\n",
        "for i in question1[\"id\"].values:\n",
        "  question1.loc[question1[\"id\"] == i, \"screen11\"] = max_front.loc[(max_front[\"screenid\"] == \"11\") & (max_front[\"id\"] == i)][\"eventid\"].values\n",
        "  try:\n",
        "    question1.loc[question1[\"id\"] == i, \"screen1218\"] = max(max_front.loc[(max_front[\"screenid\"] != \"11\") & (max_front[\"id\"] == i)][\"eventid\"].values)\n",
        "  except:\n",
        "    pass"
      ],
      "metadata": {
        "id": "LqWi2LbemEFu"
      },
      "execution_count": 20,
      "outputs": []
    },
    {
      "cell_type": "code",
      "execution_count": 21,
      "metadata": {
        "id": "JflHwt_QC05Q"
      },
      "outputs": [],
      "source": [
        "# Define UI (New or Old)\n",
        "question1[\"UI\"] = question1.apply(lambda x: 1 if x[\"screen1218\"] > 0 else 0, axis = 1)\n",
        "question1[\"screen11\"] = question1[\"screen11\"].astype(\"int64\")\n",
        "question1[\"screen1218\"] = question1[\"screen1218\"].astype(\"int64\")\n",
        "\n",
        "# Calculate retry rate for each UI\n",
        "# In case New UI enter in screen12 to screen 18 more than log-in (screen11) => no retry rate = 0\n",
        "# Else New UI enter in screen12 to screen 18 less than log-in (screen11)    => retry rate is available\n",
        "# The last time is not a retry (-1)\n",
        "question1[\"retry_times\"] = question1.apply(lambda x: max(0,x[\"screen11\"] - x[\"screen1218\"] - 1), axis = 1)\n",
        "\n",
        "# retry rate of new_UI\n",
        "new_iu_retry = sum(question1.loc[question1[\"UI\"] == 1]['retry_times'])/(\n",
        "                sum(question1.loc[question1[\"UI\"] == 1]['retry_times']) \n",
        "              + sum(question1.loc[question1[\"UI\"] == 1][\"screen1218\"]))\n",
        "\n",
        "# Suppose the last time of old Ui does mean they stop => the last eventid doesn't mean a retry but a stop => don't include in the number of retry\n",
        "\n",
        "# retry rate of old_UI\n",
        "old_iu_retry = (sum(question1.loc[question1[\"UI\"] == 0]['screen11']) -\n",
        "                len(question1.loc[question1[\"UI\"] == 0]['screen11']))/sum(question1.loc[question1[\"UI\"] == 0]['screen11'])"
      ]
    },
    {
      "cell_type": "code",
      "execution_count": 22,
      "metadata": {
        "colab": {
          "base_uri": "https://localhost:8080/"
        },
        "id": "lmcYLVDg3fbY",
        "outputId": "e8ff5f88-4202-49c7-9748-adc71d91f57d"
      },
      "outputs": [
        {
          "output_type": "stream",
          "name": "stdout",
          "text": [
            "The retry rate of New UI: 0.1\n",
            "The retry rate of Old UI: 0.43\n"
          ]
        }
      ],
      "source": [
        "print(\"The retry rate of New UI: {}\".format(round(new_iu_retry,2)))\n",
        "print(\"The retry rate of Old UI: {}\".format(round(old_iu_retry,2)))"
      ]
    },
    {
      "cell_type": "markdown",
      "metadata": {
        "id": "JYHgkz3FIQSA"
      },
      "source": [
        "**Q1.2: Does the new UI improve the retry rate?**"
      ]
    },
    {
      "cell_type": "code",
      "execution_count": 23,
      "metadata": {
        "colab": {
          "base_uri": "https://localhost:8080/"
        },
        "id": "Z98tH_aJRB0-",
        "outputId": "18b91895-c201-4068-e82c-c8ec2d26fdc5"
      },
      "outputs": [
        {
          "output_type": "stream",
          "name": "stderr",
          "text": [
            "/usr/local/lib/python3.7/dist-packages/ipykernel_launcher.py:6: FutureWarning: The pandas.datetime class is deprecated and will be removed from pandas in a future version. Import from datetime module instead.\n",
            "  \n"
          ]
        }
      ],
      "source": [
        "# Create the hour interval for frontend dataset\n",
        "front_end[\"Year\"]  = front_end[\"timestamp\"].apply(lambda x: x.year)\n",
        "front_end[\"Month\"] = front_end[\"timestamp\"].apply(lambda x: x.month)\n",
        "front_end[\"Day\"]   = front_end[\"timestamp\"].apply(lambda x: x.day)\n",
        "front_end[\"Hour\"]  = front_end[\"timestamp\"].apply(lambda x: x.hour)\n",
        "front_end[\"timestamp2\"] = front_end.apply(lambda x: pd.datetime(x[\"Year\"],x[\"Month\"],x[\"Day\"],x[\"Hour\"]), axis = 1)"
      ]
    },
    {
      "cell_type": "code",
      "execution_count": 24,
      "metadata": {
        "id": "u9xoo2IBQ5K6"
      },
      "outputs": [],
      "source": [
        "Q12 = front_end.merge(question1[[\"id\",\"UI\"]], on = \"id\", how = \"right\")"
      ]
    },
    {
      "cell_type": "code",
      "source": [
        "Q12.head()"
      ],
      "metadata": {
        "colab": {
          "base_uri": "https://localhost:8080/",
          "height": 206
        },
        "id": "EO6-LskQqvSy",
        "outputId": "aa974f0c-96ac-4317-f748-46e322f5a063"
      },
      "execution_count": 25,
      "outputs": [
        {
          "output_type": "execute_result",
          "data": {
            "text/plain": [
              "    eventid                   id screenid               timestamp  Year  \\\n",
              "0  x,11.xy1  FFDBDJFJGCIJHBBACIA       11 2021-03-15 08:17:27.824  2021   \n",
              "1   x,14.06  FFDBDJFJGCIJHBBACIA       14 2021-03-15 08:39:23.532  2021   \n",
              "2  x,11.xy0  FFDBDJFJGCIJHBBACIA       11 2021-03-15 08:17:28.822  2021   \n",
              "3  x,11.xy1  FFDBDJFJGCIJHBBACIA       11 2021-03-15 08:42:56.675  2021   \n",
              "4   x,14.06  FFDBDJFJGCIJHBBACIA       14 2021-03-15 08:43:10.081  2021   \n",
              "\n",
              "   Month  Day  Hour          timestamp2  UI  \n",
              "0      3   15     8 2021-03-15 08:00:00   1  \n",
              "1      3   15     8 2021-03-15 08:00:00   1  \n",
              "2      3   15     8 2021-03-15 08:00:00   1  \n",
              "3      3   15     8 2021-03-15 08:00:00   1  \n",
              "4      3   15     8 2021-03-15 08:00:00   1  "
            ],
            "text/html": [
              "\n",
              "  <div id=\"df-efdd357f-d3eb-4662-b514-3d3d516515ad\">\n",
              "    <div class=\"colab-df-container\">\n",
              "      <div>\n",
              "<style scoped>\n",
              "    .dataframe tbody tr th:only-of-type {\n",
              "        vertical-align: middle;\n",
              "    }\n",
              "\n",
              "    .dataframe tbody tr th {\n",
              "        vertical-align: top;\n",
              "    }\n",
              "\n",
              "    .dataframe thead th {\n",
              "        text-align: right;\n",
              "    }\n",
              "</style>\n",
              "<table border=\"1\" class=\"dataframe\">\n",
              "  <thead>\n",
              "    <tr style=\"text-align: right;\">\n",
              "      <th></th>\n",
              "      <th>eventid</th>\n",
              "      <th>id</th>\n",
              "      <th>screenid</th>\n",
              "      <th>timestamp</th>\n",
              "      <th>Year</th>\n",
              "      <th>Month</th>\n",
              "      <th>Day</th>\n",
              "      <th>Hour</th>\n",
              "      <th>timestamp2</th>\n",
              "      <th>UI</th>\n",
              "    </tr>\n",
              "  </thead>\n",
              "  <tbody>\n",
              "    <tr>\n",
              "      <th>0</th>\n",
              "      <td>x,11.xy1</td>\n",
              "      <td>FFDBDJFJGCIJHBBACIA</td>\n",
              "      <td>11</td>\n",
              "      <td>2021-03-15 08:17:27.824</td>\n",
              "      <td>2021</td>\n",
              "      <td>3</td>\n",
              "      <td>15</td>\n",
              "      <td>8</td>\n",
              "      <td>2021-03-15 08:00:00</td>\n",
              "      <td>1</td>\n",
              "    </tr>\n",
              "    <tr>\n",
              "      <th>1</th>\n",
              "      <td>x,14.06</td>\n",
              "      <td>FFDBDJFJGCIJHBBACIA</td>\n",
              "      <td>14</td>\n",
              "      <td>2021-03-15 08:39:23.532</td>\n",
              "      <td>2021</td>\n",
              "      <td>3</td>\n",
              "      <td>15</td>\n",
              "      <td>8</td>\n",
              "      <td>2021-03-15 08:00:00</td>\n",
              "      <td>1</td>\n",
              "    </tr>\n",
              "    <tr>\n",
              "      <th>2</th>\n",
              "      <td>x,11.xy0</td>\n",
              "      <td>FFDBDJFJGCIJHBBACIA</td>\n",
              "      <td>11</td>\n",
              "      <td>2021-03-15 08:17:28.822</td>\n",
              "      <td>2021</td>\n",
              "      <td>3</td>\n",
              "      <td>15</td>\n",
              "      <td>8</td>\n",
              "      <td>2021-03-15 08:00:00</td>\n",
              "      <td>1</td>\n",
              "    </tr>\n",
              "    <tr>\n",
              "      <th>3</th>\n",
              "      <td>x,11.xy1</td>\n",
              "      <td>FFDBDJFJGCIJHBBACIA</td>\n",
              "      <td>11</td>\n",
              "      <td>2021-03-15 08:42:56.675</td>\n",
              "      <td>2021</td>\n",
              "      <td>3</td>\n",
              "      <td>15</td>\n",
              "      <td>8</td>\n",
              "      <td>2021-03-15 08:00:00</td>\n",
              "      <td>1</td>\n",
              "    </tr>\n",
              "    <tr>\n",
              "      <th>4</th>\n",
              "      <td>x,14.06</td>\n",
              "      <td>FFDBDJFJGCIJHBBACIA</td>\n",
              "      <td>14</td>\n",
              "      <td>2021-03-15 08:43:10.081</td>\n",
              "      <td>2021</td>\n",
              "      <td>3</td>\n",
              "      <td>15</td>\n",
              "      <td>8</td>\n",
              "      <td>2021-03-15 08:00:00</td>\n",
              "      <td>1</td>\n",
              "    </tr>\n",
              "  </tbody>\n",
              "</table>\n",
              "</div>\n",
              "      <button class=\"colab-df-convert\" onclick=\"convertToInteractive('df-efdd357f-d3eb-4662-b514-3d3d516515ad')\"\n",
              "              title=\"Convert this dataframe to an interactive table.\"\n",
              "              style=\"display:none;\">\n",
              "        \n",
              "  <svg xmlns=\"http://www.w3.org/2000/svg\" height=\"24px\"viewBox=\"0 0 24 24\"\n",
              "       width=\"24px\">\n",
              "    <path d=\"M0 0h24v24H0V0z\" fill=\"none\"/>\n",
              "    <path d=\"M18.56 5.44l.94 2.06.94-2.06 2.06-.94-2.06-.94-.94-2.06-.94 2.06-2.06.94zm-11 1L8.5 8.5l.94-2.06 2.06-.94-2.06-.94L8.5 2.5l-.94 2.06-2.06.94zm10 10l.94 2.06.94-2.06 2.06-.94-2.06-.94-.94-2.06-.94 2.06-2.06.94z\"/><path d=\"M17.41 7.96l-1.37-1.37c-.4-.4-.92-.59-1.43-.59-.52 0-1.04.2-1.43.59L10.3 9.45l-7.72 7.72c-.78.78-.78 2.05 0 2.83L4 21.41c.39.39.9.59 1.41.59.51 0 1.02-.2 1.41-.59l7.78-7.78 2.81-2.81c.8-.78.8-2.07 0-2.86zM5.41 20L4 18.59l7.72-7.72 1.47 1.35L5.41 20z\"/>\n",
              "  </svg>\n",
              "      </button>\n",
              "      \n",
              "  <style>\n",
              "    .colab-df-container {\n",
              "      display:flex;\n",
              "      flex-wrap:wrap;\n",
              "      gap: 12px;\n",
              "    }\n",
              "\n",
              "    .colab-df-convert {\n",
              "      background-color: #E8F0FE;\n",
              "      border: none;\n",
              "      border-radius: 50%;\n",
              "      cursor: pointer;\n",
              "      display: none;\n",
              "      fill: #1967D2;\n",
              "      height: 32px;\n",
              "      padding: 0 0 0 0;\n",
              "      width: 32px;\n",
              "    }\n",
              "\n",
              "    .colab-df-convert:hover {\n",
              "      background-color: #E2EBFA;\n",
              "      box-shadow: 0px 1px 2px rgba(60, 64, 67, 0.3), 0px 1px 3px 1px rgba(60, 64, 67, 0.15);\n",
              "      fill: #174EA6;\n",
              "    }\n",
              "\n",
              "    [theme=dark] .colab-df-convert {\n",
              "      background-color: #3B4455;\n",
              "      fill: #D2E3FC;\n",
              "    }\n",
              "\n",
              "    [theme=dark] .colab-df-convert:hover {\n",
              "      background-color: #434B5C;\n",
              "      box-shadow: 0px 1px 3px 1px rgba(0, 0, 0, 0.15);\n",
              "      filter: drop-shadow(0px 1px 2px rgba(0, 0, 0, 0.3));\n",
              "      fill: #FFFFFF;\n",
              "    }\n",
              "  </style>\n",
              "\n",
              "      <script>\n",
              "        const buttonEl =\n",
              "          document.querySelector('#df-efdd357f-d3eb-4662-b514-3d3d516515ad button.colab-df-convert');\n",
              "        buttonEl.style.display =\n",
              "          google.colab.kernel.accessAllowed ? 'block' : 'none';\n",
              "\n",
              "        async function convertToInteractive(key) {\n",
              "          const element = document.querySelector('#df-efdd357f-d3eb-4662-b514-3d3d516515ad');\n",
              "          const dataTable =\n",
              "            await google.colab.kernel.invokeFunction('convertToInteractive',\n",
              "                                                     [key], {});\n",
              "          if (!dataTable) return;\n",
              "\n",
              "          const docLinkHtml = 'Like what you see? Visit the ' +\n",
              "            '<a target=\"_blank\" href=https://colab.research.google.com/notebooks/data_table.ipynb>data table notebook</a>'\n",
              "            + ' to learn more about interactive tables.';\n",
              "          element.innerHTML = '';\n",
              "          dataTable['output_type'] = 'display_data';\n",
              "          await google.colab.output.renderOutput(dataTable, element);\n",
              "          const docLink = document.createElement('div');\n",
              "          docLink.innerHTML = docLinkHtml;\n",
              "          element.appendChild(docLink);\n",
              "        }\n",
              "      </script>\n",
              "    </div>\n",
              "  </div>\n",
              "  "
            ]
          },
          "metadata": {},
          "execution_count": 25
        }
      ]
    },
    {
      "cell_type": "code",
      "execution_count": 26,
      "metadata": {
        "id": "D866Zdrjb49R"
      },
      "outputs": [],
      "source": [
        "Q12_sc11 = Q12.loc[(Q12[\"screenid\"] == \"11\") \n",
        "                   & (Q12[\"UI\"] == 1)].groupby(\n",
        "                  by = [\"timestamp2\"]).count().reset_index()[[\"timestamp2\",\"eventid\"]].rename(columns = {\"eventid\":\"screen11\"})"
      ]
    },
    {
      "cell_type": "code",
      "execution_count": 27,
      "metadata": {
        "id": "qPX5X56bcSOT"
      },
      "outputs": [],
      "source": [
        "Q12_sc1218 = pd.DataFrame(columns = [\"timestamp2\",\"eventid\"])\n",
        "table = Q12.loc[(Q12[\"screenid\"] != \"11\") \n",
        "              & (Q12[\"UI\"] == 1)].groupby(by = [\"timestamp2\",\"screenid\"]).count().reset_index()\n",
        "\n",
        "for i in table['timestamp2'].unique():        \n",
        "  a = max(table.loc[table['timestamp2'] == i][\"eventid\"])\n",
        "  table_x = table.loc[(table['timestamp2'] == i) \n",
        "                    & (table[\"eventid\"] == a)][[\"timestamp2\",\"eventid\"]]\n",
        "  Q12_sc1218 = pd.concat([Q12_sc1218,table_x]) "
      ]
    },
    {
      "cell_type": "code",
      "execution_count": 28,
      "metadata": {
        "id": "rqwFhlNhe2DE"
      },
      "outputs": [],
      "source": [
        "Q12_sc1218.rename(columns = {\"eventid\":\"screen1218\"},inplace = True)"
      ]
    },
    {
      "cell_type": "code",
      "source": [
        "Q12_answer = Q12_sc11.merge(Q12_sc1218, on = \"timestamp2\", how = \"left\").fillna(0)\n",
        "Q12_answer[\"retry_times\"] = Q12_answer.apply(lambda x: max(0, x[\"screen11\"] - x[\"screen1218\"]), axis = 1)\n",
        "Q12_answer[\"retry_rate\"]  = Q12_answer.apply(lambda x: (x[\"retry_times\"] - 1)/(x[\"retry_times\"] + x[\"screen1218\"]),axis = 1)\n",
        "Q12_answer.drop([\"screen11\",\"screen1218\"], axis = 1, inplace = True)"
      ],
      "metadata": {
        "id": "Vh2J0sY9tuwy"
      },
      "execution_count": 29,
      "outputs": []
    },
    {
      "cell_type": "code",
      "source": [
        "# Visualization of New UI by 1 hour interval from dataset with regression line\n",
        "sns.regplot(x = Q12_answer.index, y = \"retry_rate\", data = Q12_answer)"
      ],
      "metadata": {
        "colab": {
          "base_uri": "https://localhost:8080/",
          "height": 282
        },
        "id": "yKwj2RQItEf8",
        "outputId": "95dcacb1-ee19-41e7-bdbb-2afed11fe7d5"
      },
      "execution_count": 30,
      "outputs": [
        {
          "output_type": "execute_result",
          "data": {
            "text/plain": [
              "<matplotlib.axes._subplots.AxesSubplot at 0x7f83b5167550>"
            ]
          },
          "metadata": {},
          "execution_count": 30
        },
        {
          "output_type": "display_data",
          "data": {
            "text/plain": [
              "<Figure size 432x288 with 1 Axes>"
            ],
            "image/png": "[encoded data removed]"
          },
          "metadata": {
            "needs_background": "light"
          }
        }
      ]
    },
    {
      "cell_type": "code",
      "source": [
        "# Visualization of New UI by 1 hour interval from dataset with line chart\n",
        "fig = plt.figure(figsize = (15,6))\n",
        "plt.plot(Q12_answer[\"timestamp2\"], Q12_answer[\"retry_rate\"])"
      ],
      "metadata": {
        "colab": {
          "base_uri": "https://localhost:8080/",
          "height": 391
        },
        "id": "6HWQ4jrVsd5q",
        "outputId": "be29929a-1a45-4c7f-8c78-03a708523ef8"
      },
      "execution_count": 31,
      "outputs": [
        {
          "output_type": "execute_result",
          "data": {
            "text/plain": [
              "[<matplotlib.lines.Line2D at 0x7f83b52d2090>]"
            ]
          },
          "metadata": {},
          "execution_count": 31
        },
        {
          "output_type": "display_data",
          "data": {
            "text/plain": [
              "<Figure size 1080x432 with 1 Axes>"
            ],
            "image/png": "[encoded data removed]"
          },
          "metadata": {
            "needs_background": "light"
          }
        }
      ]
    },
    {
      "cell_type": "markdown",
      "source": [
        "### **Q2. Among the people who retried, what is the success rate for each UI? Does the new UI improve the success rate?**\n",
        "\n",
        "**Success rate** = min(n_success, n_enter)/n_enter\n",
        "\n",
        "**n_success:** The number of time UI successfully reaches to screenID 12 - 18\n",
        "\n",
        "**n_enter  :** The total number of time UI enter in screen 11"
      ],
      "metadata": {
        "id": "CAopP4r405ng"
      }
    },
    {
      "cell_type": "code",
      "source": [
        "question1[\"success_times\"] = question1.apply(lambda x: min(x[\"screen1218\"],x[\"screen11\"]), axis = 1)\n",
        "question1[\"success_rate\"]  = question1.apply(lambda x: x[\"success_times\"]/x[\"screen11\"], axis = 1)"
      ],
      "metadata": {
        "id": "Tulri1vgsJW4"
      },
      "execution_count": 32,
      "outputs": []
    },
    {
      "cell_type": "code",
      "execution_count": 33,
      "metadata": {
        "id": "C04V1mG9SifW"
      },
      "outputs": [],
      "source": [
        "new_iu_success = sum(question1.loc[question1[\"UI\"] == 1]['success_times'])/(sum(question1.loc[question1[\"UI\"] == 1][\"screen11\"]))\n",
        "old_iu_success = sum(question1.loc[question1[\"UI\"] == 0]['success_times'])/(sum(question1.loc[question1[\"UI\"] == 0][\"screen11\"]))"
      ]
    },
    {
      "cell_type": "code",
      "execution_count": 34,
      "metadata": {
        "colab": {
          "base_uri": "https://localhost:8080/"
        },
        "id": "_oochLUpeIUV",
        "outputId": "b8e41d45-f47b-4ac6-f9bc-4876ae595835"
      },
      "outputs": [
        {
          "output_type": "stream",
          "name": "stdout",
          "text": [
            "The success rate of New UI: 0.75\n",
            "The success rate of Old UI: 0.0\n"
          ]
        }
      ],
      "source": [
        "print(\"The success rate of New UI: {}\".format(round(new_iu_success,2)))\n",
        "print(\"The success rate of Old UI: {}\".format(old_iu_success))"
      ]
    },
    {
      "cell_type": "markdown",
      "source": [
        "**Q2.2. Does the new UI improve the success rate?**"
      ],
      "metadata": {
        "id": "fNI85u0I5YOs"
      }
    },
    {
      "cell_type": "code",
      "execution_count": 35,
      "metadata": {
        "colab": {
          "base_uri": "https://localhost:8080/",
          "height": 206
        },
        "id": "jaUW01-UdJSE",
        "outputId": "119f787d-04e0-425e-9178-3b27de79edf9"
      },
      "outputs": [
        {
          "output_type": "execute_result",
          "data": {
            "text/plain": [
              "           timestamp2  screen11  screen1218\n",
              "0 2021-03-14 17:00:00         2           0\n",
              "1 2021-03-14 18:00:00        10           0\n",
              "2 2021-03-14 21:00:00         2           0\n",
              "3 2021-03-14 23:00:00        10           0\n",
              "4 2021-03-15 00:00:00         8           0"
            ],
            "text/html": [
              "\n",
              "  <div id=\"df-ed2a8d89-c990-45f7-bcd7-f6282aa7010a\">\n",
              "    <div class=\"colab-df-container\">\n",
              "      <div>\n",
              "<style scoped>\n",
              "    .dataframe tbody tr th:only-of-type {\n",
              "        vertical-align: middle;\n",
              "    }\n",
              "\n",
              "    .dataframe tbody tr th {\n",
              "        vertical-align: top;\n",
              "    }\n",
              "\n",
              "    .dataframe thead th {\n",
              "        text-align: right;\n",
              "    }\n",
              "</style>\n",
              "<table border=\"1\" class=\"dataframe\">\n",
              "  <thead>\n",
              "    <tr style=\"text-align: right;\">\n",
              "      <th></th>\n",
              "      <th>timestamp2</th>\n",
              "      <th>screen11</th>\n",
              "      <th>screen1218</th>\n",
              "    </tr>\n",
              "  </thead>\n",
              "  <tbody>\n",
              "    <tr>\n",
              "      <th>0</th>\n",
              "      <td>2021-03-14 17:00:00</td>\n",
              "      <td>2</td>\n",
              "      <td>0</td>\n",
              "    </tr>\n",
              "    <tr>\n",
              "      <th>1</th>\n",
              "      <td>2021-03-14 18:00:00</td>\n",
              "      <td>10</td>\n",
              "      <td>0</td>\n",
              "    </tr>\n",
              "    <tr>\n",
              "      <th>2</th>\n",
              "      <td>2021-03-14 21:00:00</td>\n",
              "      <td>2</td>\n",
              "      <td>0</td>\n",
              "    </tr>\n",
              "    <tr>\n",
              "      <th>3</th>\n",
              "      <td>2021-03-14 23:00:00</td>\n",
              "      <td>10</td>\n",
              "      <td>0</td>\n",
              "    </tr>\n",
              "    <tr>\n",
              "      <th>4</th>\n",
              "      <td>2021-03-15 00:00:00</td>\n",
              "      <td>8</td>\n",
              "      <td>0</td>\n",
              "    </tr>\n",
              "  </tbody>\n",
              "</table>\n",
              "</div>\n",
              "      <button class=\"colab-df-convert\" onclick=\"convertToInteractive('df-ed2a8d89-c990-45f7-bcd7-f6282aa7010a')\"\n",
              "              title=\"Convert this dataframe to an interactive table.\"\n",
              "              style=\"display:none;\">\n",
              "        \n",
              "  <svg xmlns=\"http://www.w3.org/2000/svg\" height=\"24px\"viewBox=\"0 0 24 24\"\n",
              "       width=\"24px\">\n",
              "    <path d=\"M0 0h24v24H0V0z\" fill=\"none\"/>\n",
              "    <path d=\"M18.56 5.44l.94 2.06.94-2.06 2.06-.94-2.06-.94-.94-2.06-.94 2.06-2.06.94zm-11 1L8.5 8.5l.94-2.06 2.06-.94-2.06-.94L8.5 2.5l-.94 2.06-2.06.94zm10 10l.94 2.06.94-2.06 2.06-.94-2.06-.94-.94-2.06-.94 2.06-2.06.94z\"/><path d=\"M17.41 7.96l-1.37-1.37c-.4-.4-.92-.59-1.43-.59-.52 0-1.04.2-1.43.59L10.3 9.45l-7.72 7.72c-.78.78-.78 2.05 0 2.83L4 21.41c.39.39.9.59 1.41.59.51 0 1.02-.2 1.41-.59l7.78-7.78 2.81-2.81c.8-.78.8-2.07 0-2.86zM5.41 20L4 18.59l7.72-7.72 1.47 1.35L5.41 20z\"/>\n",
              "  </svg>\n",
              "      </button>\n",
              "      \n",
              "  <style>\n",
              "    .colab-df-container {\n",
              "      display:flex;\n",
              "      flex-wrap:wrap;\n",
              "      gap: 12px;\n",
              "    }\n",
              "\n",
              "    .colab-df-convert {\n",
              "      background-color: #E8F0FE;\n",
              "      border: none;\n",
              "      border-radius: 50%;\n",
              "      cursor: pointer;\n",
              "      display: none;\n",
              "      fill: #1967D2;\n",
              "      height: 32px;\n",
              "      padding: 0 0 0 0;\n",
              "      width: 32px;\n",
              "    }\n",
              "\n",
              "    .colab-df-convert:hover {\n",
              "      background-color: #E2EBFA;\n",
              "      box-shadow: 0px 1px 2px rgba(60, 64, 67, 0.3), 0px 1px 3px 1px rgba(60, 64, 67, 0.15);\n",
              "      fill: #174EA6;\n",
              "    }\n",
              "\n",
              "    [theme=dark] .colab-df-convert {\n",
              "      background-color: #3B4455;\n",
              "      fill: #D2E3FC;\n",
              "    }\n",
              "\n",
              "    [theme=dark] .colab-df-convert:hover {\n",
              "      background-color: #434B5C;\n",
              "      box-shadow: 0px 1px 3px 1px rgba(0, 0, 0, 0.15);\n",
              "      filter: drop-shadow(0px 1px 2px rgba(0, 0, 0, 0.3));\n",
              "      fill: #FFFFFF;\n",
              "    }\n",
              "  </style>\n",
              "\n",
              "      <script>\n",
              "        const buttonEl =\n",
              "          document.querySelector('#df-ed2a8d89-c990-45f7-bcd7-f6282aa7010a button.colab-df-convert');\n",
              "        buttonEl.style.display =\n",
              "          google.colab.kernel.accessAllowed ? 'block' : 'none';\n",
              "\n",
              "        async function convertToInteractive(key) {\n",
              "          const element = document.querySelector('#df-ed2a8d89-c990-45f7-bcd7-f6282aa7010a');\n",
              "          const dataTable =\n",
              "            await google.colab.kernel.invokeFunction('convertToInteractive',\n",
              "                                                     [key], {});\n",
              "          if (!dataTable) return;\n",
              "\n",
              "          const docLinkHtml = 'Like what you see? Visit the ' +\n",
              "            '<a target=\"_blank\" href=https://colab.research.google.com/notebooks/data_table.ipynb>data table notebook</a>'\n",
              "            + ' to learn more about interactive tables.';\n",
              "          element.innerHTML = '';\n",
              "          dataTable['output_type'] = 'display_data';\n",
              "          await google.colab.output.renderOutput(dataTable, element);\n",
              "          const docLink = document.createElement('div');\n",
              "          docLink.innerHTML = docLinkHtml;\n",
              "          element.appendChild(docLink);\n",
              "        }\n",
              "      </script>\n",
              "    </div>\n",
              "  </div>\n",
              "  "
            ]
          },
          "metadata": {},
          "execution_count": 35
        }
      ],
      "source": [
        "Q22 = Q12_sc11.merge(Q12_sc1218, on = \"timestamp2\", how = \"left\").fillna(0)\n",
        "Q22.head()"
      ]
    },
    {
      "cell_type": "code",
      "source": [
        "Q22[\"success_times\"] = Q22.apply(lambda x: min(x[\"screen1218\"],x[\"screen11\"]), axis = 1)\n",
        "Q22[\"success_rate\"]  = Q22.apply(lambda x: x[\"success_times\"]/x[\"screen11\"], axis = 1)\n",
        "Q22.drop([\"screen11\",\"screen1218\"], axis = 1, inplace = True)"
      ],
      "metadata": {
        "id": "YkyRLHK76HP4"
      },
      "execution_count": 36,
      "outputs": []
    },
    {
      "cell_type": "code",
      "source": [
        "# Visualization of New UI by 1 hour interval from dataset\n",
        "sns.regplot(x = Q22.index, y = \"success_rate\", data = Q22)"
      ],
      "metadata": {
        "colab": {
          "base_uri": "https://localhost:8080/",
          "height": 282
        },
        "id": "sV-t-1K06R5E",
        "outputId": "39cb70b2-a597-4dba-e447-be3ca4d10554"
      },
      "execution_count": 37,
      "outputs": [
        {
          "output_type": "execute_result",
          "data": {
            "text/plain": [
              "<matplotlib.axes._subplots.AxesSubplot at 0x7f83b58be290>"
            ]
          },
          "metadata": {},
          "execution_count": 37
        },
        {
          "output_type": "display_data",
          "data": {
            "text/plain": [
              "<Figure size 432x288 with 1 Axes>"
            ],
            "image/png": "[encoded data removed]"
          },
          "metadata": {
            "needs_background": "light"
          }
        }
      ]
    },
    {
      "cell_type": "code",
      "source": [
        "# Visualization of New UI by 1 hour interval from dataset with line chart\n",
        "fig = plt.figure(figsize = (15,6))\n",
        "plt.plot(Q22[\"timestamp2\"], Q22[\"success_rate\"])"
      ],
      "metadata": {
        "colab": {
          "base_uri": "https://localhost:8080/",
          "height": 391
        },
        "id": "SjXjwIq_6HTH",
        "outputId": "0223d999-ab92-4dd9-eb30-d394626e4bb6"
      },
      "execution_count": 38,
      "outputs": [
        {
          "output_type": "execute_result",
          "data": {
            "text/plain": [
              "[<matplotlib.lines.Line2D at 0x7f83b5cbd2d0>]"
            ]
          },
          "metadata": {},
          "execution_count": 38
        },
        {
          "output_type": "display_data",
          "data": {
            "text/plain": [
              "<Figure size 1080x432 with 1 Axes>"
            ],
            "image/png": "[encoded data removed]"
          },
          "metadata": {
            "needs_background": "light"
          }
        }
      ]
    },
    {
      "cell_type": "markdown",
      "source": [
        "###**Q3. What is the distribution of requests by the error for each UI? Does the new UI help reduce FACJ error?**"
      ],
      "metadata": {
        "id": "SROVGxiF6xvR"
      }
    },
    {
      "cell_type": "markdown",
      "source": [
        "**Q3.1 What is the distribution of requests by the error for each UI?**"
      ],
      "metadata": {
        "id": "IhAywqwf7AF2"
      }
    },
    {
      "cell_type": "code",
      "source": [
        "Q31 = question1.copy()\n",
        "# Visualize The distribution in term of retry times of New UI (UI = 1)\n",
        "fig = plt.figure(figsize = (15,6))\n",
        "Q31.loc[Q31[\"UI\"] == 1][\"retry_times\"].hist(bins = 50)"
      ],
      "metadata": {
        "colab": {
          "base_uri": "https://localhost:8080/",
          "height": 391
        },
        "id": "KtrI3jlo69t8",
        "outputId": "6aa07a90-1e83-4141-be04-fb4c5b601e7d"
      },
      "execution_count": 39,
      "outputs": [
        {
          "output_type": "execute_result",
          "data": {
            "text/plain": [
              "<matplotlib.axes._subplots.AxesSubplot at 0x7f83b2e88850>"
            ]
          },
          "metadata": {},
          "execution_count": 39
        },
        {
          "output_type": "display_data",
          "data": {
            "text/plain": [
              "<Figure size 1080x432 with 1 Axes>"
            ],
            "image/png": "[encoded data removed]"
          },
          "metadata": {
            "needs_background": "light"
          }
        }
      ]
    },
    {
      "cell_type": "code",
      "source": [
        "Q31 = question1.copy()\n",
        "# Visualize The distribution in term of retry times of Old UI (UI = 0)\n",
        "fig = plt.figure(figsize = (15,6))\n",
        "Q31.loc[Q31[\"UI\"] == 0][\"retry_times\"].hist(bins = 50)"
      ],
      "metadata": {
        "colab": {
          "base_uri": "https://localhost:8080/",
          "height": 391
        },
        "id": "o2_BbpaK7i-l",
        "outputId": "e6430c38-91bb-401b-a716-0c133aa8d663"
      },
      "execution_count": 40,
      "outputs": [
        {
          "output_type": "execute_result",
          "data": {
            "text/plain": [
              "<matplotlib.axes._subplots.AxesSubplot at 0x7f83b076bd10>"
            ]
          },
          "metadata": {},
          "execution_count": 40
        },
        {
          "output_type": "display_data",
          "data": {
            "text/plain": [
              "<Figure size 1080x432 with 1 Axes>"
            ],
            "image/png": "[encoded data removed]"
          },
          "metadata": {
            "needs_background": "light"
          }
        }
      ]
    },
    {
      "cell_type": "markdown",
      "source": [
        "**Q.3.2.Does the new UI help reduce FACJ error?**"
      ],
      "metadata": {
        "id": "uLcGclBgDWGF"
      }
    },
    {
      "cell_type": "code",
      "source": [
        "pd.concat([Q31.loc[Q31[\"UI\"] == 0][\"retry_times\"].describe().to_frame().rename(columns = {\"retry_times\":\"Old UI\"}),\n",
        "           \n",
        "           Q31.loc[Q31[\"UI\"] == 1][\"retry_times\"].describe().to_frame().rename(columns = {\"retry_times\":\"New UI\"})], axis = 1)"
      ],
      "metadata": {
        "colab": {
          "base_uri": "https://localhost:8080/",
          "height": 301
        },
        "id": "oL4uvkVS6HWJ",
        "outputId": "7eb3fd42-505b-4fe7-8c17-4a64e37bb3d5"
      },
      "execution_count": 41,
      "outputs": [
        {
          "output_type": "execute_result",
          "data": {
            "text/plain": [
              "             Old UI       New UI\n",
              "count  12090.000000  1279.000000\n",
              "mean       0.762200     0.551212\n",
              "std        1.638253     1.727617\n",
              "min        0.000000     0.000000\n",
              "25%        0.000000     0.000000\n",
              "50%        0.000000     0.000000\n",
              "75%        1.000000     0.000000\n",
              "max       46.000000    35.000000"
            ],
            "text/html": [
              "\n",
              "  <div id=\"df-154eb988-c098-403f-b336-1804a2308434\">\n",
              "    <div class=\"colab-df-container\">\n",
              "      <div>\n",
              "<style scoped>\n",
              "    .dataframe tbody tr th:only-of-type {\n",
              "        vertical-align: middle;\n",
              "    }\n",
              "\n",
              "    .dataframe tbody tr th {\n",
              "        vertical-align: top;\n",
              "    }\n",
              "\n",
              "    .dataframe thead th {\n",
              "        text-align: right;\n",
              "    }\n",
              "</style>\n",
              "<table border=\"1\" class=\"dataframe\">\n",
              "  <thead>\n",
              "    <tr style=\"text-align: right;\">\n",
              "      <th></th>\n",
              "      <th>Old UI</th>\n",
              "      <th>New UI</th>\n",
              "    </tr>\n",
              "  </thead>\n",
              "  <tbody>\n",
              "    <tr>\n",
              "      <th>count</th>\n",
              "      <td>12090.000000</td>\n",
              "      <td>1279.000000</td>\n",
              "    </tr>\n",
              "    <tr>\n",
              "      <th>mean</th>\n",
              "      <td>0.762200</td>\n",
              "      <td>0.551212</td>\n",
              "    </tr>\n",
              "    <tr>\n",
              "      <th>std</th>\n",
              "      <td>1.638253</td>\n",
              "      <td>1.727617</td>\n",
              "    </tr>\n",
              "    <tr>\n",
              "      <th>min</th>\n",
              "      <td>0.000000</td>\n",
              "      <td>0.000000</td>\n",
              "    </tr>\n",
              "    <tr>\n",
              "      <th>25%</th>\n",
              "      <td>0.000000</td>\n",
              "      <td>0.000000</td>\n",
              "    </tr>\n",
              "    <tr>\n",
              "      <th>50%</th>\n",
              "      <td>0.000000</td>\n",
              "      <td>0.000000</td>\n",
              "    </tr>\n",
              "    <tr>\n",
              "      <th>75%</th>\n",
              "      <td>1.000000</td>\n",
              "      <td>0.000000</td>\n",
              "    </tr>\n",
              "    <tr>\n",
              "      <th>max</th>\n",
              "      <td>46.000000</td>\n",
              "      <td>35.000000</td>\n",
              "    </tr>\n",
              "  </tbody>\n",
              "</table>\n",
              "</div>\n",
              "      <button class=\"colab-df-convert\" onclick=\"convertToInteractive('df-154eb988-c098-403f-b336-1804a2308434')\"\n",
              "              title=\"Convert this dataframe to an interactive table.\"\n",
              "              style=\"display:none;\">\n",
              "        \n",
              "  <svg xmlns=\"http://www.w3.org/2000/svg\" height=\"24px\"viewBox=\"0 0 24 24\"\n",
              "       width=\"24px\">\n",
              "    <path d=\"M0 0h24v24H0V0z\" fill=\"none\"/>\n",
              "    <path d=\"M18.56 5.44l.94 2.06.94-2.06 2.06-.94-2.06-.94-.94-2.06-.94 2.06-2.06.94zm-11 1L8.5 8.5l.94-2.06 2.06-.94-2.06-.94L8.5 2.5l-.94 2.06-2.06.94zm10 10l.94 2.06.94-2.06 2.06-.94-2.06-.94-.94-2.06-.94 2.06-2.06.94z\"/><path d=\"M17.41 7.96l-1.37-1.37c-.4-.4-.92-.59-1.43-.59-.52 0-1.04.2-1.43.59L10.3 9.45l-7.72 7.72c-.78.78-.78 2.05 0 2.83L4 21.41c.39.39.9.59 1.41.59.51 0 1.02-.2 1.41-.59l7.78-7.78 2.81-2.81c.8-.78.8-2.07 0-2.86zM5.41 20L4 18.59l7.72-7.72 1.47 1.35L5.41 20z\"/>\n",
              "  </svg>\n",
              "      </button>\n",
              "      \n",
              "  <style>\n",
              "    .colab-df-container {\n",
              "      display:flex;\n",
              "      flex-wrap:wrap;\n",
              "      gap: 12px;\n",
              "    }\n",
              "\n",
              "    .colab-df-convert {\n",
              "      background-color: #E8F0FE;\n",
              "      border: none;\n",
              "      border-radius: 50%;\n",
              "      cursor: pointer;\n",
              "      display: none;\n",
              "      fill: #1967D2;\n",
              "      height: 32px;\n",
              "      padding: 0 0 0 0;\n",
              "      width: 32px;\n",
              "    }\n",
              "\n",
              "    .colab-df-convert:hover {\n",
              "      background-color: #E2EBFA;\n",
              "      box-shadow: 0px 1px 2px rgba(60, 64, 67, 0.3), 0px 1px 3px 1px rgba(60, 64, 67, 0.15);\n",
              "      fill: #174EA6;\n",
              "    }\n",
              "\n",
              "    [theme=dark] .colab-df-convert {\n",
              "      background-color: #3B4455;\n",
              "      fill: #D2E3FC;\n",
              "    }\n",
              "\n",
              "    [theme=dark] .colab-df-convert:hover {\n",
              "      background-color: #434B5C;\n",
              "      box-shadow: 0px 1px 3px 1px rgba(0, 0, 0, 0.15);\n",
              "      filter: drop-shadow(0px 1px 2px rgba(0, 0, 0, 0.3));\n",
              "      fill: #FFFFFF;\n",
              "    }\n",
              "  </style>\n",
              "\n",
              "      <script>\n",
              "        const buttonEl =\n",
              "          document.querySelector('#df-154eb988-c098-403f-b336-1804a2308434 button.colab-df-convert');\n",
              "        buttonEl.style.display =\n",
              "          google.colab.kernel.accessAllowed ? 'block' : 'none';\n",
              "\n",
              "        async function convertToInteractive(key) {\n",
              "          const element = document.querySelector('#df-154eb988-c098-403f-b336-1804a2308434');\n",
              "          const dataTable =\n",
              "            await google.colab.kernel.invokeFunction('convertToInteractive',\n",
              "                                                     [key], {});\n",
              "          if (!dataTable) return;\n",
              "\n",
              "          const docLinkHtml = 'Like what you see? Visit the ' +\n",
              "            '<a target=\"_blank\" href=https://colab.research.google.com/notebooks/data_table.ipynb>data table notebook</a>'\n",
              "            + ' to learn more about interactive tables.';\n",
              "          element.innerHTML = '';\n",
              "          dataTable['output_type'] = 'display_data';\n",
              "          await google.colab.output.renderOutput(dataTable, element);\n",
              "          const docLink = document.createElement('div');\n",
              "          docLink.innerHTML = docLinkHtml;\n",
              "          element.appendChild(docLink);\n",
              "        }\n",
              "      </script>\n",
              "    </div>\n",
              "  </div>\n",
              "  "
            ]
          },
          "metadata": {},
          "execution_count": 41
        }
      ]
    },
    {
      "cell_type": "markdown",
      "source": [
        "### **Q4. Among users that have eventid “x,13.02” , what is the ratio that has “x,14.05”**"
      ],
      "metadata": {
        "id": "vRjl4DQoDoNB"
      }
    },
    {
      "cell_type": "code",
      "source": [
        "len(front_end.loc[(front_end[\"eventid\"] == \"x,13.02\") & (front_end[\"id\"] == \"BFHEHIDBJEJDABIAFBE\")])"
      ],
      "metadata": {
        "colab": {
          "base_uri": "https://localhost:8080/"
        },
        "id": "PSNlWcd76Hbv",
        "outputId": "338d8d42-b0e0-4e5e-b5dd-2355ee498e1c"
      },
      "execution_count": 42,
      "outputs": [
        {
          "output_type": "execute_result",
          "data": {
            "text/plain": [
              "5"
            ]
          },
          "metadata": {},
          "execution_count": 42
        }
      ]
    },
    {
      "cell_type": "code",
      "source": [
        "Q4 = pd.DataFrame(columns = [\"id\",\"x,13.02\",\"x,14.05\"])\n",
        "Q4['id'] = front_end[front_end[\"eventid\"] == \"x,13.02\"][\"id\"].value_counts().index\n"
      ],
      "metadata": {
        "id": "tqSyD_laHb0o"
      },
      "execution_count": 43,
      "outputs": []
    },
    {
      "cell_type": "code",
      "source": [
        "for i in Q4[\"id\"].values:\n",
        "  Q4.loc[Q4[\"id\"] == i , \"x,13.02\"] = len(front_end.loc[(front_end[\"eventid\"] == \"x,13.02\") & (front_end[\"id\"] == i)])\n",
        "  try:\n",
        "    Q4.loc[Q4[\"id\"] == i , \"x,14.05\"] = len(front_end.loc[(front_end[\"eventid\"] == \"x,14.05\") & (front_end[\"id\"] == i)])\n",
        "  except:\n",
        "    pass"
      ],
      "metadata": {
        "id": "0Mjok3nbHxR7"
      },
      "execution_count": 44,
      "outputs": []
    },
    {
      "cell_type": "code",
      "source": [
        "# Column available indicates 1 if x,14.05 in eventid: x,13.02 \n",
        "Q4[\"available\"] = Q4.apply(lambda x: 1 if min(x[\"x,13.02\"],x[\"x,14.05\"]) > 0 else 0, axis = 1)"
      ],
      "metadata": {
        "id": "Ipsp7yvSHxZV"
      },
      "execution_count": 45,
      "outputs": []
    },
    {
      "cell_type": "code",
      "source": [
        "ratio = Q4[\"available\"].value_counts()[1]/sum(Q4[\"available\"].value_counts())\n",
        "print(\"Among users that have eventid “x,13.02” , the ratio that has “x,14.05” is: {}\".format(round(ratio,2)))"
      ],
      "metadata": {
        "colab": {
          "base_uri": "https://localhost:8080/"
        },
        "id": "ZnG4VvJfHxb6",
        "outputId": "cf8eb86c-6680-44b8-eb34-19e43d8fdd62"
      },
      "execution_count": 46,
      "outputs": [
        {
          "output_type": "stream",
          "name": "stdout",
          "text": [
            "Among users that have eventid “x,13.02” , the ratio that has “x,14.05” is: 0.72\n"
          ]
        }
      ]
    },
    {
      "cell_type": "markdown",
      "source": [
        "**Q5. Do we keep or remove this product feature (new UI)? If we keep it, what\n",
        "should be optimized?**"
      ],
      "metadata": {
        "id": "cU9fD8cuKKlw"
      }
    },
    {
      "cell_type": "markdown",
      "source": [
        "# **Task 2: Additionally, do the following ad-hoc checks on the data (no need to include these in the report, but good to include in the summary email)**"
      ],
      "metadata": {
        "id": "-n6BVWeSKPog"
      }
    },
    {
      "cell_type": "markdown",
      "source": [
        "**Q1. In metadata.csv, extract the bank code from metadata column.**\n",
        "For example, >>> '{\"timeStamp\":1628391863136, \"osType\":2, \"bankCode\":\"AHG\"}' AHG\n",
        "\n",
        "**How many unique banks are there?**"
      ],
      "metadata": {
        "id": "ffBJC9hqKeH5"
      }
    },
    {
      "cell_type": "code",
      "source": [
        "metadata = pd.read_csv(\"Meta dataset.csv\")\n",
        "metadata = metadata[\"metadata\"].str.split(\",\",expand = True)\n",
        "metadata.columns = [\"timestamp\",\"osType\",\"bankcode\"]\n",
        "# Extract data from row with string technique\n",
        "metadata[\"timestamp\"] = metadata[\"timestamp\"].apply(lambda x: int(x[-13:]))\n",
        "metadata[\"osType\"]    = metadata[\"osType\"].apply(lambda x: int(x[-1:]))\n",
        "metadata[\"bankcode\"]  = metadata[\"bankcode\"].apply(lambda x: x[-5:-2].upper())"
      ],
      "metadata": {
        "id": "-IZ4S06dKj62"
      },
      "execution_count": 47,
      "outputs": []
    },
    {
      "cell_type": "code",
      "source": [
        "metadata.loc[metadata[\"bankcode\"] == '\"RG', \"bankcode\"] = \"RG\""
      ],
      "metadata": {
        "id": "NtjRRNiFKqEz"
      },
      "execution_count": 48,
      "outputs": []
    },
    {
      "cell_type": "code",
      "source": [
        "print(\"The number of Unique bank are: {}\".format(len(metadata[\"bankcode\"].value_counts())))"
      ],
      "metadata": {
        "colab": {
          "base_uri": "https://localhost:8080/"
        },
        "id": "2NBzqWBIK5Yk",
        "outputId": "bfee7e90-edfe-4704-836c-9873c45c960b"
      },
      "execution_count": 49,
      "outputs": [
        {
          "output_type": "stream",
          "name": "stdout",
          "text": [
            "The number of Unique bank are: 39\n"
          ]
        }
      ]
    },
    {
      "cell_type": "markdown",
      "source": [
        "**Q2. In backend.csv, determine the year, month, and date of the log.**\n",
        "\n",
        "-FACJ1 > B1 > -FACJ2 > B2\n",
        "\n",
        "**Then their weighted time will be the average of -FACJ1 to B1 and -FACJ2 to B2.**"
      ],
      "metadata": {
        "id": "SvgZPCMJMYTG"
      }
    },
    {
      "cell_type": "code",
      "source": [
        "back_end\n",
        "# Create the hour interval for frontend dataset\n",
        "from datetime import date\n",
        "back_end[\"Year\"]  = back_end[\"timestamp\"].apply(lambda x: x.year)\n",
        "back_end[\"Month\"] = back_end[\"timestamp\"].apply(lambda x: x.month)\n",
        "back_end[\"Day\"]   = back_end[\"timestamp\"].apply(lambda x: x.day)\n",
        "back_end[\"timestamp2\"] = front_end.apply(lambda x: date(x[\"Year\"],x[\"Month\"],x[\"Day\"]), axis = 1)\n",
        "\n",
        "# Drop duplicates\n",
        "back_end.drop_duplicates([\"timestamp\",\"id\"],inplace = True)"
      ],
      "metadata": {
        "id": "PBRaNMbbMW3y"
      },
      "execution_count": 50,
      "outputs": []
    },
    {
      "cell_type": "code",
      "source": [
        "# Create the hour interval for frontend dataset\n",
        "front_end[\"Year\"]  = front_end[\"timestamp\"].apply(lambda x: x.year)\n",
        "front_end[\"Month\"] = front_end[\"timestamp\"].apply(lambda x: x.month)\n",
        "front_end[\"Day\"]   = front_end[\"timestamp\"].apply(lambda x: x.day)\n",
        "front_end[\"timestamp2\"] = front_end.apply(lambda x: date(x[\"Year\"],x[\"Month\"],x[\"Day\"]), axis = 1)"
      ],
      "metadata": {
        "id": "9Np8dRprNjGu"
      },
      "execution_count": 51,
      "outputs": []
    },
    {
      "cell_type": "code",
      "source": [
        "back_end.head()"
      ],
      "metadata": {
        "colab": {
          "base_uri": "https://localhost:8080/",
          "height": 206
        },
        "id": "kUAUZczoZZK3",
        "outputId": "16d5d487-7fca-4a60-e594-84ed61646e0a"
      },
      "execution_count": 52,
      "outputs": [
        {
          "output_type": "execute_result",
          "data": {
            "text/plain": [
              "            timestamp stepresult                   id  Year  Month  Day  \\\n",
              "0 2021-03-15 12:06:40     #NAME?  BIIAJCGCFGECCBJFBAH  2021      3   15   \n",
              "1 2021-03-16 02:00:00          B  HAAICIFCAIAAGBIJEGE  2021      3   16   \n",
              "2 2021-03-15 03:46:40     #NAME?  DDAAAHEEDIIFCJCGDHF  2021      3   15   \n",
              "5 2021-03-16 10:20:00     #NAME?  ICJFGGHAAIDFADFBBJB  2021      3   16   \n",
              "7 2021-03-16 13:06:40     #NAME?  GCFFJDHEECHIBIDJIIJ  2021      3   16   \n",
              "\n",
              "   timestamp2  \n",
              "0  2021-03-18  \n",
              "1  2021-03-18  \n",
              "2  2021-03-17  \n",
              "5  2021-03-17  \n",
              "7  2021-03-17  "
            ],
            "text/html": [
              "\n",
              "  <div id=\"df-b2a44482-c029-4514-9ee1-3abf6cb80d41\">\n",
              "    <div class=\"colab-df-container\">\n",
              "      <div>\n",
              "<style scoped>\n",
              "    .dataframe tbody tr th:only-of-type {\n",
              "        vertical-align: middle;\n",
              "    }\n",
              "\n",
              "    .dataframe tbody tr th {\n",
              "        vertical-align: top;\n",
              "    }\n",
              "\n",
              "    .dataframe thead th {\n",
              "        text-align: right;\n",
              "    }\n",
              "</style>\n",
              "<table border=\"1\" class=\"dataframe\">\n",
              "  <thead>\n",
              "    <tr style=\"text-align: right;\">\n",
              "      <th></th>\n",
              "      <th>timestamp</th>\n",
              "      <th>stepresult</th>\n",
              "      <th>id</th>\n",
              "      <th>Year</th>\n",
              "      <th>Month</th>\n",
              "      <th>Day</th>\n",
              "      <th>timestamp2</th>\n",
              "    </tr>\n",
              "  </thead>\n",
              "  <tbody>\n",
              "    <tr>\n",
              "      <th>0</th>\n",
              "      <td>2021-03-15 12:06:40</td>\n",
              "      <td>#NAME?</td>\n",
              "      <td>BIIAJCGCFGECCBJFBAH</td>\n",
              "      <td>2021</td>\n",
              "      <td>3</td>\n",
              "      <td>15</td>\n",
              "      <td>2021-03-18</td>\n",
              "    </tr>\n",
              "    <tr>\n",
              "      <th>1</th>\n",
              "      <td>2021-03-16 02:00:00</td>\n",
              "      <td>B</td>\n",
              "      <td>HAAICIFCAIAAGBIJEGE</td>\n",
              "      <td>2021</td>\n",
              "      <td>3</td>\n",
              "      <td>16</td>\n",
              "      <td>2021-03-18</td>\n",
              "    </tr>\n",
              "    <tr>\n",
              "      <th>2</th>\n",
              "      <td>2021-03-15 03:46:40</td>\n",
              "      <td>#NAME?</td>\n",
              "      <td>DDAAAHEEDIIFCJCGDHF</td>\n",
              "      <td>2021</td>\n",
              "      <td>3</td>\n",
              "      <td>15</td>\n",
              "      <td>2021-03-17</td>\n",
              "    </tr>\n",
              "    <tr>\n",
              "      <th>5</th>\n",
              "      <td>2021-03-16 10:20:00</td>\n",
              "      <td>#NAME?</td>\n",
              "      <td>ICJFGGHAAIDFADFBBJB</td>\n",
              "      <td>2021</td>\n",
              "      <td>3</td>\n",
              "      <td>16</td>\n",
              "      <td>2021-03-17</td>\n",
              "    </tr>\n",
              "    <tr>\n",
              "      <th>7</th>\n",
              "      <td>2021-03-16 13:06:40</td>\n",
              "      <td>#NAME?</td>\n",
              "      <td>GCFFJDHEECHIBIDJIIJ</td>\n",
              "      <td>2021</td>\n",
              "      <td>3</td>\n",
              "      <td>16</td>\n",
              "      <td>2021-03-17</td>\n",
              "    </tr>\n",
              "  </tbody>\n",
              "</table>\n",
              "</div>\n",
              "      <button class=\"colab-df-convert\" onclick=\"convertToInteractive('df-b2a44482-c029-4514-9ee1-3abf6cb80d41')\"\n",
              "              title=\"Convert this dataframe to an interactive table.\"\n",
              "              style=\"display:none;\">\n",
              "        \n",
              "  <svg xmlns=\"http://www.w3.org/2000/svg\" height=\"24px\"viewBox=\"0 0 24 24\"\n",
              "       width=\"24px\">\n",
              "    <path d=\"M0 0h24v24H0V0z\" fill=\"none\"/>\n",
              "    <path d=\"M18.56 5.44l.94 2.06.94-2.06 2.06-.94-2.06-.94-.94-2.06-.94 2.06-2.06.94zm-11 1L8.5 8.5l.94-2.06 2.06-.94-2.06-.94L8.5 2.5l-.94 2.06-2.06.94zm10 10l.94 2.06.94-2.06 2.06-.94-2.06-.94-.94-2.06-.94 2.06-2.06.94z\"/><path d=\"M17.41 7.96l-1.37-1.37c-.4-.4-.92-.59-1.43-.59-.52 0-1.04.2-1.43.59L10.3 9.45l-7.72 7.72c-.78.78-.78 2.05 0 2.83L4 21.41c.39.39.9.59 1.41.59.51 0 1.02-.2 1.41-.59l7.78-7.78 2.81-2.81c.8-.78.8-2.07 0-2.86zM5.41 20L4 18.59l7.72-7.72 1.47 1.35L5.41 20z\"/>\n",
              "  </svg>\n",
              "      </button>\n",
              "      \n",
              "  <style>\n",
              "    .colab-df-container {\n",
              "      display:flex;\n",
              "      flex-wrap:wrap;\n",
              "      gap: 12px;\n",
              "    }\n",
              "\n",
              "    .colab-df-convert {\n",
              "      background-color: #E8F0FE;\n",
              "      border: none;\n",
              "      border-radius: 50%;\n",
              "      cursor: pointer;\n",
              "      display: none;\n",
              "      fill: #1967D2;\n",
              "      height: 32px;\n",
              "      padding: 0 0 0 0;\n",
              "      width: 32px;\n",
              "    }\n",
              "\n",
              "    .colab-df-convert:hover {\n",
              "      background-color: #E2EBFA;\n",
              "      box-shadow: 0px 1px 2px rgba(60, 64, 67, 0.3), 0px 1px 3px 1px rgba(60, 64, 67, 0.15);\n",
              "      fill: #174EA6;\n",
              "    }\n",
              "\n",
              "    [theme=dark] .colab-df-convert {\n",
              "      background-color: #3B4455;\n",
              "      fill: #D2E3FC;\n",
              "    }\n",
              "\n",
              "    [theme=dark] .colab-df-convert:hover {\n",
              "      background-color: #434B5C;\n",
              "      box-shadow: 0px 1px 3px 1px rgba(0, 0, 0, 0.15);\n",
              "      filter: drop-shadow(0px 1px 2px rgba(0, 0, 0, 0.3));\n",
              "      fill: #FFFFFF;\n",
              "    }\n",
              "  </style>\n",
              "\n",
              "      <script>\n",
              "        const buttonEl =\n",
              "          document.querySelector('#df-b2a44482-c029-4514-9ee1-3abf6cb80d41 button.colab-df-convert');\n",
              "        buttonEl.style.display =\n",
              "          google.colab.kernel.accessAllowed ? 'block' : 'none';\n",
              "\n",
              "        async function convertToInteractive(key) {\n",
              "          const element = document.querySelector('#df-b2a44482-c029-4514-9ee1-3abf6cb80d41');\n",
              "          const dataTable =\n",
              "            await google.colab.kernel.invokeFunction('convertToInteractive',\n",
              "                                                     [key], {});\n",
              "          if (!dataTable) return;\n",
              "\n",
              "          const docLinkHtml = 'Like what you see? Visit the ' +\n",
              "            '<a target=\"_blank\" href=https://colab.research.google.com/notebooks/data_table.ipynb>data table notebook</a>'\n",
              "            + ' to learn more about interactive tables.';\n",
              "          element.innerHTML = '';\n",
              "          dataTable['output_type'] = 'display_data';\n",
              "          await google.colab.output.renderOutput(dataTable, element);\n",
              "          const docLink = document.createElement('div');\n",
              "          docLink.innerHTML = docLinkHtml;\n",
              "          element.appendChild(docLink);\n",
              "        }\n",
              "      </script>\n",
              "    </div>\n",
              "  </div>\n",
              "  "
            ]
          },
          "metadata": {},
          "execution_count": 52
        }
      ]
    },
    {
      "cell_type": "code",
      "source": [
        "# shift_day is the function working as shift day back 1 day of 1 UI\n",
        "def shift_day(x,y,z):\n",
        "  if x != y:\n",
        "    return None\n",
        "  else:\n",
        "    return z\n",
        "\n",
        "# return accept is the function to define status \"B\" or status \"FACJ\"\n",
        "def return_accept(id,timestamp,timestamp1):\n",
        "  if pd.isnull(timestamp1):\n",
        "    accept = front_end.loc[(front_end[\"id\"] == id) & (front_end[\"timestamp\"] <= timestamp)][\"screenid\"].nunique()\n",
        "  else:\n",
        "    accept = front_end.loc[(front_end[\"id\"] == id) & (front_end[\"timestamp\"] >= timestamp1) & (front_end[\"timestamp\"] <= timestamp)][\"screenid\"].nunique()\n",
        "  if accept > 1:\n",
        "    return \"B\"\n",
        "  else:\n",
        "    return \"FACJ\"\n",
        "  "
      ],
      "metadata": {
        "id": "UOwi7gQ9cp65"
      },
      "execution_count": 53,
      "outputs": []
    },
    {
      "cell_type": "code",
      "source": [
        "# Calculate the exact day for each UI\n",
        "back_end[\"id_1\"] = back_end[\"id\"].shift(1)\n",
        "back_end[\"timestamp_1\"] = back_end[\"timestamp\"].shift(1)\n",
        "back_end[\"timestamp_1\"] = back_end.apply(lambda x: shift_day(x[\"id\"],x[\"id_1\"],x[\"timestamp_1\"]),axis = 1)"
      ],
      "metadata": {
        "id": "jJhZbv4xaUhD"
      },
      "execution_count": 54,
      "outputs": []
    },
    {
      "cell_type": "code",
      "source": [
        "# Redefince the stepresult columns\n",
        "back_end[\"stepresult\"] = back_end.apply(lambda x: return_accept(x[\"id\"],x[\"timestamp\"],x[\"timestamp_1\"]), axis = 1)\n",
        "back_end.drop([\"id_1\"], axis = 1)"
      ],
      "metadata": {
        "colab": {
          "base_uri": "https://localhost:8080/",
          "height": 424
        },
        "id": "eyHfeFo2SgZg",
        "outputId": "8422467c-495a-4cc1-e42a-e1b4117fa925"
      },
      "execution_count": 55,
      "outputs": [
        {
          "output_type": "execute_result",
          "data": {
            "text/plain": [
              "               timestamp stepresult                   id  Year  Month  Day  \\\n",
              "0    2021-03-15 12:06:40          B  BIIAJCGCFGECCBJFBAH  2021      3   15   \n",
              "1    2021-03-16 02:00:00       FACJ  HAAICIFCAIAAGBIJEGE  2021      3   16   \n",
              "2    2021-03-15 03:46:40       FACJ  DDAAAHEEDIIFCJCGDHF  2021      3   15   \n",
              "5    2021-03-16 10:20:00       FACJ  ICJFGGHAAIDFADFBBJB  2021      3   16   \n",
              "7    2021-03-16 13:06:40       FACJ  GCFFJDHEECHIBIDJIIJ  2021      3   16   \n",
              "...                  ...        ...                  ...   ...    ...  ...   \n",
              "7531 2021-03-15 12:06:40       FACJ  FEHBADJCADIFDEHIHHJ  2021      3   15   \n",
              "7534 2021-03-15 03:46:40       FACJ  BEJEIADCHIJEAHFGEDC  2021      3   15   \n",
              "7535 2021-03-16 04:46:40       FACJ  FJGCGGIJFDCIBEFDGGI  2021      3   16   \n",
              "7537 2021-03-16 02:00:00          B  EAHBCCAGCBJJHCCIIJA  2021      3   16   \n",
              "7538 2021-03-16 07:33:20       FACJ  GFHJJEDEAEDBIHACJFJ  2021      3   16   \n",
              "\n",
              "      timestamp2 timestamp_1  \n",
              "0     2021-03-18         NaT  \n",
              "1     2021-03-18         NaT  \n",
              "2     2021-03-17         NaT  \n",
              "5     2021-03-17         NaT  \n",
              "7     2021-03-17         NaT  \n",
              "...          ...         ...  \n",
              "7531  2021-03-16         NaT  \n",
              "7534  2021-03-15         NaT  \n",
              "7535  2021-03-15         NaT  \n",
              "7537  2021-03-15         NaT  \n",
              "7538  2021-03-15         NaT  \n",
              "\n",
              "[4364 rows x 8 columns]"
            ],
            "text/html": [
              "\n",
              "  <div id=\"df-82206784-f2d8-4792-b796-4d9c7d5c67d2\">\n",
              "    <div class=\"colab-df-container\">\n",
              "      <div>\n",
              "<style scoped>\n",
              "    .dataframe tbody tr th:only-of-type {\n",
              "        vertical-align: middle;\n",
              "    }\n",
              "\n",
              "    .dataframe tbody tr th {\n",
              "        vertical-align: top;\n",
              "    }\n",
              "\n",
              "    .dataframe thead th {\n",
              "        text-align: right;\n",
              "    }\n",
              "</style>\n",
              "<table border=\"1\" class=\"dataframe\">\n",
              "  <thead>\n",
              "    <tr style=\"text-align: right;\">\n",
              "      <th></th>\n",
              "      <th>timestamp</th>\n",
              "      <th>stepresult</th>\n",
              "      <th>id</th>\n",
              "      <th>Year</th>\n",
              "      <th>Month</th>\n",
              "      <th>Day</th>\n",
              "      <th>timestamp2</th>\n",
              "      <th>timestamp_1</th>\n",
              "    </tr>\n",
              "  </thead>\n",
              "  <tbody>\n",
              "    <tr>\n",
              "      <th>0</th>\n",
              "      <td>2021-03-15 12:06:40</td>\n",
              "      <td>B</td>\n",
              "      <td>BIIAJCGCFGECCBJFBAH</td>\n",
              "      <td>2021</td>\n",
              "      <td>3</td>\n",
              "      <td>15</td>\n",
              "      <td>2021-03-18</td>\n",
              "      <td>NaT</td>\n",
              "    </tr>\n",
              "    <tr>\n",
              "      <th>1</th>\n",
              "      <td>2021-03-16 02:00:00</td>\n",
              "      <td>FACJ</td>\n",
              "      <td>HAAICIFCAIAAGBIJEGE</td>\n",
              "      <td>2021</td>\n",
              "      <td>3</td>\n",
              "      <td>16</td>\n",
              "      <td>2021-03-18</td>\n",
              "      <td>NaT</td>\n",
              "    </tr>\n",
              "    <tr>\n",
              "      <th>2</th>\n",
              "      <td>2021-03-15 03:46:40</td>\n",
              "      <td>FACJ</td>\n",
              "      <td>DDAAAHEEDIIFCJCGDHF</td>\n",
              "      <td>2021</td>\n",
              "      <td>3</td>\n",
              "      <td>15</td>\n",
              "      <td>2021-03-17</td>\n",
              "      <td>NaT</td>\n",
              "    </tr>\n",
              "    <tr>\n",
              "      <th>5</th>\n",
              "      <td>2021-03-16 10:20:00</td>\n",
              "      <td>FACJ</td>\n",
              "      <td>ICJFGGHAAIDFADFBBJB</td>\n",
              "      <td>2021</td>\n",
              "      <td>3</td>\n",
              "      <td>16</td>\n",
              "      <td>2021-03-17</td>\n",
              "      <td>NaT</td>\n",
              "    </tr>\n",
              "    <tr>\n",
              "      <th>7</th>\n",
              "      <td>2021-03-16 13:06:40</td>\n",
              "      <td>FACJ</td>\n",
              "      <td>GCFFJDHEECHIBIDJIIJ</td>\n",
              "      <td>2021</td>\n",
              "      <td>3</td>\n",
              "      <td>16</td>\n",
              "      <td>2021-03-17</td>\n",
              "      <td>NaT</td>\n",
              "    </tr>\n",
              "    <tr>\n",
              "      <th>...</th>\n",
              "      <td>...</td>\n",
              "      <td>...</td>\n",
              "      <td>...</td>\n",
              "      <td>...</td>\n",
              "      <td>...</td>\n",
              "      <td>...</td>\n",
              "      <td>...</td>\n",
              "      <td>...</td>\n",
              "    </tr>\n",
              "    <tr>\n",
              "      <th>7531</th>\n",
              "      <td>2021-03-15 12:06:40</td>\n",
              "      <td>FACJ</td>\n",
              "      <td>FEHBADJCADIFDEHIHHJ</td>\n",
              "      <td>2021</td>\n",
              "      <td>3</td>\n",
              "      <td>15</td>\n",
              "      <td>2021-03-16</td>\n",
              "      <td>NaT</td>\n",
              "    </tr>\n",
              "    <tr>\n",
              "      <th>7534</th>\n",
              "      <td>2021-03-15 03:46:40</td>\n",
              "      <td>FACJ</td>\n",
              "      <td>BEJEIADCHIJEAHFGEDC</td>\n",
              "      <td>2021</td>\n",
              "      <td>3</td>\n",
              "      <td>15</td>\n",
              "      <td>2021-03-15</td>\n",
              "      <td>NaT</td>\n",
              "    </tr>\n",
              "    <tr>\n",
              "      <th>7535</th>\n",
              "      <td>2021-03-16 04:46:40</td>\n",
              "      <td>FACJ</td>\n",
              "      <td>FJGCGGIJFDCIBEFDGGI</td>\n",
              "      <td>2021</td>\n",
              "      <td>3</td>\n",
              "      <td>16</td>\n",
              "      <td>2021-03-15</td>\n",
              "      <td>NaT</td>\n",
              "    </tr>\n",
              "    <tr>\n",
              "      <th>7537</th>\n",
              "      <td>2021-03-16 02:00:00</td>\n",
              "      <td>B</td>\n",
              "      <td>EAHBCCAGCBJJHCCIIJA</td>\n",
              "      <td>2021</td>\n",
              "      <td>3</td>\n",
              "      <td>16</td>\n",
              "      <td>2021-03-15</td>\n",
              "      <td>NaT</td>\n",
              "    </tr>\n",
              "    <tr>\n",
              "      <th>7538</th>\n",
              "      <td>2021-03-16 07:33:20</td>\n",
              "      <td>FACJ</td>\n",
              "      <td>GFHJJEDEAEDBIHACJFJ</td>\n",
              "      <td>2021</td>\n",
              "      <td>3</td>\n",
              "      <td>16</td>\n",
              "      <td>2021-03-15</td>\n",
              "      <td>NaT</td>\n",
              "    </tr>\n",
              "  </tbody>\n",
              "</table>\n",
              "<p>4364 rows × 8 columns</p>\n",
              "</div>\n",
              "      <button class=\"colab-df-convert\" onclick=\"convertToInteractive('df-82206784-f2d8-4792-b796-4d9c7d5c67d2')\"\n",
              "              title=\"Convert this dataframe to an interactive table.\"\n",
              "              style=\"display:none;\">\n",
              "        \n",
              "  <svg xmlns=\"http://www.w3.org/2000/svg\" height=\"24px\"viewBox=\"0 0 24 24\"\n",
              "       width=\"24px\">\n",
              "    <path d=\"M0 0h24v24H0V0z\" fill=\"none\"/>\n",
              "    <path d=\"M18.56 5.44l.94 2.06.94-2.06 2.06-.94-2.06-.94-.94-2.06-.94 2.06-2.06.94zm-11 1L8.5 8.5l.94-2.06 2.06-.94-2.06-.94L8.5 2.5l-.94 2.06-2.06.94zm10 10l.94 2.06.94-2.06 2.06-.94-2.06-.94-.94-2.06-.94 2.06-2.06.94z\"/><path d=\"M17.41 7.96l-1.37-1.37c-.4-.4-.92-.59-1.43-.59-.52 0-1.04.2-1.43.59L10.3 9.45l-7.72 7.72c-.78.78-.78 2.05 0 2.83L4 21.41c.39.39.9.59 1.41.59.51 0 1.02-.2 1.41-.59l7.78-7.78 2.81-2.81c.8-.78.8-2.07 0-2.86zM5.41 20L4 18.59l7.72-7.72 1.47 1.35L5.41 20z\"/>\n",
              "  </svg>\n",
              "      </button>\n",
              "      \n",
              "  <style>\n",
              "    .colab-df-container {\n",
              "      display:flex;\n",
              "      flex-wrap:wrap;\n",
              "      gap: 12px;\n",
              "    }\n",
              "\n",
              "    .colab-df-convert {\n",
              "      background-color: #E8F0FE;\n",
              "      border: none;\n",
              "      border-radius: 50%;\n",
              "      cursor: pointer;\n",
              "      display: none;\n",
              "      fill: #1967D2;\n",
              "      height: 32px;\n",
              "      padding: 0 0 0 0;\n",
              "      width: 32px;\n",
              "    }\n",
              "\n",
              "    .colab-df-convert:hover {\n",
              "      background-color: #E2EBFA;\n",
              "      box-shadow: 0px 1px 2px rgba(60, 64, 67, 0.3), 0px 1px 3px 1px rgba(60, 64, 67, 0.15);\n",
              "      fill: #174EA6;\n",
              "    }\n",
              "\n",
              "    [theme=dark] .colab-df-convert {\n",
              "      background-color: #3B4455;\n",
              "      fill: #D2E3FC;\n",
              "    }\n",
              "\n",
              "    [theme=dark] .colab-df-convert:hover {\n",
              "      background-color: #434B5C;\n",
              "      box-shadow: 0px 1px 3px 1px rgba(0, 0, 0, 0.15);\n",
              "      filter: drop-shadow(0px 1px 2px rgba(0, 0, 0, 0.3));\n",
              "      fill: #FFFFFF;\n",
              "    }\n",
              "  </style>\n",
              "\n",
              "      <script>\n",
              "        const buttonEl =\n",
              "          document.querySelector('#df-82206784-f2d8-4792-b796-4d9c7d5c67d2 button.colab-df-convert');\n",
              "        buttonEl.style.display =\n",
              "          google.colab.kernel.accessAllowed ? 'block' : 'none';\n",
              "\n",
              "        async function convertToInteractive(key) {\n",
              "          const element = document.querySelector('#df-82206784-f2d8-4792-b796-4d9c7d5c67d2');\n",
              "          const dataTable =\n",
              "            await google.colab.kernel.invokeFunction('convertToInteractive',\n",
              "                                                     [key], {});\n",
              "          if (!dataTable) return;\n",
              "\n",
              "          const docLinkHtml = 'Like what you see? Visit the ' +\n",
              "            '<a target=\"_blank\" href=https://colab.research.google.com/notebooks/data_table.ipynb>data table notebook</a>'\n",
              "            + ' to learn more about interactive tables.';\n",
              "          element.innerHTML = '';\n",
              "          dataTable['output_type'] = 'display_data';\n",
              "          await google.colab.output.renderOutput(dataTable, element);\n",
              "          const docLink = document.createElement('div');\n",
              "          docLink.innerHTML = docLinkHtml;\n",
              "          element.appendChild(docLink);\n",
              "        }\n",
              "      </script>\n",
              "    </div>\n",
              "  </div>\n",
              "  "
            ]
          },
          "metadata": {},
          "execution_count": 55
        }
      ]
    },
    {
      "cell_type": "code",
      "source": [
        "back_end"
      ],
      "metadata": {
        "colab": {
          "base_uri": "https://localhost:8080/",
          "height": 424
        },
        "id": "yRMBCoVAjc7x",
        "outputId": "3ae34245-8f5b-4f1a-e02e-571ec2ab0e11"
      },
      "execution_count": 56,
      "outputs": [
        {
          "output_type": "execute_result",
          "data": {
            "text/plain": [
              "               timestamp stepresult                   id  Year  Month  Day  \\\n",
              "0    2021-03-15 12:06:40          B  BIIAJCGCFGECCBJFBAH  2021      3   15   \n",
              "1    2021-03-16 02:00:00       FACJ  HAAICIFCAIAAGBIJEGE  2021      3   16   \n",
              "2    2021-03-15 03:46:40       FACJ  DDAAAHEEDIIFCJCGDHF  2021      3   15   \n",
              "5    2021-03-16 10:20:00       FACJ  ICJFGGHAAIDFADFBBJB  2021      3   16   \n",
              "7    2021-03-16 13:06:40       FACJ  GCFFJDHEECHIBIDJIIJ  2021      3   16   \n",
              "...                  ...        ...                  ...   ...    ...  ...   \n",
              "7531 2021-03-15 12:06:40       FACJ  FEHBADJCADIFDEHIHHJ  2021      3   15   \n",
              "7534 2021-03-15 03:46:40       FACJ  BEJEIADCHIJEAHFGEDC  2021      3   15   \n",
              "7535 2021-03-16 04:46:40       FACJ  FJGCGGIJFDCIBEFDGGI  2021      3   16   \n",
              "7537 2021-03-16 02:00:00          B  EAHBCCAGCBJJHCCIIJA  2021      3   16   \n",
              "7538 2021-03-16 07:33:20       FACJ  GFHJJEDEAEDBIHACJFJ  2021      3   16   \n",
              "\n",
              "      timestamp2                 id_1 timestamp_1  \n",
              "0     2021-03-18                  NaN         NaT  \n",
              "1     2021-03-18  BIIAJCGCFGECCBJFBAH         NaT  \n",
              "2     2021-03-17  HAAICIFCAIAAGBIJEGE         NaT  \n",
              "5     2021-03-17  DDAAAHEEDIIFCJCGDHF         NaT  \n",
              "7     2021-03-17  ICJFGGHAAIDFADFBBJB         NaT  \n",
              "...          ...                  ...         ...  \n",
              "7531  2021-03-16  IBAHGAFCCFBDHDAHIJI         NaT  \n",
              "7534  2021-03-15  FEHBADJCADIFDEHIHHJ         NaT  \n",
              "7535  2021-03-15  BEJEIADCHIJEAHFGEDC         NaT  \n",
              "7537  2021-03-15  FJGCGGIJFDCIBEFDGGI         NaT  \n",
              "7538  2021-03-15  EAHBCCAGCBJJHCCIIJA         NaT  \n",
              "\n",
              "[4364 rows x 9 columns]"
            ],
            "text/html": [
              "\n",
              "  <div id=\"df-c612a84b-0dfc-4970-9bde-258cb931a8cc\">\n",
              "    <div class=\"colab-df-container\">\n",
              "      <div>\n",
              "<style scoped>\n",
              "    .dataframe tbody tr th:only-of-type {\n",
              "        vertical-align: middle;\n",
              "    }\n",
              "\n",
              "    .dataframe tbody tr th {\n",
              "        vertical-align: top;\n",
              "    }\n",
              "\n",
              "    .dataframe thead th {\n",
              "        text-align: right;\n",
              "    }\n",
              "</style>\n",
              "<table border=\"1\" class=\"dataframe\">\n",
              "  <thead>\n",
              "    <tr style=\"text-align: right;\">\n",
              "      <th></th>\n",
              "      <th>timestamp</th>\n",
              "      <th>stepresult</th>\n",
              "      <th>id</th>\n",
              "      <th>Year</th>\n",
              "      <th>Month</th>\n",
              "      <th>Day</th>\n",
              "      <th>timestamp2</th>\n",
              "      <th>id_1</th>\n",
              "      <th>timestamp_1</th>\n",
              "    </tr>\n",
              "  </thead>\n",
              "  <tbody>\n",
              "    <tr>\n",
              "      <th>0</th>\n",
              "      <td>2021-03-15 12:06:40</td>\n",
              "      <td>B</td>\n",
              "      <td>BIIAJCGCFGECCBJFBAH</td>\n",
              "      <td>2021</td>\n",
              "      <td>3</td>\n",
              "      <td>15</td>\n",
              "      <td>2021-03-18</td>\n",
              "      <td>NaN</td>\n",
              "      <td>NaT</td>\n",
              "    </tr>\n",
              "    <tr>\n",
              "      <th>1</th>\n",
              "      <td>2021-03-16 02:00:00</td>\n",
              "      <td>FACJ</td>\n",
              "      <td>HAAICIFCAIAAGBIJEGE</td>\n",
              "      <td>2021</td>\n",
              "      <td>3</td>\n",
              "      <td>16</td>\n",
              "      <td>2021-03-18</td>\n",
              "      <td>BIIAJCGCFGECCBJFBAH</td>\n",
              "      <td>NaT</td>\n",
              "    </tr>\n",
              "    <tr>\n",
              "      <th>2</th>\n",
              "      <td>2021-03-15 03:46:40</td>\n",
              "      <td>FACJ</td>\n",
              "      <td>DDAAAHEEDIIFCJCGDHF</td>\n",
              "      <td>2021</td>\n",
              "      <td>3</td>\n",
              "      <td>15</td>\n",
              "      <td>2021-03-17</td>\n",
              "      <td>HAAICIFCAIAAGBIJEGE</td>\n",
              "      <td>NaT</td>\n",
              "    </tr>\n",
              "    <tr>\n",
              "      <th>5</th>\n",
              "      <td>2021-03-16 10:20:00</td>\n",
              "      <td>FACJ</td>\n",
              "      <td>ICJFGGHAAIDFADFBBJB</td>\n",
              "      <td>2021</td>\n",
              "      <td>3</td>\n",
              "      <td>16</td>\n",
              "      <td>2021-03-17</td>\n",
              "      <td>DDAAAHEEDIIFCJCGDHF</td>\n",
              "      <td>NaT</td>\n",
              "    </tr>\n",
              "    <tr>\n",
              "      <th>7</th>\n",
              "      <td>2021-03-16 13:06:40</td>\n",
              "      <td>FACJ</td>\n",
              "      <td>GCFFJDHEECHIBIDJIIJ</td>\n",
              "      <td>2021</td>\n",
              "      <td>3</td>\n",
              "      <td>16</td>\n",
              "      <td>2021-03-17</td>\n",
              "      <td>ICJFGGHAAIDFADFBBJB</td>\n",
              "      <td>NaT</td>\n",
              "    </tr>\n",
              "    <tr>\n",
              "      <th>...</th>\n",
              "      <td>...</td>\n",
              "      <td>...</td>\n",
              "      <td>...</td>\n",
              "      <td>...</td>\n",
              "      <td>...</td>\n",
              "      <td>...</td>\n",
              "      <td>...</td>\n",
              "      <td>...</td>\n",
              "      <td>...</td>\n",
              "    </tr>\n",
              "    <tr>\n",
              "      <th>7531</th>\n",
              "      <td>2021-03-15 12:06:40</td>\n",
              "      <td>FACJ</td>\n",
              "      <td>FEHBADJCADIFDEHIHHJ</td>\n",
              "      <td>2021</td>\n",
              "      <td>3</td>\n",
              "      <td>15</td>\n",
              "      <td>2021-03-16</td>\n",
              "      <td>IBAHGAFCCFBDHDAHIJI</td>\n",
              "      <td>NaT</td>\n",
              "    </tr>\n",
              "    <tr>\n",
              "      <th>7534</th>\n",
              "      <td>2021-03-15 03:46:40</td>\n",
              "      <td>FACJ</td>\n",
              "      <td>BEJEIADCHIJEAHFGEDC</td>\n",
              "      <td>2021</td>\n",
              "      <td>3</td>\n",
              "      <td>15</td>\n",
              "      <td>2021-03-15</td>\n",
              "      <td>FEHBADJCADIFDEHIHHJ</td>\n",
              "      <td>NaT</td>\n",
              "    </tr>\n",
              "    <tr>\n",
              "      <th>7535</th>\n",
              "      <td>2021-03-16 04:46:40</td>\n",
              "      <td>FACJ</td>\n",
              "      <td>FJGCGGIJFDCIBEFDGGI</td>\n",
              "      <td>2021</td>\n",
              "      <td>3</td>\n",
              "      <td>16</td>\n",
              "      <td>2021-03-15</td>\n",
              "      <td>BEJEIADCHIJEAHFGEDC</td>\n",
              "      <td>NaT</td>\n",
              "    </tr>\n",
              "    <tr>\n",
              "      <th>7537</th>\n",
              "      <td>2021-03-16 02:00:00</td>\n",
              "      <td>B</td>\n",
              "      <td>EAHBCCAGCBJJHCCIIJA</td>\n",
              "      <td>2021</td>\n",
              "      <td>3</td>\n",
              "      <td>16</td>\n",
              "      <td>2021-03-15</td>\n",
              "      <td>FJGCGGIJFDCIBEFDGGI</td>\n",
              "      <td>NaT</td>\n",
              "    </tr>\n",
              "    <tr>\n",
              "      <th>7538</th>\n",
              "      <td>2021-03-16 07:33:20</td>\n",
              "      <td>FACJ</td>\n",
              "      <td>GFHJJEDEAEDBIHACJFJ</td>\n",
              "      <td>2021</td>\n",
              "      <td>3</td>\n",
              "      <td>16</td>\n",
              "      <td>2021-03-15</td>\n",
              "      <td>EAHBCCAGCBJJHCCIIJA</td>\n",
              "      <td>NaT</td>\n",
              "    </tr>\n",
              "  </tbody>\n",
              "</table>\n",
              "<p>4364 rows × 9 columns</p>\n",
              "</div>\n",
              "      <button class=\"colab-df-convert\" onclick=\"convertToInteractive('df-c612a84b-0dfc-4970-9bde-258cb931a8cc')\"\n",
              "              title=\"Convert this dataframe to an interactive table.\"\n",
              "              style=\"display:none;\">\n",
              "        \n",
              "  <svg xmlns=\"http://www.w3.org/2000/svg\" height=\"24px\"viewBox=\"0 0 24 24\"\n",
              "       width=\"24px\">\n",
              "    <path d=\"M0 0h24v24H0V0z\" fill=\"none\"/>\n",
              "    <path d=\"M18.56 5.44l.94 2.06.94-2.06 2.06-.94-2.06-.94-.94-2.06-.94 2.06-2.06.94zm-11 1L8.5 8.5l.94-2.06 2.06-.94-2.06-.94L8.5 2.5l-.94 2.06-2.06.94zm10 10l.94 2.06.94-2.06 2.06-.94-2.06-.94-.94-2.06-.94 2.06-2.06.94z\"/><path d=\"M17.41 7.96l-1.37-1.37c-.4-.4-.92-.59-1.43-.59-.52 0-1.04.2-1.43.59L10.3 9.45l-7.72 7.72c-.78.78-.78 2.05 0 2.83L4 21.41c.39.39.9.59 1.41.59.51 0 1.02-.2 1.41-.59l7.78-7.78 2.81-2.81c.8-.78.8-2.07 0-2.86zM5.41 20L4 18.59l7.72-7.72 1.47 1.35L5.41 20z\"/>\n",
              "  </svg>\n",
              "      </button>\n",
              "      \n",
              "  <style>\n",
              "    .colab-df-container {\n",
              "      display:flex;\n",
              "      flex-wrap:wrap;\n",
              "      gap: 12px;\n",
              "    }\n",
              "\n",
              "    .colab-df-convert {\n",
              "      background-color: #E8F0FE;\n",
              "      border: none;\n",
              "      border-radius: 50%;\n",
              "      cursor: pointer;\n",
              "      display: none;\n",
              "      fill: #1967D2;\n",
              "      height: 32px;\n",
              "      padding: 0 0 0 0;\n",
              "      width: 32px;\n",
              "    }\n",
              "\n",
              "    .colab-df-convert:hover {\n",
              "      background-color: #E2EBFA;\n",
              "      box-shadow: 0px 1px 2px rgba(60, 64, 67, 0.3), 0px 1px 3px 1px rgba(60, 64, 67, 0.15);\n",
              "      fill: #174EA6;\n",
              "    }\n",
              "\n",
              "    [theme=dark] .colab-df-convert {\n",
              "      background-color: #3B4455;\n",
              "      fill: #D2E3FC;\n",
              "    }\n",
              "\n",
              "    [theme=dark] .colab-df-convert:hover {\n",
              "      background-color: #434B5C;\n",
              "      box-shadow: 0px 1px 3px 1px rgba(0, 0, 0, 0.15);\n",
              "      filter: drop-shadow(0px 1px 2px rgba(0, 0, 0, 0.3));\n",
              "      fill: #FFFFFF;\n",
              "    }\n",
              "  </style>\n",
              "\n",
              "      <script>\n",
              "        const buttonEl =\n",
              "          document.querySelector('#df-c612a84b-0dfc-4970-9bde-258cb931a8cc button.colab-df-convert');\n",
              "        buttonEl.style.display =\n",
              "          google.colab.kernel.accessAllowed ? 'block' : 'none';\n",
              "\n",
              "        async function convertToInteractive(key) {\n",
              "          const element = document.querySelector('#df-c612a84b-0dfc-4970-9bde-258cb931a8cc');\n",
              "          const dataTable =\n",
              "            await google.colab.kernel.invokeFunction('convertToInteractive',\n",
              "                                                     [key], {});\n",
              "          if (!dataTable) return;\n",
              "\n",
              "          const docLinkHtml = 'Like what you see? Visit the ' +\n",
              "            '<a target=\"_blank\" href=https://colab.research.google.com/notebooks/data_table.ipynb>data table notebook</a>'\n",
              "            + ' to learn more about interactive tables.';\n",
              "          element.innerHTML = '';\n",
              "          dataTable['output_type'] = 'display_data';\n",
              "          await google.colab.output.renderOutput(dataTable, element);\n",
              "          const docLink = document.createElement('div');\n",
              "          docLink.innerHTML = docLinkHtml;\n",
              "          element.appendChild(docLink);\n",
              "        }\n",
              "      </script>\n",
              "    </div>\n",
              "  </div>\n",
              "  "
            ]
          },
          "metadata": {},
          "execution_count": 56
        }
      ]
    },
    {
      "cell_type": "code",
      "source": [
        "def "
      ],
      "metadata": {
        "colab": {
          "base_uri": "https://localhost:8080/",
          "height": 130
        },
        "id": "GD0YzFnNlDcQ",
        "outputId": "54ceaf3d-bb38-4c36-f41e-fe9c52306047"
      },
      "execution_count": 57,
      "outputs": [
        {
          "output_type": "error",
          "ename": "SyntaxError",
          "evalue": "ignored",
          "traceback": [
            "\u001b[0;36m  File \u001b[0;32m\"<ipython-input-57-455680ca2399>\"\u001b[0;36m, line \u001b[0;32m1\u001b[0m\n\u001b[0;31m    def\u001b[0m\n\u001b[0m        ^\u001b[0m\n\u001b[0;31mSyntaxError\u001b[0m\u001b[0;31m:\u001b[0m invalid syntax\n"
          ]
        }
      ]
    }
  ],
  "metadata": {
    "colab": {
      "collapsed_sections": [],
      "name": "DaZone Round2",
      "provenance": [],
      "authorship_tag": "ABX9TyP0xhtPuRGtW+dgp2ez6bat",
      "include_colab_link": true
    },
    "kernelspec": {
      "display_name": "Python 3",
      "name": "python3"
    },
    "language_info": {
      "name": "python"
    }
  },
  "nbformat": 4,
  "nbformat_minor": 0
}
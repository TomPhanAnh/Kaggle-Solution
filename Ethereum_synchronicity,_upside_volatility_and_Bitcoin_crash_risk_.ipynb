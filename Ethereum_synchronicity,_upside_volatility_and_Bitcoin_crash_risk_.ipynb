{
  "cells": [
    {
      "cell_type": "markdown",
      "metadata": {
        "id": "view-in-github",
        "colab_type": "text"
      },
      "source": [
        "<a href=\"https://colab.research.google.com/github/TomPhanAnh/Kaggle-Solution/blob/main/Ethereum_synchronicity%2C_upside_volatility_and_Bitcoin_crash_risk_.ipynb\" target=\"_parent\"><img src=\"https://colab.research.google.com/assets/colab-badge.svg\" alt=\"Open In Colab\"/></a>"
      ]
    },
    {
      "cell_type": "code",
      "execution_count": 174,
      "metadata": {
        "colab": {
          "base_uri": "https://localhost:8080/"
        },
        "id": "T5D2GkOywuDP",
        "outputId": "504d73a2-37dc-47e3-ae81-37cc13749f1c"
      },
      "outputs": [
        {
          "output_type": "stream",
          "name": "stdout",
          "text": [
            "Looking in indexes: https://pypi.org/simple, https://us-python.pkg.dev/colab-wheels/public/simple/\n",
            "Requirement already satisfied: yfinance in /usr/local/lib/python3.7/dist-packages (0.1.70)\n",
            "Requirement already satisfied: multitasking>=0.0.7 in /usr/local/lib/python3.7/dist-packages (from yfinance) (0.0.10)\n",
            "Requirement already satisfied: lxml>=4.5.1 in /usr/local/lib/python3.7/dist-packages (from yfinance) (4.8.0)\n",
            "Requirement already satisfied: pandas>=0.24.0 in /usr/local/lib/python3.7/dist-packages (from yfinance) (1.3.5)\n",
            "Requirement already satisfied: numpy>=1.15 in /usr/local/lib/python3.7/dist-packages (from yfinance) (1.21.6)\n",
            "Requirement already satisfied: requests>=2.26 in /usr/local/lib/python3.7/dist-packages (from yfinance) (2.27.1)\n",
            "Requirement already satisfied: pytz>=2017.3 in /usr/local/lib/python3.7/dist-packages (from pandas>=0.24.0->yfinance) (2022.1)\n",
            "Requirement already satisfied: python-dateutil>=2.7.3 in /usr/local/lib/python3.7/dist-packages (from pandas>=0.24.0->yfinance) (2.8.2)\n",
            "Requirement already satisfied: six>=1.5 in /usr/local/lib/python3.7/dist-packages (from python-dateutil>=2.7.3->pandas>=0.24.0->yfinance) (1.15.0)\n",
            "Requirement already satisfied: urllib3<1.27,>=1.21.1 in /usr/local/lib/python3.7/dist-packages (from requests>=2.26->yfinance) (1.24.3)\n",
            "Requirement already satisfied: charset-normalizer~=2.0.0 in /usr/local/lib/python3.7/dist-packages (from requests>=2.26->yfinance) (2.0.12)\n",
            "Requirement already satisfied: certifi>=2017.4.17 in /usr/local/lib/python3.7/dist-packages (from requests>=2.26->yfinance) (2022.5.18.1)\n",
            "Requirement already satisfied: idna<4,>=2.5 in /usr/local/lib/python3.7/dist-packages (from requests>=2.26->yfinance) (2.10)\n"
          ]
        }
      ],
      "source": [
        "# LinearRegression is a machine learning library for linear regression\n",
        "from sklearn.linear_model import LinearRegression\n",
        "import math\n",
        "\n",
        "# Import statsmodels to output data\n",
        "import statsmodels.api as sm\n",
        "import  statsmodels.formula.api as smf \n",
        "\n",
        "# pandas and numpy are used for data manipulation\n",
        "import pandas as pd\n",
        "import numpy as np\n",
        "\n",
        "# Import pandas_datareader to collect data, datetime as specify event period and time-series columns as daily \n",
        "import pandas_datareader.data as web\n",
        "import datetime\n",
        "\n",
        "\n",
        "# matplotlib and seaborn are used for plotting graphs\n",
        "import matplotlib.pyplot as plt\n",
        "%matplotlib inline\n",
        "plt.style.use('seaborn-darkgrid')\n",
        "\n",
        "# yahoo finance is used to fetch data\n",
        "! pip install yfinance\n",
        "import yfinance as yf\n",
        "\n",
        "pd.options.display.max_rows = 999\n",
        "pd.options.display.max_columns = 999"
      ]
    },
    {
      "cell_type": "code",
      "execution_count": 175,
      "metadata": {
        "colab": {
          "base_uri": "https://localhost:8080/"
        },
        "id": "hHZTPHBlRuIu",
        "outputId": "1b7a2313-e4fe-4768-df84-30486f88b311"
      },
      "outputs": [
        {
          "output_type": "stream",
          "name": "stdout",
          "text": [
            "Looking in indexes: https://pypi.org/simple, https://us-python.pkg.dev/colab-wheels/public/simple/\n",
            "Requirement already satisfied: bitfinex-tencars in /usr/local/lib/python3.7/dist-packages (0.0.3)\n"
          ]
        }
      ],
      "source": [
        "!pip install bitfinex-tencars"
      ]
    },
    {
      "cell_type": "markdown",
      "metadata": {
        "id": "fNCFZ-UF049c"
      },
      "source": [
        "## **Control variables including:**\n",
        " - Daily return of gold price (gold), \n",
        " - Stand & Poor Index (spx), \n",
        " - Dollar index (usdx), \n",
        " - Volatility index (vix), \n",
        " - WTI crude oil (wti), \n",
        " - 30-year treasury bond (T − bond), and \n",
        " - Investor sentiment index data issued by Federal Reserve Bank of San\n",
        "Francisco (sentiment). "
      ]
    },
    {
      "cell_type": "code",
      "execution_count": 176,
      "metadata": {
        "colab": {
          "base_uri": "https://localhost:8080/"
        },
        "id": "k1LPQ2Zh0dE3",
        "outputId": "89f46200-f440-4dd8-b0fc-6a8de96cbf74"
      },
      "outputs": [
        {
          "output_type": "stream",
          "name": "stderr",
          "text": [
            "/usr/local/lib/python3.7/dist-packages/ipykernel_launcher.py:15: FutureWarning:\n",
            "\n",
            "Comparison of Timestamp with datetime.date is deprecated in order to match the standard library behavior.  In a future version these will be considered non-comparable.Use 'ts == pd.Timestamp(date)' or 'ts.date() == date' instead.\n",
            "\n"
          ]
        },
        {
          "output_type": "stream",
          "name": "stdout",
          "text": [
            "[*********************100%***********************]  1 of 1 completed\n",
            "[*********************100%***********************]  1 of 1 completed\n"
          ]
        },
        {
          "output_type": "stream",
          "name": "stderr",
          "text": [
            "/usr/local/lib/python3.7/dist-packages/ipykernel_launcher.py:20: SettingWithCopyWarning:\n",
            "\n",
            "\n",
            "A value is trying to be set on a copy of a slice from a DataFrame.\n",
            "Try using .loc[row_indexer,col_indexer] = value instead\n",
            "\n",
            "See the caveats in the documentation: https://pandas.pydata.org/pandas-docs/stable/user_guide/indexing.html#returning-a-view-versus-a-copy\n",
            "\n",
            "/usr/local/lib/python3.7/dist-packages/pandas/core/frame.py:5047: SettingWithCopyWarning:\n",
            "\n",
            "\n",
            "A value is trying to be set on a copy of a slice from a DataFrame\n",
            "\n",
            "See the caveats in the documentation: https://pandas.pydata.org/pandas-docs/stable/user_guide/indexing.html#returning-a-view-versus-a-copy\n",
            "\n"
          ]
        },
        {
          "output_type": "stream",
          "name": "stdout",
          "text": [
            "[*********************100%***********************]  1 of 1 completed\n",
            "[*********************100%***********************]  1 of 1 completed\n",
            "[*********************100%***********************]  1 of 1 completed\n"
          ]
        }
      ],
      "source": [
        "import pandas as pd\n",
        "import pandas_datareader.data as web\n",
        "import datetime\n",
        "from datetime import timedelta\n",
        "\n",
        "start_date = datetime.date(2016,6,1)\n",
        "end_date   = datetime.date(2022,5,22)\n",
        "delta =  datetime.timedelta(days = 7)\n",
        "\n",
        "# Stand & Poor Index (spx)\n",
        "SP_500_index = web.DataReader(['sp500'],'fred',start_date,end_date)\n",
        "\n",
        "# Investor sentiment index data issued by Federal Reserve Bank of San Francisco (sentiment).\n",
        "sentiment = pd.read_csv(\"sentiment.csv\",parse_dates = [\"date\"])\n",
        "sentiment = sentiment[sentiment['date'].apply(lambda x: x >= start_date and x <= end_date)]\n",
        "sentiment.rename(columns = {\"date\":\"Date\",\"News Sentiment\":\"News_Sentiment\"}, inplace = True)\n",
        "\n",
        "# daily return of gold price (gold)\n",
        "gold = yf.download(\"GLD\",'2008-01-01','2022-05-22',auto_adjust = True)[['Close']]\n",
        "gold[\"Return_gold\"] = gold[\"Close\"]/gold[\"Close\"].shift(1) - 1\n",
        "gold.rename(columns = {\"Close\":\"Gold\"}, inplace = True)\n",
        "\n",
        "# 30-year treasury bond (T − bond)\n",
        "B_T = yf.download(\"^TYX\",        start_date, end_date,auto_adjust = True)[['Close']].reset_index()\n",
        "B_T.rename(columns = {\"Close\":\"T_Bill\"}, inplace = True)\n",
        "\n",
        "# dollar index (usdx)\n",
        "D_index = yf.download(\"DX-Y.NYB\",start_date, end_date,auto_adjust = True)[['Close']].reset_index()\n",
        "D_index.rename(columns = {\"Close\":\"Dollar_Index\"}, inplace = True)\n",
        "\n",
        "# volatility index (vix),\n",
        "vix = yf.download(\"^VIX\" ,       start_date, end_date,auto_adjust = True)[['Close']].reset_index()\n",
        "vix.rename(columns = {\"Close\":\"VIX\"}, inplace = True)\n",
        "\n",
        "# wti crude oil (wti)\n",
        "wti = yf.download(\"WTI\",         start_date, end_date,auto_adjust = True)[['Close']].reset_index()\n",
        "wti.rename(columns = {\"Close\":\"WTI_Oil_price\"}, inplace = True)"
      ]
    },
    {
      "cell_type": "markdown",
      "metadata": {
        "id": "B53IrVee-I6p"
      },
      "source": [
        "### Import **Bitcoin (BTC) and Ethereum (ETH-USD) dataset** from yahoo finance at ***30 minutes level/interval***"
      ]
    },
    {
      "cell_type": "code",
      "execution_count": 177,
      "metadata": {
        "colab": {
          "base_uri": "https://localhost:8080/"
        },
        "id": "wDTmojYuYaUC",
        "outputId": "3f843a2b-a8c2-42f2-f615-fbbd47d4968c"
      },
      "outputs": [
        {
          "output_type": "stream",
          "name": "stdout",
          "text": [
            "No keys, only access to public API functions\n"
          ]
        }
      ],
      "source": [
        "import bitfinex\n",
        "import datetime\n",
        "import time\n",
        "import pandas as pd\n",
        "\n",
        "start_date = datetime.datetime(2016,5,31,0,0)\n",
        "start_date = time.mktime(start_date.timetuple()) * 1000\n",
        "end_date   = datetime.datetime(2022,5,21,0,0)\n",
        "end_date = time.mktime(end_date.timetuple()) * 1000\n",
        "\n",
        "# Create api instance of the v2 API\n",
        "api_v2 = bitfinex.bitfinex_v2.api_v2()\n",
        "\n",
        "# Define query parameters\n",
        "pair = 'BTCUSD' # Currency pair of interest\n",
        "interval = '30m'#,'4h','1h','15m','1m'\n",
        "names = ['Date', 'Open', 'Close', 'High', 'Low', 'Volume'] # Columns name\n",
        "\n",
        "# Create a blank dataframe of Bitcoin\n",
        "BTC = pd.DataFrame(columns = names)\n",
        "BTC[\"Date\"] = pd.to_datetime(BTC[\"Date\"]) # Specify the Date columns as Date type\n",
        "\n",
        "for i in range(10000):\n",
        "  # Download OHCL data from API\n",
        "  \n",
        "  while end_date >= start_date:\n",
        "    try:\n",
        "      result = api_v2.candles(symbol = pair, interval = interval, limit = 10000, start = start_date, end= end_date)\n",
        "  # Convert list of data to pandas dataframe\n",
        "      df = pd.DataFrame(result, columns = names)\n",
        "      df[\"Date\"] = pd.to_datetime(df[\"Date\"], unit = \"ms\")\n",
        "  \n",
        "  # Concatenate the dataframe to create bitcoin dataset\n",
        "      BTC = pd.concat([df,BTC])\n",
        "      x = df.iloc[-1,0]\n",
        "  \n",
        "  # Recreate/reset the end date to begin new loop\n",
        "      end_date = datetime.datetime(x.year,x.month,x.day,x.hour,x.minute)\n",
        "      end_date = time.mktime(end_date.timetuple()) * 1000\n",
        "  # In case the result is unaccepted, we use try/except to remove the bug and continue to concatenate the date at the stopping date\n",
        "    except:\n",
        "      break \n",
        "      end_datex = datetime.datetime(x.year,x.month,x.day,x.hour,x.minute)\n",
        "      end_datex = time.mktime(end_datex.timetuple()) * 1000\n",
        "      result_x = api_v2.candles(symbol = pair, interval = interval, limit = 10000, start = start_date, end= end_datex)\n",
        "      df_x = pd.DataFrame(result_x, columns = names)\n",
        "      df_x[\"Date\"] = pd.to_datetime(df_x[\"Date\"], unit = \"ms\")  \n",
        "      BTC = pd.concat([df_x,BTC])\n",
        "#----------------------------------------------------------------------------------------\n",
        "  y = BTC.iloc[-1,0] \n",
        "  end_date = datetime.datetime(y.year,y.month,y.day,y.hour,y.minute)\n",
        "  end_date = time.mktime(end_date.timetuple()) * 1000\n",
        "\n",
        "# Sort dataset by Date columns\n",
        "BTC = BTC.sort_values(by = \"Date\").set_index(\"Date\").reset_index()\n",
        "# Drop Duplicates\n",
        "BTC.drop_duplicates(subset = \"Date\", inplace = True)\n",
        "BTC_30m = BTC.copy()"
      ]
    },
    {
      "cell_type": "markdown",
      "metadata": {
        "id": "LJEFUvdTLEKV"
      },
      "source": [
        "###**Ethereum Dataset from 1/6/2016 - 21/5/2022 at 30 minutes level/interval**\n",
        "\n",
        "Rerun if error"
      ]
    },
    {
      "cell_type": "code",
      "execution_count": 185,
      "metadata": {
        "colab": {
          "base_uri": "https://localhost:8080/"
        },
        "id": "8dcuwUYuuI4a",
        "outputId": "5f903536-9232-4d35-a0e5-09480d34d509"
      },
      "outputs": [
        {
          "output_type": "stream",
          "name": "stdout",
          "text": [
            "No keys, only access to public API functions\n",
            "Data Ethereum updated successfully\n"
          ]
        }
      ],
      "source": [
        "import bitfinex\n",
        "import datetime\n",
        "import time\n",
        "import pandas as pd\n",
        "\n",
        "start_date = datetime.datetime(2016,6,1,0,0)\n",
        "start_date = time.mktime(start_date.timetuple()) * 1000\n",
        "end_date   = datetime.datetime(2022,5,21,0,0)\n",
        "end_date = time.mktime(end_date.timetuple()) * 1000\n",
        "\n",
        "# Create api instance of the v2 API\n",
        "api_v2 = bitfinex.bitfinex_v2.api_v2()\n",
        "\n",
        "# Define query parameters\n",
        "pair = 'ETHUSD' # Currency pair of interest\n",
        "interval = '30m'#,'4h','1h','15m','1m'\n",
        "names = ['Date', 'Open', 'Close', 'High', 'Low', 'Volume'] # Columns name\n",
        "\n",
        "# Create a blank dataframe of Bitcoin\n",
        "ETH = pd.DataFrame(columns = names)\n",
        "ETH[\"Date\"] = pd.to_datetime(ETH[\"Date\"]) # Specify the Date columns as Date type\n",
        "\n",
        "for i in range(10000):\n",
        "  # Download OHCL data from API\n",
        "  \n",
        "  while end_date >= start_date:\n",
        "    try:\n",
        "      result = api_v2.candles(symbol = pair, interval = interval, limit = 10000, start = start_date, end= end_date)\n",
        "  # Convert list of data to pandas dataframe\n",
        "      df = pd.DataFrame(result, columns = names)\n",
        "      df[\"Date\"] = pd.to_datetime(df[\"Date\"], unit = \"ms\")\n",
        "  \n",
        "  # Concatenate the dataframe to create bitcoin dataset\n",
        "      ETH = pd.concat([df,ETH])\n",
        "      x = df.iloc[-1,0]\n",
        "  \n",
        "  # Recreate/reset the end date to begin new loop\n",
        "      end_date = datetime.datetime(x.year,x.month,x.day,x.hour,x.minute)\n",
        "      end_date = time.mktime(end_date.timetuple()) * 1000\n",
        "  # In case the result is unaccepted, we use try/except to remove the bug and continue to concatenate the date at the stopping date\n",
        "    except:\n",
        "      break \n",
        "      end_datex = datetime.datetime(x.year,x.month,x.day,x.hour,x.minute)\n",
        "      end_datex = time.mktime(end_datex.timetuple()) * 1000\n",
        "      result_x = api_v2.candles(symbol = pair, interval = interval, limit = 10000, start = start_date, end= end_datex)\n",
        "      df_x = pd.DataFrame(result_x, columns = names)\n",
        "      df_x[\"Date\"] = pd.to_datetime(df_x[\"Date\"], unit = \"ms\")  \n",
        "      ETH = pd.concat([df_x,ETH])\n",
        "\n",
        "#----------------------------------------------------------------------------------------\n",
        "  y = ETH.iloc[-1,0] \n",
        "  end_date = datetime.datetime(y.year,y.month,y.day,y.hour,y.minute)\n",
        "  end_date = time.mktime(end_date.timetuple()) * 1000\n",
        "\n",
        "# Sort dataset by Date columns\n",
        "ETH = ETH.sort_values(by = \"Date\").set_index(\"Date\").reset_index()\n",
        "\n",
        "# Drop Duplicates\n",
        "ETH.drop_duplicates(subset = \"Date\", inplace = True)\n",
        "ETH_30m = ETH.copy()\n",
        "\n",
        "# Remember to copy the new dataframe to calculate the R2 - SYNC\n",
        "ETH['Return'] = ETH['Close']/ETH['Close'].shift(-1) - 1\n",
        "print(\"Data Ethereum updated successfully\")"
      ]
    },
    {
      "cell_type": "code",
      "source": [
        "ETH"
      ],
      "metadata": {
        "colab": {
          "base_uri": "https://localhost:8080/",
          "height": 49
        },
        "id": "WXR_8gIKcLVx",
        "outputId": "3328d2b4-9eaa-42e0-c9e7-366615000f91"
      },
      "execution_count": 184,
      "outputs": [
        {
          "output_type": "execute_result",
          "data": {
            "text/plain": [
              "Empty DataFrame\n",
              "Columns: [Date, Open, Close, High, Low, Volume]\n",
              "Index: []"
            ],
            "text/html": [
              "\n",
              "  <div id=\"df-c5bd10eb-8be8-454f-80bd-6e4e43aa25c1\">\n",
              "    <div class=\"colab-df-container\">\n",
              "      <div>\n",
              "<style scoped>\n",
              "    .dataframe tbody tr th:only-of-type {\n",
              "        vertical-align: middle;\n",
              "    }\n",
              "\n",
              "    .dataframe tbody tr th {\n",
              "        vertical-align: top;\n",
              "    }\n",
              "\n",
              "    .dataframe thead th {\n",
              "        text-align: right;\n",
              "    }\n",
              "</style>\n",
              "<table border=\"1\" class=\"dataframe\">\n",
              "  <thead>\n",
              "    <tr style=\"text-align: right;\">\n",
              "      <th></th>\n",
              "      <th>Date</th>\n",
              "      <th>Open</th>\n",
              "      <th>Close</th>\n",
              "      <th>High</th>\n",
              "      <th>Low</th>\n",
              "      <th>Volume</th>\n",
              "    </tr>\n",
              "  </thead>\n",
              "  <tbody>\n",
              "  </tbody>\n",
              "</table>\n",
              "</div>\n",
              "      <button class=\"colab-df-convert\" onclick=\"convertToInteractive('df-c5bd10eb-8be8-454f-80bd-6e4e43aa25c1')\"\n",
              "              title=\"Convert this dataframe to an interactive table.\"\n",
              "              style=\"display:none;\">\n",
              "        \n",
              "  <svg xmlns=\"http://www.w3.org/2000/svg\" height=\"24px\"viewBox=\"0 0 24 24\"\n",
              "       width=\"24px\">\n",
              "    <path d=\"M0 0h24v24H0V0z\" fill=\"none\"/>\n",
              "    <path d=\"M18.56 5.44l.94 2.06.94-2.06 2.06-.94-2.06-.94-.94-2.06-.94 2.06-2.06.94zm-11 1L8.5 8.5l.94-2.06 2.06-.94-2.06-.94L8.5 2.5l-.94 2.06-2.06.94zm10 10l.94 2.06.94-2.06 2.06-.94-2.06-.94-.94-2.06-.94 2.06-2.06.94z\"/><path d=\"M17.41 7.96l-1.37-1.37c-.4-.4-.92-.59-1.43-.59-.52 0-1.04.2-1.43.59L10.3 9.45l-7.72 7.72c-.78.78-.78 2.05 0 2.83L4 21.41c.39.39.9.59 1.41.59.51 0 1.02-.2 1.41-.59l7.78-7.78 2.81-2.81c.8-.78.8-2.07 0-2.86zM5.41 20L4 18.59l7.72-7.72 1.47 1.35L5.41 20z\"/>\n",
              "  </svg>\n",
              "      </button>\n",
              "      \n",
              "  <style>\n",
              "    .colab-df-container {\n",
              "      display:flex;\n",
              "      flex-wrap:wrap;\n",
              "      gap: 12px;\n",
              "    }\n",
              "\n",
              "    .colab-df-convert {\n",
              "      background-color: #E8F0FE;\n",
              "      border: none;\n",
              "      border-radius: 50%;\n",
              "      cursor: pointer;\n",
              "      display: none;\n",
              "      fill: #1967D2;\n",
              "      height: 32px;\n",
              "      padding: 0 0 0 0;\n",
              "      width: 32px;\n",
              "    }\n",
              "\n",
              "    .colab-df-convert:hover {\n",
              "      background-color: #E2EBFA;\n",
              "      box-shadow: 0px 1px 2px rgba(60, 64, 67, 0.3), 0px 1px 3px 1px rgba(60, 64, 67, 0.15);\n",
              "      fill: #174EA6;\n",
              "    }\n",
              "\n",
              "    [theme=dark] .colab-df-convert {\n",
              "      background-color: #3B4455;\n",
              "      fill: #D2E3FC;\n",
              "    }\n",
              "\n",
              "    [theme=dark] .colab-df-convert:hover {\n",
              "      background-color: #434B5C;\n",
              "      box-shadow: 0px 1px 3px 1px rgba(0, 0, 0, 0.15);\n",
              "      filter: drop-shadow(0px 1px 2px rgba(0, 0, 0, 0.3));\n",
              "      fill: #FFFFFF;\n",
              "    }\n",
              "  </style>\n",
              "\n",
              "      <script>\n",
              "        const buttonEl =\n",
              "          document.querySelector('#df-c5bd10eb-8be8-454f-80bd-6e4e43aa25c1 button.colab-df-convert');\n",
              "        buttonEl.style.display =\n",
              "          google.colab.kernel.accessAllowed ? 'block' : 'none';\n",
              "\n",
              "        async function convertToInteractive(key) {\n",
              "          const element = document.querySelector('#df-c5bd10eb-8be8-454f-80bd-6e4e43aa25c1');\n",
              "          const dataTable =\n",
              "            await google.colab.kernel.invokeFunction('convertToInteractive',\n",
              "                                                     [key], {});\n",
              "          if (!dataTable) return;\n",
              "\n",
              "          const docLinkHtml = 'Like what you see? Visit the ' +\n",
              "            '<a target=\"_blank\" href=https://colab.research.google.com/notebooks/data_table.ipynb>data table notebook</a>'\n",
              "            + ' to learn more about interactive tables.';\n",
              "          element.innerHTML = '';\n",
              "          dataTable['output_type'] = 'display_data';\n",
              "          await google.colab.output.renderOutput(dataTable, element);\n",
              "          const docLink = document.createElement('div');\n",
              "          docLink.innerHTML = docLinkHtml;\n",
              "          element.appendChild(docLink);\n",
              "        }\n",
              "      </script>\n",
              "    </div>\n",
              "  </div>\n",
              "  "
            ]
          },
          "metadata": {},
          "execution_count": 184
        }
      ]
    },
    {
      "cell_type": "markdown",
      "metadata": {
        "id": "jSIUM8DZLBwU"
      },
      "source": [
        "### **Bitcoin- Ethereum Dataset from 1/6/2016 - 21/5/2022 at 1-day minutes level/interval**"
      ]
    },
    {
      "cell_type": "code",
      "execution_count": 186,
      "metadata": {
        "colab": {
          "base_uri": "https://localhost:8080/"
        },
        "id": "-i7Av5UE2Tf6",
        "outputId": "9c7e2c4a-080e-4abf-9236-b750a5d544ce"
      },
      "outputs": [
        {
          "output_type": "stream",
          "name": "stdout",
          "text": [
            "[*********************100%***********************]  1 of 1 completed\n",
            "[*********************100%***********************]  1 of 1 completed\n"
          ]
        }
      ],
      "source": [
        "BTC_1d = yf.download(\"BTC-USD\",start = \"2016-05-31\", end = \"2022-05-21\", interval = '1d', auto_adjust = True)\n",
        "BTC_1d[\"Return\"] = BTC_1d[\"Close\"]/BTC_1d[\"Close\"].shift(1) - 1\n",
        "\n",
        "# ETH_1d data\n",
        "ETH_1d = yf.download(\"ETH-USD\",start = \"2016-05-31\", end = \"2022-05-21\", interval = '1d', auto_adjust = True)\n",
        "\n",
        "# BTC_data is Dataset of bitcoin with interval of 1d => Calculate DUVOL & NCSKEW\n",
        "BTC_1d.reset_index(inplace = True)\n",
        "BTC_1d[\"Year\"]  = BTC_1d[\"Date\"].apply(lambda x: x.year)\n",
        "BTC_1d[\"Month\"] = BTC_1d[\"Date\"].apply(lambda x: x.month)\n",
        "BTC_1d[\"Day\"]   = BTC_1d[\"Date\"].apply(lambda x: x.day)"
      ]
    },
    {
      "cell_type": "code",
      "execution_count": 187,
      "metadata": {
        "id": "yltSrvN684xf"
      },
      "outputs": [],
      "source": [
        "# Update BTC_30m dataset with Year/Month/Day\n",
        "BTC[\"Return\"] = BTC[\"Close\"]/BTC[\"Close\"].shift(-1) - 1 \n",
        "BTC[\"Year\"]  = BTC[\"Date\"].apply(lambda x: x.year)\n",
        "BTC[\"Month\"] = BTC[\"Date\"].apply(lambda x: x.month)\n",
        "BTC[\"Day\"]   = BTC[\"Date\"].apply(lambda x: x.day)\n",
        "BTC[\"crash_time\"] = BTC['Return'].apply(lambda x: 1 if x >= 0 else 0)\n",
        "\n",
        "BTC[\"Return\"] = BTC[\"Return\"].apply(lambda x: math.pow(x,2))\n",
        "\n",
        "\n",
        "# BTC_DUVOL_0 and BTC_DUVOL_1 are for crash_time == 0 (return <0) and crash_time == 1 (return >= 0) created from BTC (day interval)\n",
        "# DUVOL is calculated from Bitcoin closing price at 30-minute level/interval\n",
        "\n",
        "BTC_DUVOL = BTC.groupby(by = ['Year',\"Month\",\"Day\",\"crash_time\"],\n",
        "                        axis = 0).agg({\"Close\":\"count\",\"Return\":\"sum\"}).reset_index(level = [0,1,2,3])\n",
        "\n",
        "BTC_DUVOL_1 = BTC_DUVOL.loc[BTC_DUVOL[\"crash_time\"] == 1]\n",
        "BTC_DUVOL_0 = BTC_DUVOL.loc[BTC_DUVOL[\"crash_time\"] == 0]"
      ]
    },
    {
      "cell_type": "code",
      "execution_count": 188,
      "metadata": {
        "id": "fQMen-1E84zq"
      },
      "outputs": [],
      "source": [
        "# Change column to complete dataset including lag and lead terms of intraday Bitcoin return and intraday Ethereum return.\n",
        "# Merging Dataset return < 0\n",
        "BTC_1d = BTC_1d.merge(BTC_DUVOL_0[[\"Year\",\"Month\",\"Day\",\"Return\",\"Close\"]], \n",
        "                          how = \"inner\",  \n",
        "                          on = ['Year',\"Month\",\"Day\"]).rename(columns = {\"Return_y\":\"Return_N<0\",\"Close_y\":\"N_minus\"})\n",
        "\n",
        "# Merging Dataset Return > 0\n",
        "BTC_1d = BTC_1d.merge(BTC_DUVOL_1[[\"Year\",\"Month\",\"Day\",\"Return\",\"Close\"]], \n",
        "                          how = \"inner\",  \n",
        "                          on = ['Year',\"Month\",\"Day\"]).rename(columns = {\"Return\":\"Return_N>0\",\"Close\":\"N_plus\"})"
      ]
    },
    {
      "cell_type": "markdown",
      "metadata": {
        "id": "-sDI1kMmJczW"
      },
      "source": [
        "#**Dependant Variable**:\n",
        "We adopt three crash risk measures.***NCSKEWt, CRASHt and DUVOLt*** following prior studies (Chen et al., 2001; Kalyvas et al., 2020).\n",
        "The first one is the negative coefficient of skewness of the intra-day one-minute returns of Bitcoin for day t, defined as below:"
      ]
    },
    {
      "cell_type": "markdown",
      "metadata": {
        "id": "sgtyNouWM8iI"
      },
      "source": [
        "### **NCSKEW** is **the negative coefficient of skewness of the intra-day one-minute returns of Bitcoin for day t**, defined as below: \n",
        "\n",
        "![image.png](data:image/png;base64,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)\n",
        "\n",
        "### The element n denotes the number of one-minute Bitcoin returns, whereas r denotes the intra-day one-minute Bitcoin return."
      ]
    },
    {
      "cell_type": "code",
      "source": [
        "# Create 2 new columns containing Return**2 and Return**3\n",
        "BTC[\"Return^3\"] = BTC[\"Return\"].apply(lambda x: math.pow(x,3))\n",
        "BTC[\"Return^2\"] = BTC[\"Return\"].apply(lambda x: math.pow(x,2))"
      ],
      "metadata": {
        "id": "nIMg4iy3cbYU"
      },
      "execution_count": 189,
      "outputs": []
    },
    {
      "cell_type": "code",
      "source": [
        "# Prepare the dataset to calculate the NCSKEW\n",
        "BTC_NCSKEW = BTC.groupby(by = ['Year',\"Month\",\"Day\"],\n",
        "                        axis = 0).agg({\"Close\":\"count\",\"Return^3\":\"sum\", \"Return^2\":\"sum\"}).reset_index(level = [0,1,2])\n",
        "\n",
        "# Calculate NCSKEW variable\n",
        "BTC_NCSKEW[\"NCSKEW\"] = -(BTC_NCSKEW[\"Close\"]*(BTC_NCSKEW[\"Close\"] - 1)**(3/2)*(BTC_NCSKEW[\"Return^3\"]))/((\n",
        "                          \n",
        "                          BTC_NCSKEW[\"Close\"]-1)*(\n",
        "                          BTC_NCSKEW[\"Close\"]-2)*(BTC_NCSKEW[\"Return^2\"])**(3/2))\n",
        "print(\"Calculate NCSKEW successfully\")"
      ],
      "metadata": {
        "colab": {
          "base_uri": "https://localhost:8080/"
        },
        "id": "OWC7s-Btb3Qq",
        "outputId": "9abc870f-d4bc-4ea5-b09a-3273b9e078d1"
      },
      "execution_count": 190,
      "outputs": [
        {
          "output_type": "stream",
          "name": "stdout",
          "text": [
            "Calculate NCSKEW successfully\n"
          ]
        }
      ]
    },
    {
      "cell_type": "code",
      "source": [
        "BTC_NCSKEW.head()"
      ],
      "metadata": {
        "colab": {
          "base_uri": "https://localhost:8080/",
          "height": 206
        },
        "id": "RKefLZQLc2Vq",
        "outputId": "1b9a09bd-870d-4b37-d640-d58635ec3abf"
      },
      "execution_count": 191,
      "outputs": [
        {
          "output_type": "execute_result",
          "data": {
            "text/plain": [
              "   Year  Month  Day  Close      Return^3      Return^2    NCSKEW\n",
              "0  2016      5   31     48  7.381936e-11  2.420971e-07 -4.433209\n",
              "1  2016      6    1     48  2.247344e-12  2.836607e-08 -3.365141\n",
              "2  2016      6    2     48  1.031799e-12  1.811668e-08 -3.026979\n",
              "3  2016      6    3     48  2.295241e-10  4.580681e-07 -5.296215\n",
              "4  2016      6    4     48  4.659539e-11  1.993438e-07 -3.745167"
            ],
            "text/html": [
              "\n",
              "  <div id=\"df-8ba6972d-7837-4a42-940e-169c67fa7e7a\">\n",
              "    <div class=\"colab-df-container\">\n",
              "      <div>\n",
              "<style scoped>\n",
              "    .dataframe tbody tr th:only-of-type {\n",
              "        vertical-align: middle;\n",
              "    }\n",
              "\n",
              "    .dataframe tbody tr th {\n",
              "        vertical-align: top;\n",
              "    }\n",
              "\n",
              "    .dataframe thead th {\n",
              "        text-align: right;\n",
              "    }\n",
              "</style>\n",
              "<table border=\"1\" class=\"dataframe\">\n",
              "  <thead>\n",
              "    <tr style=\"text-align: right;\">\n",
              "      <th></th>\n",
              "      <th>Year</th>\n",
              "      <th>Month</th>\n",
              "      <th>Day</th>\n",
              "      <th>Close</th>\n",
              "      <th>Return^3</th>\n",
              "      <th>Return^2</th>\n",
              "      <th>NCSKEW</th>\n",
              "    </tr>\n",
              "  </thead>\n",
              "  <tbody>\n",
              "    <tr>\n",
              "      <th>0</th>\n",
              "      <td>2016</td>\n",
              "      <td>5</td>\n",
              "      <td>31</td>\n",
              "      <td>48</td>\n",
              "      <td>7.381936e-11</td>\n",
              "      <td>2.420971e-07</td>\n",
              "      <td>-4.433209</td>\n",
              "    </tr>\n",
              "    <tr>\n",
              "      <th>1</th>\n",
              "      <td>2016</td>\n",
              "      <td>6</td>\n",
              "      <td>1</td>\n",
              "      <td>48</td>\n",
              "      <td>2.247344e-12</td>\n",
              "      <td>2.836607e-08</td>\n",
              "      <td>-3.365141</td>\n",
              "    </tr>\n",
              "    <tr>\n",
              "      <th>2</th>\n",
              "      <td>2016</td>\n",
              "      <td>6</td>\n",
              "      <td>2</td>\n",
              "      <td>48</td>\n",
              "      <td>1.031799e-12</td>\n",
              "      <td>1.811668e-08</td>\n",
              "      <td>-3.026979</td>\n",
              "    </tr>\n",
              "    <tr>\n",
              "      <th>3</th>\n",
              "      <td>2016</td>\n",
              "      <td>6</td>\n",
              "      <td>3</td>\n",
              "      <td>48</td>\n",
              "      <td>2.295241e-10</td>\n",
              "      <td>4.580681e-07</td>\n",
              "      <td>-5.296215</td>\n",
              "    </tr>\n",
              "    <tr>\n",
              "      <th>4</th>\n",
              "      <td>2016</td>\n",
              "      <td>6</td>\n",
              "      <td>4</td>\n",
              "      <td>48</td>\n",
              "      <td>4.659539e-11</td>\n",
              "      <td>1.993438e-07</td>\n",
              "      <td>-3.745167</td>\n",
              "    </tr>\n",
              "  </tbody>\n",
              "</table>\n",
              "</div>\n",
              "      <button class=\"colab-df-convert\" onclick=\"convertToInteractive('df-8ba6972d-7837-4a42-940e-169c67fa7e7a')\"\n",
              "              title=\"Convert this dataframe to an interactive table.\"\n",
              "              style=\"display:none;\">\n",
              "        \n",
              "  <svg xmlns=\"http://www.w3.org/2000/svg\" height=\"24px\"viewBox=\"0 0 24 24\"\n",
              "       width=\"24px\">\n",
              "    <path d=\"M0 0h24v24H0V0z\" fill=\"none\"/>\n",
              "    <path d=\"M18.56 5.44l.94 2.06.94-2.06 2.06-.94-2.06-.94-.94-2.06-.94 2.06-2.06.94zm-11 1L8.5 8.5l.94-2.06 2.06-.94-2.06-.94L8.5 2.5l-.94 2.06-2.06.94zm10 10l.94 2.06.94-2.06 2.06-.94-2.06-.94-.94-2.06-.94 2.06-2.06.94z\"/><path d=\"M17.41 7.96l-1.37-1.37c-.4-.4-.92-.59-1.43-.59-.52 0-1.04.2-1.43.59L10.3 9.45l-7.72 7.72c-.78.78-.78 2.05 0 2.83L4 21.41c.39.39.9.59 1.41.59.51 0 1.02-.2 1.41-.59l7.78-7.78 2.81-2.81c.8-.78.8-2.07 0-2.86zM5.41 20L4 18.59l7.72-7.72 1.47 1.35L5.41 20z\"/>\n",
              "  </svg>\n",
              "      </button>\n",
              "      \n",
              "  <style>\n",
              "    .colab-df-container {\n",
              "      display:flex;\n",
              "      flex-wrap:wrap;\n",
              "      gap: 12px;\n",
              "    }\n",
              "\n",
              "    .colab-df-convert {\n",
              "      background-color: #E8F0FE;\n",
              "      border: none;\n",
              "      border-radius: 50%;\n",
              "      cursor: pointer;\n",
              "      display: none;\n",
              "      fill: #1967D2;\n",
              "      height: 32px;\n",
              "      padding: 0 0 0 0;\n",
              "      width: 32px;\n",
              "    }\n",
              "\n",
              "    .colab-df-convert:hover {\n",
              "      background-color: #E2EBFA;\n",
              "      box-shadow: 0px 1px 2px rgba(60, 64, 67, 0.3), 0px 1px 3px 1px rgba(60, 64, 67, 0.15);\n",
              "      fill: #174EA6;\n",
              "    }\n",
              "\n",
              "    [theme=dark] .colab-df-convert {\n",
              "      background-color: #3B4455;\n",
              "      fill: #D2E3FC;\n",
              "    }\n",
              "\n",
              "    [theme=dark] .colab-df-convert:hover {\n",
              "      background-color: #434B5C;\n",
              "      box-shadow: 0px 1px 3px 1px rgba(0, 0, 0, 0.15);\n",
              "      filter: drop-shadow(0px 1px 2px rgba(0, 0, 0, 0.3));\n",
              "      fill: #FFFFFF;\n",
              "    }\n",
              "  </style>\n",
              "\n",
              "      <script>\n",
              "        const buttonEl =\n",
              "          document.querySelector('#df-8ba6972d-7837-4a42-940e-169c67fa7e7a button.colab-df-convert');\n",
              "        buttonEl.style.display =\n",
              "          google.colab.kernel.accessAllowed ? 'block' : 'none';\n",
              "\n",
              "        async function convertToInteractive(key) {\n",
              "          const element = document.querySelector('#df-8ba6972d-7837-4a42-940e-169c67fa7e7a');\n",
              "          const dataTable =\n",
              "            await google.colab.kernel.invokeFunction('convertToInteractive',\n",
              "                                                     [key], {});\n",
              "          if (!dataTable) return;\n",
              "\n",
              "          const docLinkHtml = 'Like what you see? Visit the ' +\n",
              "            '<a target=\"_blank\" href=https://colab.research.google.com/notebooks/data_table.ipynb>data table notebook</a>'\n",
              "            + ' to learn more about interactive tables.';\n",
              "          element.innerHTML = '';\n",
              "          dataTable['output_type'] = 'display_data';\n",
              "          await google.colab.output.renderOutput(dataTable, element);\n",
              "          const docLink = document.createElement('div');\n",
              "          docLink.innerHTML = docLinkHtml;\n",
              "          element.appendChild(docLink);\n",
              "        }\n",
              "      </script>\n",
              "    </div>\n",
              "  </div>\n",
              "  "
            ]
          },
          "metadata": {},
          "execution_count": 191
        }
      ]
    },
    {
      "cell_type": "markdown",
      "metadata": {
        "id": "bvJkCN2SNUH8"
      },
      "source": [
        "### **DUVOLt, “down-to-up volatility”,** is less sensitive to extreme returns, as it does not consider the third moment, defined as:\n",
        "\n",
        "![image.png](data:image/png;base64,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)\n",
        "\n"
      ]
    },
    {
      "cell_type": "markdown",
      "metadata": {
        "id": "D2F2sV1o9-iL"
      },
      "source": [
        "For in minute level, the mean and median return of bitcoin are very close to zero, ***nu and nd denote the number of positive and negative minute returns*** within a day respectively. Then we compute the standard deviation for each of these subsamples separately. \n"
      ]
    },
    {
      "cell_type": "code",
      "execution_count": 211,
      "metadata": {
        "id": "st6tLor6FPAn"
      },
      "outputs": [],
      "source": [
        "# Calculate DUVOL variable\n",
        "\n",
        "BTC_1d[\"DUVOL\"] = (BTC_1d[\"N_plus\"] -1)*BTC_1d[\"Return_N>0\"]/((BTC_1d[\"N_minus\"] -1)*BTC_1d[\"Return_N<0\"])\n",
        "BTC_1d[\"DUVOL\"] = BTC_1d[\"DUVOL\"].apply(lambda x: math.log(x))"
      ]
    },
    {
      "cell_type": "markdown",
      "source": [
        "## **CRASHt**\n",
        "\n",
        "The 3rd measure **CRASHt** is **a dummy variable**. If **the return for dayt is less than mean return minus one standard deviation**, we define CRASHt **equals to 1,** otherwise CRASHt **equals to 0**. \n",
        "\n",
        "CRASH == 1 if rBTC-day < 1 - stdBTC-30m/day else == 0"
      ],
      "metadata": {
        "id": "pQ5njPmefmmE"
      }
    },
    {
      "cell_type": "code",
      "source": [
        ""
      ],
      "metadata": {
        "id": "ANhlYcZebe3p"
      },
      "execution_count": 191,
      "outputs": []
    },
    {
      "cell_type": "code",
      "source": [
        "# Dataframe includes the 30m each day from 2016-05-31 to 2022 - 05-21\n",
        "BTC_30m_STD_mean = BTC.groupby([\"Year\",\"Month\",\"Day\"]).agg({\"Return\":\"std\"}).reset_index(level = [0,1,2]).rename(columns = {\"Return\":\"Std_30m_day\"}).merge(\n",
        "    BTC.groupby([\"Year\",\"Month\",\"Day\"]).agg({\"Return\":\"mean\"}).reset_index(level = [0,1,2]).rename(columns = {\"Return\":\"Mean_30m_std\"}), \n",
        "    on = [\"Year\",\"Month\",\"Day\"], \n",
        "    how = \"inner\"\n",
        ")"
      ],
      "metadata": {
        "id": "SMaS8cSNgAp7"
      },
      "execution_count": 192,
      "outputs": []
    },
    {
      "cell_type": "code",
      "source": [
        "BTC_30m_STD_mean[\"Date\"] = np.zeros(BTC_30m_STD_mean.shape[0]).reshape(-1,1)\n",
        "for i in range(BTC_30m_STD_mean.shape[0]):\n",
        "  BTC_30m_STD_mean[\"Date\"][i] = str(BTC_30m_STD_mean[\"Year\"][i]) + '-' + str(BTC_30m_STD_mean[\"Month\"][i]) + '-' + str(BTC_30m_STD_mean[\"Day\"][i]) \n",
        "BTC_30m_STD_mean[\"Date\"] = pd.to_datetime(BTC_30m_STD_mean[\"Date\"])\n",
        "\n",
        "BTC_CRASH = BTC_1d[[\"Date\",\"Return_x\"]].merge(BTC_30m_STD_mean, on = \"Date\", how = \"inner\")"
      ],
      "metadata": {
        "colab": {
          "base_uri": "https://localhost:8080/"
        },
        "id": "sGhfJhwHhD8W",
        "outputId": "4ffdc350-f9b9-4a3d-9e9f-b0ec10f941e1"
      },
      "execution_count": 193,
      "outputs": [
        {
          "output_type": "stream",
          "name": "stderr",
          "text": [
            "/usr/local/lib/python3.7/dist-packages/ipykernel_launcher.py:3: SettingWithCopyWarning:\n",
            "\n",
            "\n",
            "A value is trying to be set on a copy of a slice from a DataFrame\n",
            "\n",
            "See the caveats in the documentation: https://pandas.pydata.org/pandas-docs/stable/user_guide/indexing.html#returning-a-view-versus-a-copy\n",
            "\n",
            "/usr/local/lib/python3.7/dist-packages/pandas/core/indexing.py:1732: SettingWithCopyWarning:\n",
            "\n",
            "\n",
            "A value is trying to be set on a copy of a slice from a DataFrame\n",
            "\n",
            "See the caveats in the documentation: https://pandas.pydata.org/pandas-docs/stable/user_guide/indexing.html#returning-a-view-versus-a-copy\n",
            "\n"
          ]
        }
      ]
    },
    {
      "cell_type": "code",
      "source": [
        "BTC_CRASH[\"Crash\"] = BTC_CRASH.apply(lambda x: 1 if x[\"Return_x\"] < (x[\"Mean_30m_std\"] - x[\"Std_30m_day\"]) else 0, axis = 1)"
      ],
      "metadata": {
        "id": "qvXH7ZRBwlWm"
      },
      "execution_count": 194,
      "outputs": []
    },
    {
      "cell_type": "markdown",
      "source": [
        "# **Independent Variables**"
      ],
      "metadata": {
        "id": "gD-MUJHMffcC"
      }
    },
    {
      "cell_type": "markdown",
      "metadata": {
        "id": "R04MjRUXG-uz"
      },
      "source": [
        "### **The Bitcoin-Ethereum price synchronicity for day t** is calculated as the  ogarithm of the ratio of explained return variance to unexplained return variance, as below: \n",
        "\n",
        "![image.png](data:image/png;base64,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)"
      ]
    },
    {
      "cell_type": "markdown",
      "metadata": {
        "id": "l2F3O2o7V3yt"
      },
      "source": [
        "#### rEthereum t,m is Ethereum’s intraday return, t denotes trading day, m denotes intraday trading minute. rBitcoin t,m is Bitcoin’s intraday return for minute m . \n",
        "#### We correct for **nonsynchronous trading by including lead and lag terms of Bitcoin’s return**. The Bitcoin-Ethereum price synchronicity for **day t** is calculated as the **logarithm of the ratio** of explained return variance to unexplained return variance, as below:\n",
        "\n",
        "![image.png](data:image/png;base64,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)\n",
        "\n"
      ]
    },
    {
      "cell_type": "code",
      "execution_count": 195,
      "metadata": {
        "id": "JjYxh1U2wcaz"
      },
      "outputs": [],
      "source": [
        "# import library to predict R_ethereum and evaluate R2_score\n",
        "from sklearn.metrics import r2_score, mean_squared_error\n",
        "from sklearn.linear_model import LinearRegression\n",
        "model = LinearRegression()\n",
        "\n",
        "# Create a function to calculate R2 for each day\n",
        "\n",
        "def LinearRegression_ETH_BTC(data):\n",
        "  # Return_y, Return_BTC_1, Return_BTC__1 respectively denote BTC's return including lag and lead term\n",
        "  x = data[[\"Return_y\",\"Return_BTC_1\",\"Return_BTC__1\"]]\n",
        "\n",
        "  # Return_x denotes ETH's intraday return \n",
        "  y = data[\"Return_x\"]\n",
        "  model.fit(x,y)\n",
        "  return model.predict(x)\n",
        "\n",
        "# Function r2_rmse\n",
        "def r2_rmse(data):\n",
        "  r2 = r2_score(data[\"Return_x\"],data[\"predict\"])\n",
        "  return pd.Series(r2)"
      ]
    },
    {
      "cell_type": "code",
      "execution_count": 196,
      "metadata": {
        "id": "ksOY9D6GSyxv"
      },
      "outputs": [],
      "source": [
        "# Dataset including ETH_BTC at 30 minute level/interval\n",
        "ETH_BTC = ETH.merge(BTC, on = \"Date\", how = \"inner\")\n",
        "ETH_BTC[\"Return_BTC\"] = ETH_BTC[\"Close_y\"]/ETH_BTC[\"Close_y\"].shift(-1) - 1 "
      ]
    },
    {
      "cell_type": "code",
      "execution_count": 197,
      "metadata": {
        "id": "spgrkAjBuwEW"
      },
      "outputs": [],
      "source": [
        "# Extract new table with 4 main columns: ETH, BTC+1, BTC-1 and BTC (lead and lag terms)\n",
        "ETH_BTC = ETH_BTC[[\"Date\",\"Return_x\",\"Return_y\"]]           \n",
        "ETH_BTC[\"Return_BTC_1\"] = ETH_BTC[\"Return_y\"].shift(1)   # lead\n",
        "ETH_BTC[\"Return_BTC__1\"] = ETH_BTC[\"Return_y\"].shift(-1) # lag\n",
        "\n",
        "\n",
        "# Group by data by year, month, day to apply function -> estimate predict result with regression \n",
        "ETH_BTC[\"Year\"]  = ETH_BTC[\"Date\"].apply(lambda x: x.year)\n",
        "ETH_BTC[\"Month\"] = ETH_BTC[\"Date\"].apply(lambda x: x.month)\n",
        "ETH_BTC[\"Day\"]   = ETH_BTC[\"Date\"].apply(lambda x: x.day)"
      ]
    },
    {
      "cell_type": "code",
      "execution_count": 198,
      "metadata": {
        "id": "YlZ3f6z99m7i"
      },
      "outputs": [],
      "source": [
        "# Create a column formating \"%Y-%M-%D\" (remove hour/minute) from column Date\n",
        "ETH_BTC[\"Date_day\"] = ETH_BTC.apply(lambda x: datetime.date( x[\"Year\"],x[\"Month\"],x[\"Day\"]), axis = 1)\n",
        "\n",
        "# Create a column containing predict value, firstly assigned with value: 0 in all index. \n",
        "ETH_BTC[\"predict\"]  = np.zeros(ETH_BTC.shape[0]).reshape(-1,1)"
      ]
    },
    {
      "cell_type": "code",
      "execution_count": 199,
      "metadata": {
        "id": "6ExSH-_K7Srd"
      },
      "outputs": [],
      "source": [
        "ETH_BTC.dropna(axis = 0,inplace = True)\n",
        "\n",
        "#Predict value for each day\n",
        "for i in set(ETH_BTC[\"Date_day\"]):\n",
        "  ETH_BTC.loc[ETH_BTC[\"Date_day\"] == i,\"predict\"] = LinearRegression_ETH_BTC(ETH_BTC.loc[ETH_BTC[\"Date_day\"] == i])"
      ]
    },
    {
      "cell_type": "code",
      "execution_count": 200,
      "metadata": {
        "id": "vYhttXtl51Uc"
      },
      "outputs": [],
      "source": [
        "SYNC = ETH_BTC.groupby([\"Year\",\"Month\",\"Day\"]).apply(r2_rmse).reset_index(level = [0,1,2]).rename(columns = {0:\"R^2\"})\n",
        "SYNC[\"SYNC\"] = SYNC[\"R^2\"].apply(lambda x: math.log(x/(1-x)))"
      ]
    },
    {
      "cell_type": "code",
      "execution_count": 201,
      "metadata": {
        "colab": {
          "base_uri": "https://localhost:8080/"
        },
        "id": "7dHaRGZPZawm",
        "outputId": "dc0e84dd-a8b9-4e60-efde-7f18d6df987c"
      },
      "outputs": [
        {
          "output_type": "stream",
          "name": "stderr",
          "text": [
            "/usr/local/lib/python3.7/dist-packages/ipykernel_launcher.py:3: SettingWithCopyWarning:\n",
            "\n",
            "\n",
            "A value is trying to be set on a copy of a slice from a DataFrame\n",
            "\n",
            "See the caveats in the documentation: https://pandas.pydata.org/pandas-docs/stable/user_guide/indexing.html#returning-a-view-versus-a-copy\n",
            "\n",
            "/usr/local/lib/python3.7/dist-packages/pandas/core/indexing.py:1732: SettingWithCopyWarning:\n",
            "\n",
            "\n",
            "A value is trying to be set on a copy of a slice from a DataFrame\n",
            "\n",
            "See the caveats in the documentation: https://pandas.pydata.org/pandas-docs/stable/user_guide/indexing.html#returning-a-view-versus-a-copy\n",
            "\n"
          ]
        }
      ],
      "source": [
        "SYNC[\"Date\"] = np.zeros(SYNC.shape[0]).reshape(-1,1)\n",
        "for i in range(SYNC.shape[0]):\n",
        "  SYNC[\"Date\"][i] = str(SYNC[\"Year\"][i]) + '-' + str(SYNC[\"Month\"][i]) + '-' + str(SYNC[\"Day\"][i]) \n",
        "SYNC[\"Date\"] = pd.to_datetime(SYNC[\"Date\"])"
      ]
    },
    {
      "cell_type": "code",
      "source": [
        "SYNC.info()"
      ],
      "metadata": {
        "colab": {
          "base_uri": "https://localhost:8080/"
        },
        "id": "rwSUF12Aq3jM",
        "outputId": "e1de431c-3c70-4f73-9de8-b2c36bbc560d"
      },
      "execution_count": 202,
      "outputs": [
        {
          "output_type": "stream",
          "name": "stdout",
          "text": [
            "<class 'pandas.core.frame.DataFrame'>\n",
            "RangeIndex: 2173 entries, 0 to 2172\n",
            "Data columns (total 6 columns):\n",
            " #   Column  Non-Null Count  Dtype         \n",
            "---  ------  --------------  -----         \n",
            " 0   Year    2173 non-null   int64         \n",
            " 1   Month   2173 non-null   int64         \n",
            " 2   Day     2173 non-null   int64         \n",
            " 3   R^2     2173 non-null   float64       \n",
            " 4   SYNC    2173 non-null   float64       \n",
            " 5   Date    2173 non-null   datetime64[ns]\n",
            "dtypes: datetime64[ns](1), float64(2), int64(3)\n",
            "memory usage: 102.0 KB\n"
          ]
        }
      ]
    },
    {
      "cell_type": "markdown",
      "metadata": {
        "id": "K99g_FVGHMfs"
      },
      "source": [
        "##**UPSDt is upside volatility of Bitcoin**, defined as semi-standard deviation of positive returns in one trading day. \n",
        "\n",
        "![image.png](data:image/png;base64,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)\n",
        "\n",
        "rUt,m denotes positive return sequence for day t and rt denotes mean of positive returns for day t. UPSDt is the opposite of downside\n",
        "risk measure. When UPSDt is high, Bitcoin price is skyrocketing. All other control variables are in percentage change calculated with Python statistical software (sklearn library)"
      ]
    },
    {
      "cell_type": "code",
      "execution_count": 203,
      "metadata": {
        "id": "_c_Cv-h1GFGq"
      },
      "outputs": [],
      "source": [
        "BTC_STD = BTC.groupby(by = ['Year',\"Month\",\"Day\",\"crash_time\"],\n",
        "                        axis = 0).agg({\"Return\":\"std\"}).reset_index(level = [0,1,2,3])\n",
        "UPSD = BTC_STD.loc[BTC_STD[\"crash_time\"] == 1].set_index(\"Year\").reset_index()\n",
        "UPSD.rename(columns = {\"Return\":\"UPSD\"}, inplace = True)"
      ]
    },
    {
      "cell_type": "code",
      "execution_count": 204,
      "metadata": {
        "colab": {
          "base_uri": "https://localhost:8080/"
        },
        "id": "AtT6k63tPDos",
        "outputId": "1243e39a-2d6a-4895-ef98-fda8f3664eea"
      },
      "outputs": [
        {
          "output_type": "stream",
          "name": "stderr",
          "text": [
            "/usr/local/lib/python3.7/dist-packages/ipykernel_launcher.py:3: SettingWithCopyWarning:\n",
            "\n",
            "\n",
            "A value is trying to be set on a copy of a slice from a DataFrame\n",
            "\n",
            "See the caveats in the documentation: https://pandas.pydata.org/pandas-docs/stable/user_guide/indexing.html#returning-a-view-versus-a-copy\n",
            "\n",
            "/usr/local/lib/python3.7/dist-packages/pandas/core/indexing.py:1732: SettingWithCopyWarning:\n",
            "\n",
            "\n",
            "A value is trying to be set on a copy of a slice from a DataFrame\n",
            "\n",
            "See the caveats in the documentation: https://pandas.pydata.org/pandas-docs/stable/user_guide/indexing.html#returning-a-view-versus-a-copy\n",
            "\n"
          ]
        }
      ],
      "source": [
        "UPSD[\"Date\"] = np.zeros(UPSD.shape[0]).reshape(-1,1)\n",
        "for i in range(UPSD.shape[0]):\n",
        "  UPSD[\"Date\"][i] = str(UPSD[\"Year\"][i]) + '-' + str(UPSD[\"Month\"][i]) + '-' + str(UPSD[\"Day\"][i]) \n",
        "UPSD[\"Date\"] = pd.to_datetime(UPSD[\"Date\"])"
      ]
    },
    {
      "cell_type": "markdown",
      "source": [
        "# **Emperial Testing**"
      ],
      "metadata": {
        "id": "xMlB9ap_fGAz"
      }
    },
    {
      "cell_type": "markdown",
      "metadata": {
        "id": "sgrKekH8PJcd"
      },
      "source": [
        "## **Table 1:** gives the descriptive statistics of research variables, all of which are winsorized at 99% to rule out the effect of extreme values."
      ]
    },
    {
      "cell_type": "code",
      "execution_count": 205,
      "metadata": {
        "id": "-EOOcV3Dcopt"
      },
      "outputs": [],
      "source": [
        "# Preprocessing dataset\n",
        "ETH_30m[\"Year\"]  = ETH_30m[\"Date\"].apply(lambda x: x.year)\n",
        "ETH_30m[\"Month\"] = ETH_30m[\"Date\"].apply(lambda x: x.month)\n",
        "ETH_30m[\"Day\"]   = ETH_30m[\"Date\"].apply(lambda x: x.day)\n",
        "ETH_30m[\"Date_day\"] = ETH_30m.apply(lambda x: datetime.date(x[\"Year\"],x[\"Month\"],x[\"Day\"]), axis = 1)\n",
        "ETH_1d = ETH_30m.drop_duplicates(\"Date_day\")\n",
        "#\n",
        "BTC_1d.drop(index = 0, inplace = True)\n",
        "#"
      ]
    },
    {
      "cell_type": "code",
      "source": [
        "# BTC_NCSKEW columns for merging\n",
        "BTC_NCSKEW[\"Date\"] = np.zeros(BTC_NCSKEW.shape[0]).reshape(-1,1)\n",
        "for i in range(BTC_NCSKEW.shape[0]):\n",
        "  BTC_NCSKEW[\"Date\"][i] = str(BTC_NCSKEW[\"Year\"][i]) + '-' + str(BTC_NCSKEW[\"Month\"][i]) + '-' + str(BTC_NCSKEW[\"Day\"][i]) \n",
        "BTC_NCSKEW[\"Date\"] = pd.to_datetime(BTC_NCSKEW[\"Date\"])\n"
      ],
      "metadata": {
        "colab": {
          "base_uri": "https://localhost:8080/"
        },
        "id": "2-_Pw2bZeBkU",
        "outputId": "468965a2-c64f-4ef2-e1c4-197e030d9b0b"
      },
      "execution_count": 206,
      "outputs": [
        {
          "output_type": "stream",
          "name": "stderr",
          "text": [
            "/usr/local/lib/python3.7/dist-packages/ipykernel_launcher.py:4: SettingWithCopyWarning:\n",
            "\n",
            "\n",
            "A value is trying to be set on a copy of a slice from a DataFrame\n",
            "\n",
            "See the caveats in the documentation: https://pandas.pydata.org/pandas-docs/stable/user_guide/indexing.html#returning-a-view-versus-a-copy\n",
            "\n",
            "/usr/local/lib/python3.7/dist-packages/pandas/core/indexing.py:1732: SettingWithCopyWarning:\n",
            "\n",
            "\n",
            "A value is trying to be set on a copy of a slice from a DataFrame\n",
            "\n",
            "See the caveats in the documentation: https://pandas.pydata.org/pandas-docs/stable/user_guide/indexing.html#returning-a-view-versus-a-copy\n",
            "\n"
          ]
        }
      ]
    },
    {
      "cell_type": "code",
      "source": [
        "gold.reset_index(inplace = True)"
      ],
      "metadata": {
        "id": "LIM0Y77ZUH42"
      },
      "execution_count": 207,
      "outputs": []
    },
    {
      "cell_type": "code",
      "execution_count": 212,
      "metadata": {
        "id": "ImO3uojzPFcl"
      },
      "outputs": [],
      "source": [
        "# Merge dataset including control variables, dependent variables and independent variables\n",
        "df = sentiment.merge(gold[[\"Date\",\"Return_gold\"]], \n",
        "                      on = \"Date\").merge(B_T,\n",
        "                      on = \"Date\").merge(D_index,\n",
        "                      on = \"Date\").merge(vix,\n",
        "                      on = \"Date\").merge(wti, \n",
        "                      on = \"Date\").merge(BTC_1d[[\"Date\",\"DUVOL\"]],\n",
        "                      on = \"Date\").merge(BTC_NCSKEW[[\"Date\",\"NCSKEW\"]],\n",
        "                      on = \"Date\").merge(SYNC[[\"SYNC\",\"Date\"]], \n",
        "                      on = \"Date\").merge(UPSD[[\"UPSD\",\"Date\"]],\n",
        "                      on = \"Date\").merge(BTC_CRASH[[\"Crash\",\"Date\"]],\n",
        "                      on = \"Date\")\n",
        "df.drop(\"Date\", axis = 1,inplace = True)"
      ]
    },
    {
      "cell_type": "code",
      "source": [
        "# Winsorize dataset from 1 - 99% to remove outlier\n",
        "from scipy.stats.mstats import winsorize\n",
        "for col in df.columns:\n",
        "    df[col] = winsorize(df[col], limits=[0.01, 0.01])"
      ],
      "metadata": {
        "id": "CZdfe3OKUACr"
      },
      "execution_count": 213,
      "outputs": []
    },
    {
      "cell_type": "markdown",
      "source": [
        "## **Table 1:**Descriptive statistics of research variables"
      ],
      "metadata": {
        "id": "ryVfJhxTm9tb"
      }
    },
    {
      "cell_type": "code",
      "source": [
        "df.describe().T"
      ],
      "metadata": {
        "colab": {
          "base_uri": "https://localhost:8080/",
          "height": 394
        },
        "id": "krOEohGnnHjk",
        "outputId": "32dd7a0b-3607-4436-c826-adfba864a080"
      },
      "execution_count": 223,
      "outputs": [
        {
          "output_type": "execute_result",
          "data": {
            "text/plain": [
              "                 count       mean       std        min        25%        50%  \\\n",
              "News_Sentiment  1493.0  -0.019679  0.206089  -0.634891  -0.115979   0.015859   \n",
              "Return_gold     1493.0   0.000334  0.007907  -0.022642  -0.004173   0.000627   \n",
              "T_Bill          1493.0   2.449781  0.579208   1.220000   2.027000   2.492000   \n",
              "Dollar_Index    1493.0  95.582914  3.210840  89.440002  93.129997  95.889999   \n",
              "VIX             1493.0  18.373235  7.861710   9.510000  12.680000  16.280001   \n",
              "WTI_Oil_price   1493.0   3.784066  1.661320   1.420000   2.380000   3.580000   \n",
              "DUVOL           1493.0  -0.035752  1.015688  -2.682281  -0.702576  -0.042158   \n",
              "NCSKEW          1493.0  -3.994620  1.322376  -7.087219  -4.823696  -3.730862   \n",
              "SYNC            1493.0  -1.886722  1.275402  -5.377803  -2.677761  -1.833865   \n",
              "UPSD            1493.0   0.000088  0.000160   0.000001   0.000012   0.000034   \n",
              "Crash           1493.0   0.459478  0.498522   0.000000   0.000000   0.000000   \n",
              "\n",
              "                      75%         max  \n",
              "News_Sentiment   0.107085    0.315799  \n",
              "Return_gold      0.004873    0.021694  \n",
              "T_Bill           2.981000    3.370000  \n",
              "Dollar_Index    97.669998  103.129997  \n",
              "VIX             21.639999   54.459999  \n",
              "WTI_Oil_price    4.670000    8.410000  \n",
              "DUVOL            0.633444    2.394773  \n",
              "NCSKEW          -2.921895   -2.070556  \n",
              "SYNC            -1.038987    1.164573  \n",
              "UPSD             0.000082    0.001035  \n",
              "Crash            1.000000    1.000000  "
            ],
            "text/html": [
              "\n",
              "  <div id=\"df-08696acf-deae-4237-85c2-1d0d758fb785\">\n",
              "    <div class=\"colab-df-container\">\n",
              "      <div>\n",
              "<style scoped>\n",
              "    .dataframe tbody tr th:only-of-type {\n",
              "        vertical-align: middle;\n",
              "    }\n",
              "\n",
              "    .dataframe tbody tr th {\n",
              "        vertical-align: top;\n",
              "    }\n",
              "\n",
              "    .dataframe thead th {\n",
              "        text-align: right;\n",
              "    }\n",
              "</style>\n",
              "<table border=\"1\" class=\"dataframe\">\n",
              "  <thead>\n",
              "    <tr style=\"text-align: right;\">\n",
              "      <th></th>\n",
              "      <th>count</th>\n",
              "      <th>mean</th>\n",
              "      <th>std</th>\n",
              "      <th>min</th>\n",
              "      <th>25%</th>\n",
              "      <th>50%</th>\n",
              "      <th>75%</th>\n",
              "      <th>max</th>\n",
              "    </tr>\n",
              "  </thead>\n",
              "  <tbody>\n",
              "    <tr>\n",
              "      <th>News_Sentiment</th>\n",
              "      <td>1493.0</td>\n",
              "      <td>-0.019679</td>\n",
              "      <td>0.206089</td>\n",
              "      <td>-0.634891</td>\n",
              "      <td>-0.115979</td>\n",
              "      <td>0.015859</td>\n",
              "      <td>0.107085</td>\n",
              "      <td>0.315799</td>\n",
              "    </tr>\n",
              "    <tr>\n",
              "      <th>Return_gold</th>\n",
              "      <td>1493.0</td>\n",
              "      <td>0.000334</td>\n",
              "      <td>0.007907</td>\n",
              "      <td>-0.022642</td>\n",
              "      <td>-0.004173</td>\n",
              "      <td>0.000627</td>\n",
              "      <td>0.004873</td>\n",
              "      <td>0.021694</td>\n",
              "    </tr>\n",
              "    <tr>\n",
              "      <th>T_Bill</th>\n",
              "      <td>1493.0</td>\n",
              "      <td>2.449781</td>\n",
              "      <td>0.579208</td>\n",
              "      <td>1.220000</td>\n",
              "      <td>2.027000</td>\n",
              "      <td>2.492000</td>\n",
              "      <td>2.981000</td>\n",
              "      <td>3.370000</td>\n",
              "    </tr>\n",
              "    <tr>\n",
              "      <th>Dollar_Index</th>\n",
              "      <td>1493.0</td>\n",
              "      <td>95.582914</td>\n",
              "      <td>3.210840</td>\n",
              "      <td>89.440002</td>\n",
              "      <td>93.129997</td>\n",
              "      <td>95.889999</td>\n",
              "      <td>97.669998</td>\n",
              "      <td>103.129997</td>\n",
              "    </tr>\n",
              "    <tr>\n",
              "      <th>VIX</th>\n",
              "      <td>1493.0</td>\n",
              "      <td>18.373235</td>\n",
              "      <td>7.861710</td>\n",
              "      <td>9.510000</td>\n",
              "      <td>12.680000</td>\n",
              "      <td>16.280001</td>\n",
              "      <td>21.639999</td>\n",
              "      <td>54.459999</td>\n",
              "    </tr>\n",
              "    <tr>\n",
              "      <th>WTI_Oil_price</th>\n",
              "      <td>1493.0</td>\n",
              "      <td>3.784066</td>\n",
              "      <td>1.661320</td>\n",
              "      <td>1.420000</td>\n",
              "      <td>2.380000</td>\n",
              "      <td>3.580000</td>\n",
              "      <td>4.670000</td>\n",
              "      <td>8.410000</td>\n",
              "    </tr>\n",
              "    <tr>\n",
              "      <th>DUVOL</th>\n",
              "      <td>1493.0</td>\n",
              "      <td>-0.035752</td>\n",
              "      <td>1.015688</td>\n",
              "      <td>-2.682281</td>\n",
              "      <td>-0.702576</td>\n",
              "      <td>-0.042158</td>\n",
              "      <td>0.633444</td>\n",
              "      <td>2.394773</td>\n",
              "    </tr>\n",
              "    <tr>\n",
              "      <th>NCSKEW</th>\n",
              "      <td>1493.0</td>\n",
              "      <td>-3.994620</td>\n",
              "      <td>1.322376</td>\n",
              "      <td>-7.087219</td>\n",
              "      <td>-4.823696</td>\n",
              "      <td>-3.730862</td>\n",
              "      <td>-2.921895</td>\n",
              "      <td>-2.070556</td>\n",
              "    </tr>\n",
              "    <tr>\n",
              "      <th>SYNC</th>\n",
              "      <td>1493.0</td>\n",
              "      <td>-1.886722</td>\n",
              "      <td>1.275402</td>\n",
              "      <td>-5.377803</td>\n",
              "      <td>-2.677761</td>\n",
              "      <td>-1.833865</td>\n",
              "      <td>-1.038987</td>\n",
              "      <td>1.164573</td>\n",
              "    </tr>\n",
              "    <tr>\n",
              "      <th>UPSD</th>\n",
              "      <td>1493.0</td>\n",
              "      <td>0.000088</td>\n",
              "      <td>0.000160</td>\n",
              "      <td>0.000001</td>\n",
              "      <td>0.000012</td>\n",
              "      <td>0.000034</td>\n",
              "      <td>0.000082</td>\n",
              "      <td>0.001035</td>\n",
              "    </tr>\n",
              "    <tr>\n",
              "      <th>Crash</th>\n",
              "      <td>1493.0</td>\n",
              "      <td>0.459478</td>\n",
              "      <td>0.498522</td>\n",
              "      <td>0.000000</td>\n",
              "      <td>0.000000</td>\n",
              "      <td>0.000000</td>\n",
              "      <td>1.000000</td>\n",
              "      <td>1.000000</td>\n",
              "    </tr>\n",
              "  </tbody>\n",
              "</table>\n",
              "</div>\n",
              "      <button class=\"colab-df-convert\" onclick=\"convertToInteractive('df-08696acf-deae-4237-85c2-1d0d758fb785')\"\n",
              "              title=\"Convert this dataframe to an interactive table.\"\n",
              "              style=\"display:none;\">\n",
              "        \n",
              "  <svg xmlns=\"http://www.w3.org/2000/svg\" height=\"24px\"viewBox=\"0 0 24 24\"\n",
              "       width=\"24px\">\n",
              "    <path d=\"M0 0h24v24H0V0z\" fill=\"none\"/>\n",
              "    <path d=\"M18.56 5.44l.94 2.06.94-2.06 2.06-.94-2.06-.94-.94-2.06-.94 2.06-2.06.94zm-11 1L8.5 8.5l.94-2.06 2.06-.94-2.06-.94L8.5 2.5l-.94 2.06-2.06.94zm10 10l.94 2.06.94-2.06 2.06-.94-2.06-.94-.94-2.06-.94 2.06-2.06.94z\"/><path d=\"M17.41 7.96l-1.37-1.37c-.4-.4-.92-.59-1.43-.59-.52 0-1.04.2-1.43.59L10.3 9.45l-7.72 7.72c-.78.78-.78 2.05 0 2.83L4 21.41c.39.39.9.59 1.41.59.51 0 1.02-.2 1.41-.59l7.78-7.78 2.81-2.81c.8-.78.8-2.07 0-2.86zM5.41 20L4 18.59l7.72-7.72 1.47 1.35L5.41 20z\"/>\n",
              "  </svg>\n",
              "      </button>\n",
              "      \n",
              "  <style>\n",
              "    .colab-df-container {\n",
              "      display:flex;\n",
              "      flex-wrap:wrap;\n",
              "      gap: 12px;\n",
              "    }\n",
              "\n",
              "    .colab-df-convert {\n",
              "      background-color: #E8F0FE;\n",
              "      border: none;\n",
              "      border-radius: 50%;\n",
              "      cursor: pointer;\n",
              "      display: none;\n",
              "      fill: #1967D2;\n",
              "      height: 32px;\n",
              "      padding: 0 0 0 0;\n",
              "      width: 32px;\n",
              "    }\n",
              "\n",
              "    .colab-df-convert:hover {\n",
              "      background-color: #E2EBFA;\n",
              "      box-shadow: 0px 1px 2px rgba(60, 64, 67, 0.3), 0px 1px 3px 1px rgba(60, 64, 67, 0.15);\n",
              "      fill: #174EA6;\n",
              "    }\n",
              "\n",
              "    [theme=dark] .colab-df-convert {\n",
              "      background-color: #3B4455;\n",
              "      fill: #D2E3FC;\n",
              "    }\n",
              "\n",
              "    [theme=dark] .colab-df-convert:hover {\n",
              "      background-color: #434B5C;\n",
              "      box-shadow: 0px 1px 3px 1px rgba(0, 0, 0, 0.15);\n",
              "      filter: drop-shadow(0px 1px 2px rgba(0, 0, 0, 0.3));\n",
              "      fill: #FFFFFF;\n",
              "    }\n",
              "  </style>\n",
              "\n",
              "      <script>\n",
              "        const buttonEl =\n",
              "          document.querySelector('#df-08696acf-deae-4237-85c2-1d0d758fb785 button.colab-df-convert');\n",
              "        buttonEl.style.display =\n",
              "          google.colab.kernel.accessAllowed ? 'block' : 'none';\n",
              "\n",
              "        async function convertToInteractive(key) {\n",
              "          const element = document.querySelector('#df-08696acf-deae-4237-85c2-1d0d758fb785');\n",
              "          const dataTable =\n",
              "            await google.colab.kernel.invokeFunction('convertToInteractive',\n",
              "                                                     [key], {});\n",
              "          if (!dataTable) return;\n",
              "\n",
              "          const docLinkHtml = 'Like what you see? Visit the ' +\n",
              "            '<a target=\"_blank\" href=https://colab.research.google.com/notebooks/data_table.ipynb>data table notebook</a>'\n",
              "            + ' to learn more about interactive tables.';\n",
              "          element.innerHTML = '';\n",
              "          dataTable['output_type'] = 'display_data';\n",
              "          await google.colab.output.renderOutput(dataTable, element);\n",
              "          const docLink = document.createElement('div');\n",
              "          docLink.innerHTML = docLinkHtml;\n",
              "          element.appendChild(docLink);\n",
              "        }\n",
              "      </script>\n",
              "    </div>\n",
              "  </div>\n",
              "  "
            ]
          },
          "metadata": {},
          "execution_count": 223
        }
      ]
    },
    {
      "cell_type": "markdown",
      "source": [
        "##**Table 2:** Pearson correlation matrix of variables."
      ],
      "metadata": {
        "id": "Byn4yxwUnKZq"
      }
    },
    {
      "cell_type": "code",
      "execution_count": 226,
      "metadata": {
        "colab": {
          "base_uri": "https://localhost:8080/",
          "height": 394
        },
        "id": "xq1Gj-96S7DT",
        "outputId": "b865011e-fac1-4bfa-a7bb-03ded9bb2d05"
      },
      "outputs": [
        {
          "output_type": "execute_result",
          "data": {
            "text/plain": [
              "                   DUVOL    NCSKEW     Crash\n",
              "News_Sentiment -0.003593  0.096120 -0.025059\n",
              "Return_gold    -0.114546 -0.007529 -0.102312\n",
              "T_Bill          0.012434 -0.018146 -0.012662\n",
              "Dollar_Index   -0.002198 -0.064440 -0.024629\n",
              "VIX             0.018155 -0.040454  0.007036\n",
              "WTI_Oil_price   0.056813 -0.152406  0.082554\n",
              "DUVOL           1.000000 -0.023661  0.715059\n",
              "NCSKEW         -0.023661  1.000000 -0.041644\n",
              "SYNC            0.135565 -0.465873  0.143545\n",
              "UPSD            0.310634 -0.181948  0.210210\n",
              "Crash           0.715059 -0.041644  1.000000"
            ],
            "text/html": [
              "\n",
              "  <div id=\"df-4da04115-55d7-439f-88b0-d93c9683349d\">\n",
              "    <div class=\"colab-df-container\">\n",
              "      <div>\n",
              "<style scoped>\n",
              "    .dataframe tbody tr th:only-of-type {\n",
              "        vertical-align: middle;\n",
              "    }\n",
              "\n",
              "    .dataframe tbody tr th {\n",
              "        vertical-align: top;\n",
              "    }\n",
              "\n",
              "    .dataframe thead th {\n",
              "        text-align: right;\n",
              "    }\n",
              "</style>\n",
              "<table border=\"1\" class=\"dataframe\">\n",
              "  <thead>\n",
              "    <tr style=\"text-align: right;\">\n",
              "      <th></th>\n",
              "      <th>DUVOL</th>\n",
              "      <th>NCSKEW</th>\n",
              "      <th>Crash</th>\n",
              "    </tr>\n",
              "  </thead>\n",
              "  <tbody>\n",
              "    <tr>\n",
              "      <th>News_Sentiment</th>\n",
              "      <td>-0.003593</td>\n",
              "      <td>0.096120</td>\n",
              "      <td>-0.025059</td>\n",
              "    </tr>\n",
              "    <tr>\n",
              "      <th>Return_gold</th>\n",
              "      <td>-0.114546</td>\n",
              "      <td>-0.007529</td>\n",
              "      <td>-0.102312</td>\n",
              "    </tr>\n",
              "    <tr>\n",
              "      <th>T_Bill</th>\n",
              "      <td>0.012434</td>\n",
              "      <td>-0.018146</td>\n",
              "      <td>-0.012662</td>\n",
              "    </tr>\n",
              "    <tr>\n",
              "      <th>Dollar_Index</th>\n",
              "      <td>-0.002198</td>\n",
              "      <td>-0.064440</td>\n",
              "      <td>-0.024629</td>\n",
              "    </tr>\n",
              "    <tr>\n",
              "      <th>VIX</th>\n",
              "      <td>0.018155</td>\n",
              "      <td>-0.040454</td>\n",
              "      <td>0.007036</td>\n",
              "    </tr>\n",
              "    <tr>\n",
              "      <th>WTI_Oil_price</th>\n",
              "      <td>0.056813</td>\n",
              "      <td>-0.152406</td>\n",
              "      <td>0.082554</td>\n",
              "    </tr>\n",
              "    <tr>\n",
              "      <th>DUVOL</th>\n",
              "      <td>1.000000</td>\n",
              "      <td>-0.023661</td>\n",
              "      <td>0.715059</td>\n",
              "    </tr>\n",
              "    <tr>\n",
              "      <th>NCSKEW</th>\n",
              "      <td>-0.023661</td>\n",
              "      <td>1.000000</td>\n",
              "      <td>-0.041644</td>\n",
              "    </tr>\n",
              "    <tr>\n",
              "      <th>SYNC</th>\n",
              "      <td>0.135565</td>\n",
              "      <td>-0.465873</td>\n",
              "      <td>0.143545</td>\n",
              "    </tr>\n",
              "    <tr>\n",
              "      <th>UPSD</th>\n",
              "      <td>0.310634</td>\n",
              "      <td>-0.181948</td>\n",
              "      <td>0.210210</td>\n",
              "    </tr>\n",
              "    <tr>\n",
              "      <th>Crash</th>\n",
              "      <td>0.715059</td>\n",
              "      <td>-0.041644</td>\n",
              "      <td>1.000000</td>\n",
              "    </tr>\n",
              "  </tbody>\n",
              "</table>\n",
              "</div>\n",
              "      <button class=\"colab-df-convert\" onclick=\"convertToInteractive('df-4da04115-55d7-439f-88b0-d93c9683349d')\"\n",
              "              title=\"Convert this dataframe to an interactive table.\"\n",
              "              style=\"display:none;\">\n",
              "        \n",
              "  <svg xmlns=\"http://www.w3.org/2000/svg\" height=\"24px\"viewBox=\"0 0 24 24\"\n",
              "       width=\"24px\">\n",
              "    <path d=\"M0 0h24v24H0V0z\" fill=\"none\"/>\n",
              "    <path d=\"M18.56 5.44l.94 2.06.94-2.06 2.06-.94-2.06-.94-.94-2.06-.94 2.06-2.06.94zm-11 1L8.5 8.5l.94-2.06 2.06-.94-2.06-.94L8.5 2.5l-.94 2.06-2.06.94zm10 10l.94 2.06.94-2.06 2.06-.94-2.06-.94-.94-2.06-.94 2.06-2.06.94z\"/><path d=\"M17.41 7.96l-1.37-1.37c-.4-.4-.92-.59-1.43-.59-.52 0-1.04.2-1.43.59L10.3 9.45l-7.72 7.72c-.78.78-.78 2.05 0 2.83L4 21.41c.39.39.9.59 1.41.59.51 0 1.02-.2 1.41-.59l7.78-7.78 2.81-2.81c.8-.78.8-2.07 0-2.86zM5.41 20L4 18.59l7.72-7.72 1.47 1.35L5.41 20z\"/>\n",
              "  </svg>\n",
              "      </button>\n",
              "      \n",
              "  <style>\n",
              "    .colab-df-container {\n",
              "      display:flex;\n",
              "      flex-wrap:wrap;\n",
              "      gap: 12px;\n",
              "    }\n",
              "\n",
              "    .colab-df-convert {\n",
              "      background-color: #E8F0FE;\n",
              "      border: none;\n",
              "      border-radius: 50%;\n",
              "      cursor: pointer;\n",
              "      display: none;\n",
              "      fill: #1967D2;\n",
              "      height: 32px;\n",
              "      padding: 0 0 0 0;\n",
              "      width: 32px;\n",
              "    }\n",
              "\n",
              "    .colab-df-convert:hover {\n",
              "      background-color: #E2EBFA;\n",
              "      box-shadow: 0px 1px 2px rgba(60, 64, 67, 0.3), 0px 1px 3px 1px rgba(60, 64, 67, 0.15);\n",
              "      fill: #174EA6;\n",
              "    }\n",
              "\n",
              "    [theme=dark] .colab-df-convert {\n",
              "      background-color: #3B4455;\n",
              "      fill: #D2E3FC;\n",
              "    }\n",
              "\n",
              "    [theme=dark] .colab-df-convert:hover {\n",
              "      background-color: #434B5C;\n",
              "      box-shadow: 0px 1px 3px 1px rgba(0, 0, 0, 0.15);\n",
              "      filter: drop-shadow(0px 1px 2px rgba(0, 0, 0, 0.3));\n",
              "      fill: #FFFFFF;\n",
              "    }\n",
              "  </style>\n",
              "\n",
              "      <script>\n",
              "        const buttonEl =\n",
              "          document.querySelector('#df-4da04115-55d7-439f-88b0-d93c9683349d button.colab-df-convert');\n",
              "        buttonEl.style.display =\n",
              "          google.colab.kernel.accessAllowed ? 'block' : 'none';\n",
              "\n",
              "        async function convertToInteractive(key) {\n",
              "          const element = document.querySelector('#df-4da04115-55d7-439f-88b0-d93c9683349d');\n",
              "          const dataTable =\n",
              "            await google.colab.kernel.invokeFunction('convertToInteractive',\n",
              "                                                     [key], {});\n",
              "          if (!dataTable) return;\n",
              "\n",
              "          const docLinkHtml = 'Like what you see? Visit the ' +\n",
              "            '<a target=\"_blank\" href=https://colab.research.google.com/notebooks/data_table.ipynb>data table notebook</a>'\n",
              "            + ' to learn more about interactive tables.';\n",
              "          element.innerHTML = '';\n",
              "          dataTable['output_type'] = 'display_data';\n",
              "          await google.colab.output.renderOutput(dataTable, element);\n",
              "          const docLink = document.createElement('div');\n",
              "          docLink.innerHTML = docLinkHtml;\n",
              "          element.appendChild(docLink);\n",
              "        }\n",
              "      </script>\n",
              "    </div>\n",
              "  </div>\n",
              "  "
            ]
          },
          "metadata": {},
          "execution_count": 226
        }
      ],
      "source": [
        "corr = df.corr()\n",
        "corr[[\"DUVOL\",\"NCSKEW\",\"Crash\"]]"
      ]
    },
    {
      "cell_type": "code",
      "execution_count": 216,
      "metadata": {
        "colab": {
          "base_uri": "https://localhost:8080/",
          "height": 618
        },
        "id": "WwvS-yWarC3y",
        "outputId": "79c0dbef-9d8c-458a-9e6a-55199530fc84"
      },
      "outputs": [
        {
          "output_type": "execute_result",
          "data": {
            "text/plain": [
              "<matplotlib.axes._subplots.AxesSubplot at 0x7ffb71ffad50>"
            ]
          },
          "metadata": {},
          "execution_count": 216
        },
        {
          "output_type": "display_data",
          "data": {
            "text/plain": [
              "<Figure size 792x648 with 2 Axes>"
            ],
            "image/png": "[encoded data removed]"
          },
          "metadata": {}
        }
      ],
      "source": [
        "import seaborn as sns\n",
        "# Generate a mask for the upper triangle\n",
        "mask = np.triu(np.ones_like(corr, dtype = bool))\n",
        "f, ax = plt.subplots(figsize = (11,9))\n",
        "cmap = sns.diverging_palette(230,20, as_cmap = True) \n",
        "sns.heatmap(corr, mask = mask, square = True, annot = True)\n"
      ]
    },
    {
      "cell_type": "code",
      "source": [
        "df1 = df.copy()\n",
        "for col in df1.columns:\n",
        "  winsorize(df[col], limits=[0.05, 0.05])"
      ],
      "metadata": {
        "id": "_Q4SH9W8XpX1"
      },
      "execution_count": 217,
      "outputs": []
    },
    {
      "cell_type": "markdown",
      "source": [
        "##**Table 3:** \n",
        "Regression results of model (6).\n",
        "To test the hypothesis that when Bitcoin price is skyrocketing, synchronized Ethereum rise is positively correlated to Bitcoin crash risk, we use following model to conduct empirical tests:\n",
        "\n",
        "![image.png](data:image/png;base64,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) (6)\n",
        "\n",
        "**The dependent variable** CrashRiskMeasurest here stands for 3 kinds of crash risk measures:NCSKEWt,DUVOLt,CRASHt. \n",
        "\n",
        "**∑controls** stands for control variables including daily return of gold price (gold), Stand & Poor Index (spx), dollar index (usdx), volatility index (vix), wti crude oil (wti), 30-year treasury bond (T − bond), and investor sentiment index data issued by Federal Reserve Bank of San\n",
        "Francisco (sentiment). "
      ],
      "metadata": {
        "id": "xk4fTVHNnYO5"
      }
    },
    {
      "cell_type": "markdown",
      "source": [
        "### **Model testing**"
      ],
      "metadata": {
        "id": "UeIDNJf7elz-"
      }
    },
    {
      "cell_type": "code",
      "source": [
        "# Model 1: Dependent variable of Model [1] is NCSKEW (negative coefficient of skewness, \n",
        "# defined in formula (1)) and the regression type is Newey West\n",
        "new_west_NCSKEW = smf.ols( formula = 'NCSKEW ~ News_Sentiment + Return_gold + T_Bill + Dollar_Index + VIX+ WTI_Oil_price + SYNC + UPSD',\n",
        "                         data = df).fit(cov_type='HAC',cov_kwds={'maxlags':1})\n",
        "print(new_west_NCSKEW.summary())"
      ],
      "metadata": {
        "colab": {
          "base_uri": "https://localhost:8080/"
        },
        "id": "vKAeLAwzm5BA",
        "outputId": "6e052419-6f9e-4e28-9b24-c935aa74f473"
      },
      "execution_count": 218,
      "outputs": [
        {
          "output_type": "stream",
          "name": "stdout",
          "text": [
            "                            OLS Regression Results                            \n",
            "==============================================================================\n",
            "Dep. Variable:                 NCSKEW   R-squared:                       0.242\n",
            "Model:                            OLS   Adj. R-squared:                  0.238\n",
            "Method:                 Least Squares   F-statistic:                     55.01\n",
            "Date:                Tue, 24 May 2022   Prob (F-statistic):           1.69e-78\n",
            "Time:                        12:50:16   Log-Likelihood:                -2328.0\n",
            "No. Observations:                1493   AIC:                             4674.\n",
            "Df Residuals:                    1484   BIC:                             4722.\n",
            "Df Model:                           8                                         \n",
            "Covariance Type:                  HAC                                         \n",
            "==================================================================================\n",
            "                     coef    std err          z      P>|z|      [0.025      0.975]\n",
            "----------------------------------------------------------------------------------\n",
            "Intercept         -1.2463      0.924     -1.349      0.177      -3.057       0.564\n",
            "News_Sentiment     0.4414      0.259      1.704      0.088      -0.066       0.949\n",
            "Return_gold       -1.7507      3.685     -0.475      0.635      -8.973       5.472\n",
            "T_Bill             0.0729      0.099      0.734      0.463      -0.122       0.267\n",
            "Dollar_Index      -0.0376      0.010     -3.702      0.000      -0.058      -0.018\n",
            "VIX                0.0101      0.006      1.823      0.068      -0.001       0.021\n",
            "WTI_Oil_price     -0.0658      0.026     -2.547      0.011      -0.116      -0.015\n",
            "SYNC              -0.4402      0.026    -16.939      0.000      -0.491      -0.389\n",
            "UPSD           -1014.0740    214.510     -4.727      0.000   -1434.506    -593.642\n",
            "==============================================================================\n",
            "Omnibus:                       65.857   Durbin-Watson:                   1.773\n",
            "Prob(Omnibus):                  0.000   Jarque-Bera (JB):               71.884\n",
            "Skew:                          -0.522   Prob(JB):                     2.46e-16\n",
            "Kurtosis:                       2.745   Cond. No.                     6.40e+05\n",
            "==============================================================================\n",
            "\n",
            "Warnings:\n",
            "[1] Standard Errors are heteroscedasticity and autocorrelation robust (HAC) using 1 lags and without small sample correction\n",
            "[2] The condition number is large, 6.4e+05. This might indicate that there are\n",
            "strong multicollinearity or other numerical problems.\n"
          ]
        }
      ]
    },
    {
      "cell_type": "code",
      "source": [
        "# Model 2: Dependent variable of Model [1] is DUVOL (negative coefficient of skewness, \n",
        "# defined in formula (1)) and the regression type is Newey West\n",
        "new_west_DUVOL= smf.ols( formula = 'DUVOL ~ News_Sentiment + Return_gold + T_Bill + Dollar_Index + VIX+ WTI_Oil_price + SYNC + UPSD',\n",
        "                         data = df).fit(cov_type='HAC',cov_kwds={'maxlags':1})\n",
        "print(new_west_DUVOL.summary())\n"
      ],
      "metadata": {
        "colab": {
          "base_uri": "https://localhost:8080/"
        },
        "id": "FHjHPC_2XSzP",
        "outputId": "a0652d89-9aeb-4b74-d5bd-378880bbb12e"
      },
      "execution_count": 219,
      "outputs": [
        {
          "output_type": "stream",
          "name": "stdout",
          "text": [
            "                            OLS Regression Results                            \n",
            "==============================================================================\n",
            "Dep. Variable:                  DUVOL   R-squared:                       0.120\n",
            "Model:                            OLS   Adj. R-squared:                  0.116\n",
            "Method:                 Least Squares   F-statistic:                     19.70\n",
            "Date:                Tue, 24 May 2022   Prob (F-statistic):           1.87e-28\n",
            "Time:                        12:50:17   Log-Likelihood:                -2045.4\n",
            "No. Observations:                1493   AIC:                             4109.\n",
            "Df Residuals:                    1484   BIC:                             4157.\n",
            "Df Model:                           8                                         \n",
            "Covariance Type:                  HAC                                         \n",
            "==================================================================================\n",
            "                     coef    std err          z      P>|z|      [0.025      0.975]\n",
            "----------------------------------------------------------------------------------\n",
            "Intercept         -1.3507      0.738     -1.831      0.067      -2.796       0.095\n",
            "News_Sentiment     0.1133      0.206      0.550      0.582      -0.290       0.517\n",
            "Return_gold      -13.3894      3.209     -4.172      0.000     -19.679      -7.100\n",
            "T_Bill            -0.1729      0.078     -2.207      0.027      -0.326      -0.019\n",
            "Dollar_Index       0.0155      0.008      1.933      0.053      -0.000       0.031\n",
            "VIX               -0.0027      0.005     -0.572      0.567      -0.012       0.006\n",
            "WTI_Oil_price      0.0616      0.020      3.096      0.002       0.023       0.101\n",
            "SYNC               0.0486      0.022      2.243      0.025       0.006       0.091\n",
            "UPSD            1965.7006    192.169     10.229      0.000    1589.055    2342.346\n",
            "==============================================================================\n",
            "Omnibus:                       25.321   Durbin-Watson:                   1.987\n",
            "Prob(Omnibus):                  0.000   Jarque-Bera (JB):               26.316\n",
            "Skew:                          -0.325   Prob(JB):                     1.93e-06\n",
            "Kurtosis:                       3.009   Cond. No.                     6.40e+05\n",
            "==============================================================================\n",
            "\n",
            "Warnings:\n",
            "[1] Standard Errors are heteroscedasticity and autocorrelation robust (HAC) using 1 lags and without small sample correction\n",
            "[2] The condition number is large, 6.4e+05. This might indicate that there are\n",
            "strong multicollinearity or other numerical problems.\n"
          ]
        }
      ]
    },
    {
      "cell_type": "code",
      "source": [
        "# Model 3: A quantile regression (τ = 0.9) is included as of model [3]. F-value of model [3]\n",
        "# is the Wald test result between median and 90% quantile.\n",
        "\n",
        "NCSKEW_quantile = smf.quantreg( formula = 'NCSKEW ~ News_Sentiment + Return_gold + T_Bill + Dollar_Index + VIX+ WTI_Oil_price + SYNC + UPSD',\n",
        "                         data = df1).fit(q = 0.9)\n",
        "print(NCSKEW_quantile.summary())"
      ],
      "metadata": {
        "colab": {
          "base_uri": "https://localhost:8080/"
        },
        "id": "y-5WjP7sXS5A",
        "outputId": "9b7e3d63-03ec-4940-b9ab-56d331f126bf"
      },
      "execution_count": 220,
      "outputs": [
        {
          "output_type": "stream",
          "name": "stdout",
          "text": [
            "                         QuantReg Regression Results                          \n",
            "==============================================================================\n",
            "Dep. Variable:                 NCSKEW   Pseudo R-squared:              0.06818\n",
            "Model:                       QuantReg   Bandwidth:                      0.4574\n",
            "Method:                 Least Squares   Sparsity:                        3.440\n",
            "Date:                Tue, 24 May 2022   No. Observations:                 1493\n",
            "Time:                        12:50:24   Df Residuals:                     1484\n",
            "                                        Df Model:                            8\n",
            "==================================================================================\n",
            "                     coef    std err          t      P>|t|      [0.025      0.975]\n",
            "----------------------------------------------------------------------------------\n",
            "Intercept         -0.5604      0.871     -0.643      0.520      -2.270       1.149\n",
            "News_Sentiment     0.1811      0.232      0.780      0.436      -0.274       0.636\n",
            "Return_gold        2.3936      3.366      0.711      0.477      -4.209       8.996\n",
            "T_Bill             0.0353      0.088      0.400      0.689      -0.138       0.208\n",
            "Dollar_Index      -0.0249      0.009     -2.648      0.008      -0.043      -0.006\n",
            "VIX            -4.351e-06      0.005     -0.001      0.999      -0.010       0.010\n",
            "WTI_Oil_price     -0.0454      0.023     -1.952      0.051      -0.091       0.000\n",
            "SYNC              -0.2459      0.017    -14.785      0.000      -0.279      -0.213\n",
            "UPSD            -703.6617    182.050     -3.865      0.000   -1060.764    -346.559\n",
            "==================================================================================\n",
            "\n",
            "The condition number is large, 6.4e+05. This might indicate that there are\n",
            "strong multicollinearity or other numerical problems.\n"
          ]
        }
      ]
    },
    {
      "cell_type": "code",
      "source": [
        "# Dependent variable of Model [4] is CRASH (dummy variable to indicate whether Bitcoin is\n",
        "# Crashed during that day), so the regression type is changed to logit. \n",
        "# F-Value of Newey West regression is reported while Log-Likelihood is reported for\n",
        "# logit regression.\n",
        "\n",
        "CRASH_logit = smf.logit('Crash ~ News_Sentiment + Return_gold + T_Bill + Dollar_Index + VIX+ WTI_Oil_price + SYNC + UPSD', data = df).fit()\n",
        "print(CRASH_logit.summary())"
      ],
      "metadata": {
        "colab": {
          "base_uri": "https://localhost:8080/"
        },
        "id": "BxZ09mrvXS7g",
        "outputId": "5e8d08ee-03ca-47b9-cea5-1bdb02694b3a"
      },
      "execution_count": 221,
      "outputs": [
        {
          "output_type": "stream",
          "name": "stdout",
          "text": [
            "Optimization terminated successfully.\n",
            "         Current function value: 0.647160\n",
            "         Iterations 11\n",
            "                           Logit Regression Results                           \n",
            "==============================================================================\n",
            "Dep. Variable:                  Crash   No. Observations:                 1493\n",
            "Model:                          Logit   Df Residuals:                     1484\n",
            "Method:                           MLE   Df Model:                            8\n",
            "Date:                Tue, 24 May 2022   Pseudo R-squ.:                 0.06190\n",
            "Time:                        12:50:26   Log-Likelihood:                -966.21\n",
            "converged:                       True   LL-Null:                       -1030.0\n",
            "Covariance Type:            nonrobust   LLR p-value:                 9.327e-24\n",
            "==================================================================================\n",
            "                     coef    std err          z      P>|z|      [0.025      0.975]\n",
            "----------------------------------------------------------------------------------\n",
            "Intercept         -1.2479      1.694     -0.736      0.461      -4.569       2.073\n",
            "News_Sentiment     0.1823      0.449      0.406      0.685      -0.697       1.062\n",
            "Return_gold      -27.0492      6.968     -3.882      0.000     -40.706     -13.392\n",
            "T_Bill            -0.5702      0.170     -3.360      0.001      -0.903      -0.238\n",
            "Dollar_Index       0.0220      0.018      1.205      0.228      -0.014       0.058\n",
            "VIX               -0.0163      0.010     -1.626      0.104      -0.036       0.003\n",
            "WTI_Oil_price      0.1741      0.043      4.062      0.000       0.090       0.258\n",
            "SYNC               0.1414      0.046      3.102      0.002       0.052       0.231\n",
            "UPSD            3612.7245    527.360      6.851      0.000    2579.118    4646.331\n",
            "==================================================================================\n"
          ]
        }
      ]
    },
    {
      "cell_type": "markdown",
      "source": [
        "### **Summary**"
      ],
      "metadata": {
        "id": "U9X3G9nXd77d"
      }
    },
    {
      "cell_type": "code",
      "source": [
        "# Well, there is summary_col in statsmodels; it doesn't have all the bells and whistles of estout, \n",
        "# but it does have the basic functionality you are looking for (including export to LaTeX):\n",
        "from statsmodels.iolib.summary2 import summary_col\n",
        "print(summary_col([new_west_NCSKEW,new_west_DUVOL,NCSKEW_quantile,CRASH_logit],stars=True,float_format='%0.2f'))"
      ],
      "metadata": {
        "colab": {
          "base_uri": "https://localhost:8080/"
        },
        "id": "66u9HUM7bB7G",
        "outputId": "31618db1-2932-443a-dde1-b94b622b72f7"
      },
      "execution_count": 222,
      "outputs": [
        {
          "output_type": "stream",
          "name": "stdout",
          "text": [
            "\n",
            "===========================================================\n",
            "                 NCSKEW I   DUVOL I   NCSKEW II   Crash I  \n",
            "-----------------------------------------------------------\n",
            "Intercept      -1.25       -1.35*     -0.56      -1.25     \n",
            "               (0.92)      (0.74)     (0.87)     (1.69)    \n",
            "News_Sentiment 0.44*       0.11       0.18       0.18      \n",
            "               (0.26)      (0.21)     (0.23)     (0.45)    \n",
            "Return_gold    -1.75       -13.39***  2.39       -27.05*** \n",
            "               (3.68)      (3.21)     (3.37)     (6.97)    \n",
            "T_Bill         0.07        -0.17**    0.04       -0.57***  \n",
            "               (0.10)      (0.08)     (0.09)     (0.17)    \n",
            "Dollar_Index   -0.04***    0.02*      -0.02***   0.02      \n",
            "               (0.01)      (0.01)     (0.01)     (0.02)    \n",
            "VIX            0.01*       -0.00      -0.00      -0.02     \n",
            "               (0.01)      (0.00)     (0.01)     (0.01)    \n",
            "WTI_Oil_price  -0.07**     0.06***    -0.05*     0.17***   \n",
            "               (0.03)      (0.02)     (0.02)     (0.04)    \n",
            "SYNC           -0.44***    0.05**     -0.25***   0.14***   \n",
            "               (0.03)      (0.02)     (0.02)     (0.05)    \n",
            "UPSD           -1014.07*** 1965.70*** -703.66*** 3612.72***\n",
            "               (214.51)    (192.17)   (182.05)   (527.36)  \n",
            "===========================================================\n",
            "Standard errors in parentheses.\n",
            "* p<.1, ** p<.05, ***p<.01\n"
          ]
        }
      ]
    },
    {
      "cell_type": "markdown",
      "source": [
        "# **Appendix: Graphic exploration**\n"
      ],
      "metadata": {
        "id": "PzLRKs-efkpI"
      }
    },
    {
      "cell_type": "code",
      "source": [
        "# Data manipulation\n",
        "# ==============================================================================\n",
        "import pandas as pd\n",
        "import numpy as np\n",
        "import datetime\n",
        "# Plots\n",
        "# ==============================================================================\n",
        "import matplotlib.pyplot as plt\n",
        "%matplotlib inline\n",
        "import plotly.graph_objects as go\n",
        "from plotly.subplots import make_subplots\n",
        "import plotly.express as px\n",
        "import seaborn as sns\n",
        "from statsmodels.graphics.tsaplots import plot_acf\n",
        "from statsmodels.graphics.tsaplots import plot_pacf\n",
        "plt.style.use('ggplot')\n",
        "\n",
        "# Bitcoin colors\n",
        "# ==============================================================================\n",
        "palette_btc = {'orange': '#f7931a',\n",
        "               'white' : '#ffffff',\n",
        "               'gray'  : '#4d4d4d',\n",
        "               'blue'  : '#0d579b',\n",
        "               'green' : '#329239'\n",
        "              }"
      ],
      "metadata": {
        "id": "OJlgMCiSbCEQ"
      },
      "execution_count": null,
      "outputs": []
    },
    {
      "cell_type": "code",
      "source": [
        "data = BTC_1d.copy()\n",
        "candlestick = go.Candlestick(\n",
        "                    x     = data.index,\n",
        "                    open  = data.Open,\n",
        "                    close = data.Close_x,\n",
        "                    low   = data.Low,\n",
        "                    high  = data.High,\n",
        "                    )\n",
        "\n",
        "fig = go.Figure(data=[candlestick])\n",
        "\n",
        "fig.update_layout(\n",
        "    width       = 900,\n",
        "    height      = 450,\n",
        "    title       = dict(text='<b>Bitcoin/USD Chart</b>', font=dict(size=30)),\n",
        "    yaxis_title = dict(text='Price (USD)', font=dict(size=15)),\n",
        "    margin      = dict(l=10, r=20, t=80, b=20)\n",
        ")\n",
        "\n",
        "fig.show()"
      ],
      "metadata": {
        "id": "AfePrdn4xypt"
      },
      "execution_count": null,
      "outputs": []
    },
    {
      "cell_type": "markdown",
      "source": [
        "**Data distribution**\n",
        "\n",
        "The distribution of the Bitcoin closing price, variable close, is shown:"
      ],
      "metadata": {
        "id": "rzrjSL7gxbK1"
      }
    },
    {
      "cell_type": "code",
      "source": [
        "# KDE distribution of Bitcoin closing price\n",
        "# ==============================================================================\n",
        "fig, ax = plt.subplots(figsize=(7, 4))\n",
        "p = sns.kdeplot(data=data, x='Close_x', linewidth=3, ax=ax)\n",
        "r = sns.rugplot(data=data, x='Close_x', ax=ax, c='royalblue',\n",
        "                height=-.03, clip_on=False)\n",
        "p.set(xlim=(0, None))\n",
        "p.set_title('KDE Bitcoin closing price', fontsize=18)\n",
        "p.set_xlabel('Price (USD)');"
      ],
      "metadata": {
        "id": "pZPtKXjPzcD9"
      },
      "execution_count": null,
      "outputs": []
    },
    {
      "cell_type": "markdown",
      "source": [
        "## **Price per year**\n"
      ],
      "metadata": {
        "id": "RGtLUIsWzoY_"
      }
    },
    {
      "cell_type": "code",
      "source": [
        "# Locate corresponding data for each year\n",
        "# ==============================================================================\n",
        "years = list(data.Year.unique())\n",
        "df_plot = pd.DataFrame()\n",
        "\n",
        "for year in years:\n",
        "    \n",
        "    year_open  = data.loc[data.Year == year, 'Open'].iloc[0]\n",
        "    year_close = data.loc[data.Year == year, 'Close_x'].iloc[-1]\n",
        "    year_low   = data.loc[data.Year == year, 'Low'].min()\n",
        "    year_high  = data.loc[data.Year == year, 'High'].max()\n",
        "    \n",
        "    df_plot[year] = pd.Series([year_open, year_close, year_low, year_high]) \n",
        "    \n",
        "df_plot = df_plot.T\n",
        "df_plot = df_plot.set_axis(['Open', 'Close', 'Low', 'High'], axis=1)\n",
        "\n",
        "# Calculate % change between the open and close price of the year\n",
        "# ==============================================================================\n",
        "df_plot['year_change'] = 100*(df_plot['Close'] - df_plot['Open']) / df_plot['Open']\n",
        "df_plot.head(3)"
      ],
      "metadata": {
        "id": "QuEGh7Kgzoxw"
      },
      "execution_count": null,
      "outputs": []
    },
    {
      "cell_type": "code",
      "source": [
        "# Create a list of dicts with the % change annotations for the plot\n",
        "# ==============================================================================\n",
        "annotations_list = []\n",
        "max_high = df_plot['High'].max()\n",
        "\n",
        "for year in years:\n",
        "    \n",
        "    df_aux = df_plot.loc[df_plot.index == year,]\n",
        "    loc_x = pd.to_datetime(df_aux.index[0], format='%Y')\n",
        "    loc_y = df_aux['High'].values[0]/max_high + 0.05\n",
        "    text = '{:.1f}%'.format(df_aux['year_change'].values[0])\n",
        "    \n",
        "    annotation = dict(x=loc_x, y=loc_y, \n",
        "                      xref='x', yref='paper',\n",
        "                      showarrow=False, xanchor='center', \n",
        "                      text=text)\n",
        "\n",
        "    annotations_list.append(annotation)\n",
        "\n",
        "# Interactive candlestick chart with Plotly\n",
        "# ==============================================================================\n",
        "candlestick = go.Candlestick(\n",
        "                    x     = pd.to_datetime(df_plot.index, format='%Y'),\n",
        "                    open  = df_plot.Open,\n",
        "                    close = df_plot.Close,\n",
        "                    low   = df_plot.Low,\n",
        "                    high  = df_plot.High\n",
        "                    )\n",
        "\n",
        "fig = go.Figure(data=[candlestick])\n",
        "\n",
        "fig.update_layout(\n",
        "    width       = 800,\n",
        "    height      = 350,\n",
        "    title       = dict(text='<b>Bitcoin/USD yearly chart</b>', font=dict(size=25)),\n",
        "    yaxis_title = dict(text='Price (USD)', font=dict(size=13)),\n",
        "    margin      = dict(l=0, r=20, t=55, b=20),\n",
        "    xaxis_rangeslider_visible = False,\n",
        "    annotations = annotations_list\n",
        "    )\n",
        "\n",
        "fig.show()"
      ],
      "metadata": {
        "id": "JA3xYAfI08td"
      },
      "execution_count": null,
      "outputs": []
    },
    {
      "cell_type": "markdown",
      "source": [
        "## **Annual, monthly and weekly seasonality**"
      ],
      "metadata": {
        "id": "_KU1Wyvw1DmA"
      }
    },
    {
      "cell_type": "code",
      "source": [
        "# Locate corresponding data for each month\n",
        "# ==============================================================================\n",
        "years = list(data.Year.unique())\n",
        "df_plot = pd.DataFrame()\n",
        "\n",
        "for year in years:\n",
        "    for month in range(12):\n",
        "        start_date = pd.to_datetime(f'{year}-{month+1}-01', format='%Y-%m-%d')\n",
        "        end_date = (start_date + pd.offsets.MonthBegin())\n",
        "        mask = (data[\"Date\"] >= start_date) & (data[\"Date\"] < end_date)\n",
        "        \n",
        "        if not data.loc[mask, :].empty:\n",
        "                        \n",
        "            month_open  = data.loc[mask, 'Open'].iloc[0]\n",
        "            month_close = data.loc[mask, 'Close_x'].iloc[-1]\n",
        "            month_low   = data.loc[mask, 'Low'].min()\n",
        "            month_high  = data.loc[mask, 'High'].max()\n",
        "            \n",
        "            serie  = pd.Series([month_open, month_close, month_low, month_high])\n",
        "            df_aux = pd.DataFrame(serie, columns=[f'{str(month+1).zfill(2)}-{year}'])\n",
        "            \n",
        "            if df_plot.empty:\n",
        "                df_plot = df_aux.copy()\n",
        "            else:\n",
        "                df_plot = pd.concat([df_plot, df_aux], axis=1)\n",
        "\n",
        "df_plot = df_plot.T\n",
        "df_plot = df_plot.set_axis(['Open', 'Close', 'Low', 'High'], axis=1)"
      ],
      "metadata": {
        "id": "Wrl_4L8T1JtY"
      },
      "execution_count": null,
      "outputs": []
    },
    {
      "cell_type": "code",
      "source": [
        "# Boxplot chart for annual seasonality\n",
        "# ==============================================================================\n",
        "# df_plot['month'] = pd.to_datetime(df_plot.index, format='%m-%Y').month\n",
        "# fig, ax = plt.subplots(figsize=(7, 3.5))\n",
        "# df_plot.boxplot(column='close', by='month', ax=ax)\n",
        "# df_plot.groupby('month')['close'].median().plot(style='o-', linewidth=0.8, ax=ax)\n",
        "# ax.set_ylabel('Price (USD)')\n",
        "# ax.set_title('BTC Price per month')\n",
        "# fig.suptitle('');\n",
        "\n",
        "df_plot['month'] = pd.to_datetime(df_plot.index, format='%m-%Y').month\n",
        "# fig 1 monthly boxplot\n",
        "fig1 = px.box(df_plot.sort_values('month'), x='month', y='Close',\n",
        "              color_discrete_sequence=[palette_btc['green']])\n",
        "\n",
        "# fig 2 line with median data for each month\n",
        "df_median = pd.DataFrame(df_plot.groupby('month')['Close'].median()).reset_index()\n",
        "fig2 = px.line(df_median, x='month', y='Close', markers=True,\n",
        "               color_discrete_sequence=[palette_btc['gray']])\n",
        "\n",
        "fig = go.Figure(data=fig1.data + fig2.data)\n",
        "\n",
        "fig.update_layout(\n",
        "    width       = 650,\n",
        "    height      = 350,\n",
        "    title       = dict(text='<b>BTC Price per month</b>', font=dict(size=25)),\n",
        "    yaxis_title = dict(text='Price (USD)', font=dict(size=13)),\n",
        "    xaxis       = dict(tickmode='linear'),\n",
        "    xaxis_title = dict(text='month', font=dict(size=13)),\n",
        "    margin      = dict(l=0, r=20, t=55, b=20)\n",
        "    )\n",
        "\n",
        "fig.show()"
      ],
      "metadata": {
        "id": "4wNo5SnK1dPV"
      },
      "execution_count": null,
      "outputs": []
    },
    {
      "cell_type": "code",
      "source": [
        "# Boxplot chart for monthly seasonality\n",
        "# ==============================================================================\n",
        "# fig, ax = plt.subplots(figsize=(9, 3.5))\n",
        "# data['day'] = pd.Series(data.index).dt.day.values\n",
        "# data.boxplot(column='close', by='day', ax=ax)\n",
        "# data.groupby('day')['close'].median().plot(style='o-', linewidth=0.8, ax=ax)\n",
        "# ax.set_ylabel('Price (USD)')\n",
        "# ax.set_title('BTC Price per day of the month')\n",
        "# fig.suptitle('');\n",
        "\n",
        "\n",
        "# fig 1 dayly boxplot\n",
        "fig1 = px.box(data.sort_values('Day'), x='Day', y='Close_x',\n",
        "              color_discrete_sequence=[palette_btc['green']])\n",
        "\n",
        "# fig 2 line with median data for each day\n",
        "df_median = pd.DataFrame(data.groupby('Day')['Close_x'].median()).reset_index()\n",
        "fig2 = px.line(df_median, x='Day', y='Close_x', markers=True,\n",
        "               color_discrete_sequence=[palette_btc['gray']])\n",
        "\n",
        "fig = go.Figure(data=fig1.data + fig2.data)\n",
        "\n",
        "fig.update_layout(\n",
        "    width       = 750,\n",
        "    height      = 350,\n",
        "    title       = dict(text='<b>BTC Price per day of the month</b>', font=dict(size=25)),\n",
        "    yaxis_title = dict(text='Price (USD)', font=dict(size=13)),\n",
        "    xaxis       = dict(tickmode='linear', tickangle=0, range=[0.5, 31.5]),\n",
        "    xaxis_title = dict(text='Day', font=dict(size=13)),\n",
        "    margin      = dict(l=0, r=20, t=55, b=20)\n",
        "    )\n",
        "\n",
        "fig.show()"
      ],
      "metadata": {
        "id": "oMRt2Tin2klS"
      },
      "execution_count": null,
      "outputs": []
    },
    {
      "cell_type": "code",
      "source": [
        "# Boxplot chart for weekly seasonality\n",
        "# ==============================================================================\n",
        "# fig, ax = plt.subplots(figsize=(7, 3.5))\n",
        "# data['weekday'] = data.index.day_of_week + 1\n",
        "# data.boxplot(column='close', by='weekday', ax=ax)\n",
        "# data.groupby('weekday')['close'].median().plot(style='o-', linewidth=0.8, ax=ax)\n",
        "# ax.set_ylabel('Price (USD)')\n",
        "# ax.set_title('BTC Price per day of the week');\n",
        "data.set_index(\"Date\",inplace = True)\n",
        "data['weekday'] = data.index.day_of_week + 1\n",
        "\n",
        "# fig 1 weekly boxplot\n",
        "fig1 = px.box(data.sort_values('weekday'), x='weekday', y='Close_x',\n",
        "              color_discrete_sequence=[palette_btc['green']])\n",
        "\n",
        "# fig 2 line with median data for each weekday\n",
        "df_median = pd.DataFrame(data.groupby('weekday')['Close_x'].median()).reset_index()\n",
        "fig2 = px.line(df_median, x='weekday', y='Close_x', markers=True,\n",
        "               color_discrete_sequence=[palette_btc['gray']])\n",
        "\n",
        "fig = go.Figure(data=fig1.data + fig2.data)\n",
        "\n",
        "fig.update_layout(\n",
        "    width       = 650,\n",
        "    height      = 350,\n",
        "    title       = dict(text='<b>BTC Price per day of the week</b>', font=dict(size=25)),\n",
        "    yaxis_title = dict(text='Price (USD)', font=dict(size=13)),\n",
        "    xaxis       = dict(tickmode='linear'),\n",
        "    xaxis_title = dict(text='weekday', font=dict(size=13)),\n",
        "    margin      = dict(l=0, r=20, t=55, b=20)\n",
        "    )\n",
        "\n",
        "fig.show()"
      ],
      "metadata": {
        "id": "MN1ROuJt3EOd"
      },
      "execution_count": null,
      "outputs": []
    }
  ],
  "metadata": {
    "colab": {
      "name": "Ethereum synchronicity, upside volatility and Bitcoin crash risk .ipynb",
      "provenance": [],
      "collapsed_sections": [],
      "mount_file_id": "1AXx-evUd0pW25daJsRzpomL4j9tE9Aj2",
      "authorship_tag": "ABX9TyPIZslRaVNlqiICR+0KGKQ6",
      "include_colab_link": true
    },
    "kernelspec": {
      "display_name": "Python 3",
      "name": "python3"
    },
    "language_info": {
      "name": "python"
    }
  },
  "nbformat": 4,
  "nbformat_minor": 0
}
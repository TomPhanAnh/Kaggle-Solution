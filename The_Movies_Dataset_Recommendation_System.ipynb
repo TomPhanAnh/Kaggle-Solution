{
  "nbformat": 4,
  "nbformat_minor": 0,
  "metadata": {
    "colab": {
      "name": "The_Movies_Dataset_Recommendation System.ipynb",
      "provenance": [],
      "collapsed_sections": [],
      "mount_file_id": "1RmSRLFowCbRGXkXBoloQ5loiNrjSyDH6",
      "authorship_tag": "ABX9TyNv3ajtoQ/E7wK2k6C1Jhkl",
      "include_colab_link": true
    },
    "kernelspec": {
      "name": "python3",
      "display_name": "Python 3"
    },
    "language_info": {
      "name": "python"
    }
  },
  "cells": [
    {
      "cell_type": "markdown",
      "metadata": {
        "id": "view-in-github",
        "colab_type": "text"
      },
      "source": [
        "<a href=\"https://colab.research.google.com/github/TomPhanAnh/Kaggle-Solution/blob/main/The_Movies_Dataset_Recommendation_System.ipynb\" target=\"_parent\"><img src=\"https://colab.research.google.com/assets/colab-badge.svg\" alt=\"Open In Colab\"/></a>"
      ]
    },
    {
      "cell_type": "code",
      "execution_count": 1,
      "metadata": {
        "id": "jm0Gm27qeUx7"
      },
      "outputs": [],
      "source": [
        "import pandas as pd\n",
        "import numpy as np\n",
        "import matplotlib.pyplot as plt\n",
        "import seaborn as sns\n",
        "import matplotlib as mpl\n",
        "%matplotlib inline\n",
        "\n",
        "# Set options for display columns & rows\n",
        "pd.set_option(\"display.max_rows\",500)\n",
        "pd.set_option(\"display.max_columns\", 500)\n",
        "pd.set_option(\"display.width\",1000)\n",
        "\n",
        "# Working with string dataset\n",
        "# Parse the stringified features into their corresponding python objects\n",
        "import ast\n",
        "from ast import literal_eval\n",
        "\n",
        "# Working with Machine Learning - Unsupervised dataset\n",
        "from scipy import ndimage \n",
        "from scipy.cluster import hierarchy \n",
        "from scipy.spatial import distance_matrix \n",
        "#-----------------------------------------------------\n",
        "from sklearn import manifold, datasets \n",
        "from sklearn.cluster import AgglomerativeClustering "
      ]
    },
    {
      "cell_type": "markdown",
      "source": [
        "# **The Movies Dataset**\n",
        "\n",
        "Metadata on over 45,000 movies. 26 million ratings from over 270,000 users.\n",
        "\n",
        "## **About Dataset**\n",
        "### **Context**\n",
        "These files contain metadata for all 45,000 movies listed in the Full MovieLens Dataset. The dataset consists of movies released on or before July 2017. Data points include cast, crew, plot keywords, budget, revenue, posters, release dates, languages, production companies, countries, TMDB vote counts and vote averages.\n",
        "\n",
        "This dataset also has files containing 26 million ratings from 270,000 users for all 45,000 movies. Ratings are on a scale of 1-5 and have been obtained from the official GroupLens website.\n",
        "\n",
        "### **Content**\n",
        "This dataset consists of the following files:\n",
        "\n",
        "movies_metadata.csv: The main Movies Metadata file. Contains information on 45,000 movies featured in the Full MovieLens dataset. Features include posters, backdrops, budget, revenue, release dates, languages, production countries and companies.\n",
        "\n",
        "keywords.csv: Contains the movie plot keywords for our MovieLens movies. Available in the form of a stringified JSON Object.\n",
        "\n",
        "credits.csv: Consists of Cast and Crew Information for all our movies. Available in the form of a stringified JSON Object.\n",
        "\n",
        "links.csv: The file that contains the TMDB and IMDB IDs of all the movies featured in the Full MovieLens dataset.\n",
        "\n",
        "links_small.csv: Contains the TMDB and IMDB IDs of a small subset of 9,000 movies of the Full Dataset.\n",
        "\n",
        "ratings_small.csv: The subset of 100,000 ratings from 700 users on 9,000 movies.\n",
        "\n",
        "The Full MovieLens Dataset consisting of 26 million ratings and 750,000 tag applications from 270,000 users on all the 45,000 movies in this dataset can be accessed here\n",
        "\n",
        "### **Acknowledgements**\n",
        "This dataset is an ensemble of data collected from TMDB and GroupLens.\n",
        "The Movie Details, Credits and Keywords have been collected from the TMDB Open API. This product uses the TMDb API but is not endorsed or certified by TMDb. Their API also provides access to data on many additional movies, actors and actresses, crew members, and TV shows. You can try it for yourself here.\n",
        "\n",
        "The Movie Links and Ratings have been obtained from the Official GroupLens website. The files are a part of the dataset available here\n",
        "\n",
        "### **Inspiration**\n",
        "This dataset was assembled as part of my second Capstone Project for Springboard's Data Science Career Track. I wanted to perform an extensive EDA on Movie Data to narrate the history and the story of Cinema and use this metadata in combination with MovieLens ratings to build various types of Recommender Systems.\n",
        "\n",
        "Both my notebooks are available as kernels with this dataset: The Story of Film and Movie Recommender Systems\n",
        "\n",
        "Some of the things you can do with this dataset:\n",
        "Predicting movie revenue and/or movie success based on a certain metric. What movies tend to get higher vote counts and vote averages on TMDB? Building Content Based and Collaborative Filtering Based Recommendation Engines."
      ],
      "metadata": {
        "id": "rkmg04YGe4gz"
      }
    },
    {
      "cell_type": "code",
      "source": [
        "# import credit file\n",
        "credit = pd.read_csv(\"credits.csv\", engine = \"python\", error_bad_lines = False)\n",
        "\n",
        "# import keywords file\n",
        "keyword = pd.read_csv(\"keywords.csv\", engine = \"python\", error_bad_lines = False)\n",
        "\n",
        "# import links \n",
        "links = pd.read_csv(\"links.csv\", engine = \"python\", error_bad_lines = False)\n",
        "# Movies_dataset\n",
        "movies = pd.read_csv(\"movies_metadata.csv\", engine = \"python\", error_bad_lines= False)\n",
        "\n",
        "# ratings\n",
        "ratings = pd.read_csv(\"ratings.csv\", engine = \"python\", error_bad_lines= False)\n"
      ],
      "metadata": {
        "colab": {
          "base_uri": "https://localhost:8080/"
        },
        "id": "DzyhxguLe3_e",
        "outputId": "ff143c78-1a80-4c25-8c0d-37f39b70d422"
      },
      "execution_count": null,
      "outputs": [
        {
          "output_type": "stream",
          "name": "stderr",
          "text": [
            "/usr/local/lib/python3.7/dist-packages/IPython/core/interactiveshell.py:2882: FutureWarning: The error_bad_lines argument has been deprecated and will be removed in a future version.\n",
            "\n",
            "\n",
            "  exec(code_obj, self.user_global_ns, self.user_ns)\n"
          ]
        }
      ]
    },
    {
      "cell_type": "code",
      "source": [
        "credit.head()\n",
        "# id column: "
      ],
      "metadata": {
        "id": "Pg6c4KOoAjOM"
      },
      "execution_count": null,
      "outputs": []
    },
    {
      "cell_type": "code",
      "source": [
        "print(\"Before Data manipulation/Cleaning process\")\n",
        "print(20*\"*-\")\n",
        "for x,y in zip([\"credit\",\"keyword\", \"links\",\"links_small\",\"movies\",\"ratings\", \"ratings_small\"],\n",
        "               [credit,keyword, links,movies,ratings]):\n",
        "  print(\"{}'s shape: {}\".format(x,y.shape))\n",
        "  print(\"\")"
      ],
      "metadata": {
        "id": "LzQGaA4Yebi3"
      },
      "execution_count": null,
      "outputs": []
    },
    {
      "cell_type": "markdown",
      "source": [
        "### **Data Manipulation with Credit**\n",
        "Data Understanding:\n",
        "\n",
        "Credit csv is dataset that describe several features of a firms included:\n",
        "\n",
        "- **'cast_id'**: The id number of actor/actress active in firms\n",
        "- **'character'**: The roleplay the actor/actress take charge\n",
        "- **'credit_id'**:\n",
        "- **'gender'**: sex of characters\n",
        "- **'id'**: id number\n",
        "- **'name'**: Name\n",
        "- **'order'**:\n",
        "- **'profile_path'**: Link lead to profile actor/actress\n"
      ],
      "metadata": {
        "id": "TY5VScMe5IGJ"
      }
    },
    {
      "cell_type": "code",
      "source": [
        "credit.info()\n",
        "print(\"Credit shape: {}\".format(credit.shape))"
      ],
      "metadata": {
        "id": "AtM1M7yAGzed"
      },
      "execution_count": null,
      "outputs": []
    },
    {
      "cell_type": "markdown",
      "source": [
        "### **Credit Dataset**"
      ],
      "metadata": {
        "id": "bxF_UbUGo3Tv"
      }
    },
    {
      "cell_type": "code",
      "source": [
        "credit.drop_duplicates(inplace = True)\n",
        "credit.head()"
      ],
      "metadata": {
        "id": "viUgHySU7dA5"
      },
      "execution_count": null,
      "outputs": []
    },
    {
      "cell_type": "code",
      "source": [
        "# Create lists to contain data for each sector\n",
        "id_credit = []\n",
        "cast_id   = []\n",
        "character = []\n",
        "credit_id = []\n",
        "gender    = []\n",
        "id        = []\n",
        "name      = []\n",
        "order     = []\n",
        "profile_path = []"
      ],
      "metadata": {
        "id": "z5WwczuZj4hq"
      },
      "execution_count": null,
      "outputs": []
    },
    {
      "cell_type": "code",
      "source": [
        "# Updating the list of each columns extracting from column: credit[\"cast\"]\n",
        "for i in credit.index:\n",
        "  data = literal_eval(credit[\"cast\"][i])\n",
        "  for x in range(len(data)):\n",
        "    id_credit.append(credit[\"id\"][i])\n",
        "    try:\n",
        "      # Cast id\n",
        "      cast_id.append(data[x]['cast_id'])\n",
        "            # character\n",
        "      character.append(data[x]['character'])\n",
        "            # Credit_id\n",
        "      credit_id.append(data[x]['credit_id'])\n",
        "            # Gender\n",
        "      gender.append(data[x]['gender'])\n",
        "            #id\n",
        "      id.append(data[x]['id'])\n",
        "            #Name\n",
        "      name.append(data[x]['name'])\n",
        "            #Profile\n",
        "      profile_path.append(data[x]['profile_path'])\n",
        "    except:\n",
        "      pass"
      ],
      "metadata": {
        "id": "QT5KiHAuicbT"
      },
      "execution_count": null,
      "outputs": []
    },
    {
      "cell_type": "code",
      "source": [
        "# in order to avoid ValueError: All arrays must be of the same length\n",
        "# List: order will have to update with null values/\n",
        "order = [i for i in np.zeros(len(cast_id))]\n",
        "\n",
        "#Create the dataset for Cast\n",
        "credit_cast = pd.DataFrame({\n",
        "                            \"id_credit\":id_credit,\n",
        "                            \"cast_id\":cast_id,\n",
        "                            \"character\":character,\n",
        "                            \"credit_id\":credit_id,\n",
        "                            \"gender\":gender,\n",
        "                            \"id\":id,\n",
        "                            \"name\":name,\n",
        "                            \"order\":order,\n",
        "                            \"profile_path\":profile_path})"
      ],
      "metadata": {
        "id": "IYOi7EoHi3tH"
      },
      "execution_count": null,
      "outputs": []
    },
    {
      "cell_type": "code",
      "source": [
        "# id is f or caster -\n",
        "credit_cast.head()"
      ],
      "metadata": {
        "id": "XBR8ShaIKYNs"
      },
      "execution_count": null,
      "outputs": []
    },
    {
      "cell_type": "code",
      "source": [
        "for i in credit_cast.columns:\n",
        "  print(\"Value Count of credit  [{}]\".format(i))\n",
        "  print(credit_cast[i].value_counts()[:5])\n",
        "  print(100*\"-\")\n",
        "  print(\"\")"
      ],
      "metadata": {
        "id": "FJJ5F235FGZe"
      },
      "execution_count": null,
      "outputs": []
    },
    {
      "cell_type": "code",
      "source": [
        "# Do the same as cast for crew info\n",
        "# Create list\n",
        "id_crew = []\n",
        "credit_c  = []\n",
        "department = []\n",
        "gender_c  = []\n",
        "id_c      = []\n",
        "job_c     = []\n",
        "name_c    = []\n",
        "profile_c = []\n",
        "\n",
        "# -----------------------------------------------\n",
        "# Fill the dataset \n",
        "for i in credit.index:\n",
        "  data = literal_eval(credit[\"crew\"][i])\n",
        "  for x in range(len(data)):\n",
        "    id_crew.append(credit[\"id\"][i])\n",
        "    credit_c.append(data[x][\"credit_id\"])\n",
        "    department.append(data[x][\"department\"])\n",
        "    gender_c.append(data[x][\"gender\"])\n",
        "    id_c.append(data[x][\"id\"])\n",
        "    job_c.append(data[x][\"job\"])\n",
        "    name_c.append(data[x][\"name\"])\n",
        "    profile_c.append(data[x][\"profile_path\"])"
      ],
      "metadata": {
        "id": "u5K_BUbGEy_U"
      },
      "execution_count": null,
      "outputs": []
    },
    {
      "cell_type": "code",
      "source": [
        "crew_data = pd.DataFrame({\"id_credit\": id_crew, \n",
        "                          \"credit_id\":credit_c,\n",
        "                          \"department\":department,\n",
        "                          \"gender\":gender_c,\n",
        "                          \"id_crew\":id_c,\n",
        "                          \"job\":job_c,\n",
        "                          \"name\":name_c,\n",
        "                          \"profile\":profile_c})\n",
        "crew_data.head()"
      ],
      "metadata": {
        "id": "I-8hC9XZL3z8"
      },
      "execution_count": null,
      "outputs": []
    },
    {
      "cell_type": "markdown",
      "source": [
        "<h1 id=\"hierarchical_agglomerative\">Hierarchical Clustering - Agglomerative</h1>\n",
        "\n",
        "We will be looking at a clustering technique, which is <b>Agglomerative Hierarchical Clustering</b>. Remember that agglomerative is the bottom up approach. <br> <br>\n",
        "In this lab, we will be looking at Agglomerative clustering, which is more popular than Divisive clustering. <br> <br>\n",
        "We will also be using Complete Linkage as the Linkage Criteria. <br>\n",
        "<b> <i> NOTE: You can also try using Average Linkage wherever Complete Linkage would be used to see the difference! </i> </b>\n"
      ],
      "metadata": {
        "id": "ePrZkpshdcWr"
      }
    },
    {
      "cell_type": "code",
      "source": [
        "from scipy.cluster import hierarchy\n",
        "from scipy.spatial import distance_matrix\n",
        "from sklearn import manifold, datasets\n",
        "from sklearn.cluster import AgglomerativeClustering"
      ],
      "metadata": {
        "id": "GLowkStucqqy"
      },
      "execution_count": null,
      "outputs": []
    },
    {
      "cell_type": "markdown",
      "source": [
        "<hr>\n",
        "<h3 id=\"agglomerative_clustering\">Agglomerative Clustering</h3>\n",
        "\n",
        "We will start by clustering the random data points we just created.\n"
      ],
      "metadata": {
        "id": "GsaHLg0ydiV8"
      }
    },
    {
      "cell_type": "markdown",
      "source": [
        "The <b> Agglomerative Clustering </b> class will require two inputs:\n",
        "\n",
        "<ul>\n",
        "    <li> <b>n_clusters</b>: The number of clusters to form as well as the number of centroids to generate. </li>\n",
        "    <ul> <li> Value will be: 4 </li> </ul>\n",
        "    <li> <b>linkage</b>: Which linkage criterion to use. The linkage criterion determines which distance to use between sets of observation. The algorithm will merge the pairs of cluster that minimize this criterion. </li>\n",
        "    <ul> \n",
        "        <li> Value will be: 'complete' </li> \n",
        "        <li> <b>Note</b>: It is recommended you try everything with 'average' as well </li>\n",
        "    </ul>\n",
        "</ul> <br>\n",
        "Save the result to a variable called <b> agglom </b>\n"
      ],
      "metadata": {
        "id": "UzBtdVNSdkA3"
      }
    },
    {
      "cell_type": "markdown",
      "source": [
        "### **Keywords dataset** \n",
        "\n",
        "Connected with movies through ***id***"
      ],
      "metadata": {
        "id": "_8GysXOHd6k_"
      }
    },
    {
      "cell_type": "code",
      "source": [
        "keys = []\n",
        "id_keyword = []\n",
        "for i in keyword.index:\n",
        "  key = \"\"\n",
        "  data = literal_eval(keyword[\"keywords\"][i])\n",
        "  for j in range(len(data)):\n",
        "    key += str(data[j][\"name\"]) +\"|\"\n",
        "  try:\n",
        "    keys.append(key[:-1])\n",
        "    id_keyword.append(keyword[\"id\"][i])\n",
        "  except:\n",
        "    keys.append(np.nan)\n",
        "    id_keyword.append(np.nan)"
      ],
      "metadata": {
        "id": "YkeaA5O9DieJ"
      },
      "execution_count": null,
      "outputs": []
    },
    {
      "cell_type": "code",
      "source": [
        "keyword_new = pd.DataFrame({\"id_credit\":id_keyword, \"keywords\": keys})"
      ],
      "metadata": {
        "id": "9JYRXh1c-Mqm"
      },
      "execution_count": null,
      "outputs": []
    },
    {
      "cell_type": "code",
      "source": [
        "keyword_new.head()"
      ],
      "metadata": {
        "id": "BnTNYfg4Dq-O"
      },
      "execution_count": null,
      "outputs": []
    },
    {
      "cell_type": "markdown",
      "source": [
        "### **Movies Dataset**"
      ],
      "metadata": {
        "id": "45Cl2HVVn7l1"
      }
    },
    {
      "cell_type": "markdown",
      "source": [
        "Hãy xóa year khỏi cột **title** bằng cách sử dụng hàm thay thế của pandas và lưu trữ trong cột **year** mới."
      ],
      "metadata": {
        "id": "rAVZ8ghAoCEj"
      }
    },
    {
      "cell_type": "code",
      "source": [
        "# Create to fill the data from column: belongs_to_collection\n",
        "id_x = []\n",
        "name = []\n",
        "poster_path = []\n",
        "backdrop_path = []\n",
        "\n",
        "# Fill blank list with data from belong_to_collection\n",
        "for i in movies.index:\n",
        "  try:\n",
        "    data = literal_eval(movies['belongs_to_collection'][i])\n",
        "    id_x.append(data[\"id\"])\n",
        "    name.append(data[\"name\"])\n",
        "    poster_path.append(data[\"poster_path\"])\n",
        "    backdrop_path.append(data[\"backdrop_path\"])\n",
        "  except:\n",
        "    pass\n",
        "\n",
        "# Function to return the genre of each firm\n",
        "def return_genre(movies):\n",
        "  genres = literal_eval(movies)\n",
        "  genre = \"\"\n",
        "  for i in range(len(genres)):\n",
        "    genre += str(genres[i][\"name\"])\n",
        "    genre += \"|\"\n",
        "  return genre[:-1]\n",
        "# Return genres of each movie\n",
        "movies[\"genres\"] = movies[\"genres\"].apply(lambda x: return_genre(x))"
      ],
      "metadata": {
        "id": "ofRX-L84peR7"
      },
      "execution_count": null,
      "outputs": []
    },
    {
      "cell_type": "code",
      "source": [
        "# the function for movies information\n",
        "def information(movies,info):\n",
        "  try:\n",
        "    return literal_eval(movies)[0][info]\n",
        "  except:\n",
        "    return np.nan\n",
        "# Return production-countries\n",
        "# There is some issue with column: production_coutries\n",
        "# return list then [0] and return country production\n",
        "movies[\"id_company\"]           = movies[\"production_companies\"].apply(lambda x: information(x,\"id\"))\n",
        "movies[\"production_companies\"] = movies[\"production_companies\"].apply(lambda x: information(x,\"name\"))\n",
        "movies[\"production_coutries\"]  = movies[\"production_countries\"].apply(lambda x: information(x,\"name\"))\n",
        "movies[\"spoken_languages\"]     = movies[\"spoken_languages\"].apply(lambda x: information(x,\"name\"))\n",
        "## Return the companies of production"
      ],
      "metadata": {
        "id": "Z0HjKzw_zbjq"
      },
      "execution_count": null,
      "outputs": []
    },
    {
      "cell_type": "code",
      "source": [
        "##---------------------------------------------------------------\n",
        "id_belongs   = []\n",
        "name_belongs = []\n",
        "poster_belongs = []\n",
        "backdrop_belongs = []\n",
        "for i in movies.index:\n",
        "  try: \n",
        "    id_belongs.append(literal_eval(movies[\"belongs_to_collection\"][i])[\"id\"])\n",
        "  except:\n",
        "    id_belongs.append(np.nan)\n",
        "  try: \n",
        "    name_belongs.append(literal_eval(movies[\"belongs_to_collection\"][i])[\"name\"])\n",
        "  except:\n",
        "    name_belongs.append(np.nan)\n",
        "  try:\n",
        "    poster_belongs.append(literal_eval(movies[\"belongs_to_collection\"][i])[\"poster_path\"])\n",
        "  except:\n",
        "    poster_belongs.append(np.nan)\n",
        "  try:\n",
        "    backdrop_belongs.append(literal_eval(movies[\"belongs_to_collection\"][i])[\"backdrop_path\"])\n",
        "  except:\n",
        "    backdrop_belongs.append(np.nan)\n",
        "#----------------------------------------------------------------\n",
        "movies[\"id_belongs\"]            = id_belongs\n",
        "movies[\"name_belongs\"]          = name_belongs\n",
        "movies[\"poster_path_belongs\"]   = poster_belongs\n",
        "movies[\"backdrop_path_belongs\"] = backdrop_belongs"
      ],
      "metadata": {
        "id": "wFnvYLp8Wdn1"
      },
      "execution_count": null,
      "outputs": []
    },
    {
      "cell_type": "markdown",
      "source": [
        "### **Ratings Dataset**"
      ],
      "metadata": {
        "id": "CqYhQpUFF4qB"
      }
    },
    {
      "cell_type": "code",
      "source": [
        "ratings[\"timestamp\"] = pd.to_datetime(ratings[\"timestamp\"])"
      ],
      "metadata": {
        "id": "icYMr8Wj0Lm4"
      },
      "execution_count": null,
      "outputs": []
    },
    {
      "cell_type": "code",
      "source": [
        "print(\"After Data manipulation/Cleaning process\")\n",
        "print(20*\"*-\")\n",
        "for x,y in zip([\"credit\",\"keyword\", \"links\",\"movies\",\"ratings\"],\n",
        "               [credit,keyword, links,movies,ratings]):\n",
        "  print(\"{}'s shape: {}\".format(x,y.shape))\n",
        "  print(\"\")"
      ],
      "metadata": {
        "id": "KPisDdri00HS"
      },
      "execution_count": null,
      "outputs": []
    },
    {
      "cell_type": "markdown",
      "source": [
        "### **Data Understanding** to New file\n",
        "\n",
        "![image.png](data:image/png;base64,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)\n"
      ],
      "metadata": {
        "id": "u6Rg1dhigwPX"
      }
    },
    {
      "cell_type": "code",
      "source": [
        "keyword_new.head()"
      ],
      "metadata": {
        "id": "LPU80jTxMdLB"
      },
      "execution_count": null,
      "outputs": []
    },
    {
      "cell_type": "code",
      "source": [
        "keyword_new.head()\n",
        "# id_credit"
      ],
      "metadata": {
        "id": "s5thwutTyxdo"
      },
      "execution_count": null,
      "outputs": []
    },
    {
      "cell_type": "code",
      "source": [
        "ratings.rename(columns = {\"movieId\":\"id_credit\"},inplace = True)\n",
        "# Rating & Links = movieId\n",
        "ratings.head()"
      ],
      "metadata": {
        "id": "Zh16fag7IuKx"
      },
      "execution_count": null,
      "outputs": []
    },
    {
      "cell_type": "code",
      "source": [
        "links.rename(columns = {\"movieId\":\"id_credit\"}, inplace = True)\n",
        "links.head()"
      ],
      "metadata": {
        "id": "6UbikoSVK7t4"
      },
      "execution_count": null,
      "outputs": []
    },
    {
      "cell_type": "code",
      "source": [
        "credit_cast.head()\n",
        "# id_credit"
      ],
      "metadata": {
        "id": "REHs5wHHreJD"
      },
      "execution_count": null,
      "outputs": []
    },
    {
      "cell_type": "code",
      "source": [
        "credit_new = pd.DataFrame(columns = [\"id_credit\",\"name\"])\n",
        "credit_new[\"id_credit\"] = credit_cast[\"id_credit\"].unique()\n",
        "for i in credit_cast[\"id_credit\"].unique():\n",
        "  name = \"\"\n",
        "  for j in credit_cast[credit_cast[\"id_credit\"] == i][\"name\"].values:\n",
        "    name += str(j) +\"|\"\n",
        "  credit_new.loc[credit_new[\"id_credit\"] == i, \"name\"] = name[:-1]\n",
        "  \n",
        "\n"
      ],
      "metadata": {
        "id": "DWVy60QNJkr4"
      },
      "execution_count": null,
      "outputs": []
    },
    {
      "cell_type": "code",
      "source": [
        "ratings = ratings.groupby(\"id_credit\").agg({\"rating\":\"mean\"}).reset_index()"
      ],
      "metadata": {
        "id": "DAKgphGlJpvw"
      },
      "execution_count": null,
      "outputs": []
    },
    {
      "cell_type": "code",
      "source": [
        "dataset = credit_new.merge(crew_data[crew_data[\"job\"] == \"Director\"], \n",
        "                 on = \"id_credit\", \n",
        "                 how = \"left\").merge(\n",
        "                 links, \n",
        "                 on = \"id_credit\", \n",
        "                 how = \"left\").merge(\n",
        "                     keyword_new, \n",
        "                     on = \"id_credit\",\n",
        "                     how = \"left\").merge(\n",
        "                         ratings,\n",
        "                         on = \"id_credit\",\n",
        "                         how = \"left\" \n",
        "                  )[[\"id_credit\",\"name_x\",\"name_y\",\"id_crew\",\"imdbId\",\"tmdbId\",\"keywords\",\"rating\"]]"
      ],
      "metadata": {
        "id": "MndZm_ApKn8-"
      },
      "execution_count": null,
      "outputs": []
    },
    {
      "cell_type": "code",
      "source": [
        "def id_testing(x):\n",
        "  try:\n",
        "    return int(x)\n",
        "  except:\n",
        "    return np.nan"
      ],
      "metadata": {
        "id": "yY01bYr2l98C"
      },
      "execution_count": null,
      "outputs": []
    },
    {
      "cell_type": "code",
      "source": [
        "movies[\"id\"] = movies[\"id\"].apply(lambda x: id_testing(x))\n",
        "movies.dropna(subset = {\"id\"}, inplace = True)"
      ],
      "metadata": {
        "id": "1iLoaPuPehDo"
      },
      "execution_count": null,
      "outputs": []
    },
    {
      "cell_type": "code",
      "source": [
        "dataset = credit_new.merge(crew_data[crew_data[\"job\"] == \"Director\"], \n",
        "                 on = \"id_credit\", \n",
        "                 how = \"left\").merge(\n",
        "                 links, \n",
        "                 on = \"id_credit\", \n",
        "                 how = \"left\").merge(\n",
        "                 keyword_new, \n",
        "                 on = \"id_credit\",\n",
        "                 how = \"left\").merge(\n",
        "                 ratings,\n",
        "                 on = \"id_credit\",\n",
        "                 how = \"left\").merge(movies, left_on = \"id_credit\", right_on = \"id\", how = \"left\")[[\"id_credit\",\"name_x\",\"name_y\",\"imdbId\",\"tmdbId\",\n",
        "                                                                                                    \"keywords\",\"rating\",\"genres\",\"overview\",\"popularity\",\n",
        "                                                                                                    'production_companies',\"production_coutries\",\"vote_average\",\"vote_count\"]]\n",
        "dataset.head()"
      ],
      "metadata": {
        "id": "MpzfX8MFeFPP"
      },
      "execution_count": null,
      "outputs": []
    },
    {
      "cell_type": "code",
      "source": [
        ""
      ],
      "metadata": {
        "id": "DaS0KXurrKwH"
      },
      "execution_count": null,
      "outputs": []
    },
    {
      "cell_type": "markdown",
      "source": [
        "# Content Based Filtering\n",
        "\n",
        "Estimated time needed: **25** minutes\n",
        "\n",
        "## Objectives\n",
        "\n",
        "After completing this lab you will be able to:\n",
        "\n",
        "-   Create a recommendation system using collaborative filtering\n"
      ],
      "metadata": {
        "id": "v3LUQ3cFdMtQ"
      }
    },
    {
      "cell_type": "markdown",
      "source": [
        "To acquire and extract the data, simply run the following Bash scripts:  \n",
        "Dataset acquired from [GroupLens](http://grouplens.org/datasets/movielens?cm_mmc=Email_Newsletter-_-Developer_Ed%2BTech-_-WW_WW-_-SkillsNetwork-Courses-IBMDeveloperSkillsNetwork-ML0101EN-SkillsNetwork-20718538&cm_mmca1=000026UJ&cm_mmca2=10006555&cm_mmca3=M12345678&cvosrc=email.Newsletter.M12345678&cvo_campaign=000026UJ&cm_mmc=Email_Newsletter-_-Developer_Ed%2BTech-_-WW_WW-_-SkillsNetwork-Courses-IBMDeveloperSkillsNetwork-ML0101EN-SkillsNetwork-20718538&cm_mmca1=000026UJ&cm_mmca2=10006555&cm_mmca3=M12345678&cvosrc=email.Newsletter.M12345678&cvo_campaign=000026UJ&cm_mmc=Email_Newsletter-_-Developer_Ed%2BTech-_-WW_WW-_-SkillsNetwork-Courses-IBMDeveloperSkillsNetwork-ML0101EN-SkillsNetwork-20718538&cm_mmca1=000026UJ&cm_mmca2=10006555&cm_mmca3=M12345678&cvosrc=email.Newsletter.M12345678&cvo_campaign=000026UJ&cm_mmc=Email_Newsletter-_-Developer_Ed%2BTech-_-WW_WW-_-SkillsNetwork-Courses-IBMDeveloperSkillsNetwork-ML0101EN-SkillsNetwork-20718538&cm_mmca1=000026UJ&cm_mmca2=10006555&cm_mmca3=M12345678&cvosrc=email.Newsletter.M12345678&cvo_campaign=000026UJ). Lets download the dataset. To download the data, we will use **`!wget`** to download it from IBM Object Storage.  \n",
        "**Did you know?** When it comes to Machine Learning, you will likely be working with large datasets. As a business, where can you host your data? IBM is offering a unique opportunity for businesses, with 10 Tb of IBM Cloud Object Storage: [Sign up now for free](http://cocl.us/ML0101EN-IBM-Offer-CC)\n"
      ],
      "metadata": {
        "id": "hYPaO65Kdq0O"
      }
    },
    {
      "cell_type": "markdown",
      "source": [
        "### **Recommendation base on Actor - Actress**"
      ],
      "metadata": {
        "id": "xAe4GXv_qkzI"
      }
    },
    {
      "cell_type": "code",
      "source": [
        "actor_recommend = dataset[[\"id_credit\",\"name_x\",\"name_y\"]]\n",
        "#Every genre is separated by a | so we simply have to call the split function on |\n",
        "actor_recommend[\"act\"] = actor_recommend[\"name_x\"].str.split(\"|\")"
      ],
      "metadata": {
        "id": "wyamdtE2fUgY"
      },
      "execution_count": null,
      "outputs": []
    },
    {
      "cell_type": "markdown",
      "source": [
        "Since keeping genres in a list format isn't optimal for the content-based recommendation system technique, we will use the One Hot Encoding technique to convert the list of genres to a vector where each column corresponds to one possible value of the feature. This encoding is needed for feeding categorical data. In this case, we store every different genre in columns that contain either 1 or 0. 1 shows that a movie has that genre and 0 shows that it doesn't. Let's also store this dataframe in another variable since genres won't be important for our first recommendation system.\n"
      ],
      "metadata": {
        "id": "RPjfERUOrVB3"
      }
    },
    {
      "cell_type": "code",
      "source": [
        "#Copying the movie dataframe into a new one since we won't need to use the genre information in our first case.\n",
        "act = actor_recommend.copy()\n",
        "\n",
        "#For every row in the dataframe, iterate through the list of genres and place a 1 into the corresponding column\n",
        "for index, row in act.iterrows():\n",
        "  for actor in row[\"act\"]:\n",
        "    act.at[index,actor] = 1\n",
        "#Filling in the NaN values with 0 to show that a movie doesn't have that column's genre\n",
        "act = act.fillna(0)\n",
        "act.head()"
      ],
      "metadata": {
        "id": "DIghu6i7dukF"
      },
      "execution_count": null,
      "outputs": []
    },
    {
      "cell_type": "code",
      "source": [
        ""
      ],
      "metadata": {
        "id": "FSHNThuzxKl0"
      },
      "execution_count": null,
      "outputs": []
    },
    {
      "cell_type": "markdown",
      "source": [
        "<a id=\"ref3\"></a>\n",
        "\n",
        "# Content-Based recommendation system\n"
      ],
      "metadata": {
        "id": "2VOlbXxw4_wl"
      }
    },
    {
      "cell_type": "markdown",
      "source": [
        "Now, let's take a look at how to implement **Content-Based** or **Item-Item recommendation systems**. This technique attempts to figure out what a user's favourite aspects of an item is, and then recommends items that present those aspects. In our case, we're going to try to figure out the input's favorite genres from the movies and ratings given.\n",
        "\n",
        "Let's begin by creating an input user to recommend movies to:\n",
        "\n",
        "Notice: To add more movies, simply increase the amount of elements in the **userInput**. Feel free to add more in! Just be sure to write it in with capital letters and if a movie starts with a \"The\", like \"The Matrix\" then write it in like this: 'Matrix, The' .\n"
      ],
      "metadata": {
        "id": "6YJCECsi5B-O"
      }
    },
    {
      "cell_type": "markdown",
      "source": [
        "#### Add movieId to input user\n",
        "\n",
        "With the input complete, let's extract the input movie's ID's from the movies dataframe and add them into it.\n",
        "\n",
        "We can achieve this by first filtering out the rows that contain the input movie's title and then merging this subset with the input dataframe. We also drop unnecessary columns for the input to save memory space.\n"
      ],
      "metadata": {
        "id": "lhIexQdN5FCa"
      }
    },
    {
      "cell_type": "code",
      "source": [
        "inputId = movies_df[movies_df[\"title\"].isin(inputMovies[\"title\"].tolist())]\n",
        "# Then merging it so we can get the movieId. It's implicity merging it by title\n",
        "inputMovies = pd.merge(inputId, inputMovies)\n",
        "# Dropping information we won't use from the input dataframe\n",
        "inputMovies = inputMovies.drop(\"genres\",1).drop(\"year\",1)\n",
        "inputMovies"
      ],
      "metadata": {
        "id": "n9hy5Ykk038k"
      },
      "execution_count": null,
      "outputs": []
    },
    {
      "cell_type": "markdown",
      "source": [
        "We're going to start by learning the input's preferences, so let's get the subset of movies that the input has watched from the Dataframe containing genres defined with binary values."
      ],
      "metadata": {
        "id": "a1tH0rZD6DVZ"
      }
    },
    {
      "cell_type": "code",
      "source": [
        "# Filtering out the movies from the input\n",
        "rMovies = moviesWithGenres_df[moviesWithGenres_df[\"movieId\"].isin(inputMovies[\"movieId\"].tolist())]"
      ],
      "metadata": {
        "id": "PpTUeQUb2OgK"
      },
      "execution_count": null,
      "outputs": []
    },
    {
      "cell_type": "markdown",
      "source": [
        "We'll only need the actual genre table, so let's clean this up a bit by resetting the index and dropping the movieId, title, genres and year columns."
      ],
      "metadata": {
        "id": "li9vgWMG6Zno"
      }
    },
    {
      "cell_type": "code",
      "source": [
        "# Resetting the index to avoid future issues\n",
        "userMovies = userMovies.reset_index(drop = True)\n",
        "# Dropping unnecessary due ti save memory and to avoid issues \n",
        "userGenreTable = userMovies.drop(\"movieId\",1).drop(\"title\",1).drop(\"genres\",1)\n",
        "userGenreTable"
      ],
      "metadata": {
        "id": "YsLXhUaC2Yne"
      },
      "execution_count": null,
      "outputs": []
    },
    {
      "cell_type": "markdown",
      "source": [
        "Now we're ready to start learning the input's preferences!\n",
        "\n",
        "To do this, we're going to turn each genre into weights. We can do this by using the input's reviews and multiplying them into the input's genre table and then summing up the resulting table by column. This operation is actually a dot product between a matrix and a vector, so we can simply accomplish by calling Pandas's \"dot\" function.\n"
      ],
      "metadata": {
        "id": "cUs51-Xf7QAP"
      }
    },
    {
      "cell_type": "code",
      "source": [
        "inputMovies[\"rating\"]"
      ],
      "metadata": {
        "id": "uJNuc-g17ROG"
      },
      "execution_count": null,
      "outputs": []
    },
    {
      "cell_type": "code",
      "source": [
        "# Dot product to get weights\n",
        "userProfile = userGenreTable.transpose().dot(inputMovies[\"rating\"])\n",
        "# The user profile\n",
        "userProfile"
      ],
      "metadata": {
        "id": "f6xCVXDw7VM1"
      },
      "execution_count": null,
      "outputs": []
    },
    {
      "cell_type": "markdown",
      "source": [
        "Now, we have the weights for every of the user's preferences. This is known as the User Profile. Using this, we can recommend movies that satisfy the user's preferences.\n"
      ],
      "metadata": {
        "id": "OsUkZHRy7tXr"
      }
    },
    {
      "cell_type": "markdown",
      "source": [
        "Let's start by extracting the genre table from the original dataframe:\n"
      ],
      "metadata": {
        "id": "d_L97Yzy7vFg"
      }
    },
    {
      "cell_type": "code",
      "source": [
        "# Now let's the genres of every movie in our original dataframe\n",
        "genreTable = moviesWithGenres_df.set_index(moviesWithGenres_df[\"movieId\"])\n",
        "# And drop the unncesscary information\n",
        "genreTable = genreTable.drop(\"movieId\",1).drop(\"title\",1).drop(\"year\",1)\n",
        "genreTable.head()"
      ],
      "metadata": {
        "id": "h5OMWHoR7wFA"
      },
      "execution_count": null,
      "outputs": []
    },
    {
      "cell_type": "markdown",
      "source": [
        "With the input's profile and the complete list of movies and their genres in hand, we're going to take the weighted average of every movie based on the input profile and recommend the top twenty movies that most satisfy it.\n"
      ],
      "metadata": {
        "id": "o3RMUWxo8v4H"
      }
    },
    {
      "cell_type": "code",
      "source": [
        "# Multiply the genres by the weights and then take the weighted average\n",
        "recommendation_df = ((genreTable*userProfile).sum(axis = 1))/userProfile.sum()\n",
        "recommendation_df.head()"
      ],
      "metadata": {
        "id": "ogcRWWm58xYY"
      },
      "execution_count": null,
      "outputs": []
    },
    {
      "cell_type": "code",
      "source": [
        "#Sort our recommendations in descending order\n",
        "recommendationTable_df = recommendationTable_df.sort_values(ascending = False)\n",
        "# Just a peek at the values\n",
        "recommendationTable_df.head()"
      ],
      "metadata": {
        "id": "h1xg-Lnn_FCn"
      },
      "execution_count": null,
      "outputs": []
    },
    {
      "cell_type": "markdown",
      "source": [
        "#### **Now here's the recommendation table!**\n"
      ],
      "metadata": {
        "id": "Eg6RoViF_U_f"
      }
    },
    {
      "cell_type": "code",
      "source": [
        "movies_df.loc[movies_df[\"movieId\"].isin(recommendationTable_df.head().keys()]"
      ],
      "metadata": {
        "id": "pXxhx-UL_bIZ"
      },
      "execution_count": null,
      "outputs": []
    },
    {
      "cell_type": "markdown",
      "source": [
        "### Advantages and Disadvantages of Content-Based Filtering\n",
        "\n",
        "##### Advantages\n",
        "\n",
        "-   Learns user's preferences\n",
        "-   Highly personalized for the user\n",
        "\n",
        "##### Disadvantages\n",
        "\n",
        "-   Doesn't take into account what others think of the item, so low quality item recommendations might happen\n",
        "-   Extracting data is not always intuitive\n",
        "-   Determining what characteristics of the item the user dislikes or likes is not always obvious\n"
      ],
      "metadata": {
        "id": "aQoHO1c2_lvh"
      }
    },
    {
      "cell_type": "markdown",
      "source": [
        "<center>\n",
        "    <img src=\"https://cf-courses-data.s3.us.cloud-object-storage.appdomain.cloud/IBMDeveloperSkillsNetwork-ML0101EN-SkillsNetwork/labs/Module%205/images/IDSNlogo.png\" width=\"300\" alt=\"cognitiveclass.ai logo\"  />\n",
        "</center>\n",
        "\n",
        "# Collaborative Filtering\n",
        "\n",
        "Estimated time needed: **25** minutes\n",
        "\n",
        "## Objectives\n",
        "\n",
        "After completing this lab you will be able to:\n",
        "\n",
        "-   Create recommendation system based on collaborative filtering\n"
      ],
      "metadata": {
        "id": "6vpP74PrB06d"
      }
    },
    {
      "cell_type": "markdown",
      "source": [
        "Recommendation systems are a collection of algorithms used to recommend items to users based on information taken from the user. These systems have become ubiquitous can be commonly seen in online stores, movies databases and job finders. In this notebook, we will explore recommendation systems based on Collaborative Filtering and implement simple version of one using Python and the Pandas library.\n",
        "\n",
        "<h1>Table of contents</h1>\n",
        "\n",
        "<div class=\"alert alert-block alert-info\" style=\"margin-top: 20px\">\n",
        "    <ol>\n",
        "        <li><a href=\"#ref1\">Acquiring the Data</a></li>\n",
        "        <li><a href=\"#ref2\">Preprocessing</a></li>\n",
        "        <li><a href=\"#ref3\">Collaborative Filtering</a></li>\n",
        "    </ol>\n",
        "</div>\n",
        "<br>\n",
        "<hr>\n"
      ],
      "metadata": {
        "id": "EdBCSlO-B2HC"
      }
    },
    {
      "cell_type": "markdown",
      "source": [
        "<a id=\"ref1\"></a>\n",
        "\n",
        "# Acquiring the Data\n",
        "To acquire and extract the data, simply run the following Bash scripts:  \n",
        "Dataset acquired from [GroupLens](http://grouplens.org/datasets/movielens?cm_mmc=Email_Newsletter-_-Developer_Ed%2BTech-_-WW_WW-_-SkillsNetwork-Courses-IBMDeveloperSkillsNetwork-ML0101EN-SkillsNetwork-20718538&cm_mmca1=000026UJ&cm_mmca2=10006555&cm_mmca3=M12345678&cvosrc=email.Newsletter.M12345678&cvo_campaign=000026UJ&cm_mmc=Email_Newsletter-_-Developer_Ed%2BTech-_-WW_WW-_-SkillsNetwork-Courses-IBMDeveloperSkillsNetwork-ML0101EN-SkillsNetwork-20718538&cm_mmca1=000026UJ&cm_mmca2=10006555&cm_mmca3=M12345678&cvosrc=email.Newsletter.M12345678&cvo_campaign=000026UJ&cm_mmc=Email_Newsletter-_-Developer_Ed%2BTech-_-WW_WW-_-SkillsNetwork-Courses-IBMDeveloperSkillsNetwork-ML0101EN-SkillsNetwork-20718538&cm_mmca1=000026UJ&cm_mmca2=10006555&cm_mmca3=M12345678&cvosrc=email.Newsletter.M12345678&cvo_campaign=000026UJ&cm_mmc=Email_Newsletter-_-Developer_Ed%2BTech-_-WW_WW-_-SkillsNetwork-Courses-IBMDeveloperSkillsNetwork-ML0101EN-SkillsNetwork-20718538&cm_mmca1=000026UJ&cm_mmca2=10006555&cm_mmca3=M12345678&cvosrc=email.Newsletter.M12345678&cvo_campaign=000026UJ). Lets download the dataset. To download the data, we will use **`!wget`** to download it from IBM Object Storage.  \n",
        "**Did you know?** When it comes to Machine Learning, you will likely be working with large datasets. As a business, where can you host your data? IBM is offering a unique opportunity for businesses, with 10 Tb of IBM Cloud Object Storage: [Sign up now for free](http://cocl.us/ML0101EN-IBM-Offer-CC)\n"
      ],
      "metadata": {
        "id": "X_Uth4jVCEmV"
      }
    },
    {
      "cell_type": "markdown",
      "source": [
        "<hr>\n",
        "\n",
        "<a id=\"ref2\"></a>\n",
        "\n",
        "# Preprocessing\n"
      ],
      "metadata": {
        "id": "aGS8t5XwCI7i"
      }
    },
    {
      "cell_type": "code",
      "source": [
        "# DataFrame manipulation library\n",
        "import pandas as pd\n",
        "# Math function, we'll only need the sqrt function so let's import only that \n",
        "from math import sqrt\n",
        "import numpy as no\n",
        "import matplotlib.pyplot as plt\n",
        "%matplotlib inline"
      ],
      "metadata": {
        "id": "_R6qy0M_CMig"
      },
      "execution_count": null,
      "outputs": []
    },
    {
      "cell_type": "markdown",
      "source": [
        "Now, time to start our work on recommendation systems. \n",
        "\n",
        "The first technique we're going to take a look at is called **Collaborative Filtering**, which is also known as **User-User Filtering**. As hinted by its alternate name, this technique uses other users to recommend items to the input user. It attempts to find users that have similar preferences and opinions as the input and then recommends items that they have liked to the input. There are several methods of finding similar users (Even some making use of Machine Learning), and the one we will be using here is going to be based on the **Pearson Correlation Function**.\n",
        "\n",
        "<img src=\"https://cf-courses-data.s3.us.cloud-object-storage.appdomain.cloud/IBMDeveloperSkillsNetwork-ML0101EN-SkillsNetwork/labs/Module%205/images/User_Item.png\" width=800px>\n",
        "\n",
        "The process for creating a User Based recommendation system is as follows:\n",
        "\n",
        "-   Select a user with the movies the user has watched\n",
        "-   Based on his rating to movies, find the top X neighbours \n",
        "-   Get the watched movie record of the user for each neighbour.\n",
        "-   Calculate a similarity score using some formula\n",
        "-   Recommend the items with the highest score\n",
        "\n",
        "Let's begin by creating an input user to recommend movies to:\n",
        "\n",
        "Notice: To add more movies, simply increase the amount of elements in the userInput. Feel free to add more in! Just be sure to write it in with capital letters and if a movie starts with a \"The\", like \"The Matrix\" then write it in like this: 'Matrix, The' .\n"
      ],
      "metadata": {
        "id": "9PI4I-omCh8N"
      }
    },
    {
      "cell_type": "code",
      "source": [
        "# Filtering out the movies by title\n",
        "inputId = movies_df[movies_df[\"title\"].isin(inputMovies[\"title\"].tolist())]\n",
        "# Then merging it so we can get the movieId. It's implicitly merging it by title\n",
        "inputMovies = pd.merge(inputid, inputMovies)\n",
        "# Droppings information we wont use from the input dataframe\n",
        "inputMovies = inputMovies.drop(\"year\",1)\n",
        "# Final input Dataframe\n",
        "# If a movie you added in isn't here, then it might not be in the original\n",
        "# dataframe or it might spelled differently, please check capilisation.\n",
        "inputMovies"
      ],
      "metadata": {
        "id": "6JZdVCn4ChfR"
      },
      "execution_count": 1,
      "outputs": []
    },
    {
      "cell_type": "markdown",
      "source": [
        "#### The users who has seen the same movies\n",
        "\n",
        "Now with the movie ID's in our input, we can now get the subset of users that have watched and reviewed the movies in our input.\n"
      ],
      "metadata": {
        "id": "TcV6xFu_JbLy"
      }
    },
    {
      "cell_type": "code",
      "source": [
        "# Filtering out users that have watched movies that the input has watched and storing it\n",
        "userSubset = ratings_df[ratings_df[\"movieId\"].isin(inputMovies[\"movieId\"].tolist())]\n",
        "userSubset.head()"
      ],
      "metadata": {
        "id": "wvcwldcKCOrc"
      },
      "execution_count": null,
      "outputs": []
    },
    {
      "cell_type": "code",
      "source": [
        "# Groupby creates several sub dataframes where they all have the same value in column specific\n",
        "userSubsetGroup = userSubset.groupby([\"userId\"])\n",
        "\n",
        "# Lets look at one of the users. e.g  the one with userId = 1130\n",
        "userSubsetGroup.get_group(1330)\n",
        "\n",
        "# Let's also sort these groups so the users that share the most movies in common \n",
        "# with the input have higher priority. This provides a richer recommendations sinces\n",
        "# we won't go through every single user\n",
        "\n",
        "# Sorting it so users with movies most in common with the input will have priority\n",
        "userSubsetGroup = sorted(userSubsetGroup, key = lambda x: len(x[1]), reverse = True)\n",
        "\n",
        "# Now lets look at the first user\n",
        "userSubsetGroup[0:3]"
      ],
      "metadata": {
        "id": "WsHrKl-SCMrm"
      },
      "execution_count": null,
      "outputs": []
    },
    {
      "cell_type": "markdown",
      "source": [
        "#### Similarity of users to input user\n",
        "\n",
        "Next, we are going to compare all users (not really all !!!) to our specified user and find the one that is most similar.  \n",
        "we're going to find out how similar each user is to the input through the **Pearson Correlation Coefficient**. It is used to measure the strength of a linear association between two variables. The formula for finding this coefficient between sets X and Y with N values can be seen in the image below. \n",
        "\n",
        "Why Pearson Correlation?\n",
        "\n",
        "Pearson correlation is invariant to scaling, i.e. multiplying all elements by a nonzero constant or adding any constant to all elements. For example, if you have two vectors X and Y,then, pearson(X, Y) == pearson(X, 2 * Y + 3). This is a pretty important property in recommendation systems because for example two users might rate two series of items totally different in terms of absolute rates, but they would be similar users (i.e. with similar ideas) with similar rates in various scales .\n",
        "\n",
        "![alt text](https://wikimedia.org/api/rest_v1/media/math/render/svg/bd1ccc2979b0fd1c1aec96e386f686ae874f9ec0 \"Pearson Correlation\")\n",
        "\n",
        "The values given by the formula vary from r = -1 to r = 1, where 1 forms a direct correlation between the two entities (it means a perfect positive correlation) and -1 forms a perfect negative correlation. \n",
        "\n",
        "In our case, a 1 means that the two users have similar tastes while a -1 means the opposite.\n"
      ],
      "metadata": {
        "id": "hJ0P-V_4M4GG"
      }
    },
    {
      "cell_type": "markdown",
      "source": [
        "We will select a subset of users to iterate through. This limit is imposed because we don't want to waste too much time going through every single user.\n"
      ],
      "metadata": {
        "id": "kT-G6049Nqvo"
      }
    },
    {
      "cell_type": "code",
      "source": [
        "userSubsetGroup = userSubsetGroup[0:100]\n"
      ],
      "metadata": {
        "id": "vEu_PQz-OSlQ"
      },
      "execution_count": null,
      "outputs": []
    },
    {
      "cell_type": "markdown",
      "source": [
        "Now, we calculate the Pearson Correlation between input user and subset group, and store it in a dictionary, where the key is the user Id and the value is the coefficient\n"
      ],
      "metadata": {
        "id": "HroN5abNOZ8Q"
      }
    },
    {
      "cell_type": "code",
      "source": [
        "# Store the Pearson Correlation in a dictionary, where the key is the user Id and the value is t\n",
        "pearsonCorrelationDict = {}\n",
        "\n",
        "# For every user group in our subset\n",
        "for name, group in userSubsetGroup:\n",
        "  # Let's start by sorting the input and current user group so the values aren't mixed up late\n",
        "  group = group.sort_values(by = \"movieid\")\n",
        "  inputMovies = inputMovies.sort_values(by = \"movieId\")\n",
        "  # Get the N for the formula\n",
        "  nRatings = len(group)\n",
        "\n",
        "  # Get the review scores for the movies that they both have in common\n",
        "  temp_df = inputMovies[inputMovies[\"movieId\"].isin(group[\"movieId\"].tolist())]\n",
        "  # And then store them in a temporary buffer variable in a list format to \n",
        "  # facilitate future calculation   \n",
        "  tempRatingList = temp_df[\"rating\"].tolist()\n",
        "  # Let's also put the current user group reviews in a list format\n",
        "  tempGroupList = group[\"rating\"].tolist()\n",
        "  # Now let's calculate the pearson correlation between two users, so called, x and y\n",
        "  Sxx = sum([i**2 for i in tempRatingList]) - pow(sum(tempRatingList),2)/float(nRatings)\n",
        "  Syy = sum([i**2 for i in tempGroupList])  - pow(sum(tempGroupList,2))/float(nRatings)\n",
        "  Sxy = sum(i*j for i,j in zip(tempRatingList, tempGroupList)) - sum(tempRatingList)*sum(tempGroupList)/float(nRatins) \n",
        "\n",
        "  # if the denominator is different than zero, then divide, else, 0 correlation\n",
        "  if Sxx != 0 and Syy != 0:\n",
        "    pearsonCorrelationDict[name] = Sxy/sqrt(Sxx*Syy)\n",
        "  else:\n",
        "    pearsonCorrelationDict[name] = 0"
      ],
      "metadata": {
        "id": "N1rvikKEOaos"
      },
      "execution_count": null,
      "outputs": []
    },
    {
      "cell_type": "code",
      "source": [
        "pearsonCorrelationDict.items()"
      ],
      "metadata": {
        "id": "nEsPNzHpSaV0"
      },
      "execution_count": null,
      "outputs": []
    },
    {
      "cell_type": "code",
      "source": [
        "pearsonDF = pd.DataFrame.from_dict(pearsonCorrelationDict, orient='index')\n",
        "pearsonDF.columns = ['similarityIndex']\n",
        "pearsonDF['userId'] = pearsonDF.index\n",
        "pearsonDF.index = range(len(pearsonDF))\n",
        "pearsonDF.head()"
      ],
      "metadata": {
        "id": "ABMANhiNSbK5"
      },
      "execution_count": null,
      "outputs": []
    },
    {
      "cell_type": "markdown",
      "source": [
        "#### **The top x similar users to input user**\n",
        "\n",
        "Now let's get the top 50 users that are most similar to the input.\n"
      ],
      "metadata": {
        "id": "-R9R-Ew7ScbX"
      }
    },
    {
      "cell_type": "code",
      "source": [
        "topUser = pearsonDF.sort_values(by = \"similarityIndex\", ascending = False)[0:50]\n",
        "topUser.head()"
      ],
      "metadata": {
        "id": "RpRWKpYoSf0b"
      },
      "execution_count": null,
      "outputs": []
    },
    {
      "cell_type": "markdown",
      "source": [
        "Now, Let's start recommendubg movies to the input users."
      ],
      "metadata": {
        "id": "FPPY2nQwSgKo"
      }
    },
    {
      "cell_type": "markdown",
      "source": [
        "#### **Rating of selected users to all movies**\n",
        "We're going to do this by taking the weighted average of the ratings of the movies using Pearson Correlation as the weight. But to do this, we first need to get the movies watched by the users in our **pearsonDF** from the ratings dataframe and then store their correlation in a new column called \"_similarityIndex\". This is achieved below my merging of these 2 tables."
      ],
      "metadata": {
        "id": "KHfnDG_aSgYO"
      }
    },
    {
      "cell_type": "code",
      "source": [
        "topUserRatins = topUsers.merge(ratings_df, left_on = \"userId\", right_on = \"userId\", how = \"inner\")\n",
        "topUserRating.head()"
      ],
      "metadata": {
        "id": "KFw4gjNnTe23"
      },
      "execution_count": null,
      "outputs": []
    },
    {
      "cell_type": "markdown",
      "source": [
        "Now all we need to do is simply multiply the movie rating by its weights (The similarity index), then sum up the new ratings and divide it by sum of the weights \n",
        "\n",
        "We can easily do this by simply multiplying two columns, then grouping the dataframe by movieId and then dividing two columns:\n",
        "\n",
        "It shows the idea of all similar users to candidate movies for the input user."
      ],
      "metadata": {
        "id": "YYnvT7BmTfID"
      }
    },
    {
      "cell_type": "code",
      "source": [
        "# Multiplies the similarity by the user's ratings\n",
        "topUsersRating[\"weightedRating\"] = topUsersRating[\"similarityIndex\"]*topUserRating[\"rating\"]\n",
        "topUsersRating.head()"
      ],
      "metadata": {
        "id": "7fVRgDOEUymv"
      },
      "execution_count": null,
      "outputs": []
    },
    {
      "cell_type": "code",
      "source": [
        "# Applied a sum to the topUsers after grouping it up by userId\n",
        "tempTopUserRating = topUserRating.groupby('movieId').sum()[[\"similarityIndex\",\"weightedRatings\"]]\n",
        "tempTopUserRating.columns = [\"sum_similarityIndex\",\"sum_weightedRating\"]\n",
        "tempTopUserRating.head()"
      ],
      "metadata": {
        "id": "t5sjP1m2V6cn"
      },
      "execution_count": null,
      "outputs": []
    },
    {
      "cell_type": "code",
      "source": [
        "# Create an empty dataframe\n",
        "recommendation_df = pd.DataFrame()\n",
        "# Now we take the weighted average\n",
        "recommendation_df[\"weighted average recommendation score\"] = tempTopUserRating[\"sum_weightedRating\"]/tempTopUserRating[\"sum_similarityIndex\"]\n",
        "recommendation_df[\"movieId\"] = tempTopUserRatings.index\n",
        "recommendation_df.head()"
      ],
      "metadata": {
        "id": "dsdrqPKeWY0P"
      },
      "execution_count": null,
      "outputs": []
    },
    {
      "cell_type": "markdown",
      "source": [
        "Now let's sort it and see the top 20 movies that the algorithm recommended!\n"
      ],
      "metadata": {
        "id": "g_lYU3HMW4jL"
      }
    },
    {
      "cell_type": "code",
      "source": [
        "recommendation_df = recommendation_df.sort_values(by = \"weighted average recommendation score\",\n",
        "                                                  ascending = False)\n",
        "recommendation_df.head(10)"
      ],
      "metadata": {
        "id": "c4QlAGMiW6In"
      },
      "execution_count": null,
      "outputs": []
    },
    {
      "cell_type": "code",
      "source": [
        "movies_df.loc[movies_df[\"movieId\"].isin(recommendation_df.head(10)[\"movieId\"].tolist())]"
      ],
      "metadata": {
        "id": "lAoP4QOAV6nM"
      },
      "execution_count": null,
      "outputs": []
    },
    {
      "cell_type": "markdown",
      "source": [
        "### Advantages and Disadvantages of Collaborative Filtering\n",
        "\n",
        "##### Advantages\n",
        "\n",
        "-   Takes other user's ratings into consideration\n",
        "-   Doesn't need to study or extract information from the recommended item\n",
        "-   Adapts to the user's interests which might change over time\n",
        "\n",
        "##### Disadvantages\n",
        "\n",
        "-   Approximation function can be slow\n",
        "-   There might be a low of amount of users to approximate\n",
        "-   Privacy issues when trying to learn the user's preferences\n"
      ],
      "metadata": {
        "id": "JpOsxdk_XTB6"
      }
    },
    {
      "cell_type": "code",
      "source": [
        ""
      ],
      "metadata": {
        "id": "1XTAJOQiV4zN"
      },
      "execution_count": null,
      "outputs": []
    },
    {
      "cell_type": "code",
      "source": [
        ""
      ],
      "metadata": {
        "id": "5ehWoDayV5m_"
      },
      "execution_count": null,
      "outputs": []
    },
    {
      "cell_type": "code",
      "source": [
        ""
      ],
      "metadata": {
        "id": "yBEYQQ2_V5wC"
      },
      "execution_count": null,
      "outputs": []
    }
  ]
}
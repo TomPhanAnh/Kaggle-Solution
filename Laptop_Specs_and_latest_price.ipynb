{
  "nbformat": 4,
  "nbformat_minor": 0,
  "metadata": {
    "colab": {
      "name": "Laptop Specs and latest price.ipynb",
      "provenance": [],
      "authorship_tag": "ABX9TyO76KyHyOah/8KtHWcG67hK",
      "include_colab_link": true
    },
    "kernelspec": {
      "name": "python3",
      "display_name": "Python 3"
    },
    "language_info": {
      "name": "python"
    }
  },
  "cells": [
    {
      "cell_type": "markdown",
      "metadata": {
        "id": "view-in-github",
        "colab_type": "text"
      },
      "source": [
        "<a href=\"https://colab.research.google.com/github/TomPhanAnh/Kaggle-Solution/blob/main/Laptop_Specs_and_latest_price.ipynb\" target=\"_parent\"><img src=\"https://colab.research.google.com/assets/colab-badge.svg\" alt=\"Open In Colab\"/></a>"
      ]
    },
    {
      "cell_type": "code",
      "execution_count": 105,
      "metadata": {
        "id": "REqxXXWkq3Gr"
      },
      "outputs": [],
      "source": [
        "import pandas as pd\n",
        "import numpy as np\n",
        "import matplotlib.pyplot as plt\n",
        "%matplotlib inline\n",
        "# Display max column\n",
        "pd.set_option(\"display.max_columns\",100)"
      ]
    },
    {
      "cell_type": "markdown",
      "source": [
        "#**Laptop Specs and latest price**\n",
        "\n",
        "Specifications and price(old,new) of 1000 laptops"
      ],
      "metadata": {
        "id": "IjjTj3yhvEpd"
      }
    },
    {
      "cell_type": "markdown",
      "source": [
        "## **About Dataset**\n",
        "What Factors Affect Laptop Computer Prices?\n",
        "- Several different factors can affect laptop computer prices. These factors include the brand of computer and the number of options and add-ons included in the computer package. In addition, the amount of memory and the speed of the processor can also affect pricing. Though less common, some consumers spend additional money to purchase a computer based on the overall “look” and design of the system.\n",
        "\n",
        "- In many cases, name brand computers are more expensive than generic versions. This price increase often has more to do with name recognition than any actual superiority of the product. One major difference between name brand and generic systems is that in most cases, name brand computers offer better warranties than generic versions. Having the option of returning a computer that is malfunctioning is often enough of an incentive to encourage many consumers to spend more money.\n",
        "- Functionality is an important factor in determining laptop computer prices. A computer with more memory often performs better for a longer time than a computer with less memory. In addition, hard drive space is also crucial, and the size of the hard drive usually affects pricing. Many consumers may also look for digital video drivers and other types of recording devices that may affect the laptop computer prices.\n",
        "- Most computers come with some software pre-installed. In most cases, the more software that is installed on a computer, the more expensive it is. This is especially true if the installed programs are from well-established and recognizable software publishers. Those considering purchasing a new laptop computer should be aware that many of the pre-installed programs may be trial versions only, and will expire within a certain time period. In order to keep the programs, a code will need to be purchased, and then a permanent version of the software can be downloaded.\n",
        "-Many consumers who are purchasing a new computer are buying an entire package. In addition to the computer itself, these systems typically include a monitor, keyboard, and mouse. Some packages may even include a printer or digital camera. The number of extras included in a computer package usually affects laptop computer prices.\n",
        "- **Some industry leaders in computer manufacturing make it a selling point to offer computers in sleek styling and in a variety of colors.** They may also offer unusual or contemporary system design. Though this is less important to many consumers, for those who do value “looks,” this type of system may be well worth the extra cost.\n",
        "\n",
        "**From where I did get this data?**\n",
        "- Scrapped this data from flipkart.com\n",
        "- used an automated chrome web extension tool called Instant Data Scrapper\n",
        "highly recommend you to use this beautiful tool to get the data from anywhere on the web. it's very easy to use, no coding knowledge is required.\n",
        "\n",
        "**What you can do?**\n",
        "Visualize this data, and prepare high-quality charts as much as you can.\n",
        "\n",
        "Build a model to predict the price\n",
        "\n",
        "Columns description: pls refer to the data columns section.\n",
        "\n",
        "Thanks!!!\n",
        "Please support, do upvotes, share your notebooks, share your views/idea//suggestions in the discussion.\n",
        "\n",
        "***reference:** *https://www.easytechjunkie.com/what-factors-affect-desktop-computer-prices.htm#comments *\n",
        "\n",
        "\n"
      ],
      "metadata": {
        "id": "iyYKr0OnvNRs"
      }
    },
    {
      "cell_type": "code",
      "source": [
        "laptop = pd.read_csv(\"Cleaned_Laptop_data.csv\")\n",
        "data = pd.read_csv(\"Laptop.csv\")"
      ],
      "metadata": {
        "id": "Oup5ZlGHv6k1"
      },
      "execution_count": 106,
      "outputs": []
    },
    {
      "cell_type": "code",
      "source": [
        "data.head()"
      ],
      "metadata": {
        "colab": {
          "base_uri": "https://localhost:8080/",
          "height": 206
        },
        "id": "Kc1b76royVae",
        "outputId": "c9333af0-d612-43ed-a3ce-c50932fa0e43"
      },
      "execution_count": 107,
      "outputs": [
        {
          "output_type": "execute_result",
          "data": {
            "text/plain": [
              "   Unnamed: 0 Brand     Model  Series Processor Processor_Gen  RAM  \\\n",
              "0           0  DELL  Inspiron     NaN        i3          11th  8.0   \n",
              "1           1  DELL    Vostro     NaN        i5          11th  8.0   \n",
              "2           2  ASUS  VivoBook      15        i3          10th  8.0   \n",
              "3           3  DELL  Inspiron     NaN        i3          11th  8.0   \n",
              "4           4  ASUS       TUF  Gaming        i5          10th  8.0   \n",
              "\n",
              "  Hard_Disk_Capacity               OS  Rating  Price  \n",
              "0           1 TB HDD  Windows 11 Home     3.7  39040  \n",
              "1           1 TB HDD  Windows 10 Home     3.6  50840  \n",
              "2         512 GB SSD  Windows 11 Home     4.3  37940  \n",
              "3           1 TB HDD       256 GB SSD     4.4  44440  \n",
              "4         512 GB SSD  Windows 10 Home     4.5  57940  "
            ],
            "text/html": [
              "\n",
              "  <div id=\"df-70ca433d-973b-4798-826f-09405f9616cd\">\n",
              "    <div class=\"colab-df-container\">\n",
              "      <div>\n",
              "<style scoped>\n",
              "    .dataframe tbody tr th:only-of-type {\n",
              "        vertical-align: middle;\n",
              "    }\n",
              "\n",
              "    .dataframe tbody tr th {\n",
              "        vertical-align: top;\n",
              "    }\n",
              "\n",
              "    .dataframe thead th {\n",
              "        text-align: right;\n",
              "    }\n",
              "</style>\n",
              "<table border=\"1\" class=\"dataframe\">\n",
              "  <thead>\n",
              "    <tr style=\"text-align: right;\">\n",
              "      <th></th>\n",
              "      <th>Unnamed: 0</th>\n",
              "      <th>Brand</th>\n",
              "      <th>Model</th>\n",
              "      <th>Series</th>\n",
              "      <th>Processor</th>\n",
              "      <th>Processor_Gen</th>\n",
              "      <th>RAM</th>\n",
              "      <th>Hard_Disk_Capacity</th>\n",
              "      <th>OS</th>\n",
              "      <th>Rating</th>\n",
              "      <th>Price</th>\n",
              "    </tr>\n",
              "  </thead>\n",
              "  <tbody>\n",
              "    <tr>\n",
              "      <th>0</th>\n",
              "      <td>0</td>\n",
              "      <td>DELL</td>\n",
              "      <td>Inspiron</td>\n",
              "      <td>NaN</td>\n",
              "      <td>i3</td>\n",
              "      <td>11th</td>\n",
              "      <td>8.0</td>\n",
              "      <td>1 TB HDD</td>\n",
              "      <td>Windows 11 Home</td>\n",
              "      <td>3.7</td>\n",
              "      <td>39040</td>\n",
              "    </tr>\n",
              "    <tr>\n",
              "      <th>1</th>\n",
              "      <td>1</td>\n",
              "      <td>DELL</td>\n",
              "      <td>Vostro</td>\n",
              "      <td>NaN</td>\n",
              "      <td>i5</td>\n",
              "      <td>11th</td>\n",
              "      <td>8.0</td>\n",
              "      <td>1 TB HDD</td>\n",
              "      <td>Windows 10 Home</td>\n",
              "      <td>3.6</td>\n",
              "      <td>50840</td>\n",
              "    </tr>\n",
              "    <tr>\n",
              "      <th>2</th>\n",
              "      <td>2</td>\n",
              "      <td>ASUS</td>\n",
              "      <td>VivoBook</td>\n",
              "      <td>15</td>\n",
              "      <td>i3</td>\n",
              "      <td>10th</td>\n",
              "      <td>8.0</td>\n",
              "      <td>512 GB SSD</td>\n",
              "      <td>Windows 11 Home</td>\n",
              "      <td>4.3</td>\n",
              "      <td>37940</td>\n",
              "    </tr>\n",
              "    <tr>\n",
              "      <th>3</th>\n",
              "      <td>3</td>\n",
              "      <td>DELL</td>\n",
              "      <td>Inspiron</td>\n",
              "      <td>NaN</td>\n",
              "      <td>i3</td>\n",
              "      <td>11th</td>\n",
              "      <td>8.0</td>\n",
              "      <td>1 TB HDD</td>\n",
              "      <td>256 GB SSD</td>\n",
              "      <td>4.4</td>\n",
              "      <td>44440</td>\n",
              "    </tr>\n",
              "    <tr>\n",
              "      <th>4</th>\n",
              "      <td>4</td>\n",
              "      <td>ASUS</td>\n",
              "      <td>TUF</td>\n",
              "      <td>Gaming</td>\n",
              "      <td>i5</td>\n",
              "      <td>10th</td>\n",
              "      <td>8.0</td>\n",
              "      <td>512 GB SSD</td>\n",
              "      <td>Windows 10 Home</td>\n",
              "      <td>4.5</td>\n",
              "      <td>57940</td>\n",
              "    </tr>\n",
              "  </tbody>\n",
              "</table>\n",
              "</div>\n",
              "      <button class=\"colab-df-convert\" onclick=\"convertToInteractive('df-70ca433d-973b-4798-826f-09405f9616cd')\"\n",
              "              title=\"Convert this dataframe to an interactive table.\"\n",
              "              style=\"display:none;\">\n",
              "        \n",
              "  <svg xmlns=\"http://www.w3.org/2000/svg\" height=\"24px\"viewBox=\"0 0 24 24\"\n",
              "       width=\"24px\">\n",
              "    <path d=\"M0 0h24v24H0V0z\" fill=\"none\"/>\n",
              "    <path d=\"M18.56 5.44l.94 2.06.94-2.06 2.06-.94-2.06-.94-.94-2.06-.94 2.06-2.06.94zm-11 1L8.5 8.5l.94-2.06 2.06-.94-2.06-.94L8.5 2.5l-.94 2.06-2.06.94zm10 10l.94 2.06.94-2.06 2.06-.94-2.06-.94-.94-2.06-.94 2.06-2.06.94z\"/><path d=\"M17.41 7.96l-1.37-1.37c-.4-.4-.92-.59-1.43-.59-.52 0-1.04.2-1.43.59L10.3 9.45l-7.72 7.72c-.78.78-.78 2.05 0 2.83L4 21.41c.39.39.9.59 1.41.59.51 0 1.02-.2 1.41-.59l7.78-7.78 2.81-2.81c.8-.78.8-2.07 0-2.86zM5.41 20L4 18.59l7.72-7.72 1.47 1.35L5.41 20z\"/>\n",
              "  </svg>\n",
              "      </button>\n",
              "      \n",
              "  <style>\n",
              "    .colab-df-container {\n",
              "      display:flex;\n",
              "      flex-wrap:wrap;\n",
              "      gap: 12px;\n",
              "    }\n",
              "\n",
              "    .colab-df-convert {\n",
              "      background-color: #E8F0FE;\n",
              "      border: none;\n",
              "      border-radius: 50%;\n",
              "      cursor: pointer;\n",
              "      display: none;\n",
              "      fill: #1967D2;\n",
              "      height: 32px;\n",
              "      padding: 0 0 0 0;\n",
              "      width: 32px;\n",
              "    }\n",
              "\n",
              "    .colab-df-convert:hover {\n",
              "      background-color: #E2EBFA;\n",
              "      box-shadow: 0px 1px 2px rgba(60, 64, 67, 0.3), 0px 1px 3px 1px rgba(60, 64, 67, 0.15);\n",
              "      fill: #174EA6;\n",
              "    }\n",
              "\n",
              "    [theme=dark] .colab-df-convert {\n",
              "      background-color: #3B4455;\n",
              "      fill: #D2E3FC;\n",
              "    }\n",
              "\n",
              "    [theme=dark] .colab-df-convert:hover {\n",
              "      background-color: #434B5C;\n",
              "      box-shadow: 0px 1px 3px 1px rgba(0, 0, 0, 0.15);\n",
              "      filter: drop-shadow(0px 1px 2px rgba(0, 0, 0, 0.3));\n",
              "      fill: #FFFFFF;\n",
              "    }\n",
              "  </style>\n",
              "\n",
              "      <script>\n",
              "        const buttonEl =\n",
              "          document.querySelector('#df-70ca433d-973b-4798-826f-09405f9616cd button.colab-df-convert');\n",
              "        buttonEl.style.display =\n",
              "          google.colab.kernel.accessAllowed ? 'block' : 'none';\n",
              "\n",
              "        async function convertToInteractive(key) {\n",
              "          const element = document.querySelector('#df-70ca433d-973b-4798-826f-09405f9616cd');\n",
              "          const dataTable =\n",
              "            await google.colab.kernel.invokeFunction('convertToInteractive',\n",
              "                                                     [key], {});\n",
              "          if (!dataTable) return;\n",
              "\n",
              "          const docLinkHtml = 'Like what you see? Visit the ' +\n",
              "            '<a target=\"_blank\" href=https://colab.research.google.com/notebooks/data_table.ipynb>data table notebook</a>'\n",
              "            + ' to learn more about interactive tables.';\n",
              "          element.innerHTML = '';\n",
              "          dataTable['output_type'] = 'display_data';\n",
              "          await google.colab.output.renderOutput(dataTable, element);\n",
              "          const docLink = document.createElement('div');\n",
              "          docLink.innerHTML = docLinkHtml;\n",
              "          element.appendChild(docLink);\n",
              "        }\n",
              "      </script>\n",
              "    </div>\n",
              "  </div>\n",
              "  "
            ]
          },
          "metadata": {},
          "execution_count": 107
        }
      ]
    },
    {
      "cell_type": "code",
      "source": [
        "laptop.head()"
      ],
      "metadata": {
        "colab": {
          "base_uri": "https://localhost:8080/",
          "height": 357
        },
        "id": "xoril3xwyWOL",
        "outputId": "8690e839-c081-4e30-a5fc-ed532894407e"
      },
      "execution_count": 108,
      "outputs": [
        {
          "output_type": "execute_result",
          "data": {
            "text/plain": [
              "    brand    model processor_brand     processor_name processor_gnrtn  \\\n",
              "0  Lenovo  A6-9225             AMD  A6-9225 Processor            10th   \n",
              "1  Lenovo  Ideapad             AMD           APU Dual            10th   \n",
              "2   Avita     PURA             AMD           APU Dual            10th   \n",
              "3   Avita     PURA             AMD           APU Dual            10th   \n",
              "4   Avita     PURA             AMD           APU Dual            10th   \n",
              "\n",
              "    ram_gb ram_type     ssd      hdd       os  os_bit  graphic_card_gb  \\\n",
              "0  4 GB GB     DDR4    0 GB  1024 GB  Windows  64-bit                0   \n",
              "1  4 GB GB     DDR4    0 GB   512 GB  Windows  64-bit                0   \n",
              "2  4 GB GB     DDR4  128 GB     0 GB  Windows  64-bit                0   \n",
              "3  4 GB GB     DDR4  128 GB     0 GB  Windows  64-bit                0   \n",
              "4  4 GB GB     DDR4  256 GB     0 GB  Windows  64-bit                0   \n",
              "\n",
              "       weight display_size  warranty Touchscreen msoffice  latest_price  \\\n",
              "0  ThinNlight      Missing         0          No       No         24990   \n",
              "1      Casual      Missing         0          No       No         19590   \n",
              "2  ThinNlight      Missing         0          No       No         19990   \n",
              "3  ThinNlight      Missing         0          No       No         21490   \n",
              "4  ThinNlight      Missing         0          No       No         24990   \n",
              "\n",
              "   old_price  discount  star_rating  ratings  reviews  \n",
              "0      32790        23          3.7       63       12  \n",
              "1      21325         8          3.6     1894      256  \n",
              "2      27990        28          3.7     1153      159  \n",
              "3      27990        23          3.7     1153      159  \n",
              "4      33490        25          3.7     1657      234  "
            ],
            "text/html": [
              "\n",
              "  <div id=\"df-bd1c1aa2-e5c7-4e1a-8a6b-788597919882\">\n",
              "    <div class=\"colab-df-container\">\n",
              "      <div>\n",
              "<style scoped>\n",
              "    .dataframe tbody tr th:only-of-type {\n",
              "        vertical-align: middle;\n",
              "    }\n",
              "\n",
              "    .dataframe tbody tr th {\n",
              "        vertical-align: top;\n",
              "    }\n",
              "\n",
              "    .dataframe thead th {\n",
              "        text-align: right;\n",
              "    }\n",
              "</style>\n",
              "<table border=\"1\" class=\"dataframe\">\n",
              "  <thead>\n",
              "    <tr style=\"text-align: right;\">\n",
              "      <th></th>\n",
              "      <th>brand</th>\n",
              "      <th>model</th>\n",
              "      <th>processor_brand</th>\n",
              "      <th>processor_name</th>\n",
              "      <th>processor_gnrtn</th>\n",
              "      <th>ram_gb</th>\n",
              "      <th>ram_type</th>\n",
              "      <th>ssd</th>\n",
              "      <th>hdd</th>\n",
              "      <th>os</th>\n",
              "      <th>os_bit</th>\n",
              "      <th>graphic_card_gb</th>\n",
              "      <th>weight</th>\n",
              "      <th>display_size</th>\n",
              "      <th>warranty</th>\n",
              "      <th>Touchscreen</th>\n",
              "      <th>msoffice</th>\n",
              "      <th>latest_price</th>\n",
              "      <th>old_price</th>\n",
              "      <th>discount</th>\n",
              "      <th>star_rating</th>\n",
              "      <th>ratings</th>\n",
              "      <th>reviews</th>\n",
              "    </tr>\n",
              "  </thead>\n",
              "  <tbody>\n",
              "    <tr>\n",
              "      <th>0</th>\n",
              "      <td>Lenovo</td>\n",
              "      <td>A6-9225</td>\n",
              "      <td>AMD</td>\n",
              "      <td>A6-9225 Processor</td>\n",
              "      <td>10th</td>\n",
              "      <td>4 GB GB</td>\n",
              "      <td>DDR4</td>\n",
              "      <td>0 GB</td>\n",
              "      <td>1024 GB</td>\n",
              "      <td>Windows</td>\n",
              "      <td>64-bit</td>\n",
              "      <td>0</td>\n",
              "      <td>ThinNlight</td>\n",
              "      <td>Missing</td>\n",
              "      <td>0</td>\n",
              "      <td>No</td>\n",
              "      <td>No</td>\n",
              "      <td>24990</td>\n",
              "      <td>32790</td>\n",
              "      <td>23</td>\n",
              "      <td>3.7</td>\n",
              "      <td>63</td>\n",
              "      <td>12</td>\n",
              "    </tr>\n",
              "    <tr>\n",
              "      <th>1</th>\n",
              "      <td>Lenovo</td>\n",
              "      <td>Ideapad</td>\n",
              "      <td>AMD</td>\n",
              "      <td>APU Dual</td>\n",
              "      <td>10th</td>\n",
              "      <td>4 GB GB</td>\n",
              "      <td>DDR4</td>\n",
              "      <td>0 GB</td>\n",
              "      <td>512 GB</td>\n",
              "      <td>Windows</td>\n",
              "      <td>64-bit</td>\n",
              "      <td>0</td>\n",
              "      <td>Casual</td>\n",
              "      <td>Missing</td>\n",
              "      <td>0</td>\n",
              "      <td>No</td>\n",
              "      <td>No</td>\n",
              "      <td>19590</td>\n",
              "      <td>21325</td>\n",
              "      <td>8</td>\n",
              "      <td>3.6</td>\n",
              "      <td>1894</td>\n",
              "      <td>256</td>\n",
              "    </tr>\n",
              "    <tr>\n",
              "      <th>2</th>\n",
              "      <td>Avita</td>\n",
              "      <td>PURA</td>\n",
              "      <td>AMD</td>\n",
              "      <td>APU Dual</td>\n",
              "      <td>10th</td>\n",
              "      <td>4 GB GB</td>\n",
              "      <td>DDR4</td>\n",
              "      <td>128 GB</td>\n",
              "      <td>0 GB</td>\n",
              "      <td>Windows</td>\n",
              "      <td>64-bit</td>\n",
              "      <td>0</td>\n",
              "      <td>ThinNlight</td>\n",
              "      <td>Missing</td>\n",
              "      <td>0</td>\n",
              "      <td>No</td>\n",
              "      <td>No</td>\n",
              "      <td>19990</td>\n",
              "      <td>27990</td>\n",
              "      <td>28</td>\n",
              "      <td>3.7</td>\n",
              "      <td>1153</td>\n",
              "      <td>159</td>\n",
              "    </tr>\n",
              "    <tr>\n",
              "      <th>3</th>\n",
              "      <td>Avita</td>\n",
              "      <td>PURA</td>\n",
              "      <td>AMD</td>\n",
              "      <td>APU Dual</td>\n",
              "      <td>10th</td>\n",
              "      <td>4 GB GB</td>\n",
              "      <td>DDR4</td>\n",
              "      <td>128 GB</td>\n",
              "      <td>0 GB</td>\n",
              "      <td>Windows</td>\n",
              "      <td>64-bit</td>\n",
              "      <td>0</td>\n",
              "      <td>ThinNlight</td>\n",
              "      <td>Missing</td>\n",
              "      <td>0</td>\n",
              "      <td>No</td>\n",
              "      <td>No</td>\n",
              "      <td>21490</td>\n",
              "      <td>27990</td>\n",
              "      <td>23</td>\n",
              "      <td>3.7</td>\n",
              "      <td>1153</td>\n",
              "      <td>159</td>\n",
              "    </tr>\n",
              "    <tr>\n",
              "      <th>4</th>\n",
              "      <td>Avita</td>\n",
              "      <td>PURA</td>\n",
              "      <td>AMD</td>\n",
              "      <td>APU Dual</td>\n",
              "      <td>10th</td>\n",
              "      <td>4 GB GB</td>\n",
              "      <td>DDR4</td>\n",
              "      <td>256 GB</td>\n",
              "      <td>0 GB</td>\n",
              "      <td>Windows</td>\n",
              "      <td>64-bit</td>\n",
              "      <td>0</td>\n",
              "      <td>ThinNlight</td>\n",
              "      <td>Missing</td>\n",
              "      <td>0</td>\n",
              "      <td>No</td>\n",
              "      <td>No</td>\n",
              "      <td>24990</td>\n",
              "      <td>33490</td>\n",
              "      <td>25</td>\n",
              "      <td>3.7</td>\n",
              "      <td>1657</td>\n",
              "      <td>234</td>\n",
              "    </tr>\n",
              "  </tbody>\n",
              "</table>\n",
              "</div>\n",
              "      <button class=\"colab-df-convert\" onclick=\"convertToInteractive('df-bd1c1aa2-e5c7-4e1a-8a6b-788597919882')\"\n",
              "              title=\"Convert this dataframe to an interactive table.\"\n",
              "              style=\"display:none;\">\n",
              "        \n",
              "  <svg xmlns=\"http://www.w3.org/2000/svg\" height=\"24px\"viewBox=\"0 0 24 24\"\n",
              "       width=\"24px\">\n",
              "    <path d=\"M0 0h24v24H0V0z\" fill=\"none\"/>\n",
              "    <path d=\"M18.56 5.44l.94 2.06.94-2.06 2.06-.94-2.06-.94-.94-2.06-.94 2.06-2.06.94zm-11 1L8.5 8.5l.94-2.06 2.06-.94-2.06-.94L8.5 2.5l-.94 2.06-2.06.94zm10 10l.94 2.06.94-2.06 2.06-.94-2.06-.94-.94-2.06-.94 2.06-2.06.94z\"/><path d=\"M17.41 7.96l-1.37-1.37c-.4-.4-.92-.59-1.43-.59-.52 0-1.04.2-1.43.59L10.3 9.45l-7.72 7.72c-.78.78-.78 2.05 0 2.83L4 21.41c.39.39.9.59 1.41.59.51 0 1.02-.2 1.41-.59l7.78-7.78 2.81-2.81c.8-.78.8-2.07 0-2.86zM5.41 20L4 18.59l7.72-7.72 1.47 1.35L5.41 20z\"/>\n",
              "  </svg>\n",
              "      </button>\n",
              "      \n",
              "  <style>\n",
              "    .colab-df-container {\n",
              "      display:flex;\n",
              "      flex-wrap:wrap;\n",
              "      gap: 12px;\n",
              "    }\n",
              "\n",
              "    .colab-df-convert {\n",
              "      background-color: #E8F0FE;\n",
              "      border: none;\n",
              "      border-radius: 50%;\n",
              "      cursor: pointer;\n",
              "      display: none;\n",
              "      fill: #1967D2;\n",
              "      height: 32px;\n",
              "      padding: 0 0 0 0;\n",
              "      width: 32px;\n",
              "    }\n",
              "\n",
              "    .colab-df-convert:hover {\n",
              "      background-color: #E2EBFA;\n",
              "      box-shadow: 0px 1px 2px rgba(60, 64, 67, 0.3), 0px 1px 3px 1px rgba(60, 64, 67, 0.15);\n",
              "      fill: #174EA6;\n",
              "    }\n",
              "\n",
              "    [theme=dark] .colab-df-convert {\n",
              "      background-color: #3B4455;\n",
              "      fill: #D2E3FC;\n",
              "    }\n",
              "\n",
              "    [theme=dark] .colab-df-convert:hover {\n",
              "      background-color: #434B5C;\n",
              "      box-shadow: 0px 1px 3px 1px rgba(0, 0, 0, 0.15);\n",
              "      filter: drop-shadow(0px 1px 2px rgba(0, 0, 0, 0.3));\n",
              "      fill: #FFFFFF;\n",
              "    }\n",
              "  </style>\n",
              "\n",
              "      <script>\n",
              "        const buttonEl =\n",
              "          document.querySelector('#df-bd1c1aa2-e5c7-4e1a-8a6b-788597919882 button.colab-df-convert');\n",
              "        buttonEl.style.display =\n",
              "          google.colab.kernel.accessAllowed ? 'block' : 'none';\n",
              "\n",
              "        async function convertToInteractive(key) {\n",
              "          const element = document.querySelector('#df-bd1c1aa2-e5c7-4e1a-8a6b-788597919882');\n",
              "          const dataTable =\n",
              "            await google.colab.kernel.invokeFunction('convertToInteractive',\n",
              "                                                     [key], {});\n",
              "          if (!dataTable) return;\n",
              "\n",
              "          const docLinkHtml = 'Like what you see? Visit the ' +\n",
              "            '<a target=\"_blank\" href=https://colab.research.google.com/notebooks/data_table.ipynb>data table notebook</a>'\n",
              "            + ' to learn more about interactive tables.';\n",
              "          element.innerHTML = '';\n",
              "          dataTable['output_type'] = 'display_data';\n",
              "          await google.colab.output.renderOutput(dataTable, element);\n",
              "          const docLink = document.createElement('div');\n",
              "          docLink.innerHTML = docLinkHtml;\n",
              "          element.appendChild(docLink);\n",
              "        }\n",
              "      </script>\n",
              "    </div>\n",
              "  </div>\n",
              "  "
            ]
          },
          "metadata": {},
          "execution_count": 108
        }
      ]
    },
    {
      "cell_type": "code",
      "source": [
        "for i in data.columns:\n",
        "  print(\"Data distribution in column {}\".format(i))\n",
        "  print(data[i].value_counts())\n",
        "  print(50*\"*-\")\n",
        "  print(\"\")"
      ],
      "metadata": {
        "colab": {
          "base_uri": "https://localhost:8080/"
        },
        "id": "mHuZzxiJxpMY",
        "outputId": "0afe713b-ee02-4cb1-8b8c-24ddf0a3e8dd"
      },
      "execution_count": 109,
      "outputs": [
        {
          "output_type": "stream",
          "name": "stdout",
          "text": [
            "Data distribution in column Unnamed: 0\n",
            "0      1\n",
            "97     1\n",
            "95     1\n",
            "94     1\n",
            "93     1\n",
            "      ..\n",
            "38     1\n",
            "37     1\n",
            "36     1\n",
            "35     1\n",
            "129    1\n",
            "Name: Unnamed: 0, Length: 130, dtype: int64\n",
            "*-*-*-*-*-*-*-*-*-*-*-*-*-*-*-*-*-*-*-*-*-*-*-*-*-*-*-*-*-*-*-*-*-*-*-*-*-*-*-*-*-*-*-*-*-*-*-*-*-*-\n",
            "\n",
            "Data distribution in column Brand\n",
            "DELL         40\n",
            "ASUS         29\n",
            "Lenovo       28\n",
            "HP           17\n",
            "APPLE         7\n",
            "acer          4\n",
            "MSI           3\n",
            "realme        1\n",
            "MICROSOFT     1\n",
            "Name: Brand, dtype: int64\n",
            "*-*-*-*-*-*-*-*-*-*-*-*-*-*-*-*-*-*-*-*-*-*-*-*-*-*-*-*-*-*-*-*-*-*-*-*-*-*-*-*-*-*-*-*-*-*-*-*-*-*-\n",
            "\n",
            "Data distribution in column Model\n",
            "Inspiron      26\n",
            "IdeaPad       15\n",
            "VivoBook      11\n",
            "Vostro        10\n",
            "Vivobook       6\n",
            "Ideapad        6\n",
            "Ryzen          5\n",
            "2020           4\n",
            "MacBook        3\n",
            "Pavilion       3\n",
            "ROG            2\n",
            "Chromebook     2\n",
            "HP             2\n",
            "TUF            2\n",
            "GF63           1\n",
            "Swift          1\n",
            "15q            1\n",
            "Travelmate     1\n",
            "250-G6         1\n",
            "3000           1\n",
            "APU            1\n",
            "ZenBook        1\n",
            "IDEAPAD        1\n",
            "Envy           1\n",
            "Nitro          1\n",
            "Surface        1\n",
            "Notebook       1\n",
            "Aspire         1\n",
            "Katana         1\n",
            "Book           1\n",
            "Thinkpad       1\n",
            "ASUS           1\n",
            "v15            1\n",
            "Name: Model, dtype: int64\n",
            "*-*-*-*-*-*-*-*-*-*-*-*-*-*-*-*-*-*-*-*-*-*-*-*-*-*-*-*-*-*-*-*-*-*-*-*-*-*-*-*-*-*-*-*-*-*-*-*-*-*-\n",
            "\n",
            "Data distribution in column Series\n",
            "3           17\n",
            "15           8\n",
            "Gaming       7\n",
            "Ryzen        7\n",
            "14           4\n",
            "Slim         4\n",
            "Macbook      4\n",
            "Air          3\n",
            "K15          3\n",
            "5            3\n",
            "Celeron      2\n",
            "Pavilion     2\n",
            "Strix        1\n",
            "Duo          1\n",
            "Laptop       1\n",
            "PC           1\n",
            "530s         1\n",
            "Flex         1\n",
            "TUF          1\n",
            "GF66         1\n",
            "(Slim)       1\n",
            "Zephyrus     1\n",
            "Thin         1\n",
            "3405         1\n",
            "Ultra        1\n",
            "7            1\n",
            "Athlon       1\n",
            "Dual         1\n",
            "Name: Series, dtype: int64\n",
            "*-*-*-*-*-*-*-*-*-*-*-*-*-*-*-*-*-*-*-*-*-*-*-*-*-*-*-*-*-*-*-*-*-*-*-*-*-*-*-*-*-*-*-*-*-*-*-*-*-*-\n",
            "\n",
            "Data distribution in column Processor\n",
            "i3          58\n",
            "i5          36\n",
            "-            5\n",
            "i7           4\n",
            "3250U        3\n",
            "5600H        3\n",
            "3450U        3\n",
            "5500U        2\n",
            "4600H        1\n",
            "AMD          1\n",
            "R3-3250U     1\n",
            "4800H        1\n",
            "5300U        1\n",
            "4800HS       1\n",
            "5600U        1\n",
            "3050U        1\n",
            "A9           1\n",
            "Name: Processor, dtype: int64\n",
            "*-*-*-*-*-*-*-*-*-*-*-*-*-*-*-*-*-*-*-*-*-*-*-*-*-*-*-*-*-*-*-*-*-*-*-*-*-*-*-*-*-*-*-*-*-*-*-*-*-*-\n",
            "\n",
            "Data distribution in column Processor_Gen\n",
            "11th      69\n",
            "10th      24\n",
            "-         17\n",
            "(4         3\n",
            "8th        3\n",
            "(8         2\n",
            "7th        2\n",
            "3rd        1\n",
            "Ryzen™     1\n",
            "A99425     1\n",
            "Name: Processor_Gen, dtype: int64\n",
            "*-*-*-*-*-*-*-*-*-*-*-*-*-*-*-*-*-*-*-*-*-*-*-*-*-*-*-*-*-*-*-*-*-*-*-*-*-*-*-*-*-*-*-*-*-*-*-*-*-*-\n",
            "\n",
            "Data distribution in column RAM\n",
            "8.0     90\n",
            "16.0    17\n",
            "4.0     15\n",
            "Name: RAM, dtype: int64\n",
            "*-*-*-*-*-*-*-*-*-*-*-*-*-*-*-*-*-*-*-*-*-*-*-*-*-*-*-*-*-*-*-*-*-*-*-*-*-*-*-*-*-*-*-*-*-*-*-*-*-*-\n",
            "\n",
            "Data distribution in column Hard_Disk_Capacity\n",
            "512 GB SSD            50\n",
            "1 TB HDD              43\n",
            "256 GB SSD            25\n",
            "1 TB SSD               1\n",
            "64 GB EMMC Storage     1\n",
            "128 GB SSD             1\n",
            "32 GB EMMC Storage     1\n",
            "Name: Hard_Disk_Capacity, dtype: int64\n",
            "*-*-*-*-*-*-*-*-*-*-*-*-*-*-*-*-*-*-*-*-*-*-*-*-*-*-*-*-*-*-*-*-*-*-*-*-*-*-*-*-*-*-*-*-*-*-*-*-*-*-\n",
            "\n",
            "Data distribution in column OS\n",
            "Windows 10 Home    46\n",
            "Windows 11 Home    44\n",
            "256 GB SSD         14\n",
            "Windows 10         10\n",
            "DOS                 5\n",
            "Chrome OS           2\n",
            "128 GB SSD          1\n",
            "Name: OS, dtype: int64\n",
            "*-*-*-*-*-*-*-*-*-*-*-*-*-*-*-*-*-*-*-*-*-*-*-*-*-*-*-*-*-*-*-*-*-*-*-*-*-*-*-*-*-*-*-*-*-*-*-*-*-*-\n",
            "\n",
            "Data distribution in column Rating\n",
            "4.3    26\n",
            "4.4    21\n",
            "4.2    18\n",
            "3.7    15\n",
            "4.5    15\n",
            "4.6     8\n",
            "4.1     6\n",
            "3.6     5\n",
            "3.9     5\n",
            "4.7     3\n",
            "4.0     2\n",
            "2.9     2\n",
            "4.8     1\n",
            "3.4     1\n",
            "3.2     1\n",
            "3.1     1\n",
            "Name: Rating, dtype: int64\n",
            "*-*-*-*-*-*-*-*-*-*-*-*-*-*-*-*-*-*-*-*-*-*-*-*-*-*-*-*-*-*-*-*-*-*-*-*-*-*-*-*-*-*-*-*-*-*-*-*-*-*-\n",
            "\n",
            "Data distribution in column Price\n",
            "39040     10\n",
            "40940      5\n",
            "59940      5\n",
            "50840      4\n",
            "39940      4\n",
            "          ..\n",
            "88940      1\n",
            "42340      1\n",
            "105940     1\n",
            "67740      1\n",
            "42750      1\n",
            "Name: Price, Length: 83, dtype: int64\n",
            "*-*-*-*-*-*-*-*-*-*-*-*-*-*-*-*-*-*-*-*-*-*-*-*-*-*-*-*-*-*-*-*-*-*-*-*-*-*-*-*-*-*-*-*-*-*-*-*-*-*-\n",
            "\n"
          ]
        }
      ]
    },
    {
      "cell_type": "markdown",
      "source": [
        "We all know the Importance of good features for machine learning models. In Machine learning task we have features which we need to process to make them good and this is done by data preprocessing tasks.\n",
        "\n",
        "**Data Preprocessing:** Data preprocessing is a process of preparing the raw data and making it suitable for a machine learning model. It is the first and crucial step while creating a machine learning model. When creating a machine learning project, it is not always a case that we come across the clean and formatted data. And while doing any operation with data, it is mandatory to clean it and put in a formatted way. So for this, we use data preprocessing task.\n",
        "\n",
        "A real-world data generally contains noises, missing values, and maybe in an unusable format which cannot be directly used for machine learning models. Data preprocessing is required tasks for cleaning the data and making it suitable for a machine learning model which also increases the accuracy and efficiency of a machine learning model.\n",
        "\n",
        "Data Preprocessing involves below steps:\n",
        "\n",
        "* Getting the dataset\n",
        "* Importing libraries\n",
        "* Importing datasets\n",
        "* Finding Missing Data\n",
        "* Encoding Categorical Data\n",
        "Many of us know traditional approaches for above listed steps but in this notebook I will discuss some different approaches which could be game changer for your next project."
      ],
      "metadata": {
        "id": "aqvLpfzI4Xud"
      }
    },
    {
      "cell_type": "code",
      "source": [
        "data.info()"
      ],
      "metadata": {
        "colab": {
          "base_uri": "https://localhost:8080/"
        },
        "id": "hqnkYq4vySg0",
        "outputId": "8883c54a-69fc-4727-b8c0-1e77941eb3e9"
      },
      "execution_count": 110,
      "outputs": [
        {
          "output_type": "stream",
          "name": "stdout",
          "text": [
            "<class 'pandas.core.frame.DataFrame'>\n",
            "RangeIndex: 130 entries, 0 to 129\n",
            "Data columns (total 11 columns):\n",
            " #   Column              Non-Null Count  Dtype  \n",
            "---  ------              --------------  -----  \n",
            " 0   Unnamed: 0          130 non-null    int64  \n",
            " 1   Brand               130 non-null    object \n",
            " 2   Model               116 non-null    object \n",
            " 3   Series              80 non-null     object \n",
            " 4   Processor           123 non-null    object \n",
            " 5   Processor_Gen       123 non-null    object \n",
            " 6   RAM                 122 non-null    float64\n",
            " 7   Hard_Disk_Capacity  122 non-null    object \n",
            " 8   OS                  122 non-null    object \n",
            " 9   Rating              130 non-null    float64\n",
            " 10  Price               130 non-null    int64  \n",
            "dtypes: float64(2), int64(2), object(7)\n",
            "memory usage: 11.3+ KB\n"
          ]
        }
      ]
    },
    {
      "cell_type": "markdown",
      "source": [
        "# **2. Handling Missing Values**\n",
        "\n",
        "\n",
        "Missing data are not rare in real data sets. In fact, the chance that at least one data point is missing increases as the data set size increases. Missing data can occur any number of ways, some of which include the following.\n",
        "\n",
        "* Merging of source data sets\n",
        "* Random events\n",
        "* Failures of measurement"
      ],
      "metadata": {
        "id": "XKABMIiQ4pa3"
      }
    },
    {
      "cell_type": "markdown",
      "source": [
        "## **2.1 Visualizing Missing Data**\n",
        "\n",
        "Visualizations as well as numeric summaries are the first step in understanding the challenge of missing information in a data set. For small to moderate data (100s of samples and 100s of attributes), several techniques are available that allow the visualization of all of the samples and Attributes simultaneously.\n",
        "\n",
        "In this notebook I'll Cover Following visualizations for missing values:-\n",
        "\n",
        "* Matrix\n",
        "* Correlation Heatmap\n",
        "* Dendrogram\n",
        "* Simple numerical summaries\n",
        "Question may arise that why we need Visualizations? Because it is wise to explore relationships within the attributes that might be related to missingness."
      ],
      "metadata": {
        "id": "V12m3c_64wT8"
      }
    },
    {
      "cell_type": "markdown",
      "source": [
        "### **2.1.1 Matrix**\n",
        "It is the nullity matrix that allows us to see the distribution of data across all columns in the whole dataset. It also shows a sparkline (or, in some cases, a striped line) that emphasizes rows in a dataset with the highest and lowest nullity."
      ],
      "metadata": {
        "id": "aYKUVIin4weL"
      }
    },
    {
      "cell_type": "code",
      "source": [
        "import seaborn as sns\n",
        "sns.heatmap(data.isnull())"
      ],
      "metadata": {
        "colab": {
          "base_uri": "https://localhost:8080/",
          "height": 376
        },
        "id": "8_Nd4BXa5BB4",
        "outputId": "6df36655-f2fe-4224-f1a9-497f706430b0"
      },
      "execution_count": 111,
      "outputs": [
        {
          "output_type": "execute_result",
          "data": {
            "text/plain": [
              "<matplotlib.axes._subplots.AxesSubplot at 0x7f26e2585f10>"
            ]
          },
          "metadata": {},
          "execution_count": 111
        },
        {
          "output_type": "display_data",
          "data": {
            "text/plain": [
              "<Figure size 432x288 with 2 Axes>"
            ],
            "image/png": "[encoded data removed]"
          },
          "metadata": {
            "needs_background": "light"
          }
        }
      ]
    },
    {
      "cell_type": "code",
      "source": [
        "msno.matrix(data)\n",
        "plt.figure(figsize = (15,9))\n",
        "plt.show()"
      ],
      "metadata": {
        "colab": {
          "base_uri": "https://localhost:8080/",
          "height": 623
        },
        "id": "wJhv6zod6DY-",
        "outputId": "1608d894-b637-4a75-c46b-1095d2f1c1bc"
      },
      "execution_count": 112,
      "outputs": [
        {
          "output_type": "display_data",
          "data": {
            "text/plain": [
              "<Figure size 1800x720 with 2 Axes>"
            ],
            "image/png": "[encoded data removed]"
          },
          "metadata": {
            "needs_background": "light"
          }
        },
        {
          "output_type": "display_data",
          "data": {
            "text/plain": [
              "<Figure size 1080x648 with 0 Axes>"
            ]
          },
          "metadata": {}
        }
      ]
    },
    {
      "cell_type": "markdown",
      "source": [
        "###**2.1.2 Correlation Heatmap**\n",
        "Correlation heatmap measures nullity correlation between columns of the dataset. It shows how strongly the presence or absence of one feature affects the other.\n",
        "\n",
        "Nullity correlation ranges from(-1 to 1):\n",
        "\n",
        "* -1 means if one column(attribute) is present, the other is almost certainly absent.\n",
        "* 0 means there is no dependence between the columns(attributes).\n",
        "* 1 means if one column(attributes) is present, the other is also certainly present.\n",
        "Unlike in a familiar correlation heatmap, if you see here, many columns are missing. Those columns which are always full or always empty have no meaningful correlation and are removed from the visualization.\n",
        "\n",
        "***The heatmap is helpful for identifying data completeness correlations*** between attribute pairs, but it has the limited explanatory ability for broader relationships and no special support for really big datasets."
      ],
      "metadata": {
        "id": "efa1QxuU5LKA"
      }
    },
    {
      "cell_type": "code",
      "source": [
        "corr = data.corr()\n",
        "mask = np.triu(np.ones_like(corr, dtype = bool))\n",
        "plt.figure(figsize = (10,10))\n",
        "sns.heatmap(corr, mask = mask, annot = True)\n",
        "# In case there is some missing values\n",
        "# import missingno as msno\n",
        "# msno.heatmap(df, labels = True)\n",
        "# "
      ],
      "metadata": {
        "colab": {
          "base_uri": "https://localhost:8080/",
          "height": 609
        },
        "id": "rkVNO35u5IvA",
        "outputId": "27da65b2-dd7e-4094-f98a-b2c990664799"
      },
      "execution_count": 113,
      "outputs": [
        {
          "output_type": "execute_result",
          "data": {
            "text/plain": [
              "<matplotlib.axes._subplots.AxesSubplot at 0x7f26e2150bd0>"
            ]
          },
          "metadata": {},
          "execution_count": 113
        },
        {
          "output_type": "display_data",
          "data": {
            "text/plain": [
              "<Figure size 720x720 with 2 Axes>"
            ],
            "image/png": "[encoded data removed]"
          },
          "metadata": {
            "needs_background": "light"
          }
        }
      ]
    },
    {
      "cell_type": "markdown",
      "source": [
        "### **2.1.3 Dendrogram**\n",
        "The dendrogram ***shows the hierarchical nullity relationship between columns.*** The dendrogram uses a hierarchical clustering algorithm against one another by their nullity correlation.\n",
        "\n",
        "More about Hierarchical Clustering Algorithm"
      ],
      "metadata": {
        "id": "7BiZgdw16qtn"
      }
    },
    {
      "cell_type": "code",
      "source": [
        "# Columns with missing values\n",
        "missing_columns = [col for col in data.columns if data[col].isnull().any()]\n",
        "missing_columns"
      ],
      "metadata": {
        "colab": {
          "base_uri": "https://localhost:8080/"
        },
        "id": "70BKhr8t5xBm",
        "outputId": "df0dbfe2-8c3e-47dc-c08d-ba48a2492158"
      },
      "execution_count": 114,
      "outputs": [
        {
          "output_type": "execute_result",
          "data": {
            "text/plain": [
              "['Model',\n",
              " 'Series',\n",
              " 'Processor',\n",
              " 'Processor_Gen',\n",
              " 'RAM',\n",
              " 'Hard_Disk_Capacity',\n",
              " 'OS']"
            ]
          },
          "metadata": {},
          "execution_count": 114
        }
      ]
    },
    {
      "cell_type": "code",
      "source": [
        "import plotly.figure_factory as ff\n",
        "import numpy as np\n",
        "### Not run yet\n",
        "# fig = ff.create_dendrogram(data)\n",
        "# fig.update_layout(width = 800, height = 500)\n",
        "# fig.show() "
      ],
      "metadata": {
        "id": "DYs7ii7T693Q"
      },
      "execution_count": 115,
      "outputs": []
    },
    {
      "cell_type": "markdown",
      "source": [
        "### **2.1.4 Simple Numerical Summaries**\n",
        "Moving Forward lets try to analyse numerical summary of missing attributes. Simple numerical summaries are effective at identifying problematic predictors and samples when the data become too large to visually inspect."
      ],
      "metadata": {
        "id": "RtbT-tzU7s5G"
      }
    },
    {
      "cell_type": "code",
      "source": [
        "def get_numerical_summary(df):\n",
        "  total = df.shape[0]\n",
        "  missing_columns = [col for col in df.columns if df[col].isnull().any()]\n",
        "  missing_per = {}\n",
        "  for col in missing_columns:\n",
        "    null_count = df[col].isnull().sum()\n",
        "    per = (null_count/total)*100\n",
        "    missing_per[col] = per\n",
        "    print(\"{}:{} ({}%)\".format(col,null_count, round(per,3)))\n",
        "  return missing_per"
      ],
      "metadata": {
        "id": "Hdn7SdgA7rBu"
      },
      "execution_count": 116,
      "outputs": []
    },
    {
      "cell_type": "code",
      "source": [
        "missing_percent = get_numerical_summary(data)"
      ],
      "metadata": {
        "colab": {
          "base_uri": "https://localhost:8080/"
        },
        "id": "CgJ3U3kq_nox",
        "outputId": "a38033ba-59a6-42e7-b68d-7122431daa41"
      },
      "execution_count": 117,
      "outputs": [
        {
          "output_type": "stream",
          "name": "stdout",
          "text": [
            "Model:14 (10.769%)\n",
            "Series:50 (38.462%)\n",
            "Processor:7 (5.385%)\n",
            "Processor_Gen:7 (5.385%)\n",
            "RAM:8 (6.154%)\n",
            "Hard_Disk_Capacity:8 (6.154%)\n",
            "OS:8 (6.154%)\n"
          ]
        }
      ]
    },
    {
      "cell_type": "code",
      "source": [
        "missing_percent1 = get_numerical_summary(laptop)"
      ],
      "metadata": {
        "id": "KHrK3oJ79Nuh"
      },
      "execution_count": 118,
      "outputs": []
    },
    {
      "cell_type": "markdown",
      "source": [
        "## **2.2 Methods to Handle Missing Data**\n",
        "As we Know if our data has missing values than our model will not train except few models which can tolerate them like some tree based models but the point is we want to handle this and how can we handle them. So, in this notebook to handle missing data I will discuss following techniques :-\n",
        "\n",
        "* Deletion of Data\n",
        "* Encoding Missingness\n",
        "* Imputation Methods"
      ],
      "metadata": {
        "id": "KyK8xH9c9XG6"
      }
    },
    {
      "cell_type": "markdown",
      "source": [
        "### **2.2.1 Deletion of Data**\n",
        "The simplest approach for dealing with missing values is to remove entire attribute(s) and/or sample(s) that contain missing values. However, one must carefully consider a number of aspects of the data prior to taking this approach. For example, missing values could be eliminated by removing all predictors that contain at least one missing value. Similarly, missing values could be eliminated by removing all samples with any missing values.\n",
        "\n",
        "*** Note: When it is difficult to obtain samples or when the data contain a small number of samples (i.e., rows), then it is not desirable to remove samples from the data.***\n",
        "\n",
        "Consider this small intuition shown below\n",
        "\n",
        "Let M = Number of Samples(rows).\\ and Let N = Number of Attributes(columns).\n",
        "\n",
        "**Case 1: Deletion of Attributes**\n",
        "\n",
        "If N has range of [1-10]\\ Then don't delete the attribute that contain missing values but if that attribute has missing values around 80-90% then deletion of that attribute will be good option instead of just predicting values of those 80-90% data based on that 10-20% data.\n",
        "\n",
        "**Case 2: Deletion of Samples**\n",
        "\n",
        "If M is a large number according to your task\\ Then deletion of sample can be a Good step but if that sample has few missing values with respect to attribute, then you should consider methods to fill those missing values.\n",
        "\n",
        "Lets move on to the implementation part, I will just show how to delete data for both cases but you can interpret more according to your tasks.\n",
        "\n",
        "**Deletion of an Attribute**\n",
        "\n",
        "According to Simple numerical Summaries the attribute Upfront_charges has largest missing values percentage of (26.664%) which is not ideal percentage to remove a feature but just for sake of implementation I will remove that feature."
      ],
      "metadata": {
        "id": "xOS1tvzY9fkZ"
      }
    },
    {
      "cell_type": "code",
      "source": [
        "df_temp = data.copy()"
      ],
      "metadata": {
        "id": "3FQCTjYt_KWN"
      },
      "execution_count": 119,
      "outputs": []
    },
    {
      "cell_type": "code",
      "source": [
        "missing_percent"
      ],
      "metadata": {
        "colab": {
          "base_uri": "https://localhost:8080/"
        },
        "id": "s_j2btuM_jtg",
        "outputId": "7863780b-33f3-4151-d735-31c9a8a6edc1"
      },
      "execution_count": 120,
      "outputs": [
        {
          "output_type": "execute_result",
          "data": {
            "text/plain": [
              "{'Hard_Disk_Capacity': 6.153846153846154,\n",
              " 'Model': 10.76923076923077,\n",
              " 'OS': 6.153846153846154,\n",
              " 'Processor': 5.384615384615385,\n",
              " 'Processor_Gen': 5.384615384615385,\n",
              " 'RAM': 6.153846153846154,\n",
              " 'Series': 38.46153846153847}"
            ]
          },
          "metadata": {},
          "execution_count": 120
        }
      ]
    },
    {
      "cell_type": "code",
      "source": [
        "# Threshold to remove attribute having missing values greater than threshold\n",
        "attribute_threshold = 25\n",
        "for col, per in missing_percent.items():\n",
        "  if per > attribute_threshold:\n",
        "    df_temp.drop(col, axis = 1, inplace = True)"
      ],
      "metadata": {
        "id": "C9_GSxLl9cHK"
      },
      "execution_count": 121,
      "outputs": []
    },
    {
      "cell_type": "markdown",
      "source": [
        "By generating numerical summary of df_temp we can see now attribute Upfont_chargers being removed from the dataset as it has missing values percentage greater than threshold we defined"
      ],
      "metadata": {
        "id": "Xw3pHv0t_wuH"
      }
    },
    {
      "cell_type": "code",
      "source": [
        "_ = get_numerical_summary(df_temp)\n",
        "del df_temp"
      ],
      "metadata": {
        "colab": {
          "base_uri": "https://localhost:8080/"
        },
        "id": "vFd1lRr5_v8B",
        "outputId": "d8fb670e-0c3e-4de9-b993-8a76c1ac3833"
      },
      "execution_count": 122,
      "outputs": [
        {
          "output_type": "stream",
          "name": "stdout",
          "text": [
            "Model:14 (10.769%)\n",
            "Processor:7 (5.385%)\n",
            "Processor_Gen:7 (5.385%)\n",
            "RAM:8 (6.154%)\n",
            "Hard_Disk_Capacity:8 (6.154%)\n",
            "OS:8 (6.154%)\n"
          ]
        }
      ]
    },
    {
      "cell_type": "markdown",
      "source": [
        "### **Deletion of the Samples**\n",
        "\n",
        "We will try to delete those samples having missing values in more than 5 attributes"
      ],
      "metadata": {
        "id": "Vufsjxnv_43c"
      }
    },
    {
      "cell_type": "code",
      "source": [
        "df_temp = data.copy()\n",
        "# Getting Missing count of each sample\n",
        "for idx in range(df_temp.shape[0]):\n",
        "  df_temp.loc[idx, \"missing_count\"] = df_temp.iloc[idx,:].isnull().sum()\n",
        "\n",
        "# Threshold to remove samples having missing values greater than threshold\n",
        "sample_threshold = 5\n",
        "print(\"Sample before Removal: {}\".format(df_temp.shape[0]))\n",
        "\n",
        "df_temp.drop(df_temp[df_temp[\"missing_count\"] > sample_threshold].index, \n",
        "             axis = 0\n",
        "             ,inplace = True)\n",
        "print(\"Sample After Removal: {}\".format(df_temp.shape[0]))"
      ],
      "metadata": {
        "colab": {
          "base_uri": "https://localhost:8080/"
        },
        "id": "h7lkSIhx_-_8",
        "outputId": "ab16f877-4b6c-44b7-8917-87007db309f4"
      },
      "execution_count": 123,
      "outputs": [
        {
          "output_type": "stream",
          "name": "stdout",
          "text": [
            "Sample before Removal: 130\n",
            "Sample After Removal: 123\n"
          ]
        }
      ]
    },
    {
      "cell_type": "code",
      "source": [
        "del df_temp"
      ],
      "metadata": {
        "id": "fbF3Mg7oDgMG"
      },
      "execution_count": 124,
      "outputs": []
    },
    {
      "cell_type": "markdown",
      "source": [
        "### **2.2.2 Encoding Missingness**\n",
        "\n",
        "When an attribute is discrete in nature, missingness can be directly encoded into the attribute as if it were a naturally occurring category. For example in this dataset the attribute loan_limit has 3344 missing values so we can assign some new category to these missing values."
      ],
      "metadata": {
        "id": "p8zp-b-7FZs5"
      }
    },
    {
      "cell_type": "code",
      "source": [
        "cat_missing_cols = [col for col in missing_columns if data[col].dtype == 'object']\n",
        "cat_missing_cols"
      ],
      "metadata": {
        "colab": {
          "base_uri": "https://localhost:8080/"
        },
        "id": "E4DGMTXqFge4",
        "outputId": "a5c04db0-0e9f-4057-aebc-f3e9320ea34a"
      },
      "execution_count": 125,
      "outputs": [
        {
          "output_type": "execute_result",
          "data": {
            "text/plain": [
              "['Model', 'Series', 'Processor', 'Processor_Gen', 'Hard_Disk_Capacity', 'OS']"
            ]
          },
          "metadata": {},
          "execution_count": 125
        }
      ]
    },
    {
      "cell_type": "code",
      "source": [
        "data[cat_missing_cols] = data[cat_missing_cols].fillna(\"Missing\") "
      ],
      "metadata": {
        "id": "E5K3VHxvFrcJ"
      },
      "execution_count": 126,
      "outputs": []
    },
    {
      "cell_type": "markdown",
      "source": [
        "**2.2.3 Imputation Methods**\n",
        "\n",
        "***Another approach to handling missing values is to impute or estimate them.*** Imputation uses information and relationships among the non-missing attributes to provide an estimate to fill in the missing value.\n",
        "\n",
        "In this section ***we will work on imputation models which will help us impute missing values by extracting interesting patterns*** from attributes which don't have missing values at that point on time.\n",
        "\n",
        "Within a sample data point, ***other variables may also be missing***. For this reason, an imputation method should be tolerant of other missing data.\n",
        "\n",
        "***Imputation creates a model embedded within another model***. There is ***a prediction equation associated with every attribute*** in the training set that might have missing data. It is desirable for the imputation method to be fast and have a compact prediction equation.\n",
        "\n",
        "***Many datasets often contain both numeric and discrete attributes.*** Rather than generating dummy variables for discrete attributes, a useful imputation method would be able to use attributes of various types as inputs.\n",
        "\n",
        "The model for predicting missing values should be numerically stable and not be overly influenced by outlying data points.\n",
        "\n",
        "***Virtually any machine learning model could be used to impute the data. Here, the focus will be on several that are good candidates to consider.***\n",
        "\n",
        "Question arise if an attribute has missing values around 50-60% then can we use imputation methods? And the answer is it depends upon datasets which we are using because an attribute with 60% missing values may has very good correlation with some other attribute which can be helpful to fill those missing values on the other side if let say some column like ID column which is independent of all columns has missing values around 10% using imputation methods we may not get results we wanted."
      ],
      "metadata": {
        "id": "I0AlRmZ6F6FM"
      }
    },
    {
      "cell_type": "markdown",
      "source": [
        "**In this notebook we are gonna work on following imputation methods**\n",
        "\n",
        "* KNN for Imputation\n",
        "* Tree Based Imputation\n",
        "* Linear Models for Imputation\n",
        "\n",
        "#### **(a) K-Nearest Neighbors(KNN) for Imputation**\n",
        "When the training set is small or moderate in size, K-nearest neighbors can be a quick and effective method for imputing missing values. This procedure identifies a sample with one or more missing values. Then it identifies the K most similar samples in the training data that are complete (i.e., have no missing values in some columns). Similarity of samples for this method is defined by a distance metric. When all of the predictors are numeric, standard Euclidean distance is commonly used as the similarity metric.\n",
        "\n",
        "After computing the distances, the K closest samples to the sample with the missing value are identified and the average value of the predictor of interest is calculated. This value is then used to replace the missing value of the sample."
      ],
      "metadata": {
        "id": "iGkMZAFpG47k"
      }
    },
    {
      "cell_type": "code",
      "source": [
        "from sklearn.impute import KNNImputer\n",
        "df_temp = data.copy()"
      ],
      "metadata": {
        "id": "iOprVQt3HIHn"
      },
      "execution_count": 127,
      "outputs": []
    },
    {
      "cell_type": "markdown",
      "source": [
        "As we haven't done categorical encoding yet (We'll cover it in next section) so, for time being lets impute on numerical data only later we will impute on full data after encoding."
      ],
      "metadata": {
        "id": "jTz_RdtpHIbE"
      }
    },
    {
      "cell_type": "code",
      "source": [
        "num_cols = [col for col in df_temp.columns if df_temp[col].dtype != \"object\"]\n",
        "print(num_cols)\n",
        "df_temp = df_temp[num_cols]"
      ],
      "metadata": {
        "colab": {
          "base_uri": "https://localhost:8080/"
        },
        "id": "8Cc5j-7OHOPa",
        "outputId": "d2783a45-8a0c-45b3-dae6-8d6f2e38f027"
      },
      "execution_count": 128,
      "outputs": [
        {
          "output_type": "stream",
          "name": "stdout",
          "text": [
            "['Unnamed: 0', 'RAM', 'Rating', 'Price']\n"
          ]
        }
      ]
    },
    {
      "cell_type": "code",
      "source": [
        "# Initializing KNNImputer\n",
        "knn = KNNImputer(n_neighbors = 3)\n",
        "knn.fit(df_temp)"
      ],
      "metadata": {
        "colab": {
          "base_uri": "https://localhost:8080/"
        },
        "id": "kpguD8KWHfNZ",
        "outputId": "3929e888-e790-44aa-fb63-321d74fce300"
      },
      "execution_count": 129,
      "outputs": [
        {
          "output_type": "execute_result",
          "data": {
            "text/plain": [
              "KNNImputer(n_neighbors=3)"
            ]
          },
          "metadata": {},
          "execution_count": 129
        }
      ]
    },
    {
      "cell_type": "code",
      "source": [
        "X = knn.transform(df_temp)"
      ],
      "metadata": {
        "id": "UU-YRPUxHm4j"
      },
      "execution_count": 130,
      "outputs": []
    },
    {
      "cell_type": "code",
      "source": [
        "df_temp = pd.DataFrame(X, columns = num_cols)\n",
        "data.info()"
      ],
      "metadata": {
        "colab": {
          "base_uri": "https://localhost:8080/"
        },
        "id": "ZKkO3ikZHtqE",
        "outputId": "4f242e05-392b-4cca-c436-f1d4ec692c22"
      },
      "execution_count": 131,
      "outputs": [
        {
          "output_type": "stream",
          "name": "stdout",
          "text": [
            "<class 'pandas.core.frame.DataFrame'>\n",
            "RangeIndex: 130 entries, 0 to 129\n",
            "Data columns (total 11 columns):\n",
            " #   Column              Non-Null Count  Dtype  \n",
            "---  ------              --------------  -----  \n",
            " 0   Unnamed: 0          130 non-null    int64  \n",
            " 1   Brand               130 non-null    object \n",
            " 2   Model               130 non-null    object \n",
            " 3   Series              130 non-null    object \n",
            " 4   Processor           130 non-null    object \n",
            " 5   Processor_Gen       130 non-null    object \n",
            " 6   RAM                 122 non-null    float64\n",
            " 7   Hard_Disk_Capacity  130 non-null    object \n",
            " 8   OS                  130 non-null    object \n",
            " 9   Rating              130 non-null    float64\n",
            " 10  Price               130 non-null    int64  \n",
            "dtypes: float64(2), int64(2), object(7)\n",
            "memory usage: 11.3+ KB\n"
          ]
        }
      ]
    },
    {
      "cell_type": "code",
      "source": [
        "# Using tree regression\n",
        "from sklearn.tree import DecisionTreeRegressor\n",
        "dr = DecisionTreeRegressor()"
      ],
      "metadata": {
        "id": "n4o386dxH2v-"
      },
      "execution_count": 132,
      "outputs": []
    },
    {
      "cell_type": "markdown",
      "source": [
        "As we have to encode categorical variables into numerical data to use sklearn's tree based models so for the time being I am encoding categorical variables using Label Encoding Method"
      ],
      "metadata": {
        "id": "8cCdoYLwH-rf"
      }
    },
    {
      "cell_type": "code",
      "source": [
        "df_temp = data.copy()\n",
        "from sklearn.preprocessing import LabelEncoder\n",
        "lb = LabelEncoder()\n",
        "cat_cols = [col for col in data.columns if data[col].dtype == \"object\"]\n",
        "for col in cat_cols:\n",
        "  df_temp[col] = lb.fit_transform(df_temp[col])"
      ],
      "metadata": {
        "id": "YnRhcdyCID0c"
      },
      "execution_count": 133,
      "outputs": []
    },
    {
      "cell_type": "code",
      "source": [
        "from sklearn.ensemble import BaggingRegressor\n",
        "from sklearn.tree import DecisionTreeRegressor\n",
        "\n",
        "def tree_imputation(df):\n",
        "  missing_cols = [col for col in df.columns if df[col].isnull().sum() > 0]\n",
        "  non_missing_cols = [col for col in df.columns if df[col].isnull().sum() == 0]\n",
        "  # nul_cols = [col for col in missing_cols if df[col].dtype != \"object\"]\n",
        "  # df = df[num_cols]\n",
        "  for col in missing_cols:\n",
        "  # Defining a new bagging model for each attribute\n",
        "    model = BaggingRegressor(DecisionTreeRegressor(), n_estimators = 40,\n",
        "                           max_samples = 1.0, max_features = 1,\n",
        "                           bootstrap = False, n_jobs = -1)\n",
        "    col_missing = df[df[col].isnull()]\n",
        "    temp = df.drop(df[df[col].isnull()].index, axis = 0)\n",
        "  # print(temp.columns)\n",
        "  # X = temp.drop(col, axis = 1)\n",
        "    X = temp.loc[:, non_missing_cols]\n",
        "    y = temp[col]\n",
        "    model.fit(X,y)\n",
        "  \n",
        "  return df"
      ],
      "metadata": {
        "id": "_I-rfZ7bIVeG"
      },
      "execution_count": 134,
      "outputs": []
    },
    {
      "cell_type": "code",
      "source": [
        "df_new = tree_imputation(df_temp)\n",
        "df_new.info()"
      ],
      "metadata": {
        "colab": {
          "base_uri": "https://localhost:8080/"
        },
        "id": "2PhQ8GUcLhBk",
        "outputId": "de8c5268-c9a5-4597-9b6f-e631fabcae07"
      },
      "execution_count": 135,
      "outputs": [
        {
          "output_type": "stream",
          "name": "stdout",
          "text": [
            "<class 'pandas.core.frame.DataFrame'>\n",
            "RangeIndex: 130 entries, 0 to 129\n",
            "Data columns (total 11 columns):\n",
            " #   Column              Non-Null Count  Dtype  \n",
            "---  ------              --------------  -----  \n",
            " 0   Unnamed: 0          130 non-null    int64  \n",
            " 1   Brand               130 non-null    int64  \n",
            " 2   Model               130 non-null    int64  \n",
            " 3   Series              130 non-null    int64  \n",
            " 4   Processor           130 non-null    int64  \n",
            " 5   Processor_Gen       130 non-null    int64  \n",
            " 6   RAM                 122 non-null    float64\n",
            " 7   Hard_Disk_Capacity  130 non-null    int64  \n",
            " 8   OS                  130 non-null    int64  \n",
            " 9   Rating              130 non-null    float64\n",
            " 10  Price               130 non-null    int64  \n",
            "dtypes: float64(2), int64(9)\n",
            "memory usage: 11.3 KB\n"
          ]
        }
      ]
    },
    {
      "cell_type": "markdown",
      "source": [
        "#**3. Encoding Categorical Attributes**\n",
        "Categorical Features are those that contain qualitative data.This Section focuses primarily on methods that encode categorical data to numeric values.\n",
        "\n",
        "Categorical variables/features are any feature type can be classified into three major types:\n",
        "\n",
        "- Nominal\n",
        "- Ordinal\n",
        "- Binary\n",
        "\n",
        "***Nominal variables*** are variables that have two or more categories which do not have any kind of order associated with them. For Example if our dataset has any 4 types of colors, i.e. Red, Blue, Orange, Green it can be considered as a nominal variable.\n",
        "\n",
        "***Ordinal variables*** on the other hand, have “levels” or categories with a particular order associated with them. For example, an ordinal categorical variable can be a feature with three different levels: low, medium and high. Order is important.\n",
        "\n",
        "***Binary Variables*** are same as nominal variables but with only categories For example, if gender is classified into two groups, i.e. male and female.\n",
        "\n",
        "For Nominal Variables We generally uses Label Encoding Scheme in which we encode each category by just converting it to some integer values this kind of encoding can work in case of Ordinal variables but ***for label encoding it has the disadvantage that the numeric values can be misinterpreted by algorithms as having some sort of hierarchy/order in them.*** This ordering issue is addressed in another common alternative approach called ***'One-Hot Encoding'.***\n",
        "\n",
        "One-Hot-Encoding has the advantage that the result is binary rather than ordinal and that everything sits in an orthogonal vector space. ***The disadvantage is that for high cardinality, the feature space can really blow up quickly and you start fighting with the curse of dimensionality.***\n",
        "\n",
        "Another big issue with encoding schemes is new category or while splitting data in train/validation/test set all samples of the rare classes may split into validation/test set then during it will raise error while predicting.\n",
        "\n",
        "**Because of few potential issues with traditional approaches we now need to search for some unique approaches some of them are listed below:**\n",
        "\n",
        "- **Supervised Encoding Methods**\n",
        "- **Approaching for Novel Categories**\n",
        "\n",
        "Starting from Supervised Encoding Methods lets define it first"
      ],
      "metadata": {
        "id": "3x8EJC8GLtfV"
      }
    },
    {
      "cell_type": "markdown",
      "source": [
        "### **3.1 Supervised Encoding Methods**\n",
        "There are several methods of encoding categorical variable to numeric columns using the output data as a guide (so that they are supervised methods). In Supervised Techniques we will discuss following methods to encode categorical variable:-\n",
        "\n",
        "* Effect or Likelihood Encoding\n",
        "* Target Encoding\n",
        "* Deep Learning Methods"
      ],
      "metadata": {
        "id": "48DE62CXMojT"
      }
    },
    {
      "cell_type": "markdown",
      "source": [
        "### **3.1.1 Likelihood Encoding**\n",
        "The effect of the factor level on the output data is measured and this effect is used as the numeric encoding. Here effect of that particular category on output data can be calculated using simple linear models or mean, mode and median methods.\n",
        "\n",
        "For classification problems, a simple logistic regression model can be used to measure the effect between the categorical outcome and the categorical predictor. After Computing Effects we will compute log-odds of those effects, If the effect is p, the odds of that event are defined as p/(1 − p) and log odds by simply taking log of odds. After when we get the log odds of each category we than encode each category with them using map function."
      ],
      "metadata": {
        "id": "LcSUy5GuMxSe"
      }
    },
    {
      "cell_type": "code",
      "source": [
        "df_temp = df_new.copy()"
      ],
      "metadata": {
        "id": "BqSjjDJ5M11t"
      },
      "execution_count": 136,
      "outputs": []
    },
    {
      "cell_type": "code",
      "source": [
        "from sklearn.linear_model import LogisticRegression\n",
        "from sklearn.metrics import accuracy_score\n",
        "from sklearn.preprocessing import  LabelEncoder\n",
        "\n",
        "# Again we have to temporily encode variables\n",
        "lb = LabelEncoder()\n",
        "\n",
        "cat_cols = [col for col in df_temp.columns if df_temp[col].dtype == \"object\"]\n",
        "for col in cat_cols:\n",
        "  df_temp[col] = lb.fit_transform(df_temp[col])"
      ],
      "metadata": {
        "id": "c8Ok7Uj7M4d5"
      },
      "execution_count": 137,
      "outputs": []
    },
    {
      "cell_type": "code",
      "source": [
        "def likelihood_encoding(df, cat_cols, target_variable = \"Status\"):\n",
        "  df_temp = df.copy()\n",
        "  for col in cat_cols:\n",
        "    effect = {}\n",
        "    print(col)\n",
        "    for category in df[col].unique():\n",
        "      print(category)\n",
        "\n",
        "      try: \n",
        "        temp = df[df[col] == category]\n",
        "        lr = LogisticRegression()\n",
        "        X = temp.drop(target_variable, axis = 1, inplace = True)\n",
        "        y = temp[target_variable]\n",
        "        # print(temp.drop(target_variable. axis = 1).isnull().sum())\n",
        "        lr.fit(X,y)\n",
        "        \n",
        "        effect[category] = accuracy_score(y, lr.predict(X))\n",
        "      except Exception as E:\n",
        "        print(E)\n",
        "\n",
        "    for key, value in effect.items():\n",
        "      effect[key] = np.log(effect[key]/(1 - effect[key] + 1e-6))\n",
        "      df_temp.loc[:,col] = df_temp.loc[:,col].map(effect)\n",
        "    return df_temp"
      ],
      "metadata": {
        "id": "tyzcwCGkN5L_"
      },
      "execution_count": 138,
      "outputs": []
    },
    {
      "cell_type": "code",
      "source": [
        "likelihood_encoding(df_temp, cat_cols)"
      ],
      "metadata": {
        "id": "KAnravmxNjfQ"
      },
      "execution_count": 139,
      "outputs": []
    },
    {
      "cell_type": "markdown",
      "source": [
        "### **3.1.2 Target Encoding**\n",
        "It is same as likelihood encoding but the difference is we use average of output variable for that particular category to encode values inplace of some linear model. Lets move to the implementation."
      ],
      "metadata": {
        "id": "ZxDcAAwXPyJk"
      }
    },
    {
      "cell_type": "code",
      "source": [
        "def target_encoding(df, cat_cols, target_variable = \"Status\"):\n",
        "  for col in cat_cols:\n",
        "    weight = 7\n",
        "    feat = df.groupby(col)[target_variable].agg([\"mean\",\"count\"])\n",
        "    mean = feat[\"mean\"]\n",
        "    count = feat[\"count\"]\n",
        "\n",
        "    smooth = (count*mean + weight*mean)/(weight + count)\n",
        "\n",
        "    df.loc[:,col] = df.loc[:,col].map(smooth)\n",
        "  return df"
      ],
      "metadata": {
        "id": "ZB-0Eh5mNmJj"
      },
      "execution_count": 140,
      "outputs": []
    },
    {
      "cell_type": "code",
      "source": [
        "df_temp = df_new.copy()"
      ],
      "metadata": {
        "id": "Zy3qLvpkS_nC"
      },
      "execution_count": 141,
      "outputs": []
    },
    {
      "cell_type": "code",
      "source": [
        "from sklearn.linear_model import LogisticRegression\n",
        "from sklearn.metrics import accuracy_score\n",
        "from sklearn.preprocessing import LabelEncoder\n",
        "\n",
        "## Again we have to temporarily encode variables\n",
        "lb = LabelEncoder()\n",
        "cat_cols = [col for col in df_temp.columns if df_temp[col].dtype == \"object\"]\n",
        "\n",
        "for col in cat_cols:\n",
        "  df_temp[col] = lb.fit_transform(df_temp[col])\n",
        "  "
      ],
      "metadata": {
        "id": "HZJLaV86TCpA"
      },
      "execution_count": 142,
      "outputs": []
    },
    {
      "cell_type": "code",
      "source": [
        "df_temp = target_encoding(df_temp, cat_cols)"
      ],
      "metadata": {
        "id": "N5qJ_KQhTtV6"
      },
      "execution_count": 143,
      "outputs": []
    },
    {
      "cell_type": "code",
      "source": [
        "df_temp.head()"
      ],
      "metadata": {
        "colab": {
          "base_uri": "https://localhost:8080/",
          "height": 206
        },
        "id": "QVQ0eLMOTxsI",
        "outputId": "8d21669d-5327-4387-bbbd-a102ac012871"
      },
      "execution_count": 144,
      "outputs": [
        {
          "output_type": "execute_result",
          "data": {
            "text/plain": [
              "   Unnamed: 0  Brand  Model  Series  Processor  Processor_Gen  RAM  \\\n",
              "0           0      2     15      19         15              4  8.0   \n",
              "1           1      2     31      19         16              4  8.0   \n",
              "2           2      1     29       2         15              3  8.0   \n",
              "3           3      2     15      19         15              4  8.0   \n",
              "4           4      1     26      15         16              3  8.0   \n",
              "\n",
              "   Hard_Disk_Capacity  OS  Rating  Price  \n",
              "0                   0   7     3.7  39040  \n",
              "1                   0   6     3.6  50840  \n",
              "2                   5   7     4.3  37940  \n",
              "3                   0   1     4.4  44440  \n",
              "4                   5   6     4.5  57940  "
            ],
            "text/html": [
              "\n",
              "  <div id=\"df-a85930f3-4c91-4904-95e7-b5e68325dac1\">\n",
              "    <div class=\"colab-df-container\">\n",
              "      <div>\n",
              "<style scoped>\n",
              "    .dataframe tbody tr th:only-of-type {\n",
              "        vertical-align: middle;\n",
              "    }\n",
              "\n",
              "    .dataframe tbody tr th {\n",
              "        vertical-align: top;\n",
              "    }\n",
              "\n",
              "    .dataframe thead th {\n",
              "        text-align: right;\n",
              "    }\n",
              "</style>\n",
              "<table border=\"1\" class=\"dataframe\">\n",
              "  <thead>\n",
              "    <tr style=\"text-align: right;\">\n",
              "      <th></th>\n",
              "      <th>Unnamed: 0</th>\n",
              "      <th>Brand</th>\n",
              "      <th>Model</th>\n",
              "      <th>Series</th>\n",
              "      <th>Processor</th>\n",
              "      <th>Processor_Gen</th>\n",
              "      <th>RAM</th>\n",
              "      <th>Hard_Disk_Capacity</th>\n",
              "      <th>OS</th>\n",
              "      <th>Rating</th>\n",
              "      <th>Price</th>\n",
              "    </tr>\n",
              "  </thead>\n",
              "  <tbody>\n",
              "    <tr>\n",
              "      <th>0</th>\n",
              "      <td>0</td>\n",
              "      <td>2</td>\n",
              "      <td>15</td>\n",
              "      <td>19</td>\n",
              "      <td>15</td>\n",
              "      <td>4</td>\n",
              "      <td>8.0</td>\n",
              "      <td>0</td>\n",
              "      <td>7</td>\n",
              "      <td>3.7</td>\n",
              "      <td>39040</td>\n",
              "    </tr>\n",
              "    <tr>\n",
              "      <th>1</th>\n",
              "      <td>1</td>\n",
              "      <td>2</td>\n",
              "      <td>31</td>\n",
              "      <td>19</td>\n",
              "      <td>16</td>\n",
              "      <td>4</td>\n",
              "      <td>8.0</td>\n",
              "      <td>0</td>\n",
              "      <td>6</td>\n",
              "      <td>3.6</td>\n",
              "      <td>50840</td>\n",
              "    </tr>\n",
              "    <tr>\n",
              "      <th>2</th>\n",
              "      <td>2</td>\n",
              "      <td>1</td>\n",
              "      <td>29</td>\n",
              "      <td>2</td>\n",
              "      <td>15</td>\n",
              "      <td>3</td>\n",
              "      <td>8.0</td>\n",
              "      <td>5</td>\n",
              "      <td>7</td>\n",
              "      <td>4.3</td>\n",
              "      <td>37940</td>\n",
              "    </tr>\n",
              "    <tr>\n",
              "      <th>3</th>\n",
              "      <td>3</td>\n",
              "      <td>2</td>\n",
              "      <td>15</td>\n",
              "      <td>19</td>\n",
              "      <td>15</td>\n",
              "      <td>4</td>\n",
              "      <td>8.0</td>\n",
              "      <td>0</td>\n",
              "      <td>1</td>\n",
              "      <td>4.4</td>\n",
              "      <td>44440</td>\n",
              "    </tr>\n",
              "    <tr>\n",
              "      <th>4</th>\n",
              "      <td>4</td>\n",
              "      <td>1</td>\n",
              "      <td>26</td>\n",
              "      <td>15</td>\n",
              "      <td>16</td>\n",
              "      <td>3</td>\n",
              "      <td>8.0</td>\n",
              "      <td>5</td>\n",
              "      <td>6</td>\n",
              "      <td>4.5</td>\n",
              "      <td>57940</td>\n",
              "    </tr>\n",
              "  </tbody>\n",
              "</table>\n",
              "</div>\n",
              "      <button class=\"colab-df-convert\" onclick=\"convertToInteractive('df-a85930f3-4c91-4904-95e7-b5e68325dac1')\"\n",
              "              title=\"Convert this dataframe to an interactive table.\"\n",
              "              style=\"display:none;\">\n",
              "        \n",
              "  <svg xmlns=\"http://www.w3.org/2000/svg\" height=\"24px\"viewBox=\"0 0 24 24\"\n",
              "       width=\"24px\">\n",
              "    <path d=\"M0 0h24v24H0V0z\" fill=\"none\"/>\n",
              "    <path d=\"M18.56 5.44l.94 2.06.94-2.06 2.06-.94-2.06-.94-.94-2.06-.94 2.06-2.06.94zm-11 1L8.5 8.5l.94-2.06 2.06-.94-2.06-.94L8.5 2.5l-.94 2.06-2.06.94zm10 10l.94 2.06.94-2.06 2.06-.94-2.06-.94-.94-2.06-.94 2.06-2.06.94z\"/><path d=\"M17.41 7.96l-1.37-1.37c-.4-.4-.92-.59-1.43-.59-.52 0-1.04.2-1.43.59L10.3 9.45l-7.72 7.72c-.78.78-.78 2.05 0 2.83L4 21.41c.39.39.9.59 1.41.59.51 0 1.02-.2 1.41-.59l7.78-7.78 2.81-2.81c.8-.78.8-2.07 0-2.86zM5.41 20L4 18.59l7.72-7.72 1.47 1.35L5.41 20z\"/>\n",
              "  </svg>\n",
              "      </button>\n",
              "      \n",
              "  <style>\n",
              "    .colab-df-container {\n",
              "      display:flex;\n",
              "      flex-wrap:wrap;\n",
              "      gap: 12px;\n",
              "    }\n",
              "\n",
              "    .colab-df-convert {\n",
              "      background-color: #E8F0FE;\n",
              "      border: none;\n",
              "      border-radius: 50%;\n",
              "      cursor: pointer;\n",
              "      display: none;\n",
              "      fill: #1967D2;\n",
              "      height: 32px;\n",
              "      padding: 0 0 0 0;\n",
              "      width: 32px;\n",
              "    }\n",
              "\n",
              "    .colab-df-convert:hover {\n",
              "      background-color: #E2EBFA;\n",
              "      box-shadow: 0px 1px 2px rgba(60, 64, 67, 0.3), 0px 1px 3px 1px rgba(60, 64, 67, 0.15);\n",
              "      fill: #174EA6;\n",
              "    }\n",
              "\n",
              "    [theme=dark] .colab-df-convert {\n",
              "      background-color: #3B4455;\n",
              "      fill: #D2E3FC;\n",
              "    }\n",
              "\n",
              "    [theme=dark] .colab-df-convert:hover {\n",
              "      background-color: #434B5C;\n",
              "      box-shadow: 0px 1px 3px 1px rgba(0, 0, 0, 0.15);\n",
              "      filter: drop-shadow(0px 1px 2px rgba(0, 0, 0, 0.3));\n",
              "      fill: #FFFFFF;\n",
              "    }\n",
              "  </style>\n",
              "\n",
              "      <script>\n",
              "        const buttonEl =\n",
              "          document.querySelector('#df-a85930f3-4c91-4904-95e7-b5e68325dac1 button.colab-df-convert');\n",
              "        buttonEl.style.display =\n",
              "          google.colab.kernel.accessAllowed ? 'block' : 'none';\n",
              "\n",
              "        async function convertToInteractive(key) {\n",
              "          const element = document.querySelector('#df-a85930f3-4c91-4904-95e7-b5e68325dac1');\n",
              "          const dataTable =\n",
              "            await google.colab.kernel.invokeFunction('convertToInteractive',\n",
              "                                                     [key], {});\n",
              "          if (!dataTable) return;\n",
              "\n",
              "          const docLinkHtml = 'Like what you see? Visit the ' +\n",
              "            '<a target=\"_blank\" href=https://colab.research.google.com/notebooks/data_table.ipynb>data table notebook</a>'\n",
              "            + ' to learn more about interactive tables.';\n",
              "          element.innerHTML = '';\n",
              "          dataTable['output_type'] = 'display_data';\n",
              "          await google.colab.output.renderOutput(dataTable, element);\n",
              "          const docLink = document.createElement('div');\n",
              "          docLink.innerHTML = docLinkHtml;\n",
              "          element.appendChild(docLink);\n",
              "        }\n",
              "      </script>\n",
              "    </div>\n",
              "  </div>\n",
              "  "
            ]
          },
          "metadata": {},
          "execution_count": 144
        }
      ]
    },
    {
      "cell_type": "markdown",
      "source": [
        "* Target Encoding could be good choice for binary classification but for regression it is not, because it ignores intra-category variation of the target variable. This is addressed in Bayesian Target Encoding.\n",
        "\n",
        "* Target encoding has a tendency to overfit due to the target leakage.\n",
        "\n",
        "* Another problem is that some of the categories have few training examples, and the mean target value for these categories may assume extreme values, so encoding these values with mean may reduce the model performance.\n",
        "\n",
        "\n",
        "These issues are addressed in Bayesian Target Encoding. Which you can read from this informational blog Target Encoding and Bayesian Target Encoding"
      ],
      "metadata": {
        "id": "Tj1JEAEYT1z4"
      }
    },
    {
      "cell_type": "markdown",
      "source": [
        "### **3.1.3 Deep Learning Methods**\n",
        "Another supervised approach comes from the deep learning literature on the analysis of textual data. In this case, large amounts of text can be cut up into individual words. Rather than making each of these words into its own indicator variable, word embedding or entity embedding approaches have been developed. Similar to the dimension reduction methods, the idea is to estimate a smaller set of numeric features that can be used to adequately represent the categorical predictors.\n",
        "\n",
        "In addition to the dimension reduction, there is the possibility that these methods can estimate semantic relationships between words so that words with similar themes (e.g., “dog”, “pet”, etc.) have similar values in the new encodings. This technique is not limited to text data and can be used to encode any type of qualitative variable.\n",
        "\n",
        "The idea is well very simple do not extract features manually use neural network to do the hard part and just wait for the results."
      ],
      "metadata": {
        "id": "Lnwnfn6ST-gp"
      }
    }
  ]
}
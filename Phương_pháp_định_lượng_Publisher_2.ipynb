{
  "nbformat": 4,
  "nbformat_minor": 0,
  "metadata": {
    "colab": {
      "name": "Phương pháp định lượng Publisher",
      "provenance": [],
      "authorship_tag": "ABX9TyNiy7vC48oFPzcDmPpJWRiU",
      "include_colab_link": true
    },
    "kernelspec": {
      "name": "python3",
      "display_name": "Python 3"
    },
    "language_info": {
      "name": "python"
    }
  },
  "cells": [
    {
      "cell_type": "markdown",
      "metadata": {
        "id": "view-in-github",
        "colab_type": "text"
      },
      "source": [
        "<a href=\"https://colab.research.google.com/github/TomPhanAnh/Kaggle-Solution/blob/main/Ph%C6%B0%C6%A1ng_ph%C3%A1p_%C4%91%E1%BB%8Bnh_l%C6%B0%E1%BB%A3ng_Publisher_2.ipynb\" target=\"_parent\"><img src=\"https://colab.research.google.com/assets/colab-badge.svg\" alt=\"Open In Colab\"/></a>"
      ]
    },
    {
      "cell_type": "markdown",
      "source": [
        "### **Tiếp tục**"
      ],
      "metadata": {
        "id": "Q-nd8UjJ4HOH"
      }
    },
    {
      "cell_type": "code",
      "execution_count": null,
      "metadata": {
        "id": "-ifHp7HL0tUS"
      },
      "outputs": [],
      "source": [
        "import pandas as pd\n",
        "import numpy as np\n",
        "import matplotlib.pyplot as plt\n",
        "import matplotlib"
      ]
    },
    {
      "cell_type": "code",
      "source": [
        "from sklearn.feature_extraction.text import TfidfVectorizer"
      ],
      "metadata": {
        "id": "g1-jzC5f2MaR"
      },
      "execution_count": null,
      "outputs": []
    },
    {
      "cell_type": "code",
      "source": [
        "data = pd.read_csv(\"data.csv\")\n",
        "data.drop(['Unnamed: 13', 'Unnamed: 14', 'Unnamed: 15',\n",
        "       'Unnamed: 16', 'Unnamed: 17', 'Unnamed: 18', 'Unnamed: 19',\n",
        "       'Unnamed: 20'], axis = 1, inplace = True)\n",
        "data.dropna(subset = {\"Comment Content\"},axis = 0, inplace = True)\n",
        "data.head()"
      ],
      "metadata": {
        "colab": {
          "base_uri": "https://localhost:8080/",
          "height": 355
        },
        "id": "nn7UEAkT2T3b",
        "outputId": "b9313f6a-9fc5-4ebe-94ce-8caefd39f154"
      },
      "execution_count": null,
      "outputs": [
        {
          "output_type": "execute_result",
          "data": {
            "text/plain": [
              "                                Page  \\\n",
              "0             Tâm sự Affiliate - MMO   \n",
              "1             Tâm sự Affiliate - MMO   \n",
              "2             Tâm sự Affiliate - MMO   \n",
              "3  Cộng đồng Publisher & KOL Ecomobi   \n",
              "4  Cộng đồng Publisher & KOL Ecomobi   \n",
              "\n",
              "                                             Header        Date Title  \\\n",
              "0  CHIA SẺ CÓ TÂM CASE STUDY KIẾM 5-10 USD/NGÀY T...        NaN     1   \n",
              "1  TƯ DUY SỬ DỤNG GOOGLE ADS ĐỂ CHẠY AFFILIATE - ...        NaN     1   \n",
              "2  MỌI THỨ CẦN BIẾT VỀ CHẠY BẨN FACEBOOK ADS\\nNhâ...        NaN     1   \n",
              "3  CÁCH ĐỂ XÂY DỰNG MỘT KÊNH TIKTOK REVIEW THÀNH ...        NaN     1   \n",
              "4  Kiếm Hơn 100 triệu)/1 tháng \\nBằng traffic aff...  30/6/2022     1   \n",
              "\n",
              "       Type Publisher    Like  Comment Issue Solve Case CaseBelong NumofWord  \\\n",
              "0  Teaching      Rich  2200.0    476.0   NaN        NaN        NaN      8496   \n",
              "1  Teaching      Rich   527.0     84.0   NaN        NaN        NaN      5518   \n",
              "2  Teaching      Rich   514.0     85.0   NaN        NaN        NaN      5511   \n",
              "3  Teaching      Rich   332.0     87.0   NaN        NaN        NaN      7634   \n",
              "4  Teaching      Rich   325.0     85.0   NaN        NaN        NaN      1857   \n",
              "\n",
              "                                     Comment Content  \n",
              "0  Hưng Vũ\\nNgười kiểm duyệt\\n\\nBài này nói về GA...  \n",
              "1  Nguyễn Anh Tín\\nTác giả\\nQuản trị viên\\nĐăng 3...  \n",
              "2  Thanh Ngân\\nbài viết tuyệt vời\\nPhản hồi1 tuần...  \n",
              "3  Trang Biển\\nQuản trị viên\\n\\n3 ngày 5 trịu 😱😱?...  \n",
              "4  Ecomobi Social Selling Platform\\nQuản trị viên...  "
            ],
            "text/html": [
              "\n",
              "  <div id=\"df-d8572182-ddb1-42d5-951c-db561534aec7\">\n",
              "    <div class=\"colab-df-container\">\n",
              "      <div>\n",
              "<style scoped>\n",
              "    .dataframe tbody tr th:only-of-type {\n",
              "        vertical-align: middle;\n",
              "    }\n",
              "\n",
              "    .dataframe tbody tr th {\n",
              "        vertical-align: top;\n",
              "    }\n",
              "\n",
              "    .dataframe thead th {\n",
              "        text-align: right;\n",
              "    }\n",
              "</style>\n",
              "<table border=\"1\" class=\"dataframe\">\n",
              "  <thead>\n",
              "    <tr style=\"text-align: right;\">\n",
              "      <th></th>\n",
              "      <th>Page</th>\n",
              "      <th>Header</th>\n",
              "      <th>Date</th>\n",
              "      <th>Title</th>\n",
              "      <th>Type</th>\n",
              "      <th>Publisher</th>\n",
              "      <th>Like</th>\n",
              "      <th>Comment</th>\n",
              "      <th>Issue</th>\n",
              "      <th>Solve Case</th>\n",
              "      <th>CaseBelong</th>\n",
              "      <th>NumofWord</th>\n",
              "      <th>Comment Content</th>\n",
              "    </tr>\n",
              "  </thead>\n",
              "  <tbody>\n",
              "    <tr>\n",
              "      <th>0</th>\n",
              "      <td>Tâm sự Affiliate - MMO</td>\n",
              "      <td>CHIA SẺ CÓ TÂM CASE STUDY KIẾM 5-10 USD/NGÀY T...</td>\n",
              "      <td>NaN</td>\n",
              "      <td>1</td>\n",
              "      <td>Teaching</td>\n",
              "      <td>Rich</td>\n",
              "      <td>2200.0</td>\n",
              "      <td>476.0</td>\n",
              "      <td>NaN</td>\n",
              "      <td>NaN</td>\n",
              "      <td>NaN</td>\n",
              "      <td>8496</td>\n",
              "      <td>Hưng Vũ\\nNgười kiểm duyệt\\n\\nBài này nói về GA...</td>\n",
              "    </tr>\n",
              "    <tr>\n",
              "      <th>1</th>\n",
              "      <td>Tâm sự Affiliate - MMO</td>\n",
              "      <td>TƯ DUY SỬ DỤNG GOOGLE ADS ĐỂ CHẠY AFFILIATE - ...</td>\n",
              "      <td>NaN</td>\n",
              "      <td>1</td>\n",
              "      <td>Teaching</td>\n",
              "      <td>Rich</td>\n",
              "      <td>527.0</td>\n",
              "      <td>84.0</td>\n",
              "      <td>NaN</td>\n",
              "      <td>NaN</td>\n",
              "      <td>NaN</td>\n",
              "      <td>5518</td>\n",
              "      <td>Nguyễn Anh Tín\\nTác giả\\nQuản trị viên\\nĐăng 3...</td>\n",
              "    </tr>\n",
              "    <tr>\n",
              "      <th>2</th>\n",
              "      <td>Tâm sự Affiliate - MMO</td>\n",
              "      <td>MỌI THỨ CẦN BIẾT VỀ CHẠY BẨN FACEBOOK ADS\\nNhâ...</td>\n",
              "      <td>NaN</td>\n",
              "      <td>1</td>\n",
              "      <td>Teaching</td>\n",
              "      <td>Rich</td>\n",
              "      <td>514.0</td>\n",
              "      <td>85.0</td>\n",
              "      <td>NaN</td>\n",
              "      <td>NaN</td>\n",
              "      <td>NaN</td>\n",
              "      <td>5511</td>\n",
              "      <td>Thanh Ngân\\nbài viết tuyệt vời\\nPhản hồi1 tuần...</td>\n",
              "    </tr>\n",
              "    <tr>\n",
              "      <th>3</th>\n",
              "      <td>Cộng đồng Publisher &amp; KOL Ecomobi</td>\n",
              "      <td>CÁCH ĐỂ XÂY DỰNG MỘT KÊNH TIKTOK REVIEW THÀNH ...</td>\n",
              "      <td>NaN</td>\n",
              "      <td>1</td>\n",
              "      <td>Teaching</td>\n",
              "      <td>Rich</td>\n",
              "      <td>332.0</td>\n",
              "      <td>87.0</td>\n",
              "      <td>NaN</td>\n",
              "      <td>NaN</td>\n",
              "      <td>NaN</td>\n",
              "      <td>7634</td>\n",
              "      <td>Trang Biển\\nQuản trị viên\\n\\n3 ngày 5 trịu 😱😱?...</td>\n",
              "    </tr>\n",
              "    <tr>\n",
              "      <th>4</th>\n",
              "      <td>Cộng đồng Publisher &amp; KOL Ecomobi</td>\n",
              "      <td>Kiếm Hơn 100 triệu)/1 tháng \\nBằng traffic aff...</td>\n",
              "      <td>30/6/2022</td>\n",
              "      <td>1</td>\n",
              "      <td>Teaching</td>\n",
              "      <td>Rich</td>\n",
              "      <td>325.0</td>\n",
              "      <td>85.0</td>\n",
              "      <td>NaN</td>\n",
              "      <td>NaN</td>\n",
              "      <td>NaN</td>\n",
              "      <td>1857</td>\n",
              "      <td>Ecomobi Social Selling Platform\\nQuản trị viên...</td>\n",
              "    </tr>\n",
              "  </tbody>\n",
              "</table>\n",
              "</div>\n",
              "      <button class=\"colab-df-convert\" onclick=\"convertToInteractive('df-d8572182-ddb1-42d5-951c-db561534aec7')\"\n",
              "              title=\"Convert this dataframe to an interactive table.\"\n",
              "              style=\"display:none;\">\n",
              "        \n",
              "  <svg xmlns=\"http://www.w3.org/2000/svg\" height=\"24px\"viewBox=\"0 0 24 24\"\n",
              "       width=\"24px\">\n",
              "    <path d=\"M0 0h24v24H0V0z\" fill=\"none\"/>\n",
              "    <path d=\"M18.56 5.44l.94 2.06.94-2.06 2.06-.94-2.06-.94-.94-2.06-.94 2.06-2.06.94zm-11 1L8.5 8.5l.94-2.06 2.06-.94-2.06-.94L8.5 2.5l-.94 2.06-2.06.94zm10 10l.94 2.06.94-2.06 2.06-.94-2.06-.94-.94-2.06-.94 2.06-2.06.94z\"/><path d=\"M17.41 7.96l-1.37-1.37c-.4-.4-.92-.59-1.43-.59-.52 0-1.04.2-1.43.59L10.3 9.45l-7.72 7.72c-.78.78-.78 2.05 0 2.83L4 21.41c.39.39.9.59 1.41.59.51 0 1.02-.2 1.41-.59l7.78-7.78 2.81-2.81c.8-.78.8-2.07 0-2.86zM5.41 20L4 18.59l7.72-7.72 1.47 1.35L5.41 20z\"/>\n",
              "  </svg>\n",
              "      </button>\n",
              "      \n",
              "  <style>\n",
              "    .colab-df-container {\n",
              "      display:flex;\n",
              "      flex-wrap:wrap;\n",
              "      gap: 12px;\n",
              "    }\n",
              "\n",
              "    .colab-df-convert {\n",
              "      background-color: #E8F0FE;\n",
              "      border: none;\n",
              "      border-radius: 50%;\n",
              "      cursor: pointer;\n",
              "      display: none;\n",
              "      fill: #1967D2;\n",
              "      height: 32px;\n",
              "      padding: 0 0 0 0;\n",
              "      width: 32px;\n",
              "    }\n",
              "\n",
              "    .colab-df-convert:hover {\n",
              "      background-color: #E2EBFA;\n",
              "      box-shadow: 0px 1px 2px rgba(60, 64, 67, 0.3), 0px 1px 3px 1px rgba(60, 64, 67, 0.15);\n",
              "      fill: #174EA6;\n",
              "    }\n",
              "\n",
              "    [theme=dark] .colab-df-convert {\n",
              "      background-color: #3B4455;\n",
              "      fill: #D2E3FC;\n",
              "    }\n",
              "\n",
              "    [theme=dark] .colab-df-convert:hover {\n",
              "      background-color: #434B5C;\n",
              "      box-shadow: 0px 1px 3px 1px rgba(0, 0, 0, 0.15);\n",
              "      filter: drop-shadow(0px 1px 2px rgba(0, 0, 0, 0.3));\n",
              "      fill: #FFFFFF;\n",
              "    }\n",
              "  </style>\n",
              "\n",
              "      <script>\n",
              "        const buttonEl =\n",
              "          document.querySelector('#df-d8572182-ddb1-42d5-951c-db561534aec7 button.colab-df-convert');\n",
              "        buttonEl.style.display =\n",
              "          google.colab.kernel.accessAllowed ? 'block' : 'none';\n",
              "\n",
              "        async function convertToInteractive(key) {\n",
              "          const element = document.querySelector('#df-d8572182-ddb1-42d5-951c-db561534aec7');\n",
              "          const dataTable =\n",
              "            await google.colab.kernel.invokeFunction('convertToInteractive',\n",
              "                                                     [key], {});\n",
              "          if (!dataTable) return;\n",
              "\n",
              "          const docLinkHtml = 'Like what you see? Visit the ' +\n",
              "            '<a target=\"_blank\" href=https://colab.research.google.com/notebooks/data_table.ipynb>data table notebook</a>'\n",
              "            + ' to learn more about interactive tables.';\n",
              "          element.innerHTML = '';\n",
              "          dataTable['output_type'] = 'display_data';\n",
              "          await google.colab.output.renderOutput(dataTable, element);\n",
              "          const docLink = document.createElement('div');\n",
              "          docLink.innerHTML = docLinkHtml;\n",
              "          element.appendChild(docLink);\n",
              "        }\n",
              "      </script>\n",
              "    </div>\n",
              "  </div>\n",
              "  "
            ]
          },
          "metadata": {},
          "execution_count": 120
        }
      ]
    },
    {
      "cell_type": "markdown",
      "source": [
        "# **Tổng quan phương pháp**"
      ],
      "metadata": {
        "id": "W5nWXgL53NVf"
      }
    },
    {
      "cell_type": "markdown",
      "source": [
        "## **Mục đích thực hiện:**\n",
        "\n",
        "Phương pháp định tính giúp trả lời/phân tích/bổ sung dẫn chứng cho việc tìm hiểu sâu hơn về **sở thích/điều quan tâm & khó khăn/nỗi sợ của Publisher*** tại ***các nền tảng AM khác ngoài HyperLead.***\n",
        "\n",
        "Việc nghiên cứu trên ***hỗ trợ đưa ra các giải pháp thu hút nguồn Publisher từ các trang/ nền tảng AM khác.***\n",
        "\n",
        "Tuy nhiên, thời điểm hiện tại, bài phân tích ***chỉ đưa ra các phát hiện (Descriptive Approach)*** chứ chưa đề xuất các kề hoạch cần thực hiện (Predescriptive Approach\n",
        "## **Nguồn dữ liệu:**\n",
        "Nguồn dữ liệu được lấy trực tiếp từ **2 trang FanPage lớn nhất (Về lượng tương tác) tại Việt Nam liên quan đến lĩnh vực Affiliate Marketing** có tổng lượng thành viên là 81.4K.\n",
        "\n",
        "Thời gian thu thập dữ liệu là **từ 1/6/2022 đến 7/7/2022**\n",
        "\n",
        "Tổng số dữ liệu là **115 hàng và 21 cột**\n",
        "### **Lý do chọn dữ liệu:**\n",
        "Nhằm đề phòng các vấn đề trong quá trình thu thập thông tin từ Publisher thông qua bảng hỏi/phỏng vấn trực tiếp (đã bàn luận từ trước), nhóm quyết định thu thập dữ liệu từ các trang FanPage vì ***đây là nơi các Publisher bày tỏ/nêu ý kiến/vấn đề/thành tựu của mình một cách công khai và rõ ràng nhất cũng như ít sự đề phòng (so sánh với phương pháp cũ)***\n",
        "\n",
        "Vì vậy, ***bài phân tích có khả năng cho kết quả khả quan và công bằng hơn.***\n",
        "### **Link:** https://drive.google.com/file/d/1Znf5eLtP5eXbHZl4rqm-5P4MyoqWQOtn/view?usp=sharing\n",
        "\n",
        "# **Mô tả dữ liệu:**\n",
        "- **Page:** Tên trang\n",
        "- **Header:** Nội dung bài viết\n",
        "- **Date:** Thời gian bài viết được đăng tải\n",
        "- **Title:** Bài viết có ***tiêu đề (1) hay không (0)***\n",
        "- **Type:** Thể loại bài viết gồm ***Teaching- Chia sẻ kiến thức, Sharing-Chia sẻ thành tựu, Info - Thông tin chiến dịch, Asking - Hỏi đáp***\n",
        "- **Like**: Số lượt quan tâm mỗi bài\n",
        "- **Issue:** Vấn đề các Publisher thường gặp (Nêu lên trong bài Post)\n",
        "- **SolveCase**: bài viết được ***phản hồi (1) hay không***\n",
        "- **CaseBelong:** Vấn đề này thuộc về bên nào ***(Publisher, Advertiser, Network, User)***\n",
        "- **Comment:** Số lượt tương tác mỗi bài\n",
        "- **Comment Content**: Tổng hợp các bình luận\n",
        "\n",
        "# **Phương pháp phân tích:**\n",
        "## **Exploratory Data Analysis (EDA)**: là một phương pháp phân tích dữ liệu ***chủ yếu sử dụng các kỹ thuật về biểu đồ, hình vẽ.***\n",
        "\n",
        "Khác với statistical graphics, EDA không chỉ tập trung vào một phương diện đặc trưng nào của dữ liệu mà trực tiếp làm dữ liệu tự khám phá ra cấu trúc của nó, đồng thời giúp chúng ta có cơ sở để chọn mô hình trong các bước tiếp theo.\n",
        "\n",
        "Những kỹ thuật biểu đồ được sử dụng trong ***EDA thường khá đơn giản, bao gồm một vài kỹ thuật sau:***\n",
        "- Vẽ dữ liệu nguyên bản sử dụng data traces, histograms, block plots, ...\n",
        "- Vẽ phân bố của dữ liệu nguyên bản sử dụng mean plots, standard deviation plots, box plots, ...\n",
        "- Sắp xếp các biểu đồ giúp tối đa hoá khả năng tự nhiên về nhận biết mô hình của con người.\n",
        "\n",
        "## **TF-IDF: inverse document frequency,** \n",
        "là ***trọng số của một từ trong văn bản thu được qua thống kê thể hiện mức độ quan trọng của từ này trong một văn bản***, mà bản thân văn bản đang xét nằm trong một tập hợp các văn bản."
      ],
      "metadata": {
        "id": "zW2FIYpLmvyR"
      }
    },
    {
      "cell_type": "code",
      "source": [
        "import seaborn as sns\n",
        "plt.figure(figsize = (20,8))\n",
        "\n",
        "plt.subplot(1,2,1)\n",
        "plt.title(\"Số lượng Like của trang Cộng đồng Publisher & KOL Ecomobi\")\n",
        "sns.boxplot(data[data[\"Page\"] ==\"Cộng đồng Publisher & KOL Ecomobi\"][\"Like\"].values)\n",
        "\n",
        "plt.subplot(1,2,2)\n",
        "plt.title(\"Số lượng Comment của trang Cộng đồng Publisher & KOL Ecomobi\")\n",
        "sns.boxplot(data[data[\"Page\"] ==\"Cộng đồng Publisher & KOL Ecomobi\"][\"Comment\"].values)\n"
      ],
      "metadata": {
        "colab": {
          "base_uri": "https://localhost:8080/",
          "height": 609
        },
        "id": "PCz0ZvdURFu7",
        "outputId": "0e292359-9593-4355-f824-5f99cb37c104"
      },
      "execution_count": null,
      "outputs": [
        {
          "output_type": "stream",
          "name": "stderr",
          "text": [
            "/usr/local/lib/python3.7/dist-packages/seaborn/_decorators.py:43: FutureWarning: Pass the following variable as a keyword arg: x. From version 0.12, the only valid positional argument will be `data`, and passing other arguments without an explicit keyword will result in an error or misinterpretation.\n",
            "  FutureWarning\n",
            "/usr/local/lib/python3.7/dist-packages/seaborn/_decorators.py:43: FutureWarning: Pass the following variable as a keyword arg: x. From version 0.12, the only valid positional argument will be `data`, and passing other arguments without an explicit keyword will result in an error or misinterpretation.\n",
            "  FutureWarning\n"
          ]
        },
        {
          "output_type": "execute_result",
          "data": {
            "text/plain": [
              "<matplotlib.axes._subplots.AxesSubplot at 0x7f03e4aff950>"
            ]
          },
          "metadata": {},
          "execution_count": 99
        },
        {
          "output_type": "display_data",
          "data": {
            "text/plain": [
              "<Figure size 1440x576 with 2 Axes>"
            ],
            "image/png": "[encoded data removed]"
          },
          "metadata": {}
        }
      ]
    },
    {
      "cell_type": "markdown",
      "source": [
        "## **Nhận xét:**\n",
        "\n",
        "Dựa trên biểu đồ boxplot, ta thấy được rằng tồn tại một số bài viết có lượt like và comment vượt trội hơn so với mức độ thông thường. \n",
        "\n",
        "***Các bài viết được quan tâm đặc biệt đó lần lượt là:***"
      ],
      "metadata": {
        "id": "ImkjayiQRXkP"
      }
    },
    {
      "cell_type": "code",
      "source": [
        "data_PE = data.loc[(data[\"Page\"] == \"Cộng đồng Publisher & KOL Ecomobi\") &\n",
        "         (data[\"Like\"] > 150)|\n",
        "         (data[\"Comment\"] > 60)]\n",
        "round(sum(data_PE[\"Comment\"])/sum(data[\"Comment\"].dropna())*100,2)\n"
      ],
      "metadata": {
        "colab": {
          "base_uri": "https://localhost:8080/"
        },
        "id": "bxhNGGr3TzuO",
        "outputId": "ab971807-d588-4ec8-a640-de0a13847ea4"
      },
      "execution_count": null,
      "outputs": [
        {
          "output_type": "execute_result",
          "data": {
            "text/plain": [
              "70.52"
            ]
          },
          "metadata": {},
          "execution_count": 100
        }
      ]
    },
    {
      "cell_type": "code",
      "source": [
        "data_PE.head()"
      ],
      "metadata": {
        "colab": {
          "base_uri": "https://localhost:8080/",
          "height": 355
        },
        "id": "P4ftg4__U8oV",
        "outputId": "a46c88c7-14e0-4529-9aa9-4d4932b9ef7d"
      },
      "execution_count": null,
      "outputs": [
        {
          "output_type": "execute_result",
          "data": {
            "text/plain": [
              "                                Page  \\\n",
              "0             Tâm sự Affiliate - MMO   \n",
              "1             Tâm sự Affiliate - MMO   \n",
              "2             Tâm sự Affiliate - MMO   \n",
              "3  Cộng đồng Publisher & KOL Ecomobi   \n",
              "4  Cộng đồng Publisher & KOL Ecomobi   \n",
              "\n",
              "                                             Header        Date Title  \\\n",
              "0  CHIA SẺ CÓ TÂM CASE STUDY KIẾM 5-10 USD/NGÀY T...        NaN     1   \n",
              "1  TƯ DUY SỬ DỤNG GOOGLE ADS ĐỂ CHẠY AFFILIATE - ...        NaN     1   \n",
              "2  MỌI THỨ CẦN BIẾT VỀ CHẠY BẨN FACEBOOK ADS\\nNhâ...        NaN     1   \n",
              "3  CÁCH ĐỂ XÂY DỰNG MỘT KÊNH TIKTOK REVIEW THÀNH ...        NaN     1   \n",
              "4  Kiếm Hơn 100 triệu)/1 tháng \\nBằng traffic aff...  30/6/2022     1   \n",
              "\n",
              "       Type Publisher    Like  Comment Issue Solve Case CaseBelong NumofWord  \\\n",
              "0  Teaching      Rich  2200.0    476.0   NaN        NaN        NaN      8496   \n",
              "1  Teaching      Rich   527.0     84.0   NaN        NaN        NaN      5518   \n",
              "2  Teaching      Rich   514.0     85.0   NaN        NaN        NaN      5511   \n",
              "3  Teaching      Rich   332.0     87.0   NaN        NaN        NaN      7634   \n",
              "4  Teaching      Rich   325.0     85.0   NaN        NaN        NaN      1857   \n",
              "\n",
              "                                     Comment Content  \n",
              "0  Hưng Vũ\\nNgười kiểm duyệt\\n\\nBài này nói về GA...  \n",
              "1  Nguyễn Anh Tín\\nTác giả\\nQuản trị viên\\nĐăng 3...  \n",
              "2  Thanh Ngân\\nbài viết tuyệt vời\\nPhản hồi1 tuần...  \n",
              "3  Trang Biển\\nQuản trị viên\\n\\n3 ngày 5 trịu 😱😱?...  \n",
              "4  Ecomobi Social Selling Platform\\nQuản trị viên...  "
            ],
            "text/html": [
              "\n",
              "  <div id=\"df-af095a32-38af-4709-86b5-5074abdb80d5\">\n",
              "    <div class=\"colab-df-container\">\n",
              "      <div>\n",
              "<style scoped>\n",
              "    .dataframe tbody tr th:only-of-type {\n",
              "        vertical-align: middle;\n",
              "    }\n",
              "\n",
              "    .dataframe tbody tr th {\n",
              "        vertical-align: top;\n",
              "    }\n",
              "\n",
              "    .dataframe thead th {\n",
              "        text-align: right;\n",
              "    }\n",
              "</style>\n",
              "<table border=\"1\" class=\"dataframe\">\n",
              "  <thead>\n",
              "    <tr style=\"text-align: right;\">\n",
              "      <th></th>\n",
              "      <th>Page</th>\n",
              "      <th>Header</th>\n",
              "      <th>Date</th>\n",
              "      <th>Title</th>\n",
              "      <th>Type</th>\n",
              "      <th>Publisher</th>\n",
              "      <th>Like</th>\n",
              "      <th>Comment</th>\n",
              "      <th>Issue</th>\n",
              "      <th>Solve Case</th>\n",
              "      <th>CaseBelong</th>\n",
              "      <th>NumofWord</th>\n",
              "      <th>Comment Content</th>\n",
              "    </tr>\n",
              "  </thead>\n",
              "  <tbody>\n",
              "    <tr>\n",
              "      <th>0</th>\n",
              "      <td>Tâm sự Affiliate - MMO</td>\n",
              "      <td>CHIA SẺ CÓ TÂM CASE STUDY KIẾM 5-10 USD/NGÀY T...</td>\n",
              "      <td>NaN</td>\n",
              "      <td>1</td>\n",
              "      <td>Teaching</td>\n",
              "      <td>Rich</td>\n",
              "      <td>2200.0</td>\n",
              "      <td>476.0</td>\n",
              "      <td>NaN</td>\n",
              "      <td>NaN</td>\n",
              "      <td>NaN</td>\n",
              "      <td>8496</td>\n",
              "      <td>Hưng Vũ\\nNgười kiểm duyệt\\n\\nBài này nói về GA...</td>\n",
              "    </tr>\n",
              "    <tr>\n",
              "      <th>1</th>\n",
              "      <td>Tâm sự Affiliate - MMO</td>\n",
              "      <td>TƯ DUY SỬ DỤNG GOOGLE ADS ĐỂ CHẠY AFFILIATE - ...</td>\n",
              "      <td>NaN</td>\n",
              "      <td>1</td>\n",
              "      <td>Teaching</td>\n",
              "      <td>Rich</td>\n",
              "      <td>527.0</td>\n",
              "      <td>84.0</td>\n",
              "      <td>NaN</td>\n",
              "      <td>NaN</td>\n",
              "      <td>NaN</td>\n",
              "      <td>5518</td>\n",
              "      <td>Nguyễn Anh Tín\\nTác giả\\nQuản trị viên\\nĐăng 3...</td>\n",
              "    </tr>\n",
              "    <tr>\n",
              "      <th>2</th>\n",
              "      <td>Tâm sự Affiliate - MMO</td>\n",
              "      <td>MỌI THỨ CẦN BIẾT VỀ CHẠY BẨN FACEBOOK ADS\\nNhâ...</td>\n",
              "      <td>NaN</td>\n",
              "      <td>1</td>\n",
              "      <td>Teaching</td>\n",
              "      <td>Rich</td>\n",
              "      <td>514.0</td>\n",
              "      <td>85.0</td>\n",
              "      <td>NaN</td>\n",
              "      <td>NaN</td>\n",
              "      <td>NaN</td>\n",
              "      <td>5511</td>\n",
              "      <td>Thanh Ngân\\nbài viết tuyệt vời\\nPhản hồi1 tuần...</td>\n",
              "    </tr>\n",
              "    <tr>\n",
              "      <th>3</th>\n",
              "      <td>Cộng đồng Publisher &amp; KOL Ecomobi</td>\n",
              "      <td>CÁCH ĐỂ XÂY DỰNG MỘT KÊNH TIKTOK REVIEW THÀNH ...</td>\n",
              "      <td>NaN</td>\n",
              "      <td>1</td>\n",
              "      <td>Teaching</td>\n",
              "      <td>Rich</td>\n",
              "      <td>332.0</td>\n",
              "      <td>87.0</td>\n",
              "      <td>NaN</td>\n",
              "      <td>NaN</td>\n",
              "      <td>NaN</td>\n",
              "      <td>7634</td>\n",
              "      <td>Trang Biển\\nQuản trị viên\\n\\n3 ngày 5 trịu 😱😱?...</td>\n",
              "    </tr>\n",
              "    <tr>\n",
              "      <th>4</th>\n",
              "      <td>Cộng đồng Publisher &amp; KOL Ecomobi</td>\n",
              "      <td>Kiếm Hơn 100 triệu)/1 tháng \\nBằng traffic aff...</td>\n",
              "      <td>30/6/2022</td>\n",
              "      <td>1</td>\n",
              "      <td>Teaching</td>\n",
              "      <td>Rich</td>\n",
              "      <td>325.0</td>\n",
              "      <td>85.0</td>\n",
              "      <td>NaN</td>\n",
              "      <td>NaN</td>\n",
              "      <td>NaN</td>\n",
              "      <td>1857</td>\n",
              "      <td>Ecomobi Social Selling Platform\\nQuản trị viên...</td>\n",
              "    </tr>\n",
              "  </tbody>\n",
              "</table>\n",
              "</div>\n",
              "      <button class=\"colab-df-convert\" onclick=\"convertToInteractive('df-af095a32-38af-4709-86b5-5074abdb80d5')\"\n",
              "              title=\"Convert this dataframe to an interactive table.\"\n",
              "              style=\"display:none;\">\n",
              "        \n",
              "  <svg xmlns=\"http://www.w3.org/2000/svg\" height=\"24px\"viewBox=\"0 0 24 24\"\n",
              "       width=\"24px\">\n",
              "    <path d=\"M0 0h24v24H0V0z\" fill=\"none\"/>\n",
              "    <path d=\"M18.56 5.44l.94 2.06.94-2.06 2.06-.94-2.06-.94-.94-2.06-.94 2.06-2.06.94zm-11 1L8.5 8.5l.94-2.06 2.06-.94-2.06-.94L8.5 2.5l-.94 2.06-2.06.94zm10 10l.94 2.06.94-2.06 2.06-.94-2.06-.94-.94-2.06-.94 2.06-2.06.94z\"/><path d=\"M17.41 7.96l-1.37-1.37c-.4-.4-.92-.59-1.43-.59-.52 0-1.04.2-1.43.59L10.3 9.45l-7.72 7.72c-.78.78-.78 2.05 0 2.83L4 21.41c.39.39.9.59 1.41.59.51 0 1.02-.2 1.41-.59l7.78-7.78 2.81-2.81c.8-.78.8-2.07 0-2.86zM5.41 20L4 18.59l7.72-7.72 1.47 1.35L5.41 20z\"/>\n",
              "  </svg>\n",
              "      </button>\n",
              "      \n",
              "  <style>\n",
              "    .colab-df-container {\n",
              "      display:flex;\n",
              "      flex-wrap:wrap;\n",
              "      gap: 12px;\n",
              "    }\n",
              "\n",
              "    .colab-df-convert {\n",
              "      background-color: #E8F0FE;\n",
              "      border: none;\n",
              "      border-radius: 50%;\n",
              "      cursor: pointer;\n",
              "      display: none;\n",
              "      fill: #1967D2;\n",
              "      height: 32px;\n",
              "      padding: 0 0 0 0;\n",
              "      width: 32px;\n",
              "    }\n",
              "\n",
              "    .colab-df-convert:hover {\n",
              "      background-color: #E2EBFA;\n",
              "      box-shadow: 0px 1px 2px rgba(60, 64, 67, 0.3), 0px 1px 3px 1px rgba(60, 64, 67, 0.15);\n",
              "      fill: #174EA6;\n",
              "    }\n",
              "\n",
              "    [theme=dark] .colab-df-convert {\n",
              "      background-color: #3B4455;\n",
              "      fill: #D2E3FC;\n",
              "    }\n",
              "\n",
              "    [theme=dark] .colab-df-convert:hover {\n",
              "      background-color: #434B5C;\n",
              "      box-shadow: 0px 1px 3px 1px rgba(0, 0, 0, 0.15);\n",
              "      filter: drop-shadow(0px 1px 2px rgba(0, 0, 0, 0.3));\n",
              "      fill: #FFFFFF;\n",
              "    }\n",
              "  </style>\n",
              "\n",
              "      <script>\n",
              "        const buttonEl =\n",
              "          document.querySelector('#df-af095a32-38af-4709-86b5-5074abdb80d5 button.colab-df-convert');\n",
              "        buttonEl.style.display =\n",
              "          google.colab.kernel.accessAllowed ? 'block' : 'none';\n",
              "\n",
              "        async function convertToInteractive(key) {\n",
              "          const element = document.querySelector('#df-af095a32-38af-4709-86b5-5074abdb80d5');\n",
              "          const dataTable =\n",
              "            await google.colab.kernel.invokeFunction('convertToInteractive',\n",
              "                                                     [key], {});\n",
              "          if (!dataTable) return;\n",
              "\n",
              "          const docLinkHtml = 'Like what you see? Visit the ' +\n",
              "            '<a target=\"_blank\" href=https://colab.research.google.com/notebooks/data_table.ipynb>data table notebook</a>'\n",
              "            + ' to learn more about interactive tables.';\n",
              "          element.innerHTML = '';\n",
              "          dataTable['output_type'] = 'display_data';\n",
              "          await google.colab.output.renderOutput(dataTable, element);\n",
              "          const docLink = document.createElement('div');\n",
              "          docLink.innerHTML = docLinkHtml;\n",
              "          element.appendChild(docLink);\n",
              "        }\n",
              "      </script>\n",
              "    </div>\n",
              "  </div>\n",
              "  "
            ]
          },
          "metadata": {},
          "execution_count": 121
        }
      ]
    },
    {
      "cell_type": "markdown",
      "source": [
        "## **Đặc điểm:**\n",
        "Những bài viết này nhận được sự quan tâm đầu tiên có đặc điểm là mang nội dung là ***Teaching-Dạy học*** bởi các ***Pulisher có nguồn doanh thu khủng hoặc có tiếng trong ngành***.\n",
        "Tỷ lệ có thể đạt đến ***85%***. Trong khi đa số nội dung của Publisher trên các diễn dàn tập trung vào ***\n",
        "\n",
        "\n",
        "Tỷ lệ các bài viết này chiếm khoảng ***80% tổng lượt Lịke*** và ***72.26% lượt comment***."
      ],
      "metadata": {
        "id": "5gmapgYhUeJv"
      }
    },
    {
      "cell_type": "code",
      "source": [
        "plt.subplots(4,2, figsize = (15,5))\n",
        "\n",
        "plt.subplot(1,2,1)\n",
        "data_PE[\"Type\"].hist()\n",
        "plt.title(\"Phân phối loại bài có lương tương tác lớn\")\n",
        "\n",
        "plt.subplot(1,2,2)\n",
        "data_PE[\"Publisher\"].hist()\n",
        "plt.title(\"Phân phối các Publisher có lượng tương tác lớn\")\n",
        "\n",
        "plt.subplots(4,2, figsize = (15,5))\n",
        "\n",
        "plt.subplot(1,2,1)\n",
        "data[\"Type\"].hist()\n",
        "plt.title(\"Phân phối loại bài trên các Page\")\n",
        "\n",
        "plt.subplot(1,2,2)\n",
        "data[\"Publisher\"].hist()\n",
        "plt.title(\"Phân phối các Publiser trên các Page\")\n",
        "\n"
      ],
      "metadata": {
        "colab": {
          "base_uri": "https://localhost:8080/",
          "height": 674
        },
        "id": "lmH1z6hfUXMC",
        "outputId": "2af27305-ae62-428c-bac6-1d50e45cab8f"
      },
      "execution_count": null,
      "outputs": [
        {
          "output_type": "execute_result",
          "data": {
            "text/plain": [
              "Text(0.5, 1.0, 'Phân phối các Publiser trên các Page')"
            ]
          },
          "metadata": {},
          "execution_count": 67
        },
        {
          "output_type": "display_data",
          "data": {
            "text/plain": [
              "<Figure size 1080x360 with 2 Axes>"
            ],
            "image/png": "[encoded data removed]"
          },
          "metadata": {
            "needs_background": "light"
          }
        },
        {
          "output_type": "display_data",
          "data": {
            "text/plain": [
              "<Figure size 1080x360 with 2 Axes>"
            ],
            "image/png": "[encoded data removed]"
          },
          "metadata": {
            "needs_background": "light"
          }
        }
      ]
    },
    {
      "cell_type": "markdown",
      "source": [
        "## **Kết luận:**\n",
        "- Nhóm thấy rằng tại ***các bài tương tác lớn: Nội dung chủ yếu xoay quanh việc chia sẻ kiến thức với các thành viên trong nhóm***(85.76%) \n",
        "- Nhiều đối tượng cung cấp các bài viết có chất lượng ***ngoại trừ nhóm Newbie***\n",
        "- Về mặt bằng chung, lượng lớn thông tin được chia sẻ ***tập trung vào phần giải đáp thắc mắc*** ***xoay quanh nhóm từ khóa*** gồm: ***Thanh toán, Network, Link Lỗi, Hoa Hồng\".***\n",
        "- Các câu hỏi đặt ra thường rơi vào 2 nhóm lớn là nhóm ***Newbie và Publisher***. Đối với nhóm Admin thì chủ yếu đăng ***thông tin Campaign*** và có ***lượng tương tác thấp***."
      ],
      "metadata": {
        "id": "yvCaCMRRkq5v"
      }
    },
    {
      "cell_type": "code",
      "source": [
        "data[\"Issue\"].value_counts()"
      ],
      "metadata": {
        "colab": {
          "base_uri": "https://localhost:8080/"
        },
        "id": "EMkWX8k_sZ0H",
        "outputId": "536c748f-41fc-414f-ac07-03188cbeb90e"
      },
      "execution_count": null,
      "outputs": [
        {
          "output_type": "execute_result",
          "data": {
            "text/plain": [
              "Thanh toán    3\n",
              "Link          3\n",
              "Thay đổi      2\n",
              "Hủy đơn       1\n",
              "Mất đơn       1\n",
              "Bị ban        1\n",
              "Hệ thống      1\n",
              "1             1\n",
              "Name: Issue, dtype: int64"
            ]
          },
          "metadata": {},
          "execution_count": 130
        }
      ]
    },
    {
      "cell_type": "markdown",
      "source": [
        "## **Kết luận:**\n",
        "Publisher thường xuyên nêu lên các vấn đề gặp phải liên quan đến thanh toán, đường link bị lỗi hoặc thậm chí ***cân nhắc chuyển đổi nền tảng AM***.\n",
        "\n",
        "Các ***câu hỏi/chủ đề thường gặp liên quan đến thanh toán, hoa hồng, cân nhắc chuyển network và kiến thức, họ thường lựa chọn các hội nhóm*** để được giải đáp thay vì team AM/PM.\n",
        "\n",
        "Xét tổng quan: Nếu phân loại lỗi theo hệ thống, Publisher hoặc Advertiser thì ***hệ thống chiếm tỷ lệ lớn nhất (>60%), tiếp theo là Publisher (30%) và User (10%)***"
      ],
      "metadata": {
        "id": "kEep4HPns3FE"
      }
    },
    {
      "cell_type": "markdown",
      "source": [
        "### **Trong hình trên, Nhóm miêu tả dữ liệu dựa trên 4 biến bao gồm:**\n",
        "- **Publisher:** Nhóm Publisher tính theo gồm Rich (> 100 triệu VND), Publisher (>1 triệu và < 100 triệu), Newbie (< 1 triệu) và Admin \n",
        "- **Title:** Các bài viết có kèm tiêu đề\n",
        "- **Like:** Số lượt quan tâm với bài post\n",
        "- **Comment:** Số lượt tương tác với bài Post"
      ],
      "metadata": {
        "id": "9qmeIzsVi7fk"
      }
    },
    {
      "cell_type": "code",
      "source": [
        "plt.figure(figsize = (15,10))\n",
        "sns.set_theme(style=\"whitegrid\")\n",
        "\n",
        "cmap = sns.cubehelix_palette(rot=-.2, as_cmap=True)\n",
        "data_x = data[data[\"Like\"] < 600]\n",
        "g = sns.relplot(\n",
        "    data=data_x,\n",
        "    x=\"Comment\", y=\"Like\",\n",
        "    hue=\"Publisher\", size=\"Title\")\n",
        "\n",
        "g.fig.suptitle(\"Phân tích Số Comment và Like theo từng nhóm Publisher và loại Content\")\n",
        "g.set(ylim=(100, None))\n",
        "g.set(ylim=(100, None))"
      ],
      "metadata": {
        "colab": {
          "base_uri": "https://localhost:8080/",
          "height": 406
        },
        "id": "katfvU4bd10l",
        "outputId": "eee98390-fb8d-4a54-8297-0f0ea646bafc"
      },
      "execution_count": null,
      "outputs": [
        {
          "output_type": "execute_result",
          "data": {
            "text/plain": [
              "<seaborn.axisgrid.FacetGrid at 0x7f03e1bcfd10>"
            ]
          },
          "metadata": {},
          "execution_count": 112
        },
        {
          "output_type": "display_data",
          "data": {
            "text/plain": [
              "<Figure size 1080x720 with 0 Axes>"
            ]
          },
          "metadata": {}
        },
        {
          "output_type": "display_data",
          "data": {
            "text/plain": [
              "<Figure size 454.85x360 with 1 Axes>"
            ],
            "image/png": "[encoded data removed]"
          },
          "metadata": {}
        }
      ]
    },
    {
      "cell_type": "code",
      "source": [
        "plt.figure(figsize = (15,10))\n",
        "sns.set_theme(style=\"whitegrid\")\n",
        "\n",
        "cmap = sns.cubehelix_palette(rot=-.2, as_cmap=True)\n",
        "g = sns.relplot(\n",
        "    data=data_PE[data_PE[\"Like\"] < 700],\n",
        "    x=\"Comment\", y=\"Like\",\n",
        "    hue=\"Publisher\", size=\"Title\")\n",
        "\n",
        "g.fig.suptitle(\"Phân tích Số Comment và Like theo từng nhóm Publisher và loại Content\")\n",
        "g.set(ylim=(100, None))\n",
        "g.set(ylim=(100, None))"
      ],
      "metadata": {
        "colab": {
          "base_uri": "https://localhost:8080/",
          "height": 406
        },
        "id": "0qHl45w8ggwl",
        "outputId": "5f9603a6-80ca-403a-c6bd-582ce786a519"
      },
      "execution_count": null,
      "outputs": [
        {
          "output_type": "execute_result",
          "data": {
            "text/plain": [
              "<seaborn.axisgrid.FacetGrid at 0x7f03e1c61310>"
            ]
          },
          "metadata": {},
          "execution_count": 118
        },
        {
          "output_type": "display_data",
          "data": {
            "text/plain": [
              "<Figure size 1080x720 with 0 Axes>"
            ]
          },
          "metadata": {}
        },
        {
          "output_type": "display_data",
          "data": {
            "text/plain": [
              "<Figure size 454.85x360 with 1 Axes>"
            ],
            "image/png": "[encoded data removed]"
          },
          "metadata": {}
        }
      ]
    },
    {
      "cell_type": "markdown",
      "source": [
        "## **Qua đó, nhóm rút ra kết luận của từng nhóm lần lượt rằng:**\n",
        "- Nhóm ***Rich*** thường viết bài có tiêu đề và nhận được nhiều sự quan tâm nhất kể cả chiều\n",
        "- Các bài viết của ***Admin*** thường có tập trung vào cung cấp thông tin và có lượng ***tương tác ít về mặt Like nhưng nhiêu về Comment***\n",
        "- ***Nhóm Publisher có tính chất đa dạng kể cả về chất lượng- Title cũng như sô lượt tương tác***\n",
        "- ***Nhóm Newbie không xuất hiện trong các bài nổi bật***\n"
      ],
      "metadata": {
        "id": "baEm7wA7kTAC"
      }
    },
    {
      "cell_type": "markdown",
      "source": [
        "### **Publisher có ý định thay đổi Network sẽ tập trung vào so sánh hoa hồng và thời gian thanh toán.**"
      ],
      "metadata": {
        "id": "TQ-fpM_CMCW0"
      }
    },
    {
      "cell_type": "markdown",
      "source": [
        "## **Mở rộng phần nghiên cứu:**\n",
        "Nhóm tiếp tục đi sâu thái độ của nhóm Publisher thông qua việc phân tích Comment của các nhóm Publisher đối với từng loại Content.\n",
        "\n",
        "### **Phương pháp sử dụng: TF-IDF** \n",
        "Viết tắt của thuật ngữ tiếng Anh ***term frequency – inverse document frequency***,tf-idf là ***trọng số của một từ trong văn bản thu được qua thống kê thể hiện mức độ quan trọng của từ này trong một văn bản***, mà bản thân văn bản đang xét nằm trong một tập hợp các văn bản.\n",
        "\n",
        "TF-IDF dùng để ***ước lượng mức độ quan trọng của từ đó như thế nào . Khi tính tần số xuất hiện tf thì các từ đều được coi là quan trọng như nhau.*** "
      ],
      "metadata": {
        "id": "Ow6FUcVZmYmq"
      }
    },
    {
      "cell_type": "code",
      "source": [
        "import re\n",
        "import functools\n",
        "import operator\n",
        "import emoji\n",
        "\n",
        "uniqueword = set(data[\"Comment Content\"][0].split(\" \"))\n",
        "for i in data[\"Comment Content\"]:\n",
        "  i = i.replace(\"\\n\",\" \")\n",
        "  try:\n",
        "    string = i.split(\" \")\n",
        "  except:\n",
        "    string = i\n",
        "  try:\n",
        "    uniqueword = uniqueword.union(set(string))\n",
        "  except:\n",
        "    pass\n",
        "\n",
        "  \n",
        "numofword = dict.fromkeys(set(uniqueword),0)"
      ],
      "metadata": {
        "id": "zpmYEbDk2l5v"
      },
      "execution_count": null,
      "outputs": []
    },
    {
      "cell_type": "code",
      "source": [
        "for i in data[\"Comment Content\"]:\n",
        "  i = i.replace(\"\\n\",\" \")\n",
        "  try:\n",
        "    string = i.split(\" \")\n",
        "    for word in string:\n",
        "      numofword[word] += 1\n",
        "  except:\n",
        "    pass"
      ],
      "metadata": {
        "id": "hL-pWMdqSS5x"
      },
      "execution_count": null,
      "outputs": []
    },
    {
      "cell_type": "code",
      "source": [
        "wording = pd.DataFrame(numofword.items(), columns = [\"word\",\"count\"])\n",
        "sum_count = sum(wording[\"count\"])\n",
        "wording[\"count\"] = wording[\"count\"]/sum_count\n",
        "wording.sort_values(\"count\", ascending = False)"
      ],
      "metadata": {
        "colab": {
          "base_uri": "https://localhost:8080/",
          "height": 424
        },
        "id": "r8J3dGFeUnUd",
        "outputId": "ab189842-ec9d-4995-b1c2-6c60b1d23c8c"
      },
      "execution_count": null,
      "outputs": [
        {
          "output_type": "execute_result",
          "data": {
            "text/plain": [
              "          word     count\n",
              "3247      Phản  0.042788\n",
              "401       tuần  0.027860\n",
              "0               0.015877\n",
              "4287      ngày  0.013940\n",
              "1032    Nguyễn  0.012003\n",
              "...        ...       ...\n",
              "1066  sếp,hóng  0.000000\n",
              "193        vận  0.000000\n",
              "4357     part2  0.000000\n",
              "4752        Bổ  0.000000\n",
              "2493      gúp.  0.000000\n",
              "\n",
              "[5717 rows x 2 columns]"
            ],
            "text/html": [
              "\n",
              "  <div id=\"df-e7885c81-6bf2-4457-bb74-0191d674a14f\">\n",
              "    <div class=\"colab-df-container\">\n",
              "      <div>\n",
              "<style scoped>\n",
              "    .dataframe tbody tr th:only-of-type {\n",
              "        vertical-align: middle;\n",
              "    }\n",
              "\n",
              "    .dataframe tbody tr th {\n",
              "        vertical-align: top;\n",
              "    }\n",
              "\n",
              "    .dataframe thead th {\n",
              "        text-align: right;\n",
              "    }\n",
              "</style>\n",
              "<table border=\"1\" class=\"dataframe\">\n",
              "  <thead>\n",
              "    <tr style=\"text-align: right;\">\n",
              "      <th></th>\n",
              "      <th>word</th>\n",
              "      <th>count</th>\n",
              "    </tr>\n",
              "  </thead>\n",
              "  <tbody>\n",
              "    <tr>\n",
              "      <th>3247</th>\n",
              "      <td>Phản</td>\n",
              "      <td>0.042788</td>\n",
              "    </tr>\n",
              "    <tr>\n",
              "      <th>401</th>\n",
              "      <td>tuần</td>\n",
              "      <td>0.027860</td>\n",
              "    </tr>\n",
              "    <tr>\n",
              "      <th>0</th>\n",
              "      <td></td>\n",
              "      <td>0.015877</td>\n",
              "    </tr>\n",
              "    <tr>\n",
              "      <th>4287</th>\n",
              "      <td>ngày</td>\n",
              "      <td>0.013940</td>\n",
              "    </tr>\n",
              "    <tr>\n",
              "      <th>1032</th>\n",
              "      <td>Nguyễn</td>\n",
              "      <td>0.012003</td>\n",
              "    </tr>\n",
              "    <tr>\n",
              "      <th>...</th>\n",
              "      <td>...</td>\n",
              "      <td>...</td>\n",
              "    </tr>\n",
              "    <tr>\n",
              "      <th>1066</th>\n",
              "      <td>sếp,hóng</td>\n",
              "      <td>0.000000</td>\n",
              "    </tr>\n",
              "    <tr>\n",
              "      <th>193</th>\n",
              "      <td>vận</td>\n",
              "      <td>0.000000</td>\n",
              "    </tr>\n",
              "    <tr>\n",
              "      <th>4357</th>\n",
              "      <td>part2</td>\n",
              "      <td>0.000000</td>\n",
              "    </tr>\n",
              "    <tr>\n",
              "      <th>4752</th>\n",
              "      <td>Bổ</td>\n",
              "      <td>0.000000</td>\n",
              "    </tr>\n",
              "    <tr>\n",
              "      <th>2493</th>\n",
              "      <td>gúp.</td>\n",
              "      <td>0.000000</td>\n",
              "    </tr>\n",
              "  </tbody>\n",
              "</table>\n",
              "<p>5717 rows × 2 columns</p>\n",
              "</div>\n",
              "      <button class=\"colab-df-convert\" onclick=\"convertToInteractive('df-e7885c81-6bf2-4457-bb74-0191d674a14f')\"\n",
              "              title=\"Convert this dataframe to an interactive table.\"\n",
              "              style=\"display:none;\">\n",
              "        \n",
              "  <svg xmlns=\"http://www.w3.org/2000/svg\" height=\"24px\"viewBox=\"0 0 24 24\"\n",
              "       width=\"24px\">\n",
              "    <path d=\"M0 0h24v24H0V0z\" fill=\"none\"/>\n",
              "    <path d=\"M18.56 5.44l.94 2.06.94-2.06 2.06-.94-2.06-.94-.94-2.06-.94 2.06-2.06.94zm-11 1L8.5 8.5l.94-2.06 2.06-.94-2.06-.94L8.5 2.5l-.94 2.06-2.06.94zm10 10l.94 2.06.94-2.06 2.06-.94-2.06-.94-.94-2.06-.94 2.06-2.06.94z\"/><path d=\"M17.41 7.96l-1.37-1.37c-.4-.4-.92-.59-1.43-.59-.52 0-1.04.2-1.43.59L10.3 9.45l-7.72 7.72c-.78.78-.78 2.05 0 2.83L4 21.41c.39.39.9.59 1.41.59.51 0 1.02-.2 1.41-.59l7.78-7.78 2.81-2.81c.8-.78.8-2.07 0-2.86zM5.41 20L4 18.59l7.72-7.72 1.47 1.35L5.41 20z\"/>\n",
              "  </svg>\n",
              "      </button>\n",
              "      \n",
              "  <style>\n",
              "    .colab-df-container {\n",
              "      display:flex;\n",
              "      flex-wrap:wrap;\n",
              "      gap: 12px;\n",
              "    }\n",
              "\n",
              "    .colab-df-convert {\n",
              "      background-color: #E8F0FE;\n",
              "      border: none;\n",
              "      border-radius: 50%;\n",
              "      cursor: pointer;\n",
              "      display: none;\n",
              "      fill: #1967D2;\n",
              "      height: 32px;\n",
              "      padding: 0 0 0 0;\n",
              "      width: 32px;\n",
              "    }\n",
              "\n",
              "    .colab-df-convert:hover {\n",
              "      background-color: #E2EBFA;\n",
              "      box-shadow: 0px 1px 2px rgba(60, 64, 67, 0.3), 0px 1px 3px 1px rgba(60, 64, 67, 0.15);\n",
              "      fill: #174EA6;\n",
              "    }\n",
              "\n",
              "    [theme=dark] .colab-df-convert {\n",
              "      background-color: #3B4455;\n",
              "      fill: #D2E3FC;\n",
              "    }\n",
              "\n",
              "    [theme=dark] .colab-df-convert:hover {\n",
              "      background-color: #434B5C;\n",
              "      box-shadow: 0px 1px 3px 1px rgba(0, 0, 0, 0.15);\n",
              "      filter: drop-shadow(0px 1px 2px rgba(0, 0, 0, 0.3));\n",
              "      fill: #FFFFFF;\n",
              "    }\n",
              "  </style>\n",
              "\n",
              "      <script>\n",
              "        const buttonEl =\n",
              "          document.querySelector('#df-e7885c81-6bf2-4457-bb74-0191d674a14f button.colab-df-convert');\n",
              "        buttonEl.style.display =\n",
              "          google.colab.kernel.accessAllowed ? 'block' : 'none';\n",
              "\n",
              "        async function convertToInteractive(key) {\n",
              "          const element = document.querySelector('#df-e7885c81-6bf2-4457-bb74-0191d674a14f');\n",
              "          const dataTable =\n",
              "            await google.colab.kernel.invokeFunction('convertToInteractive',\n",
              "                                                     [key], {});\n",
              "          if (!dataTable) return;\n",
              "\n",
              "          const docLinkHtml = 'Like what you see? Visit the ' +\n",
              "            '<a target=\"_blank\" href=https://colab.research.google.com/notebooks/data_table.ipynb>data table notebook</a>'\n",
              "            + ' to learn more about interactive tables.';\n",
              "          element.innerHTML = '';\n",
              "          dataTable['output_type'] = 'display_data';\n",
              "          await google.colab.output.renderOutput(dataTable, element);\n",
              "          const docLink = document.createElement('div');\n",
              "          docLink.innerHTML = docLinkHtml;\n",
              "          element.appendChild(docLink);\n",
              "        }\n",
              "      </script>\n",
              "    </div>\n",
              "  </div>\n",
              "  "
            ]
          },
          "metadata": {},
          "execution_count": 136
        }
      ]
    },
    {
      "cell_type": "code",
      "source": [
        "uniqueword = set(data_PE[\"Comment Content\"][0].split(\" \"))\n",
        "for i in data_PE[\"Comment Content\"]:\n",
        "  i = i.replace(\"\\n\",\" \")\n",
        "  try:\n",
        "    string = i.split(\" \")\n",
        "  except:\n",
        "    string = i\n",
        "  try:\n",
        "    uniqueword = uniqueword.union(set(string))\n",
        "  except:\n",
        "    pass\n",
        "\n",
        "  \n",
        "numofword = dict.fromkeys(set(uniqueword),0)"
      ],
      "metadata": {
        "id": "Y1_V-EuR_4cb"
      },
      "execution_count": null,
      "outputs": []
    },
    {
      "cell_type": "code",
      "source": [
        "for i in data_PE[\"Comment Content\"]:\n",
        "  i = i.replace(\"\\n\",\" \")\n",
        "  try:\n",
        "    string = i.split(\" \")\n",
        "    for word in string:\n",
        "      numofword[word] += 1\n",
        "  except:\n",
        "    pass"
      ],
      "metadata": {
        "id": "vAK3TWRzv6Cu"
      },
      "execution_count": null,
      "outputs": []
    },
    {
      "cell_type": "code",
      "source": [
        "wording = pd.DataFrame(numofword.items(), columns = [\"word\",\"count\"])\n",
        "sum_count = sum(wording[\"count\"])\n",
        "wording[\"count\"] = wording[\"count\"]/sum_count\n",
        "wording.sort_values(\"count\", ascending = False)"
      ],
      "metadata": {
        "colab": {
          "base_uri": "https://localhost:8080/",
          "height": 424
        },
        "id": "c2lXjVApv-mQ",
        "outputId": "f48d26ae-084e-4aeb-adfe-25cceedb5c3e"
      },
      "execution_count": null,
      "outputs": [
        {
          "output_type": "execute_result",
          "data": {
            "text/plain": [
              "                word     count\n",
              "2693            Phản  0.045961\n",
              "341             tuần  0.032983\n",
              "0                     0.012763\n",
              "861           Nguyễn  0.012727\n",
              "3523            ngày  0.012691\n",
              "...              ...       ...\n",
              "1419       ông\\nPhản  0.000000\n",
              "1417  serving'\\nPhản  0.000000\n",
              "3786       Trí\\nPhản  0.000000\n",
              "1413      Hòa\\n[Mình  0.000000\n",
              "2376        viên\\nVĩ  0.000000\n",
              "\n",
              "[4752 rows x 2 columns]"
            ],
            "text/html": [
              "\n",
              "  <div id=\"df-fed115e8-b426-4cef-83fe-9a17b66fe1b4\">\n",
              "    <div class=\"colab-df-container\">\n",
              "      <div>\n",
              "<style scoped>\n",
              "    .dataframe tbody tr th:only-of-type {\n",
              "        vertical-align: middle;\n",
              "    }\n",
              "\n",
              "    .dataframe tbody tr th {\n",
              "        vertical-align: top;\n",
              "    }\n",
              "\n",
              "    .dataframe thead th {\n",
              "        text-align: right;\n",
              "    }\n",
              "</style>\n",
              "<table border=\"1\" class=\"dataframe\">\n",
              "  <thead>\n",
              "    <tr style=\"text-align: right;\">\n",
              "      <th></th>\n",
              "      <th>word</th>\n",
              "      <th>count</th>\n",
              "    </tr>\n",
              "  </thead>\n",
              "  <tbody>\n",
              "    <tr>\n",
              "      <th>2693</th>\n",
              "      <td>Phản</td>\n",
              "      <td>0.045961</td>\n",
              "    </tr>\n",
              "    <tr>\n",
              "      <th>341</th>\n",
              "      <td>tuần</td>\n",
              "      <td>0.032983</td>\n",
              "    </tr>\n",
              "    <tr>\n",
              "      <th>0</th>\n",
              "      <td></td>\n",
              "      <td>0.012763</td>\n",
              "    </tr>\n",
              "    <tr>\n",
              "      <th>861</th>\n",
              "      <td>Nguyễn</td>\n",
              "      <td>0.012727</td>\n",
              "    </tr>\n",
              "    <tr>\n",
              "      <th>3523</th>\n",
              "      <td>ngày</td>\n",
              "      <td>0.012691</td>\n",
              "    </tr>\n",
              "    <tr>\n",
              "      <th>...</th>\n",
              "      <td>...</td>\n",
              "      <td>...</td>\n",
              "    </tr>\n",
              "    <tr>\n",
              "      <th>1419</th>\n",
              "      <td>ông\\nPhản</td>\n",
              "      <td>0.000000</td>\n",
              "    </tr>\n",
              "    <tr>\n",
              "      <th>1417</th>\n",
              "      <td>serving'\\nPhản</td>\n",
              "      <td>0.000000</td>\n",
              "    </tr>\n",
              "    <tr>\n",
              "      <th>3786</th>\n",
              "      <td>Trí\\nPhản</td>\n",
              "      <td>0.000000</td>\n",
              "    </tr>\n",
              "    <tr>\n",
              "      <th>1413</th>\n",
              "      <td>Hòa\\n[Mình</td>\n",
              "      <td>0.000000</td>\n",
              "    </tr>\n",
              "    <tr>\n",
              "      <th>2376</th>\n",
              "      <td>viên\\nVĩ</td>\n",
              "      <td>0.000000</td>\n",
              "    </tr>\n",
              "  </tbody>\n",
              "</table>\n",
              "<p>4752 rows × 2 columns</p>\n",
              "</div>\n",
              "      <button class=\"colab-df-convert\" onclick=\"convertToInteractive('df-fed115e8-b426-4cef-83fe-9a17b66fe1b4')\"\n",
              "              title=\"Convert this dataframe to an interactive table.\"\n",
              "              style=\"display:none;\">\n",
              "        \n",
              "  <svg xmlns=\"http://www.w3.org/2000/svg\" height=\"24px\"viewBox=\"0 0 24 24\"\n",
              "       width=\"24px\">\n",
              "    <path d=\"M0 0h24v24H0V0z\" fill=\"none\"/>\n",
              "    <path d=\"M18.56 5.44l.94 2.06.94-2.06 2.06-.94-2.06-.94-.94-2.06-.94 2.06-2.06.94zm-11 1L8.5 8.5l.94-2.06 2.06-.94-2.06-.94L8.5 2.5l-.94 2.06-2.06.94zm10 10l.94 2.06.94-2.06 2.06-.94-2.06-.94-.94-2.06-.94 2.06-2.06.94z\"/><path d=\"M17.41 7.96l-1.37-1.37c-.4-.4-.92-.59-1.43-.59-.52 0-1.04.2-1.43.59L10.3 9.45l-7.72 7.72c-.78.78-.78 2.05 0 2.83L4 21.41c.39.39.9.59 1.41.59.51 0 1.02-.2 1.41-.59l7.78-7.78 2.81-2.81c.8-.78.8-2.07 0-2.86zM5.41 20L4 18.59l7.72-7.72 1.47 1.35L5.41 20z\"/>\n",
              "  </svg>\n",
              "      </button>\n",
              "      \n",
              "  <style>\n",
              "    .colab-df-container {\n",
              "      display:flex;\n",
              "      flex-wrap:wrap;\n",
              "      gap: 12px;\n",
              "    }\n",
              "\n",
              "    .colab-df-convert {\n",
              "      background-color: #E8F0FE;\n",
              "      border: none;\n",
              "      border-radius: 50%;\n",
              "      cursor: pointer;\n",
              "      display: none;\n",
              "      fill: #1967D2;\n",
              "      height: 32px;\n",
              "      padding: 0 0 0 0;\n",
              "      width: 32px;\n",
              "    }\n",
              "\n",
              "    .colab-df-convert:hover {\n",
              "      background-color: #E2EBFA;\n",
              "      box-shadow: 0px 1px 2px rgba(60, 64, 67, 0.3), 0px 1px 3px 1px rgba(60, 64, 67, 0.15);\n",
              "      fill: #174EA6;\n",
              "    }\n",
              "\n",
              "    [theme=dark] .colab-df-convert {\n",
              "      background-color: #3B4455;\n",
              "      fill: #D2E3FC;\n",
              "    }\n",
              "\n",
              "    [theme=dark] .colab-df-convert:hover {\n",
              "      background-color: #434B5C;\n",
              "      box-shadow: 0px 1px 3px 1px rgba(0, 0, 0, 0.15);\n",
              "      filter: drop-shadow(0px 1px 2px rgba(0, 0, 0, 0.3));\n",
              "      fill: #FFFFFF;\n",
              "    }\n",
              "  </style>\n",
              "\n",
              "      <script>\n",
              "        const buttonEl =\n",
              "          document.querySelector('#df-fed115e8-b426-4cef-83fe-9a17b66fe1b4 button.colab-df-convert');\n",
              "        buttonEl.style.display =\n",
              "          google.colab.kernel.accessAllowed ? 'block' : 'none';\n",
              "\n",
              "        async function convertToInteractive(key) {\n",
              "          const element = document.querySelector('#df-fed115e8-b426-4cef-83fe-9a17b66fe1b4');\n",
              "          const dataTable =\n",
              "            await google.colab.kernel.invokeFunction('convertToInteractive',\n",
              "                                                     [key], {});\n",
              "          if (!dataTable) return;\n",
              "\n",
              "          const docLinkHtml = 'Like what you see? Visit the ' +\n",
              "            '<a target=\"_blank\" href=https://colab.research.google.com/notebooks/data_table.ipynb>data table notebook</a>'\n",
              "            + ' to learn more about interactive tables.';\n",
              "          element.innerHTML = '';\n",
              "          dataTable['output_type'] = 'display_data';\n",
              "          await google.colab.output.renderOutput(dataTable, element);\n",
              "          const docLink = document.createElement('div');\n",
              "          docLink.innerHTML = docLinkHtml;\n",
              "          element.appendChild(docLink);\n",
              "        }\n",
              "      </script>\n",
              "    </div>\n",
              "  </div>\n",
              "  "
            ]
          },
          "metadata": {},
          "execution_count": 140
        }
      ]
    },
    {
      "cell_type": "markdown",
      "source": [
        "## **Kết luận:**\n",
        "Dựa trên kết quả phân tích dữ liệu văn bản của **toàn bộ dữ liệu** và **nhóm dữ liệu có số lượng tương tác nổi bật** thường không rải rác, ***không tập trung số lượng lớn vào nhóm từ khóa nhất định***\n"
      ],
      "metadata": {
        "id": "0to8Qao_ve6B"
      }
    },
    {
      "cell_type": "markdown",
      "source": [
        "#**Kết luận**"
      ],
      "metadata": {
        "id": "b5w_GKEDwg_X"
      }
    },
    {
      "cell_type": "markdown",
      "source": [
        "**Ưu điểm:**\n",
        "- Phương pháp định lượng cho ***kết quả gần tương đồng*** với kết quả định tính - dẫn chứng khẳng định tính hợp lý các vấn đề mà Publisher đang gặp phải.\n",
        "- Mô tả/Phân tích có ***chiều sâu lẫn chiều ngang***\n",
        "- Phù hợp với điều kiện ***Publisher thiếu hợp tác***\n",
        "- Phương pháp có ***nhiều khả năng khai thác thêm.***\n",
        "\n",
        "**Nhược điểm:**\n",
        "- Điểm ***dữ liệu/thu gom dữ liệu chưa tối ưu*** nên hạn chế mặt thời gian\n",
        "- Lượng ***mẫ/quan sát chưa đủ nhiều***\n",
        "- Nguồn Code còn sơ sài, ***chưa thực sự khai thác triệt để đặc biệt phần phản hồi của Publisher***"
      ],
      "metadata": {
        "id": "IgyqDFFiwvAj"
      }
    }
  ]
}